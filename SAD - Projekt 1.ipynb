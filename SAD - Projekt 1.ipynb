{
 "cells": [
  {
   "cell_type": "markdown",
   "source": [
    "# SAD - Projekt 1"
   ],
   "metadata": {
    "collapsed": false,
    "pycharm": {
     "name": "#%% md\n"
    }
   }
  },
  {
   "cell_type": "code",
   "execution_count": null,
   "outputs": [],
   "source": [
    "library(ggplot2)\n",
    "library(glue)\n",
    "library(dplyr)"
   ],
   "metadata": {
    "collapsed": false,
    "pycharm": {
     "name": "#%%\n",
     "is_executing": true
    }
   }
  },
  {
   "cell_type": "code",
   "execution_count": 2,
   "outputs": [],
   "source": [
    "inflation_data <- read.csv(\"data/EU_Inflation_HICP_data_mod.csv\", header = TRUE, sep = \",\")\n",
    "deposits_data <- read.csv(\"data/EU_deposits_1yr_data_mod.csv\", header = TRUE, sep = \",\")"
   ],
   "metadata": {
    "collapsed": false,
    "pycharm": {
     "name": "#%%\n"
    }
   }
  },
  {
   "cell_type": "code",
   "execution_count": 3,
   "outputs": [],
   "source": [
    "inflation_data$Period <- as.Date(inflation_data$Period, format = \"%d/%m/%Y\")\n",
    "deposits_data$Period <- as.Date(deposits_data$Period, format = \"%d/%m/%Y\")"
   ],
   "metadata": {
    "collapsed": false,
    "pycharm": {
     "name": "#%%\n"
    }
   }
  },
  {
   "cell_type": "code",
   "execution_count": 6,
   "outputs": [
    {
     "name": "stderr",
     "output_type": "stream",
     "text": [
      "Warning message:\n",
      "\"Removed 96 rows containing missing values (position_stack).\""
     ]
    },
    {
     "data": {
      "text/plain": "plot without title",
      "image/png": "[encoded data removed]"
     },
     "metadata": {},
     "output_type": "display_data"
    }
   ],
   "source": [
    "country <- \"Estonia\"\n",
    "\n",
    "ggplot(data = inflation_data, aes(x = Period, y = inflation_data[ , country])) +\n",
    "  geom_bar(stat = \"identity\", fill = \"purple\") +\n",
    "  labs(title = glue(\"Inflation in {country}\"),\n",
    "       x = \"Date\", y = \"Inflation rate\")"
   ],
   "metadata": {
    "collapsed": false,
    "pycharm": {
     "name": "#%%\n"
    }
   }
  },
  {
   "cell_type": "code",
   "execution_count": 7,
   "outputs": [
    {
     "data": {
      "text/html": "<table>\n<thead><tr><th scope=col>Austria..Euro</th><th scope=col>Belgium..Euro</th><th scope=col>Cyprus..Euro</th><th scope=col>Germany..Euro</th><th scope=col>Estonia..Euro</th><th scope=col>Spain..Euro</th><th scope=col>Finland..Euro</th><th scope=col>France..Euro</th><th scope=col>Greece..Euro</th><th scope=col>Ireland..Euro</th><th scope=col>Italy..Euro</th><th scope=col>Lithuania..Euro</th><th scope=col>Luxembourg..Euro</th><th scope=col>Latvia..Euro</th><th scope=col>Malta..Euro</th><th scope=col>Netherlands..Euro</th><th scope=col>Portugal..Euro</th><th scope=col>Slovenia..Euro</th><th scope=col>Slovakia..Euro</th></tr></thead>\n<tbody>\n\t<tr><td>0.80</td><td>0.84</td><td>0.11</td><td>0.84</td><td>0.94</td><td>0.16</td><td>1.20</td><td>1.12</td><td>0.14</td><td>0.18</td><td>1.16</td><td>0.25</td><td>0.73</td><td>0.62</td><td>0.59</td><td>1.84</td><td>0.05</td><td>0.11</td><td>0.77</td></tr>\n\t<tr><td>0.37</td><td>0.37</td><td>0.06</td><td>0.49</td><td>0.83</td><td>0.01</td><td>0.62</td><td>0.85</td><td>0.11</td><td>0.06</td><td>0.88</td><td>0.52</td><td>0.72</td><td>0.41</td><td>0.54</td><td>1.53</td><td>0.07</td><td>0.04</td><td>0.48</td></tr>\n\t<tr><td>0.23</td><td>0.11</td><td>0.05</td><td>0.31</td><td>0.59</td><td>0.03</td><td>0.32</td><td>0.64</td><td>0.13</td><td>0.11</td><td>0.66</td><td>0.43</td><td>0.15</td><td>0.12</td><td>0.48</td><td>1.59</td><td>0.09</td><td>0.03</td><td>0.21</td></tr>\n\t<tr><td>0.12</td><td>0.14</td><td>0.05</td><td>0.17</td><td>0.49</td><td>0.01</td><td>0.28</td><td>0.44</td><td>0.12</td><td>0.02</td><td>0.39</td><td>0.20</td><td>0.11</td><td>0.16</td><td>0.39</td><td>1.47</td><td>0.07</td><td>0.03</td><td>0.16</td></tr>\n\t<tr><td>0.08</td><td>0.07</td><td>0.05</td><td>0.14</td><td>0.50</td><td>0.01</td><td>0.16</td><td>0.41</td><td>0.12</td><td>0.02</td><td>0.47</td><td>0.20</td><td>0.1 </td><td>0.16</td><td>0.38</td><td>1.23</td><td>0.04</td><td>0.04</td><td>0.21</td></tr>\n\t<tr><td>0.10</td><td>0.06</td><td>0.05</td><td>0.14</td><td>0.44</td><td>0.01</td><td>0.22</td><td>0.42</td><td>0.13</td><td>0.02</td><td>0.44</td><td>0.13</td><td>0.04</td><td>0.14</td><td>0.4 </td><td>1.15</td><td>0.04</td><td>0.03</td><td>0.24</td></tr>\n</tbody>\n</table>\n",
      "text/markdown": "\n| Austria..Euro | Belgium..Euro | Cyprus..Euro | Germany..Euro | Estonia..Euro | Spain..Euro | Finland..Euro | France..Euro | Greece..Euro | Ireland..Euro | Italy..Euro | Lithuania..Euro | Luxembourg..Euro | Latvia..Euro | Malta..Euro | Netherlands..Euro | Portugal..Euro | Slovenia..Euro | Slovakia..Euro |\n|---|---|---|---|---|---|---|---|---|---|---|---|---|---|---|---|---|---|---|\n| 0.80 | 0.84 | 0.11 | 0.84 | 0.94 | 0.16 | 1.20 | 1.12 | 0.14 | 0.18 | 1.16 | 0.25 | 0.73 | 0.62 | 0.59 | 1.84 | 0.05 | 0.11 | 0.77 |\n| 0.37 | 0.37 | 0.06 | 0.49 | 0.83 | 0.01 | 0.62 | 0.85 | 0.11 | 0.06 | 0.88 | 0.52 | 0.72 | 0.41 | 0.54 | 1.53 | 0.07 | 0.04 | 0.48 |\n| 0.23 | 0.11 | 0.05 | 0.31 | 0.59 | 0.03 | 0.32 | 0.64 | 0.13 | 0.11 | 0.66 | 0.43 | 0.15 | 0.12 | 0.48 | 1.59 | 0.09 | 0.03 | 0.21 |\n| 0.12 | 0.14 | 0.05 | 0.17 | 0.49 | 0.01 | 0.28 | 0.44 | 0.12 | 0.02 | 0.39 | 0.20 | 0.11 | 0.16 | 0.39 | 1.47 | 0.07 | 0.03 | 0.16 |\n| 0.08 | 0.07 | 0.05 | 0.14 | 0.50 | 0.01 | 0.16 | 0.41 | 0.12 | 0.02 | 0.47 | 0.20 | 0.1  | 0.16 | 0.38 | 1.23 | 0.04 | 0.04 | 0.21 |\n| 0.10 | 0.06 | 0.05 | 0.14 | 0.44 | 0.01 | 0.22 | 0.42 | 0.13 | 0.02 | 0.44 | 0.13 | 0.04 | 0.14 | 0.4  | 1.15 | 0.04 | 0.03 | 0.24 |\n\n",
      "text/latex": "\\begin{tabular}{r|lllllllllllllllllll}\n Austria..Euro & Belgium..Euro & Cyprus..Euro & Germany..Euro & Estonia..Euro & Spain..Euro & Finland..Euro & France..Euro & Greece..Euro & Ireland..Euro & Italy..Euro & Lithuania..Euro & Luxembourg..Euro & Latvia..Euro & Malta..Euro & Netherlands..Euro & Portugal..Euro & Slovenia..Euro & Slovakia..Euro\\\\\n\\hline\n\t 0.80 & 0.84 & 0.11 & 0.84 & 0.94 & 0.16 & 1.20 & 1.12 & 0.14 & 0.18 & 1.16 & 0.25 & 0.73 & 0.62 & 0.59 & 1.84 & 0.05 & 0.11 & 0.77\\\\\n\t 0.37 & 0.37 & 0.06 & 0.49 & 0.83 & 0.01 & 0.62 & 0.85 & 0.11 & 0.06 & 0.88 & 0.52 & 0.72 & 0.41 & 0.54 & 1.53 & 0.07 & 0.04 & 0.48\\\\\n\t 0.23 & 0.11 & 0.05 & 0.31 & 0.59 & 0.03 & 0.32 & 0.64 & 0.13 & 0.11 & 0.66 & 0.43 & 0.15 & 0.12 & 0.48 & 1.59 & 0.09 & 0.03 & 0.21\\\\\n\t 0.12 & 0.14 & 0.05 & 0.17 & 0.49 & 0.01 & 0.28 & 0.44 & 0.12 & 0.02 & 0.39 & 0.20 & 0.11 & 0.16 & 0.39 & 1.47 & 0.07 & 0.03 & 0.16\\\\\n\t 0.08 & 0.07 & 0.05 & 0.14 & 0.50 & 0.01 & 0.16 & 0.41 & 0.12 & 0.02 & 0.47 & 0.20 & 0.1  & 0.16 & 0.38 & 1.23 & 0.04 & 0.04 & 0.21\\\\\n\t 0.10 & 0.06 & 0.05 & 0.14 & 0.44 & 0.01 & 0.22 & 0.42 & 0.13 & 0.02 & 0.44 & 0.13 & 0.04 & 0.14 & 0.4  & 1.15 & 0.04 & 0.03 & 0.24\\\\\n\\end{tabular}\n",
      "text/plain": "  Austria..Euro Belgium..Euro Cyprus..Euro Germany..Euro Estonia..Euro\n1 0.80          0.84          0.11         0.84          0.94         \n2 0.37          0.37          0.06         0.49          0.83         \n3 0.23          0.11          0.05         0.31          0.59         \n4 0.12          0.14          0.05         0.17          0.49         \n5 0.08          0.07          0.05         0.14          0.50         \n6 0.10          0.06          0.05         0.14          0.44         \n  Spain..Euro Finland..Euro France..Euro Greece..Euro Ireland..Euro Italy..Euro\n1 0.16        1.20          1.12         0.14         0.18          1.16       \n2 0.01        0.62          0.85         0.11         0.06          0.88       \n3 0.03        0.32          0.64         0.13         0.11          0.66       \n4 0.01        0.28          0.44         0.12         0.02          0.39       \n5 0.01        0.16          0.41         0.12         0.02          0.47       \n6 0.01        0.22          0.42         0.13         0.02          0.44       \n  Lithuania..Euro Luxembourg..Euro Latvia..Euro Malta..Euro Netherlands..Euro\n1 0.25            0.73             0.62         0.59        1.84             \n2 0.52            0.72             0.41         0.54        1.53             \n3 0.43            0.15             0.12         0.48        1.59             \n4 0.20            0.11             0.16         0.39        1.47             \n5 0.20            0.1              0.16         0.38        1.23             \n6 0.13            0.04             0.14         0.4         1.15             \n  Portugal..Euro Slovenia..Euro Slovakia..Euro\n1 0.05           0.11           0.77          \n2 0.07           0.04           0.48          \n3 0.09           0.03           0.21          \n4 0.07           0.03           0.16          \n5 0.04           0.04           0.21          \n6 0.04           0.03           0.24          "
     },
     "metadata": {},
     "output_type": "display_data"
    }
   ],
   "source": [
    "eurozone <- select(deposits_data, contains(\"Euro\"))\n",
    "head(eurozone)"
   ],
   "metadata": {
    "collapsed": false,
    "pycharm": {
     "name": "#%%\n"
    }
   }
  },
  {
   "cell_type": "code",
   "execution_count": 8,
   "outputs": [
    {
     "ename": "ERROR",
     "evalue": "`!contains(\"Euro\")` must evaluate to column positions or names, not a logical vector",
     "output_type": "error",
     "traceback": [
      "`!contains(\"Euro\")` must evaluate to column positions or names, not a logical vectorTraceback:\n",
      "1. select(deposits_data, !contains(\"Euro\"))",
      "2. select.data.frame(deposits_data, !contains(\"Euro\"))",
      "3. tidyselect::vars_select(sel_vars(.data), !!!quos(...))",
      "4. bad_calls(bad, \"must evaluate to { singular(.vars) } positions or names, \\\\\\n       not { first_type }\")",
      "5. glubort(fmt_calls(calls), ..., .envir = .envir)",
      "6. .abort(text)"
     ]
    }
   ],
   "source": [
    "eurozone_countries <- select(deposits_data, matches(\"Euro|Period\"))\n",
    "other_countries <- select(deposits_data, !contains(\"Euro\"))\n",
    "head(eurozone_countries)\n",
    "head(other_countries)"
   ],
   "metadata": {
    "collapsed": false,
    "pycharm": {
     "name": "#%%\n"
    }
   }
  },
  {
   "cell_type": "code",
   "execution_count": null,
   "outputs": [],
   "source": [],
   "metadata": {
    "collapsed": false,
    "pycharm": {
     "name": "#%%\n"
    }
   }
  }
 ],
 "metadata": {
  "kernelspec": {
   "display_name": "R",
   "language": "R",
   "name": "ir"
  },
  "language_info": {
   "codemirror_mode": "r",
   "file_extension": ".r",
   "mimetype": "text/x-r-source",
   "name": "R",
   "pygments_lexer": "r",
   "version": "3.6.1"
  }
 },
 "nbformat": 4,
 "nbformat_minor": 5
}