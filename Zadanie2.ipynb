{
 "cells": [
  {
   "cell_type": "markdown",
   "id": "44057c13-9fe4-4cc5-80b0-706ef7be5ef7",
   "metadata": {
    "pycharm": {
     "name": "#%% md\n"
    }
   },
   "source": [
    "# Zadanie 2"
   ]
  },
  {
   "cell_type": "code",
   "execution_count": null,
   "id": "40d67aa9-d748-4916-825e-6837d95e102b",
   "metadata": {
    "pycharm": {
     "name": "#%%\n",
     "is_executing": true
    }
   },
   "outputs": [],
   "source": [
    "library(ggplot2)\n",
    "library(glue)\n",
    "library(dplyr)\n",
    "library(readr)\n",
    "library(ggthemes)"
   ]
  },
  {
   "cell_type": "code",
   "execution_count": 2,
   "id": "e4630988-ba85-4307-9d30-9b55f87c0214",
   "metadata": {
    "pycharm": {
     "name": "#%%\n"
    }
   },
   "outputs": [],
   "source": [
    "inflation_data <- read.csv(\"data/EU_Inflation_HICP_data_mod.csv\", header = TRUE, sep = \",\")\n",
    "deposits_data <- read.csv(\"data/EU_deposits_1yr_data_mod.csv\", header = TRUE, sep = \",\")"
   ]
  },
  {
   "cell_type": "code",
   "execution_count": null,
   "id": "6bc4faa2-5c07-4326-9108-2c5abb71c37f",
   "metadata": {
    "pycharm": {
     "name": "#%%\n",
     "is_executing": true
    }
   },
   "outputs": [],
   "source": [
    "head(inflation_data)"
   ]
  },
  {
   "cell_type": "code",
   "execution_count": 88,
   "id": "a902a810-f6da-4c1a-bcf4-2fc75be72ea8",
   "metadata": {
    "pycharm": {
     "name": "#%%\n"
    }
   },
   "outputs": [
    {
     "data": {
      "text/html": [
       "<table class=\"dataframe\">\n",
       "<caption>A data.frame: 6 × 34</caption>\n",
       "<thead>\n",
       "\t<tr><th></th><th scope=col>Period</th><th scope=col>Austria..Euro</th><th scope=col>Belgium..Euro</th><th scope=col>Bulgaria..Bulgarian.lev</th><th scope=col>Cyprus..Euro</th><th scope=col>Czech.Republic..Czech.koruna</th><th scope=col>Germany..Euro</th><th scope=col>Denmark..Danish.krone</th><th scope=col>Estonia..Estonian.kroon</th><th scope=col>Estonia..Euro</th><th scope=col>⋯</th><th scope=col>Malta..Maltese.lira</th><th scope=col>Netherlands..Euro</th><th scope=col>Poland..Polish.zloty</th><th scope=col>Portugal..Euro</th><th scope=col>Romania..Romanian.leu</th><th scope=col>Sweden..Swedish.krona</th><th scope=col>Slovenia..Euro</th><th scope=col>Slovenia..Slovenian.tolar</th><th scope=col>Slovakia..Euro</th><th scope=col>Slovakia..Slovak.koruna</th></tr>\n",
       "\t<tr><th></th><th scope=col>&lt;date&gt;</th><th scope=col>&lt;dbl&gt;</th><th scope=col>&lt;dbl&gt;</th><th scope=col>&lt;dbl&gt;</th><th scope=col>&lt;dbl&gt;</th><th scope=col>&lt;dbl&gt;</th><th scope=col>&lt;dbl&gt;</th><th scope=col>&lt;dbl&gt;</th><th scope=col>&lt;dbl&gt;</th><th scope=col>&lt;dbl&gt;</th><th scope=col>⋯</th><th scope=col>&lt;dbl&gt;</th><th scope=col>&lt;dbl&gt;</th><th scope=col>&lt;dbl&gt;</th><th scope=col>&lt;dbl&gt;</th><th scope=col>&lt;dbl&gt;</th><th scope=col>&lt;dbl&gt;</th><th scope=col>&lt;dbl&gt;</th><th scope=col>&lt;dbl&gt;</th><th scope=col>&lt;dbl&gt;</th><th scope=col>&lt;dbl&gt;</th></tr>\n",
       "</thead>\n",
       "<tbody>\n",
       "\t<tr><th scope=row>1</th><td>2022-09-01</td><td>0.80</td><td>0.84</td><td>0.12</td><td>0.11</td><td>6.10</td><td>0.84</td><td> 1.15</td><td>NA</td><td>0.94</td><td>⋯</td><td>NA</td><td>1.84</td><td>5.44</td><td>0.05</td><td>6.44</td><td>1.65</td><td>0.11</td><td>NA</td><td>0.77</td><td>NA</td></tr>\n",
       "\t<tr><th scope=row>2</th><td>2022-08-01</td><td>0.37</td><td>0.37</td><td>0.11</td><td>0.06</td><td>5.98</td><td>0.49</td><td> 0.25</td><td>NA</td><td>0.83</td><td>⋯</td><td>NA</td><td>1.53</td><td>5.22</td><td>0.07</td><td>6.22</td><td>1.21</td><td>0.04</td><td>NA</td><td>0.48</td><td>NA</td></tr>\n",
       "\t<tr><th scope=row>3</th><td>2022-07-01</td><td>0.23</td><td>0.11</td><td>0.09</td><td>0.05</td><td>5.95</td><td>0.31</td><td>-0.44</td><td>NA</td><td>0.59</td><td>⋯</td><td>NA</td><td>1.59</td><td>4.85</td><td>0.09</td><td>5.49</td><td>0.90</td><td>0.03</td><td>NA</td><td>0.21</td><td>NA</td></tr>\n",
       "\t<tr><th scope=row>4</th><td>2022-06-01</td><td>0.12</td><td>0.14</td><td>0.06</td><td>0.05</td><td>5.37</td><td>0.17</td><td>-0.45</td><td>NA</td><td>0.49</td><td>⋯</td><td>NA</td><td>1.47</td><td>4.50</td><td>0.07</td><td>4.37</td><td>0.53</td><td>0.03</td><td>NA</td><td>0.16</td><td>NA</td></tr>\n",
       "\t<tr><th scope=row>5</th><td>2022-05-01</td><td>0.08</td><td>0.07</td><td>0.04</td><td>0.05</td><td>4.53</td><td>0.14</td><td>-0.50</td><td>NA</td><td>0.50</td><td>⋯</td><td>NA</td><td>1.23</td><td>3.38</td><td>0.04</td><td>3.21</td><td>0.38</td><td>0.04</td><td>NA</td><td>0.21</td><td>NA</td></tr>\n",
       "\t<tr><th scope=row>6</th><td>2022-04-01</td><td>0.10</td><td>0.06</td><td>0.04</td><td>0.05</td><td>4.17</td><td>0.14</td><td>-0.51</td><td>NA</td><td>0.44</td><td>⋯</td><td>NA</td><td>1.15</td><td>2.03</td><td>0.04</td><td>2.56</td><td>0.32</td><td>0.03</td><td>NA</td><td>0.24</td><td>NA</td></tr>\n",
       "</tbody>\n",
       "</table>\n"
      ],
      "text/latex": [
       "A data.frame: 6 × 34\n",
       "\\begin{tabular}{r|lllllllllllllllllllll}\n",
       "  & Period & Austria..Euro & Belgium..Euro & Bulgaria..Bulgarian.lev & Cyprus..Euro & Czech.Republic..Czech.koruna & Germany..Euro & Denmark..Danish.krone & Estonia..Estonian.kroon & Estonia..Euro & ⋯ & Malta..Maltese.lira & Netherlands..Euro & Poland..Polish.zloty & Portugal..Euro & Romania..Romanian.leu & Sweden..Swedish.krona & Slovenia..Euro & Slovenia..Slovenian.tolar & Slovakia..Euro & Slovakia..Slovak.koruna\\\\\n",
       "  & <date> & <dbl> & <dbl> & <dbl> & <dbl> & <dbl> & <dbl> & <dbl> & <dbl> & <dbl> & ⋯ & <dbl> & <dbl> & <dbl> & <dbl> & <dbl> & <dbl> & <dbl> & <dbl> & <dbl> & <dbl>\\\\\n",
       "\\hline\n",
       "\t1 & 2022-09-01 & 0.80 & 0.84 & 0.12 & 0.11 & 6.10 & 0.84 &  1.15 & NA & 0.94 & ⋯ & NA & 1.84 & 5.44 & 0.05 & 6.44 & 1.65 & 0.11 & NA & 0.77 & NA\\\\\n",
       "\t2 & 2022-08-01 & 0.37 & 0.37 & 0.11 & 0.06 & 5.98 & 0.49 &  0.25 & NA & 0.83 & ⋯ & NA & 1.53 & 5.22 & 0.07 & 6.22 & 1.21 & 0.04 & NA & 0.48 & NA\\\\\n",
       "\t3 & 2022-07-01 & 0.23 & 0.11 & 0.09 & 0.05 & 5.95 & 0.31 & -0.44 & NA & 0.59 & ⋯ & NA & 1.59 & 4.85 & 0.09 & 5.49 & 0.90 & 0.03 & NA & 0.21 & NA\\\\\n",
       "\t4 & 2022-06-01 & 0.12 & 0.14 & 0.06 & 0.05 & 5.37 & 0.17 & -0.45 & NA & 0.49 & ⋯ & NA & 1.47 & 4.50 & 0.07 & 4.37 & 0.53 & 0.03 & NA & 0.16 & NA\\\\\n",
       "\t5 & 2022-05-01 & 0.08 & 0.07 & 0.04 & 0.05 & 4.53 & 0.14 & -0.50 & NA & 0.50 & ⋯ & NA & 1.23 & 3.38 & 0.04 & 3.21 & 0.38 & 0.04 & NA & 0.21 & NA\\\\\n",
       "\t6 & 2022-04-01 & 0.10 & 0.06 & 0.04 & 0.05 & 4.17 & 0.14 & -0.51 & NA & 0.44 & ⋯ & NA & 1.15 & 2.03 & 0.04 & 2.56 & 0.32 & 0.03 & NA & 0.24 & NA\\\\\n",
       "\\end{tabular}\n"
      ],
      "text/markdown": [
       "\n",
       "A data.frame: 6 × 34\n",
       "\n",
       "| <!--/--> | Period &lt;date&gt; | Austria..Euro &lt;dbl&gt; | Belgium..Euro &lt;dbl&gt; | Bulgaria..Bulgarian.lev &lt;dbl&gt; | Cyprus..Euro &lt;dbl&gt; | Czech.Republic..Czech.koruna &lt;dbl&gt; | Germany..Euro &lt;dbl&gt; | Denmark..Danish.krone &lt;dbl&gt; | Estonia..Estonian.kroon &lt;dbl&gt; | Estonia..Euro &lt;dbl&gt; | ⋯ ⋯ | Malta..Maltese.lira &lt;dbl&gt; | Netherlands..Euro &lt;dbl&gt; | Poland..Polish.zloty &lt;dbl&gt; | Portugal..Euro &lt;dbl&gt; | Romania..Romanian.leu &lt;dbl&gt; | Sweden..Swedish.krona &lt;dbl&gt; | Slovenia..Euro &lt;dbl&gt; | Slovenia..Slovenian.tolar &lt;dbl&gt; | Slovakia..Euro &lt;dbl&gt; | Slovakia..Slovak.koruna &lt;dbl&gt; |\n",
       "|---|---|---|---|---|---|---|---|---|---|---|---|---|---|---|---|---|---|---|---|---|---|\n",
       "| 1 | 2022-09-01 | 0.80 | 0.84 | 0.12 | 0.11 | 6.10 | 0.84 |  1.15 | NA | 0.94 | ⋯ | NA | 1.84 | 5.44 | 0.05 | 6.44 | 1.65 | 0.11 | NA | 0.77 | NA |\n",
       "| 2 | 2022-08-01 | 0.37 | 0.37 | 0.11 | 0.06 | 5.98 | 0.49 |  0.25 | NA | 0.83 | ⋯ | NA | 1.53 | 5.22 | 0.07 | 6.22 | 1.21 | 0.04 | NA | 0.48 | NA |\n",
       "| 3 | 2022-07-01 | 0.23 | 0.11 | 0.09 | 0.05 | 5.95 | 0.31 | -0.44 | NA | 0.59 | ⋯ | NA | 1.59 | 4.85 | 0.09 | 5.49 | 0.90 | 0.03 | NA | 0.21 | NA |\n",
       "| 4 | 2022-06-01 | 0.12 | 0.14 | 0.06 | 0.05 | 5.37 | 0.17 | -0.45 | NA | 0.49 | ⋯ | NA | 1.47 | 4.50 | 0.07 | 4.37 | 0.53 | 0.03 | NA | 0.16 | NA |\n",
       "| 5 | 2022-05-01 | 0.08 | 0.07 | 0.04 | 0.05 | 4.53 | 0.14 | -0.50 | NA | 0.50 | ⋯ | NA | 1.23 | 3.38 | 0.04 | 3.21 | 0.38 | 0.04 | NA | 0.21 | NA |\n",
       "| 6 | 2022-04-01 | 0.10 | 0.06 | 0.04 | 0.05 | 4.17 | 0.14 | -0.51 | NA | 0.44 | ⋯ | NA | 1.15 | 2.03 | 0.04 | 2.56 | 0.32 | 0.03 | NA | 0.24 | NA |\n",
       "\n"
      ],
      "text/plain": [
       "  Period     Austria..Euro Belgium..Euro Bulgaria..Bulgarian.lev Cyprus..Euro\n",
       "1 2022-09-01 0.80          0.84          0.12                    0.11        \n",
       "2 2022-08-01 0.37          0.37          0.11                    0.06        \n",
       "3 2022-07-01 0.23          0.11          0.09                    0.05        \n",
       "4 2022-06-01 0.12          0.14          0.06                    0.05        \n",
       "5 2022-05-01 0.08          0.07          0.04                    0.05        \n",
       "6 2022-04-01 0.10          0.06          0.04                    0.05        \n",
       "  Czech.Republic..Czech.koruna Germany..Euro Denmark..Danish.krone\n",
       "1 6.10                         0.84           1.15                \n",
       "2 5.98                         0.49           0.25                \n",
       "3 5.95                         0.31          -0.44                \n",
       "4 5.37                         0.17          -0.45                \n",
       "5 4.53                         0.14          -0.50                \n",
       "6 4.17                         0.14          -0.51                \n",
       "  Estonia..Estonian.kroon Estonia..Euro ⋯ Malta..Maltese.lira Netherlands..Euro\n",
       "1 NA                      0.94          ⋯ NA                  1.84             \n",
       "2 NA                      0.83          ⋯ NA                  1.53             \n",
       "3 NA                      0.59          ⋯ NA                  1.59             \n",
       "4 NA                      0.49          ⋯ NA                  1.47             \n",
       "5 NA                      0.50          ⋯ NA                  1.23             \n",
       "6 NA                      0.44          ⋯ NA                  1.15             \n",
       "  Poland..Polish.zloty Portugal..Euro Romania..Romanian.leu\n",
       "1 5.44                 0.05           6.44                 \n",
       "2 5.22                 0.07           6.22                 \n",
       "3 4.85                 0.09           5.49                 \n",
       "4 4.50                 0.07           4.37                 \n",
       "5 3.38                 0.04           3.21                 \n",
       "6 2.03                 0.04           2.56                 \n",
       "  Sweden..Swedish.krona Slovenia..Euro Slovenia..Slovenian.tolar Slovakia..Euro\n",
       "1 1.65                  0.11           NA                        0.77          \n",
       "2 1.21                  0.04           NA                        0.48          \n",
       "3 0.90                  0.03           NA                        0.21          \n",
       "4 0.53                  0.03           NA                        0.16          \n",
       "5 0.38                  0.04           NA                        0.21          \n",
       "6 0.32                  0.03           NA                        0.24          \n",
       "  Slovakia..Slovak.koruna\n",
       "1 NA                     \n",
       "2 NA                     \n",
       "3 NA                     \n",
       "4 NA                     \n",
       "5 NA                     \n",
       "6 NA                     "
      ]
     },
     "metadata": {},
     "output_type": "display_data"
    }
   ],
   "source": [
    "head(deposits_data)"
   ]
  },
  {
   "cell_type": "code",
   "execution_count": 3,
   "id": "20e4d6dc-9493-4f1a-8130-6cb91ebbaed3",
   "metadata": {
    "pycharm": {
     "name": "#%%\n"
    }
   },
   "outputs": [],
   "source": [
    "inflation_data$Period <- as.Date(inflation_data$Period, format = \"%d/%m/%Y\")\n",
    "deposits_data$Period <- as.Date(deposits_data$Period, format = \"%d/%m/%Y\")"
   ]
  },
  {
   "cell_type": "code",
   "execution_count": 265,
   "id": "7722fadd-8679-4a8b-9ace-444a7ccde0d7",
   "metadata": {
    "pycharm": {
     "name": "#%%\n"
    }
   },
   "outputs": [],
   "source": [
    "deposits_data[, 2:34] <- sapply(deposits_data[, 2:34], as.numeric)\n",
    "# str(deposits_data)"
   ]
  },
  {
   "cell_type": "code",
   "execution_count": 5,
   "id": "67459807-170e-4c70-9c54-ed311715f7d9",
   "metadata": {
    "pycharm": {
     "name": "#%%\n"
    }
   },
   "outputs": [],
   "source": [
    "eurozone_countries_inflation <- select(inflation_data, matches(\"Period|Austria|Belgium|Cyprus|Germany|Estonia|Spain|Finland|France|Greece|Ireland|Italy|Lithuania|Luxembourg|Latvia|Malta|Netherlands|Portugal|Slovenia|Slovakia\"))\n",
    "other_countries_inflation <- select(inflation_data, !matches(\"EU|Austria|Belgium|Cyprus|Germany|Estonia|Spain|Finland|France|Greece|Ireland|Italy|Lithuania|Luxembourg|Latvia|Malta|Netherlands|Portugal|Slovenia|Slovakia\"))\n",
    "# EU_countries_inflation <- select(inflation_data, matches(\"Period|EU\"))\n",
    "# Poland_inflation <- select(inflation_data, matches(\"Period|Poland\"))"
   ]
  },
  {
   "cell_type": "code",
   "execution_count": 6,
   "id": "cadecfdb-89ca-4a11-9b97-869603d321e7",
   "metadata": {
    "pycharm": {
     "name": "#%%\n"
    }
   },
   "outputs": [
    {
     "data": {
      "text/html": [
       "<table class=\"dataframe\">\n",
       "<caption>A data.frame: 6 × 20</caption>\n",
       "<thead>\n",
       "\t<tr><th></th><th scope=col>Period</th><th scope=col>Austria</th><th scope=col>Belgium</th><th scope=col>Cyprus</th><th scope=col>Germany</th><th scope=col>Estonia</th><th scope=col>Spain</th><th scope=col>Finland</th><th scope=col>France</th><th scope=col>Greece</th><th scope=col>Ireland</th><th scope=col>Italy</th><th scope=col>Lithuania</th><th scope=col>Luxembourg</th><th scope=col>Latvia</th><th scope=col>Malta</th><th scope=col>Netherlands</th><th scope=col>Portugal</th><th scope=col>Slovenia</th><th scope=col>Slovakia</th></tr>\n",
       "\t<tr><th></th><th scope=col>&lt;date&gt;</th><th scope=col>&lt;dbl&gt;</th><th scope=col>&lt;dbl&gt;</th><th scope=col>&lt;dbl&gt;</th><th scope=col>&lt;dbl&gt;</th><th scope=col>&lt;dbl&gt;</th><th scope=col>&lt;dbl&gt;</th><th scope=col>&lt;dbl&gt;</th><th scope=col>&lt;dbl&gt;</th><th scope=col>&lt;dbl&gt;</th><th scope=col>&lt;dbl&gt;</th><th scope=col>&lt;dbl&gt;</th><th scope=col>&lt;dbl&gt;</th><th scope=col>&lt;dbl&gt;</th><th scope=col>&lt;dbl&gt;</th><th scope=col>&lt;dbl&gt;</th><th scope=col>&lt;dbl&gt;</th><th scope=col>&lt;dbl&gt;</th><th scope=col>&lt;dbl&gt;</th><th scope=col>&lt;dbl&gt;</th></tr>\n",
       "</thead>\n",
       "<tbody>\n",
       "\t<tr><th scope=row>1</th><td>2022-10-01</td><td>11.5</td><td>13.1</td><td> 8.6</td><td>11.6</td><td>22.4</td><td> 7.3</td><td>8.3</td><td>7.1</td><td> 9.8</td><td>9.6</td><td>12.8</td><td>22.0</td><td> 8.8</td><td>21.8</td><td>7.5</td><td>16.8</td><td>10.6</td><td>10.3</td><td>14.5</td></tr>\n",
       "\t<tr><th scope=row>2</th><td>2022-09-01</td><td>10.9</td><td>12.1</td><td> 9.0</td><td>10.9</td><td>24.1</td><td> 9.0</td><td>8.4</td><td>6.2</td><td>12.1</td><td>8.6</td><td> 9.4</td><td>22.5</td><td> 8.8</td><td>22.0</td><td>7.4</td><td>17.1</td><td> 9.8</td><td>10.6</td><td>13.6</td></tr>\n",
       "\t<tr><th scope=row>3</th><td>2022-08-01</td><td> 9.3</td><td>10.5</td><td> 9.6</td><td> 8.8</td><td>25.2</td><td>10.5</td><td>7.9</td><td>6.6</td><td>11.2</td><td>9.0</td><td> 9.1</td><td>21.1</td><td> 8.6</td><td>21.4</td><td>7.0</td><td>13.7</td><td> 9.3</td><td>11.5</td><td>13.4</td></tr>\n",
       "\t<tr><th scope=row>4</th><td>2022-07-01</td><td> 9.4</td><td>10.4</td><td>10.6</td><td> 8.5</td><td>23.2</td><td>10.7</td><td>8.0</td><td>6.8</td><td>11.3</td><td>9.6</td><td> 8.4</td><td>20.9</td><td> 9.3</td><td>21.3</td><td>6.8</td><td>11.6</td><td> 9.4</td><td>11.7</td><td>12.8</td></tr>\n",
       "\t<tr><th scope=row>5</th><td>2022-06-01</td><td> 8.7</td><td>10.5</td><td> 9.0</td><td> 8.2</td><td>22.0</td><td>10.0</td><td>8.1</td><td>6.5</td><td>11.6</td><td>9.6</td><td> 8.5</td><td>20.5</td><td>10.3</td><td>19.2</td><td>6.1</td><td> 9.9</td><td> 9.0</td><td>10.8</td><td>12.6</td></tr>\n",
       "\t<tr><th scope=row>6</th><td>2022-05-01</td><td> 7.7</td><td> 9.9</td><td> 8.8</td><td> 8.7</td><td>20.1</td><td> 8.5</td><td>7.1</td><td>5.8</td><td>10.5</td><td>8.3</td><td> 7.3</td><td>18.5</td><td> 9.1</td><td>16.8</td><td>5.8</td><td>10.2</td><td> 8.1</td><td> 8.7</td><td>11.8</td></tr>\n",
       "</tbody>\n",
       "</table>\n"
      ],
      "text/latex": [
       "A data.frame: 6 × 20\n",
       "\\begin{tabular}{r|llllllllllllllllllll}\n",
       "  & Period & Austria & Belgium & Cyprus & Germany & Estonia & Spain & Finland & France & Greece & Ireland & Italy & Lithuania & Luxembourg & Latvia & Malta & Netherlands & Portugal & Slovenia & Slovakia\\\\\n",
       "  & <date> & <dbl> & <dbl> & <dbl> & <dbl> & <dbl> & <dbl> & <dbl> & <dbl> & <dbl> & <dbl> & <dbl> & <dbl> & <dbl> & <dbl> & <dbl> & <dbl> & <dbl> & <dbl> & <dbl>\\\\\n",
       "\\hline\n",
       "\t1 & 2022-10-01 & 11.5 & 13.1 &  8.6 & 11.6 & 22.4 &  7.3 & 8.3 & 7.1 &  9.8 & 9.6 & 12.8 & 22.0 &  8.8 & 21.8 & 7.5 & 16.8 & 10.6 & 10.3 & 14.5\\\\\n",
       "\t2 & 2022-09-01 & 10.9 & 12.1 &  9.0 & 10.9 & 24.1 &  9.0 & 8.4 & 6.2 & 12.1 & 8.6 &  9.4 & 22.5 &  8.8 & 22.0 & 7.4 & 17.1 &  9.8 & 10.6 & 13.6\\\\\n",
       "\t3 & 2022-08-01 &  9.3 & 10.5 &  9.6 &  8.8 & 25.2 & 10.5 & 7.9 & 6.6 & 11.2 & 9.0 &  9.1 & 21.1 &  8.6 & 21.4 & 7.0 & 13.7 &  9.3 & 11.5 & 13.4\\\\\n",
       "\t4 & 2022-07-01 &  9.4 & 10.4 & 10.6 &  8.5 & 23.2 & 10.7 & 8.0 & 6.8 & 11.3 & 9.6 &  8.4 & 20.9 &  9.3 & 21.3 & 6.8 & 11.6 &  9.4 & 11.7 & 12.8\\\\\n",
       "\t5 & 2022-06-01 &  8.7 & 10.5 &  9.0 &  8.2 & 22.0 & 10.0 & 8.1 & 6.5 & 11.6 & 9.6 &  8.5 & 20.5 & 10.3 & 19.2 & 6.1 &  9.9 &  9.0 & 10.8 & 12.6\\\\\n",
       "\t6 & 2022-05-01 &  7.7 &  9.9 &  8.8 &  8.7 & 20.1 &  8.5 & 7.1 & 5.8 & 10.5 & 8.3 &  7.3 & 18.5 &  9.1 & 16.8 & 5.8 & 10.2 &  8.1 &  8.7 & 11.8\\\\\n",
       "\\end{tabular}\n"
      ],
      "text/markdown": [
       "\n",
       "A data.frame: 6 × 20\n",
       "\n",
       "| <!--/--> | Period &lt;date&gt; | Austria &lt;dbl&gt; | Belgium &lt;dbl&gt; | Cyprus &lt;dbl&gt; | Germany &lt;dbl&gt; | Estonia &lt;dbl&gt; | Spain &lt;dbl&gt; | Finland &lt;dbl&gt; | France &lt;dbl&gt; | Greece &lt;dbl&gt; | Ireland &lt;dbl&gt; | Italy &lt;dbl&gt; | Lithuania &lt;dbl&gt; | Luxembourg &lt;dbl&gt; | Latvia &lt;dbl&gt; | Malta &lt;dbl&gt; | Netherlands &lt;dbl&gt; | Portugal &lt;dbl&gt; | Slovenia &lt;dbl&gt; | Slovakia &lt;dbl&gt; |\n",
       "|---|---|---|---|---|---|---|---|---|---|---|---|---|---|---|---|---|---|---|---|---|\n",
       "| 1 | 2022-10-01 | 11.5 | 13.1 |  8.6 | 11.6 | 22.4 |  7.3 | 8.3 | 7.1 |  9.8 | 9.6 | 12.8 | 22.0 |  8.8 | 21.8 | 7.5 | 16.8 | 10.6 | 10.3 | 14.5 |\n",
       "| 2 | 2022-09-01 | 10.9 | 12.1 |  9.0 | 10.9 | 24.1 |  9.0 | 8.4 | 6.2 | 12.1 | 8.6 |  9.4 | 22.5 |  8.8 | 22.0 | 7.4 | 17.1 |  9.8 | 10.6 | 13.6 |\n",
       "| 3 | 2022-08-01 |  9.3 | 10.5 |  9.6 |  8.8 | 25.2 | 10.5 | 7.9 | 6.6 | 11.2 | 9.0 |  9.1 | 21.1 |  8.6 | 21.4 | 7.0 | 13.7 |  9.3 | 11.5 | 13.4 |\n",
       "| 4 | 2022-07-01 |  9.4 | 10.4 | 10.6 |  8.5 | 23.2 | 10.7 | 8.0 | 6.8 | 11.3 | 9.6 |  8.4 | 20.9 |  9.3 | 21.3 | 6.8 | 11.6 |  9.4 | 11.7 | 12.8 |\n",
       "| 5 | 2022-06-01 |  8.7 | 10.5 |  9.0 |  8.2 | 22.0 | 10.0 | 8.1 | 6.5 | 11.6 | 9.6 |  8.5 | 20.5 | 10.3 | 19.2 | 6.1 |  9.9 |  9.0 | 10.8 | 12.6 |\n",
       "| 6 | 2022-05-01 |  7.7 |  9.9 |  8.8 |  8.7 | 20.1 |  8.5 | 7.1 | 5.8 | 10.5 | 8.3 |  7.3 | 18.5 |  9.1 | 16.8 | 5.8 | 10.2 |  8.1 |  8.7 | 11.8 |\n",
       "\n"
      ],
      "text/plain": [
       "  Period     Austria Belgium Cyprus Germany Estonia Spain Finland France Greece\n",
       "1 2022-10-01 11.5    13.1     8.6   11.6    22.4     7.3  8.3     7.1     9.8  \n",
       "2 2022-09-01 10.9    12.1     9.0   10.9    24.1     9.0  8.4     6.2    12.1  \n",
       "3 2022-08-01  9.3    10.5     9.6    8.8    25.2    10.5  7.9     6.6    11.2  \n",
       "4 2022-07-01  9.4    10.4    10.6    8.5    23.2    10.7  8.0     6.8    11.3  \n",
       "5 2022-06-01  8.7    10.5     9.0    8.2    22.0    10.0  8.1     6.5    11.6  \n",
       "6 2022-05-01  7.7     9.9     8.8    8.7    20.1     8.5  7.1     5.8    10.5  \n",
       "  Ireland Italy Lithuania Luxembourg Latvia Malta Netherlands Portugal Slovenia\n",
       "1 9.6     12.8  22.0       8.8       21.8   7.5   16.8        10.6     10.3    \n",
       "2 8.6      9.4  22.5       8.8       22.0   7.4   17.1         9.8     10.6    \n",
       "3 9.0      9.1  21.1       8.6       21.4   7.0   13.7         9.3     11.5    \n",
       "4 9.6      8.4  20.9       9.3       21.3   6.8   11.6         9.4     11.7    \n",
       "5 9.6      8.5  20.5      10.3       19.2   6.1    9.9         9.0     10.8    \n",
       "6 8.3      7.3  18.5       9.1       16.8   5.8   10.2         8.1      8.7    \n",
       "  Slovakia\n",
       "1 14.5    \n",
       "2 13.6    \n",
       "3 13.4    \n",
       "4 12.8    \n",
       "5 12.6    \n",
       "6 11.8    "
      ]
     },
     "metadata": {},
     "output_type": "display_data"
    }
   ],
   "source": [
    "head(eurozone_countries_inflation)"
   ]
  },
  {
   "cell_type": "code",
   "execution_count": 7,
   "id": "98c067b8-4b57-42dc-a0e0-cafc266a415e",
   "metadata": {
    "pycharm": {
     "name": "#%%\n"
    }
   },
   "outputs": [],
   "source": [
    "eurozone_countries_inflation_avg <- data.frame(eurozone_countries_inflation[1], (rowMeans(eurozone_countries_inflation[2:20], na.rm=TRUE)))\n",
    "other_countries_inflation_avg <- data.frame(other_countries_inflation[1], (rowMeans(other_countries_inflation[2:9], na.rm=TRUE)))\n",
    "EU_countries_inflation <- data.frame(eurozone_countries_inflation[1], select(inflation_data, matches(\"EU\")))\n",
    "Poland_inflation <- data.frame(eurozone_countries_inflation[1], select(inflation_data, matches(\"Poland\")))"
   ]
  },
  {
   "cell_type": "code",
   "execution_count": 8,
   "id": "9adefc7a-1d46-4e18-bb08-10a1b83a61b5",
   "metadata": {
    "pycharm": {
     "name": "#%%\n"
    }
   },
   "outputs": [],
   "source": [
    "inflation_avg <- data.frame(eurozone_countries_inflation[1], eurozone_countries_inflation_avg[2], other_countries_inflation_avg[2], EU_countries_inflation[2], Poland_inflation[2])\n",
    "\n",
    "colnames(inflation_avg)[1] <- \"Period\"\n",
    "colnames(inflation_avg)[2] <- \"Eurozone\"\n",
    "colnames(inflation_avg)[3] <- \"Other\"\n",
    "colnames(inflation_avg)[4] <- \"EU\"\n",
    "colnames(inflation_avg)[5] <- \"Poland\""
   ]
  },
  {
   "cell_type": "code",
   "execution_count": 9,
   "id": "a1e553f7-9894-4b46-93e7-9d9fc4b85207",
   "metadata": {
    "pycharm": {
     "name": "#%%\n"
    }
   },
   "outputs": [
    {
     "name": "stderr",
     "output_type": "stream",
     "text": [
      "Warning message:\n",
      "\"\u001B[1m\u001B[22mUsing `size` aesthetic for lines was deprecated in ggplot2 3.4.0.\n",
      "\u001B[36mℹ\u001B[39m Please use `linewidth` instead.\"\n",
      "Warning message:\n",
      "\"\u001B[1m\u001B[22mRemoved 96 rows containing missing values (`geom_line()`).\"\n",
      "Warning message:\n",
      "\"\u001B[1m\u001B[22mRemoved 97 rows containing missing values (`geom_line()`).\"\n",
      "Warning message:\n",
      "\"\u001B[1m\u001B[22mRemoved 49 rows containing missing values (`geom_line()`).\"\n",
      "Warning message:\n",
      "\"\u001B[1m\u001B[22mRemoved 109 rows containing missing values (`geom_line()`).\"\n"
     ]
    },
    {
     "data": {
      "image/png": "[encoded data removed]",
      "text/plain": [
       "plot without title"
      ]
     },
     "metadata": {
      "image/png": {
       "height": 420,
       "width": 420
      }
     },
     "output_type": "display_data"
    }
   ],
   "source": [
    "ggplot(data = inflation_avg, aes(x=Period)) +\n",
    "  geom_line( aes(y=Eurozone), color=\"#0072BD\", size=1.5)+\n",
    "  geom_line( aes(y=Other), color=\"#77AC30\", size=1.5)+\n",
    "  geom_line( aes(y=EU), color=\"#4DBEEE\", size=1.5)+\n",
    "  geom_line( aes(y=Poland), color=\"#A2142F\", size=1.5)+\n",
    "  labs(title = \"Inflation rate\")"
   ]
  },
  {
   "cell_type": "code",
   "execution_count": 394,
   "id": "f0d2e28e-ba28-448d-9034-6f2c189a9f8d",
   "metadata": {
    "pycharm": {
     "name": "#%%\n"
    }
   },
   "outputs": [],
   "source": [
    "# January 2018 - October 2022\n",
    "n_months = 58"
   ]
  },
  {
   "cell_type": "code",
   "execution_count": 396,
   "id": "bbbb9269-664f-4987-9434-37a155bf79f0",
   "metadata": {
    "pycharm": {
     "name": "#%%\n"
    }
   },
   "outputs": [],
   "source": [
    "copy_inf = subset(inflation_data, select=c(Period))[c(2:n_months),]"
   ]
  },
  {
   "cell_type": "code",
   "execution_count": 397,
   "id": "bb15db98-c116-48da-b555-ea55b698fdd6",
   "metadata": {
    "pycharm": {
     "name": "#%%\n"
    }
   },
   "outputs": [],
   "source": [
    "inflation_from2018 = subset(inflation_data, select=-c(EU..changing.composition.))[c(2:n_months),]"
   ]
  },
  {
   "cell_type": "code",
   "execution_count": 398,
   "id": "d5c95b63-f6ee-45dc-a189-d2818a13d228",
   "metadata": {
    "pycharm": {
     "name": "#%%\n"
    }
   },
   "outputs": [
    {
     "data": {
      "text/html": [
       "<table class=\"dataframe\">\n",
       "<caption>A data.frame: 6 × 28</caption>\n",
       "<thead>\n",
       "\t<tr><th></th><th scope=col>Period</th><th scope=col>Austria..Euro</th><th scope=col>Belgium..Euro</th><th scope=col>Bulgaria..Bulgarian.lev</th><th scope=col>Cyprus..Euro</th><th scope=col>Czech.Republic..Czech.koruna</th><th scope=col>Germany..Euro</th><th scope=col>Denmark..Danish.krone</th><th scope=col>Estonia..Euro</th><th scope=col>Spain..Euro</th><th scope=col>⋯</th><th scope=col>Luxembourg..Euro</th><th scope=col>Latvia..Euro</th><th scope=col>Malta..Euro</th><th scope=col>Netherlands..Euro</th><th scope=col>Poland..Polish.zloty</th><th scope=col>Portugal..Euro</th><th scope=col>Romania..Romanian.leu</th><th scope=col>Sweden..Swedish.krona</th><th scope=col>Slovenia..Euro</th><th scope=col>Slovakia..Euro</th></tr>\n",
       "\t<tr><th></th><th scope=col>&lt;date&gt;</th><th scope=col>&lt;dbl&gt;</th><th scope=col>&lt;dbl&gt;</th><th scope=col>&lt;dbl&gt;</th><th scope=col>&lt;dbl&gt;</th><th scope=col>&lt;dbl&gt;</th><th scope=col>&lt;dbl&gt;</th><th scope=col>&lt;dbl&gt;</th><th scope=col>&lt;dbl&gt;</th><th scope=col>&lt;dbl&gt;</th><th scope=col>⋯</th><th scope=col>&lt;dbl&gt;</th><th scope=col>&lt;dbl&gt;</th><th scope=col>&lt;dbl&gt;</th><th scope=col>&lt;dbl&gt;</th><th scope=col>&lt;dbl&gt;</th><th scope=col>&lt;dbl&gt;</th><th scope=col>&lt;dbl&gt;</th><th scope=col>&lt;dbl&gt;</th><th scope=col>&lt;dbl&gt;</th><th scope=col>&lt;dbl&gt;</th></tr>\n",
       "</thead>\n",
       "<tbody>\n",
       "\t<tr><th scope=row>1</th><td>2022-09-01</td><td>0.80</td><td>0.84</td><td>0.12</td><td>0.11</td><td>6.10</td><td>0.84</td><td> 1.15</td><td>0.94</td><td>0.16</td><td>⋯</td><td>0.73</td><td>0.62</td><td>0.59</td><td>1.84</td><td>5.44</td><td>0.05</td><td>6.44</td><td>1.65</td><td>0.11</td><td>0.77</td></tr>\n",
       "\t<tr><th scope=row>2</th><td>2022-08-01</td><td>0.37</td><td>0.37</td><td>0.11</td><td>0.06</td><td>5.98</td><td>0.49</td><td> 0.25</td><td>0.83</td><td>0.01</td><td>⋯</td><td>0.72</td><td>0.41</td><td>0.54</td><td>1.53</td><td>5.22</td><td>0.07</td><td>6.22</td><td>1.21</td><td>0.04</td><td>0.48</td></tr>\n",
       "\t<tr><th scope=row>3</th><td>2022-07-01</td><td>0.23</td><td>0.11</td><td>0.09</td><td>0.05</td><td>5.95</td><td>0.31</td><td>-0.44</td><td>0.59</td><td>0.03</td><td>⋯</td><td>0.15</td><td>0.12</td><td>0.48</td><td>1.59</td><td>4.85</td><td>0.09</td><td>5.49</td><td>0.90</td><td>0.03</td><td>0.21</td></tr>\n",
       "\t<tr><th scope=row>4</th><td>2022-06-01</td><td>0.12</td><td>0.14</td><td>0.06</td><td>0.05</td><td>5.37</td><td>0.17</td><td>-0.45</td><td>0.49</td><td>0.01</td><td>⋯</td><td>0.11</td><td>0.16</td><td>0.39</td><td>1.47</td><td>4.50</td><td>0.07</td><td>4.37</td><td>0.53</td><td>0.03</td><td>0.16</td></tr>\n",
       "\t<tr><th scope=row>5</th><td>2022-05-01</td><td>0.08</td><td>0.07</td><td>0.04</td><td>0.05</td><td>4.53</td><td>0.14</td><td>-0.50</td><td>0.50</td><td>0.01</td><td>⋯</td><td>0.10</td><td>0.16</td><td>0.38</td><td>1.23</td><td>3.38</td><td>0.04</td><td>3.21</td><td>0.38</td><td>0.04</td><td>0.21</td></tr>\n",
       "\t<tr><th scope=row>6</th><td>2022-04-01</td><td>0.10</td><td>0.06</td><td>0.04</td><td>0.05</td><td>4.17</td><td>0.14</td><td>-0.51</td><td>0.44</td><td>0.01</td><td>⋯</td><td>0.04</td><td>0.14</td><td>0.40</td><td>1.15</td><td>2.03</td><td>0.04</td><td>2.56</td><td>0.32</td><td>0.03</td><td>0.24</td></tr>\n",
       "</tbody>\n",
       "</table>\n"
      ],
      "text/latex": [
       "A data.frame: 6 × 28\n",
       "\\begin{tabular}{r|lllllllllllllllllllll}\n",
       "  & Period & Austria..Euro & Belgium..Euro & Bulgaria..Bulgarian.lev & Cyprus..Euro & Czech.Republic..Czech.koruna & Germany..Euro & Denmark..Danish.krone & Estonia..Euro & Spain..Euro & ⋯ & Luxembourg..Euro & Latvia..Euro & Malta..Euro & Netherlands..Euro & Poland..Polish.zloty & Portugal..Euro & Romania..Romanian.leu & Sweden..Swedish.krona & Slovenia..Euro & Slovakia..Euro\\\\\n",
       "  & <date> & <dbl> & <dbl> & <dbl> & <dbl> & <dbl> & <dbl> & <dbl> & <dbl> & <dbl> & ⋯ & <dbl> & <dbl> & <dbl> & <dbl> & <dbl> & <dbl> & <dbl> & <dbl> & <dbl> & <dbl>\\\\\n",
       "\\hline\n",
       "\t1 & 2022-09-01 & 0.80 & 0.84 & 0.12 & 0.11 & 6.10 & 0.84 &  1.15 & 0.94 & 0.16 & ⋯ & 0.73 & 0.62 & 0.59 & 1.84 & 5.44 & 0.05 & 6.44 & 1.65 & 0.11 & 0.77\\\\\n",
       "\t2 & 2022-08-01 & 0.37 & 0.37 & 0.11 & 0.06 & 5.98 & 0.49 &  0.25 & 0.83 & 0.01 & ⋯ & 0.72 & 0.41 & 0.54 & 1.53 & 5.22 & 0.07 & 6.22 & 1.21 & 0.04 & 0.48\\\\\n",
       "\t3 & 2022-07-01 & 0.23 & 0.11 & 0.09 & 0.05 & 5.95 & 0.31 & -0.44 & 0.59 & 0.03 & ⋯ & 0.15 & 0.12 & 0.48 & 1.59 & 4.85 & 0.09 & 5.49 & 0.90 & 0.03 & 0.21\\\\\n",
       "\t4 & 2022-06-01 & 0.12 & 0.14 & 0.06 & 0.05 & 5.37 & 0.17 & -0.45 & 0.49 & 0.01 & ⋯ & 0.11 & 0.16 & 0.39 & 1.47 & 4.50 & 0.07 & 4.37 & 0.53 & 0.03 & 0.16\\\\\n",
       "\t5 & 2022-05-01 & 0.08 & 0.07 & 0.04 & 0.05 & 4.53 & 0.14 & -0.50 & 0.50 & 0.01 & ⋯ & 0.10 & 0.16 & 0.38 & 1.23 & 3.38 & 0.04 & 3.21 & 0.38 & 0.04 & 0.21\\\\\n",
       "\t6 & 2022-04-01 & 0.10 & 0.06 & 0.04 & 0.05 & 4.17 & 0.14 & -0.51 & 0.44 & 0.01 & ⋯ & 0.04 & 0.14 & 0.40 & 1.15 & 2.03 & 0.04 & 2.56 & 0.32 & 0.03 & 0.24\\\\\n",
       "\\end{tabular}\n"
      ],
      "text/markdown": [
       "\n",
       "A data.frame: 6 × 28\n",
       "\n",
       "| <!--/--> | Period &lt;date&gt; | Austria..Euro &lt;dbl&gt; | Belgium..Euro &lt;dbl&gt; | Bulgaria..Bulgarian.lev &lt;dbl&gt; | Cyprus..Euro &lt;dbl&gt; | Czech.Republic..Czech.koruna &lt;dbl&gt; | Germany..Euro &lt;dbl&gt; | Denmark..Danish.krone &lt;dbl&gt; | Estonia..Euro &lt;dbl&gt; | Spain..Euro &lt;dbl&gt; | ⋯ ⋯ | Luxembourg..Euro &lt;dbl&gt; | Latvia..Euro &lt;dbl&gt; | Malta..Euro &lt;dbl&gt; | Netherlands..Euro &lt;dbl&gt; | Poland..Polish.zloty &lt;dbl&gt; | Portugal..Euro &lt;dbl&gt; | Romania..Romanian.leu &lt;dbl&gt; | Sweden..Swedish.krona &lt;dbl&gt; | Slovenia..Euro &lt;dbl&gt; | Slovakia..Euro &lt;dbl&gt; |\n",
       "|---|---|---|---|---|---|---|---|---|---|---|---|---|---|---|---|---|---|---|---|---|---|\n",
       "| 1 | 2022-09-01 | 0.80 | 0.84 | 0.12 | 0.11 | 6.10 | 0.84 |  1.15 | 0.94 | 0.16 | ⋯ | 0.73 | 0.62 | 0.59 | 1.84 | 5.44 | 0.05 | 6.44 | 1.65 | 0.11 | 0.77 |\n",
       "| 2 | 2022-08-01 | 0.37 | 0.37 | 0.11 | 0.06 | 5.98 | 0.49 |  0.25 | 0.83 | 0.01 | ⋯ | 0.72 | 0.41 | 0.54 | 1.53 | 5.22 | 0.07 | 6.22 | 1.21 | 0.04 | 0.48 |\n",
       "| 3 | 2022-07-01 | 0.23 | 0.11 | 0.09 | 0.05 | 5.95 | 0.31 | -0.44 | 0.59 | 0.03 | ⋯ | 0.15 | 0.12 | 0.48 | 1.59 | 4.85 | 0.09 | 5.49 | 0.90 | 0.03 | 0.21 |\n",
       "| 4 | 2022-06-01 | 0.12 | 0.14 | 0.06 | 0.05 | 5.37 | 0.17 | -0.45 | 0.49 | 0.01 | ⋯ | 0.11 | 0.16 | 0.39 | 1.47 | 4.50 | 0.07 | 4.37 | 0.53 | 0.03 | 0.16 |\n",
       "| 5 | 2022-05-01 | 0.08 | 0.07 | 0.04 | 0.05 | 4.53 | 0.14 | -0.50 | 0.50 | 0.01 | ⋯ | 0.10 | 0.16 | 0.38 | 1.23 | 3.38 | 0.04 | 3.21 | 0.38 | 0.04 | 0.21 |\n",
       "| 6 | 2022-04-01 | 0.10 | 0.06 | 0.04 | 0.05 | 4.17 | 0.14 | -0.51 | 0.44 | 0.01 | ⋯ | 0.04 | 0.14 | 0.40 | 1.15 | 2.03 | 0.04 | 2.56 | 0.32 | 0.03 | 0.24 |\n",
       "\n"
      ],
      "text/plain": [
       "  Period     Austria..Euro Belgium..Euro Bulgaria..Bulgarian.lev Cyprus..Euro\n",
       "1 2022-09-01 0.80          0.84          0.12                    0.11        \n",
       "2 2022-08-01 0.37          0.37          0.11                    0.06        \n",
       "3 2022-07-01 0.23          0.11          0.09                    0.05        \n",
       "4 2022-06-01 0.12          0.14          0.06                    0.05        \n",
       "5 2022-05-01 0.08          0.07          0.04                    0.05        \n",
       "6 2022-04-01 0.10          0.06          0.04                    0.05        \n",
       "  Czech.Republic..Czech.koruna Germany..Euro Denmark..Danish.krone\n",
       "1 6.10                         0.84           1.15                \n",
       "2 5.98                         0.49           0.25                \n",
       "3 5.95                         0.31          -0.44                \n",
       "4 5.37                         0.17          -0.45                \n",
       "5 4.53                         0.14          -0.50                \n",
       "6 4.17                         0.14          -0.51                \n",
       "  Estonia..Euro Spain..Euro ⋯ Luxembourg..Euro Latvia..Euro Malta..Euro\n",
       "1 0.94          0.16        ⋯ 0.73             0.62         0.59       \n",
       "2 0.83          0.01        ⋯ 0.72             0.41         0.54       \n",
       "3 0.59          0.03        ⋯ 0.15             0.12         0.48       \n",
       "4 0.49          0.01        ⋯ 0.11             0.16         0.39       \n",
       "5 0.50          0.01        ⋯ 0.10             0.16         0.38       \n",
       "6 0.44          0.01        ⋯ 0.04             0.14         0.40       \n",
       "  Netherlands..Euro Poland..Polish.zloty Portugal..Euro Romania..Romanian.leu\n",
       "1 1.84              5.44                 0.05           6.44                 \n",
       "2 1.53              5.22                 0.07           6.22                 \n",
       "3 1.59              4.85                 0.09           5.49                 \n",
       "4 1.47              4.50                 0.07           4.37                 \n",
       "5 1.23              3.38                 0.04           3.21                 \n",
       "6 1.15              2.03                 0.04           2.56                 \n",
       "  Sweden..Swedish.krona Slovenia..Euro Slovakia..Euro\n",
       "1 1.65                  0.11           0.77          \n",
       "2 1.21                  0.04           0.48          \n",
       "3 0.90                  0.03           0.21          \n",
       "4 0.53                  0.03           0.16          \n",
       "5 0.38                  0.04           0.21          \n",
       "6 0.32                  0.03           0.24          "
      ]
     },
     "metadata": {},
     "output_type": "display_data"
    }
   ],
   "source": [
    "head(deposits_from2018)"
   ]
  },
  {
   "cell_type": "code",
   "execution_count": 399,
   "id": "b44d29e1-db57-4cc4-9e14-7e1c67085a25",
   "metadata": {
    "pycharm": {
     "name": "#%%\n"
    }
   },
   "outputs": [],
   "source": [
    "deposits_from2018 = subset(deposits_data, select=-c(Slovakia..Slovak.koruna, Slovenia..Slovenian.tolar, Malta..Maltese.lira, Estonia..Estonian.kroon, Latvia..Latvian.lats, Lithuania..Lithuanian.litas))[c(1:(n_months-1)),]"
   ]
  },
  {
   "cell_type": "code",
   "execution_count": 400,
   "id": "7c133fbe-4ba8-43b9-9aa2-d156379e0c9f",
   "metadata": {
    "pycharm": {
     "name": "#%%\n"
    }
   },
   "outputs": [],
   "source": [
    "inf_cols = colnames(subset(inflation_data, select=-c(Period, EU..changing.composition.)))"
   ]
  },
  {
   "cell_type": "code",
   "execution_count": 401,
   "id": "418abc2e-77b6-40fe-a46c-96359256e494",
   "metadata": {
    "pycharm": {
     "name": "#%%\n"
    }
   },
   "outputs": [],
   "source": [
    "dep_cols = colnames(subset(deposits_data[2:34], select=-c(Slovakia..Slovak.koruna, Slovenia..Slovenian.tolar, Malta..Maltese.lira, Estonia..Estonian.kroon, Latvia..Latvian.lats, Lithuania..Lithuanian.litas)))"
   ]
  },
  {
   "cell_type": "code",
   "execution_count": 402,
   "id": "3e36f7a7-20e4-4c50-b36e-279679cb5a04",
   "metadata": {
    "pycharm": {
     "name": "#%%\n"
    }
   },
   "outputs": [
    {
     "data": {
      "text/html": [
       "<style>\n",
       ".list-inline {list-style: none; margin:0; padding: 0}\n",
       ".list-inline>li {display: inline-block}\n",
       ".list-inline>li:not(:last-child)::after {content: \"\\00b7\"; padding: 0 .5ex}\n",
       "</style>\n",
       "<ol class=list-inline><li>'Austria'</li><li>'Belgium'</li><li>'Bulgaria'</li><li>'Cyprus'</li><li>'Czech.Republic'</li><li>'Germany'</li><li>'Denmark'</li><li>'Estonia'</li><li>'Spain'</li><li>'Finland'</li><li>'France'</li><li>'Greece'</li><li>'Croatia'</li><li>'Hungary'</li><li>'Ireland'</li><li>'Italy'</li><li>'Lithuania'</li><li>'Luxembourg'</li><li>'Latvia'</li><li>'Malta'</li><li>'Netherlands'</li><li>'Poland'</li><li>'Portugal'</li><li>'Romania'</li><li>'Sweden'</li><li>'Slovenia'</li><li>'Slovakia'</li></ol>\n"
      ],
      "text/latex": [
       "\\begin{enumerate*}\n",
       "\\item 'Austria'\n",
       "\\item 'Belgium'\n",
       "\\item 'Bulgaria'\n",
       "\\item 'Cyprus'\n",
       "\\item 'Czech.Republic'\n",
       "\\item 'Germany'\n",
       "\\item 'Denmark'\n",
       "\\item 'Estonia'\n",
       "\\item 'Spain'\n",
       "\\item 'Finland'\n",
       "\\item 'France'\n",
       "\\item 'Greece'\n",
       "\\item 'Croatia'\n",
       "\\item 'Hungary'\n",
       "\\item 'Ireland'\n",
       "\\item 'Italy'\n",
       "\\item 'Lithuania'\n",
       "\\item 'Luxembourg'\n",
       "\\item 'Latvia'\n",
       "\\item 'Malta'\n",
       "\\item 'Netherlands'\n",
       "\\item 'Poland'\n",
       "\\item 'Portugal'\n",
       "\\item 'Romania'\n",
       "\\item 'Sweden'\n",
       "\\item 'Slovenia'\n",
       "\\item 'Slovakia'\n",
       "\\end{enumerate*}\n"
      ],
      "text/markdown": [
       "1. 'Austria'\n",
       "2. 'Belgium'\n",
       "3. 'Bulgaria'\n",
       "4. 'Cyprus'\n",
       "5. 'Czech.Republic'\n",
       "6. 'Germany'\n",
       "7. 'Denmark'\n",
       "8. 'Estonia'\n",
       "9. 'Spain'\n",
       "10. 'Finland'\n",
       "11. 'France'\n",
       "12. 'Greece'\n",
       "13. 'Croatia'\n",
       "14. 'Hungary'\n",
       "15. 'Ireland'\n",
       "16. 'Italy'\n",
       "17. 'Lithuania'\n",
       "18. 'Luxembourg'\n",
       "19. 'Latvia'\n",
       "20. 'Malta'\n",
       "21. 'Netherlands'\n",
       "22. 'Poland'\n",
       "23. 'Portugal'\n",
       "24. 'Romania'\n",
       "25. 'Sweden'\n",
       "26. 'Slovenia'\n",
       "27. 'Slovakia'\n",
       "\n",
       "\n"
      ],
      "text/plain": [
       " [1] \"Austria\"        \"Belgium\"        \"Bulgaria\"       \"Cyprus\"        \n",
       " [5] \"Czech.Republic\" \"Germany\"        \"Denmark\"        \"Estonia\"       \n",
       " [9] \"Spain\"          \"Finland\"        \"France\"         \"Greece\"        \n",
       "[13] \"Croatia\"        \"Hungary\"        \"Ireland\"        \"Italy\"         \n",
       "[17] \"Lithuania\"      \"Luxembourg\"     \"Latvia\"         \"Malta\"         \n",
       "[21] \"Netherlands\"    \"Poland\"         \"Portugal\"       \"Romania\"       \n",
       "[25] \"Sweden\"         \"Slovenia\"       \"Slovakia\"      "
      ]
     },
     "metadata": {},
     "output_type": "display_data"
    }
   ],
   "source": [
    "inf_cols"
   ]
  },
  {
   "cell_type": "code",
   "execution_count": 403,
   "id": "af289ca0-e2e6-4f3b-b2e5-d592ee7ee674",
   "metadata": {
    "pycharm": {
     "name": "#%%\n"
    }
   },
   "outputs": [
    {
     "data": {
      "text/html": [
       "<style>\n",
       ".list-inline {list-style: none; margin:0; padding: 0}\n",
       ".list-inline>li {display: inline-block}\n",
       ".list-inline>li:not(:last-child)::after {content: \"\\00b7\"; padding: 0 .5ex}\n",
       "</style>\n",
       "<ol class=list-inline><li>'Austria..Euro'</li><li>'Belgium..Euro'</li><li>'Bulgaria..Bulgarian.lev'</li><li>'Cyprus..Euro'</li><li>'Czech.Republic..Czech.koruna'</li><li>'Germany..Euro'</li><li>'Denmark..Danish.krone'</li><li>'Estonia..Euro'</li><li>'Spain..Euro'</li><li>'Finland..Euro'</li><li>'France..Euro'</li><li>'Greece..Euro'</li><li>'Croatia..Croatian.kuna'</li><li>'Hungary..Hungarian.forint'</li><li>'Ireland..Euro'</li><li>'Italy..Euro'</li><li>'Lithuania..Euro'</li><li>'Luxembourg..Euro'</li><li>'Latvia..Euro'</li><li>'Malta..Euro'</li><li>'Netherlands..Euro'</li><li>'Poland..Polish.zloty'</li><li>'Portugal..Euro'</li><li>'Romania..Romanian.leu'</li><li>'Sweden..Swedish.krona'</li><li>'Slovenia..Euro'</li><li>'Slovakia..Euro'</li></ol>\n"
      ],
      "text/latex": [
       "\\begin{enumerate*}\n",
       "\\item 'Austria..Euro'\n",
       "\\item 'Belgium..Euro'\n",
       "\\item 'Bulgaria..Bulgarian.lev'\n",
       "\\item 'Cyprus..Euro'\n",
       "\\item 'Czech.Republic..Czech.koruna'\n",
       "\\item 'Germany..Euro'\n",
       "\\item 'Denmark..Danish.krone'\n",
       "\\item 'Estonia..Euro'\n",
       "\\item 'Spain..Euro'\n",
       "\\item 'Finland..Euro'\n",
       "\\item 'France..Euro'\n",
       "\\item 'Greece..Euro'\n",
       "\\item 'Croatia..Croatian.kuna'\n",
       "\\item 'Hungary..Hungarian.forint'\n",
       "\\item 'Ireland..Euro'\n",
       "\\item 'Italy..Euro'\n",
       "\\item 'Lithuania..Euro'\n",
       "\\item 'Luxembourg..Euro'\n",
       "\\item 'Latvia..Euro'\n",
       "\\item 'Malta..Euro'\n",
       "\\item 'Netherlands..Euro'\n",
       "\\item 'Poland..Polish.zloty'\n",
       "\\item 'Portugal..Euro'\n",
       "\\item 'Romania..Romanian.leu'\n",
       "\\item 'Sweden..Swedish.krona'\n",
       "\\item 'Slovenia..Euro'\n",
       "\\item 'Slovakia..Euro'\n",
       "\\end{enumerate*}\n"
      ],
      "text/markdown": [
       "1. 'Austria..Euro'\n",
       "2. 'Belgium..Euro'\n",
       "3. 'Bulgaria..Bulgarian.lev'\n",
       "4. 'Cyprus..Euro'\n",
       "5. 'Czech.Republic..Czech.koruna'\n",
       "6. 'Germany..Euro'\n",
       "7. 'Denmark..Danish.krone'\n",
       "8. 'Estonia..Euro'\n",
       "9. 'Spain..Euro'\n",
       "10. 'Finland..Euro'\n",
       "11. 'France..Euro'\n",
       "12. 'Greece..Euro'\n",
       "13. 'Croatia..Croatian.kuna'\n",
       "14. 'Hungary..Hungarian.forint'\n",
       "15. 'Ireland..Euro'\n",
       "16. 'Italy..Euro'\n",
       "17. 'Lithuania..Euro'\n",
       "18. 'Luxembourg..Euro'\n",
       "19. 'Latvia..Euro'\n",
       "20. 'Malta..Euro'\n",
       "21. 'Netherlands..Euro'\n",
       "22. 'Poland..Polish.zloty'\n",
       "23. 'Portugal..Euro'\n",
       "24. 'Romania..Romanian.leu'\n",
       "25. 'Sweden..Swedish.krona'\n",
       "26. 'Slovenia..Euro'\n",
       "27. 'Slovakia..Euro'\n",
       "\n",
       "\n"
      ],
      "text/plain": [
       " [1] \"Austria..Euro\"                \"Belgium..Euro\"               \n",
       " [3] \"Bulgaria..Bulgarian.lev\"      \"Cyprus..Euro\"                \n",
       " [5] \"Czech.Republic..Czech.koruna\" \"Germany..Euro\"               \n",
       " [7] \"Denmark..Danish.krone\"        \"Estonia..Euro\"               \n",
       " [9] \"Spain..Euro\"                  \"Finland..Euro\"               \n",
       "[11] \"France..Euro\"                 \"Greece..Euro\"                \n",
       "[13] \"Croatia..Croatian.kuna\"       \"Hungary..Hungarian.forint\"   \n",
       "[15] \"Ireland..Euro\"                \"Italy..Euro\"                 \n",
       "[17] \"Lithuania..Euro\"              \"Luxembourg..Euro\"            \n",
       "[19] \"Latvia..Euro\"                 \"Malta..Euro\"                 \n",
       "[21] \"Netherlands..Euro\"            \"Poland..Polish.zloty\"        \n",
       "[23] \"Portugal..Euro\"               \"Romania..Romanian.leu\"       \n",
       "[25] \"Sweden..Swedish.krona\"        \"Slovenia..Euro\"              \n",
       "[27] \"Slovakia..Euro\"              "
      ]
     },
     "metadata": {},
     "output_type": "display_data"
    }
   ],
   "source": [
    "dep_cols"
   ]
  },
  {
   "cell_type": "code",
   "execution_count": 419,
   "id": "452cd275-fa75-49fc-9331-7f08c553fb27",
   "metadata": {
    "pycharm": {
     "name": "#%%\n"
    }
   },
   "outputs": [],
   "source": [
    "deposits_to_inflation <- data.frame(copy_inf)\n",
    "for (i in 1:length(dep_cols)){\n",
    "    col_inf <- inf_cols[i]\n",
    "    col_dep <- dep_cols[i]\n",
    "    new_column = deposits_from2018[col_dep] / inflation_from2018[col_inf]\n",
    "    deposits_to_inflation[col_inf] = new_column\n",
    "}\n",
    "names(deposits_to_inflation)[names(deposits_to_inflation) == \"copy_inf\"] <- \"Period\"\n",
    "# deposits_to_inflation[Period] = periods_from2018\n",
    "deposits_to_inflation['average'] = rowMeans(deposits_from2018[2:28], na.rm=TRUE)"
   ]
  },
  {
   "cell_type": "code",
   "execution_count": 420,
   "id": "30996fc0-515b-4e65-ac47-27e0ceae0ef5",
   "metadata": {
    "pycharm": {
     "name": "#%%\n"
    }
   },
   "outputs": [
    {
     "data": {
      "text/html": [
       "<table class=\"dataframe\">\n",
       "<caption>A data.frame: 57 × 29</caption>\n",
       "<thead>\n",
       "\t<tr><th scope=col>Period</th><th scope=col>Austria</th><th scope=col>Belgium</th><th scope=col>Bulgaria</th><th scope=col>Cyprus</th><th scope=col>Czech.Republic</th><th scope=col>Germany</th><th scope=col>Denmark</th><th scope=col>Estonia</th><th scope=col>Spain</th><th scope=col>⋯</th><th scope=col>Latvia</th><th scope=col>Malta</th><th scope=col>Netherlands</th><th scope=col>Poland</th><th scope=col>Portugal</th><th scope=col>Romania</th><th scope=col>Sweden</th><th scope=col>Slovenia</th><th scope=col>Slovakia</th><th scope=col>average</th></tr>\n",
       "\t<tr><th scope=col>&lt;date&gt;</th><th scope=col>&lt;dbl&gt;</th><th scope=col>&lt;dbl&gt;</th><th scope=col>&lt;dbl&gt;</th><th scope=col>&lt;dbl&gt;</th><th scope=col>&lt;dbl&gt;</th><th scope=col>&lt;dbl&gt;</th><th scope=col>&lt;dbl&gt;</th><th scope=col>&lt;dbl&gt;</th><th scope=col>&lt;dbl&gt;</th><th scope=col>⋯</th><th scope=col>&lt;dbl&gt;</th><th scope=col>&lt;dbl&gt;</th><th scope=col>&lt;dbl&gt;</th><th scope=col>&lt;dbl&gt;</th><th scope=col>&lt;dbl&gt;</th><th scope=col>&lt;dbl&gt;</th><th scope=col>&lt;dbl&gt;</th><th scope=col>&lt;dbl&gt;</th><th scope=col>&lt;dbl&gt;</th><th scope=col>&lt;dbl&gt;</th></tr>\n",
       "</thead>\n",
       "<tbody>\n",
       "\t<tr><td>2022-09-01</td><td>0.07339450</td><td> 0.069421488</td><td> 0.007692308</td><td> 0.012222222</td><td>0.34269663</td><td> 0.077064220</td><td> 0.10360360</td><td> 0.03900415</td><td> 0.017777778</td><td>⋯</td><td> 0.028181818</td><td>0.07972973</td><td>0.10760234</td><td>0.34649682</td><td> 0.005102041</td><td>0.4805970</td><td> 0.16019417</td><td> 0.010377358</td><td>0.05661765</td><td>1.2850000</td></tr>\n",
       "\t<tr><td>2022-08-01</td><td>0.03978495</td><td> 0.035238095</td><td> 0.007333333</td><td> 0.006250000</td><td>0.34970760</td><td> 0.055681818</td><td> 0.02525253</td><td> 0.03293651</td><td> 0.000952381</td><td>⋯</td><td> 0.019158879</td><td>0.07714286</td><td>0.11167883</td><td>0.35270270</td><td> 0.007526882</td><td>0.4676692</td><td> 0.12736842</td><td> 0.003478261</td><td>0.03582090</td><td>1.3492593</td></tr>\n",
       "\t<tr><td>2022-07-01</td><td>0.02446809</td><td> 0.010576923</td><td> 0.006040268</td><td> 0.004716981</td><td>0.34393064</td><td> 0.036470588</td><td>-0.04583333</td><td> 0.02543103</td><td> 0.002803738</td><td>⋯</td><td> 0.005633803</td><td>0.07058824</td><td>0.13706897</td><td>0.34154930</td><td> 0.009574468</td><td>0.4223077</td><td> 0.10843373</td><td> 0.002564103</td><td>0.01640625</td><td>1.1159259</td></tr>\n",
       "\t<tr><td>2022-06-01</td><td>0.01379310</td><td> 0.013333333</td><td> 0.004054054</td><td> 0.005555556</td><td>0.32349398</td><td> 0.020731707</td><td>-0.04945055</td><td> 0.02227273</td><td> 0.001000000</td><td>⋯</td><td> 0.008333333</td><td>0.06393443</td><td>0.14848485</td><td>0.31690141</td><td> 0.007777778</td><td>0.3361538</td><td> 0.05955056</td><td> 0.002777778</td><td>0.01269841</td><td>0.8903704</td></tr>\n",
       "\t<tr><td>2022-05-01</td><td>0.01038961</td><td> 0.007070707</td><td> 0.002985075</td><td> 0.005681818</td><td>0.29802632</td><td> 0.016091954</td><td>-0.06097561</td><td> 0.02487562</td><td> 0.001176471</td><td>⋯</td><td> 0.009523810</td><td>0.06551724</td><td>0.12058824</td><td>0.26406250</td><td> 0.004938272</td><td>0.2588710</td><td> 0.05066667</td><td> 0.004597701</td><td>0.01779661</td><td>0.7237037</td></tr>\n",
       "\t<tr><td>2022-04-01</td><td>0.01408451</td><td> 0.006451613</td><td> 0.003305785</td><td> 0.005813953</td><td>0.31590909</td><td> 0.017948718</td><td>-0.06891892</td><td> 0.02303665</td><td> 0.001204819</td><td>⋯</td><td> 0.010687023</td><td>0.07407407</td><td>0.10267857</td><td>0.17807018</td><td> 0.005405405</td><td>0.2188034</td><td> 0.04848485</td><td> 0.004054054</td><td>0.02201835</td><td>0.6200000</td></tr>\n",
       "\t<tr><td>2022-03-01</td><td>0.01212121</td><td> 0.007526882</td><td> 0.003809524</td><td> 0.008064516</td><td>0.29495798</td><td> 0.015789474</td><td>-0.09000000</td><td> 0.03175676</td><td> 0.001020408</td><td>⋯</td><td> 0.028695652</td><td>0.09555556</td><td>0.09230769</td><td>0.14509804</td><td> 0.007272727</td><td>0.2135417</td><td> 0.03968254</td><td> 0.005000000</td><td>0.02500000</td><td>0.5618519</td></tr>\n",
       "\t<tr><td>2022-02-01</td><td>0.01636364</td><td> 0.007368421</td><td> 0.004761905</td><td> 0.012068966</td><td>0.34700000</td><td> 0.010909091</td><td>-0.11132075</td><td> 0.03534483</td><td> 0.001315789</td><td>⋯</td><td> 0.036363636</td><td>0.10000000</td><td>0.13698630</td><td>0.14814815</td><td> 0.009090909</td><td>0.1936709</td><td> 0.04318182</td><td> 0.007142857</td><td>0.04337349</td><td>0.4574074</td></tr>\n",
       "\t<tr><td>2022-01-01</td><td>0.02000000</td><td> 0.017647059</td><td> 0.005194805</td><td> 0.012000000</td><td>0.31704545</td><td> 0.021568627</td><td>-0.11632653</td><td> 0.04090909</td><td> 0.001612903</td><td>⋯</td><td> 0.033333333</td><td>0.09756098</td><td>0.12368421</td><td>0.11379310</td><td> 0.011764706</td><td>0.1958333</td><td> 0.05641026</td><td> 0.006666667</td><td>0.03116883</td><td>0.4155556</td></tr>\n",
       "\t<tr><td>2021-12-01</td><td>0.01842105</td><td> 0.012121212</td><td> 0.009090909</td><td> 0.012500000</td><td>0.42962963</td><td>-0.012280702</td><td>-0.05588235</td><td> 0.03500000</td><td> 0.001515152</td><td>⋯</td><td> 0.025316456</td><td>0.13461538</td><td>0.15625000</td><td>0.08625000</td><td> 0.014285714</td><td>0.2074627</td><td> 0.05111111</td><td> 0.009803922</td><td>0.09803922</td><td>0.3807407</td></tr>\n",
       "\t<tr><td>2021-11-01</td><td>0.02195122</td><td> 0.011267606</td><td> 0.007936508</td><td> 0.012765957</td><td>0.42500000</td><td> 0.015000000</td><td>-0.06842105</td><td> 0.02790698</td><td> 0.001818182</td><td>⋯</td><td> 0.018918919</td><td>0.15000000</td><td>0.17457627</td><td>0.05945946</td><td> 0.015384615</td><td>0.1895522</td><td> 0.05128205</td><td> 0.030612245</td><td>0.10000000</td><td>0.3370370</td></tr>\n",
       "\t<tr><td>2021-10-01</td><td>0.02105263</td><td> 0.014814815</td><td> 0.009615385</td><td> 0.013636364</td><td>0.23958333</td><td> 0.013043478</td><td>-0.14062500</td><td> 0.03088235</td><td> 0.001851852</td><td>⋯</td><td> 0.023333333</td><td>0.26428571</td><td>0.27027027</td><td>0.05468750</td><td> 0.022222222</td><td>0.1769231</td><td> 0.07878788</td><td> 0.034285714</td><td>0.11818182</td><td>0.2881481</td></tr>\n",
       "\t<tr><td>2021-09-01</td><td>0.02727273</td><td> 0.034210526</td><td> 0.010000000</td><td> 0.016666667</td><td>0.16750000</td><td>-0.002439024</td><td> 0.33750000</td><td> 0.04062500</td><td> 0.002500000</td><td>⋯</td><td> 0.051063830</td><td>0.55714286</td><td>0.34666667</td><td>0.05178571</td><td> 0.030769231</td><td>0.2115385</td><td> 0.07333333</td><td> 0.048148148</td><td>0.10750000</td><td>0.3159259</td></tr>\n",
       "\t<tr><td>2021-08-01</td><td>0.03125000</td><td> 0.034042553</td><td> 0.020000000</td><td> 0.021212121</td><td>0.18387097</td><td> 0.005882353</td><td> 0.12777778</td><td> 0.06000000</td><td> 0.003030303</td><td>⋯</td><td> 0.097222222</td><td>1.02500000</td><td>0.35185185</td><td>0.04600000</td><td> 0.038461538</td><td>0.2850000</td><td> 0.07200000</td><td> 0.066666667</td><td>0.16666667</td><td>0.2733333</td></tr>\n",
       "\t<tr><td>2021-07-01</td><td>0.03571429</td><td> 0.100000000</td><td> 0.013636364</td><td> 0.025925926</td><td>0.10740741</td><td> 0.006451613</td><td>-0.25882353</td><td> 0.05102041</td><td> 0.003448276</td><td>⋯</td><td> 0.125000000</td><td>1.46666667</td><td>0.72857143</td><td>0.04680851</td><td> 0.045454545</td><td>0.2947368</td><td> 0.11111111</td><td> 0.060000000</td><td>0.21724138</td><td>0.2396296</td></tr>\n",
       "\t<tr><td>2021-06-01</td><td>0.03928571</td><td> 0.069230769</td><td> 0.020833333</td><td> 0.031818182</td><td>0.12000000</td><td>-0.019047619</td><td>-0.28421053</td><td> 0.08918919</td><td> 0.004000000</td><td>⋯</td><td> 0.148148148</td><td>2.25000000</td><td>0.60000000</td><td>0.05365854</td><td>-0.083333333</td><td>0.3085714</td><td> 0.12777778</td><td> 0.070588235</td><td>0.18400000</td><td>0.2388889</td></tr>\n",
       "\t<tr><td>2021-05-01</td><td>0.03333333</td><td> 0.068000000</td><td> 0.026086957</td><td> 0.046666667</td><td>0.12222222</td><td> 0.004166667</td><td>-0.12631579</td><td> 0.15312500</td><td> 0.004166667</td><td>⋯</td><td> 0.196153846</td><td>2.35000000</td><td>0.44000000</td><td>0.04565217</td><td> 0.100000000</td><td>0.3406250</td><td> 0.08750000</td><td> 0.063636364</td><td>0.27000000</td><td>0.2570370</td></tr>\n",
       "\t<tr><td>2021-04-01</td><td>0.07368421</td><td> 0.100000000</td><td> 0.025000000</td><td> 0.058333333</td><td>0.07419355</td><td> 0.028571429</td><td>-0.35333333</td><td> 0.32500000</td><td> 0.005000000</td><td>⋯</td><td> 0.117647059</td><td>4.70000000</td><td>0.56470588</td><td>0.03725490</td><td>-0.500000000</td><td>0.3962963</td><td> 0.13214286</td><td> 0.054545455</td><td>0.26470588</td><td>0.2492593</td></tr>\n",
       "\t<tr><td>2021-03-01</td><td>0.07500000</td><td> 0.112500000</td><td> 0.062500000</td><td> 0.266666667</td><td>0.11304348</td><td> 0.030000000</td><td>-0.22222222</td><td> 0.61111111</td><td> 0.008333333</td><td>⋯</td><td> 1.333333333</td><td>4.60000000</td><td>0.48947368</td><td>0.04545455</td><td> 0.500000000</td><td>0.4640000</td><td> 0.13809524</td><td> 1.200000000</td><td>0.29333333</td><td>0.2707407</td></tr>\n",
       "\t<tr><td>2021-02-01</td><td>0.10000000</td><td> 0.466666667</td><td> 0.350000000</td><td>-0.088888889</td><td>0.12380952</td><td> 0.043750000</td><td>-0.56000000</td><td> 1.06000000</td><td>-0.100000000</td><td>⋯</td><td>-2.800000000</td><td>4.90000000</td><td>0.51052632</td><td>0.07222222</td><td> 0.200000000</td><td>0.4840000</td><td> 0.19444444</td><td>-0.127272727</td><td>0.60000000</td><td>0.2855556</td></tr>\n",
       "\t<tr><td>2021-01-01</td><td>0.16363636</td><td> 0.316666667</td><td>-0.266666667</td><td>-0.100000000</td><td>0.11363636</td><td> 0.018750000</td><td>-0.85000000</td><td> 1.80000000</td><td> 0.025000000</td><td>⋯</td><td>-0.540000000</td><td>2.60000000</td><td>0.61250000</td><td>0.09444444</td><td> 0.350000000</td><td>0.6950000</td><td> 0.19473684</td><td>-0.122222222</td><td>0.74285714</td><td>0.2829630</td></tr>\n",
       "\t<tr><td>2020-12-01</td><td>0.23000000</td><td> 1.025000000</td><td>         Inf</td><td>-0.100000000</td><td>0.11666667</td><td> 0.014285714</td><td>-0.45000000</td><td>-0.54444444</td><td>-0.016666667</td><td>⋯</td><td>-0.420000000</td><td>2.60000000</td><td>1.04444444</td><td>0.15000000</td><td>-0.200000000</td><td>0.8388889</td><td> 0.50000000</td><td>-0.108333333</td><td>0.30625000</td><td>0.2781481</td></tr>\n",
       "\t<tr><td>2020-11-01</td><td>0.12727273</td><td> 1.400000000</td><td> 0.233333333</td><td>-0.081818182</td><td>0.13571429</td><td>-0.157142857</td><td> 0.15000000</td><td>-0.45000000</td><td>-0.137500000</td><td>⋯</td><td>-0.271428571</td><td>2.75000000</td><td>1.47142857</td><td>0.12162162</td><td>-0.175000000</td><td>0.8705882</td><td> 1.10000000</td><td>-0.136363636</td><td>0.30625000</td><td>0.3044444</td></tr>\n",
       "\t<tr><td>2020-10-01</td><td>0.12727273</td><td> 0.275000000</td><td> 0.133333333</td><td>-0.064285714</td><td>0.10344828</td><td>-0.200000000</td><td>-0.63333333</td><td>-0.32352941</td><td>-0.011111111</td><td>⋯</td><td>-0.471428571</td><td>0.93333333</td><td>0.81666667</td><td>0.11052632</td><td>-0.133333333</td><td>0.8388889</td><td> 0.60000000</td><td>-0.300000000</td><td>0.38125000</td><td>0.3062963</td></tr>\n",
       "\t<tr><td>2020-09-01</td><td>0.10833333</td><td> 0.520000000</td><td> 0.133333333</td><td>-0.052631579</td><td>0.06969697</td><td>-0.250000000</td><td> 1.56000000</td><td>-0.43846154</td><td>-0.016666667</td><td>⋯</td><td>-1.350000000</td><td>0.98000000</td><td>1.05000000</td><td>0.13157895</td><td>-0.100000000</td><td>0.7333333</td><td> 0.56666667</td><td>-0.200000000</td><td>0.47142857</td><td>0.3592593</td></tr>\n",
       "\t<tr><td>2020-08-01</td><td>0.08571429</td><td>-0.233333333</td><td> 0.133333333</td><td>-0.034482759</td><td>0.07714286</td><td>-1.600000000</td><td> 1.25000000</td><td>-0.44615385</td><td>-0.033333333</td><td>⋯</td><td>-0.880000000</td><td>0.60000000</td><td>3.20000000</td><td>0.08918919</td><td>-0.400000000</td><td>0.6520000</td><td> 0.34000000</td><td>-0.242857143</td><td>0.41428571</td><td>0.3281481</td></tr>\n",
       "\t<tr><td>2020-07-01</td><td>0.08333333</td><td> 0.111764706</td><td> 0.200000000</td><td>-0.045000000</td><td>0.08888889</td><td>         Inf</td><td>-0.20000000</td><td>-0.42307692</td><td>-0.042857143</td><td>⋯</td><td> 5.300000000</td><td>0.71428571</td><td>0.63750000</td><td>0.09729730</td><td>-0.800000000</td><td>0.6760000</td><td> 0.47142857</td><td>-0.566666667</td><td>0.33888889</td><td>0.3318519</td></tr>\n",
       "\t<tr><td>2020-06-01</td><td>0.13636364</td><td> 0.800000000</td><td> 0.077777778</td><td>-0.054545455</td><td>0.10882353</td><td> 0.212500000</td><td> 0.25000000</td><td>-0.45625000</td><td>-0.033333333</td><td>⋯</td><td>-0.618181818</td><td>0.57000000</td><td>0.62352941</td><td>0.11842105</td><td> 0.400000000</td><td>0.7727273</td><td> 0.34444444</td><td>-0.225000000</td><td>0.32222222</td><td>0.3792593</td></tr>\n",
       "\t<tr><td>2020-05-01</td><td>0.18333333</td><td>-0.400000000</td><td> 0.070000000</td><td>-0.092857143</td><td>0.12903226</td><td> 0.380000000</td><td> 0.05000000</td><td>-0.45555556</td><td>-0.011111111</td><td>⋯</td><td>-0.700000000</td><td>0.61111111</td><td>0.95454545</td><td>0.18529412</td><td>-0.133333333</td><td>0.9500000</td><td> 3.10000000</td><td>-0.142857143</td><td>0.26666667</td><td>0.3696296</td></tr>\n",
       "\t<tr><td>2020-04-01</td><td>0.08666667</td><td>         Inf</td><td> 0.061538462</td><td>-0.100000000</td><td>0.16969697</td><td> 0.175000000</td><td> 1.70000000</td><td>-0.85555556</td><td>-0.014285714</td><td>⋯</td><td>-4.700000000</td><td>0.41818182</td><td>1.06000000</td><td>0.32068966</td><td>-0.800000000</td><td>0.7434783</td><td>-1.55000000</td><td>-0.161538462</td><td>0.19523810</td><td>0.3592593</td></tr>\n",
       "\t<tr><td>2020-03-01</td><td>0.06250000</td><td> 0.225000000</td><td> 0.041666667</td><td> 1.100000000</td><td>0.38333333</td><td> 0.092307692</td><td> 0.10000000</td><td> 0.71000000</td><td> 0.100000000</td><td>⋯</td><td> 0.307142857</td><td>0.37500000</td><td>0.91818182</td><td>0.30769231</td><td> 0.800000000</td><td>0.6370370</td><td> 0.27500000</td><td> 0.214285714</td><td>0.23333333</td><td>0.4311111</td></tr>\n",
       "\t<tr><td>2020-02-01</td><td>0.05454545</td><td> 0.090000000</td><td> 0.029032258</td><td> 0.140000000</td><td>0.45405405</td><td> 0.088235294</td><td> 0.24285714</td><td> 0.39000000</td><td> 0.011111111</td><td>⋯</td><td> 0.130434783</td><td>0.40000000</td><td>0.77692308</td><td>0.29024390</td><td> 0.160000000</td><td>0.6068966</td><td> 0.18461538</td><td> 0.020000000</td><td>0.27419355</td><td>0.4559259</td></tr>\n",
       "\t<tr><td>2020-01-01</td><td>0.06363636</td><td> 0.050000000</td><td> 0.029411765</td><td> 0.242857143</td><td>0.41315789</td><td> 0.087500000</td><td> 0.02500000</td><td> 0.47500000</td><td> 0.018181818</td><td>⋯</td><td> 0.136363636</td><td>0.35714286</td><td>0.54705882</td><td>0.32631579</td><td> 0.112500000</td><td>0.4743590</td><td> 0.14000000</td><td> 0.043478261</td><td>0.25625000</td><td>0.4455556</td></tr>\n",
       "\t<tr><td>2019-12-01</td><td>0.07777778</td><td> 0.111111111</td><td> 0.038709677</td><td> 0.228571429</td><td>0.46250000</td><td> 0.053333333</td><td> 0.20000000</td><td> 0.45000000</td><td> 0.025000000</td><td>⋯</td><td> 0.252380952</td><td>0.38461538</td><td>0.38214286</td><td>0.40333333</td><td> 0.175000000</td><td>0.4725000</td><td> 0.11176471</td><td> 0.090000000</td><td>0.23125000</td><td>0.4540741</td></tr>\n",
       "\t<tr><td>2019-11-01</td><td>0.10833333</td><td> 0.300000000</td><td> 0.054545455</td><td> 0.320000000</td><td>0.51000000</td><td> 0.150000000</td><td> 0.25000000</td><td> 0.48333333</td><td> 0.060000000</td><td>⋯</td><td> 0.285000000</td><td>0.42307692</td><td>0.45000000</td><td>0.54166667</td><td> 0.400000000</td><td>0.5210526</td><td> 0.10555556</td><td> 0.121428571</td><td>0.24062500</td><td>0.4674074</td></tr>\n",
       "\t<tr><td>2019-10-01</td><td>0.16000000</td><td> 0.550000000</td><td> 0.075000000</td><td>-0.240000000</td><td>0.60384615</td><td> 0.188888889</td><td>         NA</td><td> 0.58571429</td><td> 0.150000000</td><td>⋯</td><td> 0.340909091</td><td>0.37142857</td><td>0.42500000</td><td>0.57826087</td><td>-0.800000000</td><td>0.6000000</td><td> 0.11250000</td><td> 0.106666667</td><td>0.28965517</td><td>0.4873077</td></tr>\n",
       "\t<tr><td>2019-09-01</td><td>0.11666667</td><td> 0.100000000</td><td> 0.068750000</td><td>-0.320000000</td><td>0.61923077</td><td> 0.155555556</td><td> 0.12500000</td><td> 0.38181818</td><td> 0.150000000</td><td>⋯</td><td> 0.230434783</td><td>0.40625000</td><td>0.46666667</td><td>0.54166667</td><td>-0.266666667</td><td>0.5171429</td><td> 0.13076923</td><td> 0.094117647</td><td>0.27333333</td><td>0.4903704</td></tr>\n",
       "\t<tr><td>2019-08-01</td><td>0.10000000</td><td> 0.122222222</td><td> 0.048000000</td><td> 0.283333333</td><td>0.60000000</td><td> 0.150000000</td><td>         NA</td><td> 0.39523810</td><td> 0.075000000</td><td>⋯</td><td> 0.116129032</td><td>0.31052632</td><td>0.41612903</td><td>0.50769231</td><td>-1.000000000</td><td>0.4365854</td><td> 0.10000000</td><td> 0.066666667</td><td>0.23666667</td><td>0.4896154</td></tr>\n",
       "\t<tr><td>2019-07-01</td><td>0.14285714</td><td> 0.091666667</td><td> 0.046153846</td><td> 2.000000000</td><td>0.57692308</td><td> 0.109090909</td><td> 0.15000000</td><td> 0.46000000</td><td> 0.066666667</td><td>⋯</td><td> 0.190000000</td><td>0.33888889</td><td>0.50000000</td><td>0.56000000</td><td>-0.157142857</td><td>0.4317073</td><td> 0.09333333</td><td> 0.075000000</td><td>0.26000000</td><td>0.4974074</td></tr>\n",
       "\t<tr><td>2019-06-01</td><td>0.12500000</td><td> 0.123076923</td><td> 0.056521739</td><td> 1.066666667</td><td>0.63750000</td><td> 0.066666667</td><td> 0.16000000</td><td> 0.27692308</td><td> 0.066666667</td><td>⋯</td><td> 0.203225806</td><td>0.32222222</td><td>0.51111111</td><td>0.60869565</td><td> 0.171428571</td><td>0.4153846</td><td> 0.10000000</td><td> 0.089473684</td><td>0.21111111</td><td>0.5033333</td></tr>\n",
       "\t<tr><td>2019-05-01</td><td>0.11176471</td><td> 0.088235294</td><td> 0.048275862</td><td> 1.700000000</td><td>0.58076923</td><td> 0.100000000</td><td> 0.05714286</td><td> 0.22258065</td><td> 0.044444444</td><td>⋯</td><td> 0.202857143</td><td>0.37647059</td><td>0.58260870</td><td>0.69090909</td><td> 0.400000000</td><td>0.3727273</td><td> 0.06666667</td><td> 0.118750000</td><td>0.43703704</td><td>0.5200000</td></tr>\n",
       "\t<tr><td>2019-04-01</td><td>0.11764706</td><td> 0.105000000</td><td> 0.041935484</td><td> 0.283333333</td><td>0.57916667</td><td> 0.138095238</td><td> 0.16666667</td><td> 0.18750000</td><td> 0.025000000</td><td>⋯</td><td> 0.190909091</td><td>0.31176471</td><td>0.41666667</td><td>0.74285714</td><td> 0.133333333</td><td>0.3613636</td><td> 0.08095238</td><td> 0.088888889</td><td>0.43750000</td><td>0.5062963</td></tr>\n",
       "\t<tr><td>2019-03-01</td><td>0.14117647</td><td> 0.081818182</td><td> 0.039285714</td><td> 0.327272727</td><td>0.51923077</td><td> 0.207142857</td><td>         NA</td><td> 0.19545455</td><td> 0.030769231</td><td>⋯</td><td> 0.181481481</td><td>0.35384615</td><td>0.42413793</td><td>0.92941176</td><td> 0.150000000</td><td>0.3738095</td><td> 0.05555556</td><td> 0.106250000</td><td>0.45185185</td><td>0.5034615</td></tr>\n",
       "\t<tr><td>2019-02-01</td><td>0.17142857</td><td> 0.080000000</td><td> 0.050000000</td><td> 0.475000000</td><td>0.56666667</td><td> 0.170588235</td><td> 0.09090909</td><td> 0.23157895</td><td> 0.036363636</td><td>⋯</td><td> 0.164285714</td><td>0.43076923</td><td>0.46923077</td><td>1.33846154</td><td> 0.144444444</td><td>0.3850000</td><td> 0.03684211</td><td> 0.138461538</td><td>0.51304348</td><td>0.5081481</td></tr>\n",
       "\t<tr><td>2019-01-01</td><td>0.13529412</td><td> 0.111111111</td><td> 0.060869565</td><td> 0.171428571</td><td>0.68500000</td><td> 0.164705882</td><td>         NA</td><td> 0.15357143</td><td> 0.040000000</td><td>⋯</td><td> 0.234482759</td><td>0.69000000</td><td>0.57000000</td><td>2.95000000</td><td> 0.233333333</td><td>0.5000000</td><td> 0.04500000</td><td> 0.133333333</td><td>0.45000000</td><td>0.5373077</td></tr>\n",
       "\t<tr><td>2018-12-01</td><td>0.12352941</td><td> 0.081818182</td><td> 0.078260870</td><td> 0.400000000</td><td>0.81250000</td><td> 0.164705882</td><td>-0.11428571</td><td> 0.13333333</td><td> 0.041666667</td><td>⋯</td><td> 0.264000000</td><td>0.54166667</td><td>0.71111111</td><td>2.03333333</td><td> 0.233333333</td><td>0.5733333</td><td> 0.04090909</td><td> 0.121428571</td><td>0.52105263</td><td>0.5177778</td></tr>\n",
       "\t<tr><td>2018-11-01</td><td>0.09130435</td><td> 0.055172414</td><td> 0.050000000</td><td> 0.337500000</td><td>0.78750000</td><td> 0.136363636</td><td> 0.17142857</td><td> 0.13437500</td><td> 0.023529412</td><td>⋯</td><td> 0.203448276</td><td>0.45000000</td><td>0.75555556</td><td>1.64545455</td><td> 0.155555556</td><td>0.5406250</td><td> 0.04285714</td><td> 0.080952381</td><td>0.37500000</td><td>0.5162963</td></tr>\n",
       "\t<tr><td>2018-10-01</td><td>0.08750000</td><td> 0.050000000</td><td> 0.038888889</td><td> 0.284210526</td><td>0.53000000</td><td> 0.107692308</td><td> 0.15714286</td><td> 0.08222222</td><td> 0.017391304</td><td>⋯</td><td> 0.175000000</td><td>0.32380952</td><td>0.73684211</td><td>1.07333333</td><td> 0.187500000</td><td>0.4023810</td><td> 0.03333333</td><td> 0.069565217</td><td>0.32800000</td><td>0.4959259</td></tr>\n",
       "\t<tr><td>2018-09-01</td><td>0.09047619</td><td> 0.046428571</td><td> 0.038888889</td><td> 0.364705882</td><td>0.46666667</td><td> 0.140909091</td><td>         NA</td><td> 0.12857143</td><td> 0.017391304</td><td>⋯</td><td> 0.227272727</td><td>0.27200000</td><td>0.90625000</td><td>1.12000000</td><td> 0.077777778</td><td>0.3276596</td><td> 0.03200000</td><td> 0.072727273</td><td>0.30370370</td><td>0.5161538</td></tr>\n",
       "\t<tr><td>2018-08-01</td><td>0.08695652</td><td> 0.057692308</td><td> 0.040540541</td><td> 0.494117647</td><td>0.39583333</td><td> 0.142857143</td><td>         NA</td><td> 0.12857143</td><td> 0.018181818</td><td>⋯</td><td> 0.246428571</td><td>0.21666667</td><td>0.71052632</td><td>1.12857143</td><td> 0.100000000</td><td>0.3042553</td><td> 0.03809524</td><td> 0.090000000</td><td>0.23103448</td><td>0.4980769</td></tr>\n",
       "\t<tr><td>2018-07-01</td><td>0.09130435</td><td> 0.055555556</td><td> 0.044444444</td><td> 0.607142857</td><td>0.30909091</td><td> 0.122727273</td><td> 0.66666667</td><td> 0.13636364</td><td> 0.017391304</td><td>⋯</td><td> 0.225925926</td><td>0.36666667</td><td>0.77894737</td><td>1.14285714</td><td> 0.059090909</td><td>0.3093023</td><td> 0.03181818</td><td> 0.071428571</td><td>0.22692308</td><td>0.4914815</td></tr>\n",
       "\t<tr><td>2018-06-01</td><td>0.08695652</td><td> 0.073076923</td><td> 0.046666667</td><td> 0.558823529</td><td>0.24166667</td><td> 0.142857143</td><td> 0.99090909</td><td> 0.09230769</td><td> 0.021739130</td><td>⋯</td><td> 0.211111111</td><td>0.45500000</td><td>0.91764706</td><td>1.15714286</td><td> 0.075000000</td><td>0.2446809</td><td> 0.04761905</td><td> 0.069565217</td><td>0.20689655</td><td>0.5251852</td></tr>\n",
       "\t<tr><td>2018-05-01</td><td>0.09523810</td><td> 0.095652174</td><td> 0.060869565</td><td> 1.020000000</td><td>0.28000000</td><td> 0.144000000</td><td> 1.90000000</td><td> 0.11290323</td><td> 0.028571429</td><td>⋯</td><td> 0.329166667</td><td>0.52941176</td><td>0.91578947</td><td>1.32500000</td><td> 0.114285714</td><td>0.2326087</td><td> 0.05000000</td><td> 0.072727273</td><td>0.22592593</td><td>0.5718519</td></tr>\n",
       "\t<tr><td>2018-04-01</td><td>0.10500000</td><td> 0.218750000</td><td> 0.070588235</td><td>-3.466666667</td><td>0.28888889</td><td> 0.238461538</td><td> 0.72857143</td><td> 0.13103448</td><td> 0.054545455</td><td>⋯</td><td> 0.333333333</td><td>0.54285714</td><td>1.49000000</td><td>1.70000000</td><td> 0.533333333</td><td>0.2279070</td><td> 0.06111111</td><td> 0.084210526</td><td>0.20000000</td><td>0.4988889</td></tr>\n",
       "\t<tr><td>2018-03-01</td><td>0.10000000</td><td> 0.260000000</td><td> 0.068421053</td><td>-2.650000000</td><td>0.36250000</td><td> 0.176470588</td><td> 0.55000000</td><td> 0.12758621</td><td> 0.046153846</td><td>⋯</td><td> 0.278260870</td><td>0.51538462</td><td>1.66000000</td><td>2.18571429</td><td> 0.200000000</td><td>0.2375000</td><td> 0.04500000</td><td> 0.106666667</td><td>0.25200000</td><td>0.4974074</td></tr>\n",
       "\t<tr><td>2018-02-01</td><td>0.11052632</td><td> 0.146666667</td><td> 0.086666667</td><td>-2.750000000</td><td>0.36250000</td><td> 0.216666667</td><td> 0.14000000</td><td> 0.11875000</td><td> 0.041666667</td><td>⋯</td><td> 0.422222222</td><td>0.50000000</td><td>1.15384615</td><td>2.20000000</td><td> 0.242857143</td><td>0.2500000</td><td> 0.05000000</td><td> 0.107142857</td><td>0.25000000</td><td>0.4962963</td></tr>\n",
       "\t<tr><td>2018-01-01</td><td>0.12105263</td><td> 0.116666667</td><td> 0.115384615</td><td>-0.740000000</td><td>0.23333333</td><td> 0.126666667</td><td>-0.78333333</td><td> 0.10555556</td><td> 0.100000000</td><td>⋯</td><td> 0.275000000</td><td>0.65000000</td><td>0.80666667</td><td>0.98750000</td><td> 0.154545455</td><td>0.2647059</td><td> 0.05000000</td><td> 0.082352941</td><td>0.21538462</td><td>0.4592593</td></tr>\n",
       "</tbody>\n",
       "</table>\n"
      ],
      "text/latex": [
       "A data.frame: 57 × 29\n",
       "\\begin{tabular}{lllllllllllllllllllll}\n",
       " Period & Austria & Belgium & Bulgaria & Cyprus & Czech.Republic & Germany & Denmark & Estonia & Spain & ⋯ & Latvia & Malta & Netherlands & Poland & Portugal & Romania & Sweden & Slovenia & Slovakia & average\\\\\n",
       " <date> & <dbl> & <dbl> & <dbl> & <dbl> & <dbl> & <dbl> & <dbl> & <dbl> & <dbl> & ⋯ & <dbl> & <dbl> & <dbl> & <dbl> & <dbl> & <dbl> & <dbl> & <dbl> & <dbl> & <dbl>\\\\\n",
       "\\hline\n",
       "\t 2022-09-01 & 0.07339450 &  0.069421488 &  0.007692308 &  0.012222222 & 0.34269663 &  0.077064220 &  0.10360360 &  0.03900415 &  0.017777778 & ⋯ &  0.028181818 & 0.07972973 & 0.10760234 & 0.34649682 &  0.005102041 & 0.4805970 &  0.16019417 &  0.010377358 & 0.05661765 & 1.2850000\\\\\n",
       "\t 2022-08-01 & 0.03978495 &  0.035238095 &  0.007333333 &  0.006250000 & 0.34970760 &  0.055681818 &  0.02525253 &  0.03293651 &  0.000952381 & ⋯ &  0.019158879 & 0.07714286 & 0.11167883 & 0.35270270 &  0.007526882 & 0.4676692 &  0.12736842 &  0.003478261 & 0.03582090 & 1.3492593\\\\\n",
       "\t 2022-07-01 & 0.02446809 &  0.010576923 &  0.006040268 &  0.004716981 & 0.34393064 &  0.036470588 & -0.04583333 &  0.02543103 &  0.002803738 & ⋯ &  0.005633803 & 0.07058824 & 0.13706897 & 0.34154930 &  0.009574468 & 0.4223077 &  0.10843373 &  0.002564103 & 0.01640625 & 1.1159259\\\\\n",
       "\t 2022-06-01 & 0.01379310 &  0.013333333 &  0.004054054 &  0.005555556 & 0.32349398 &  0.020731707 & -0.04945055 &  0.02227273 &  0.001000000 & ⋯ &  0.008333333 & 0.06393443 & 0.14848485 & 0.31690141 &  0.007777778 & 0.3361538 &  0.05955056 &  0.002777778 & 0.01269841 & 0.8903704\\\\\n",
       "\t 2022-05-01 & 0.01038961 &  0.007070707 &  0.002985075 &  0.005681818 & 0.29802632 &  0.016091954 & -0.06097561 &  0.02487562 &  0.001176471 & ⋯ &  0.009523810 & 0.06551724 & 0.12058824 & 0.26406250 &  0.004938272 & 0.2588710 &  0.05066667 &  0.004597701 & 0.01779661 & 0.7237037\\\\\n",
       "\t 2022-04-01 & 0.01408451 &  0.006451613 &  0.003305785 &  0.005813953 & 0.31590909 &  0.017948718 & -0.06891892 &  0.02303665 &  0.001204819 & ⋯ &  0.010687023 & 0.07407407 & 0.10267857 & 0.17807018 &  0.005405405 & 0.2188034 &  0.04848485 &  0.004054054 & 0.02201835 & 0.6200000\\\\\n",
       "\t 2022-03-01 & 0.01212121 &  0.007526882 &  0.003809524 &  0.008064516 & 0.29495798 &  0.015789474 & -0.09000000 &  0.03175676 &  0.001020408 & ⋯ &  0.028695652 & 0.09555556 & 0.09230769 & 0.14509804 &  0.007272727 & 0.2135417 &  0.03968254 &  0.005000000 & 0.02500000 & 0.5618519\\\\\n",
       "\t 2022-02-01 & 0.01636364 &  0.007368421 &  0.004761905 &  0.012068966 & 0.34700000 &  0.010909091 & -0.11132075 &  0.03534483 &  0.001315789 & ⋯ &  0.036363636 & 0.10000000 & 0.13698630 & 0.14814815 &  0.009090909 & 0.1936709 &  0.04318182 &  0.007142857 & 0.04337349 & 0.4574074\\\\\n",
       "\t 2022-01-01 & 0.02000000 &  0.017647059 &  0.005194805 &  0.012000000 & 0.31704545 &  0.021568627 & -0.11632653 &  0.04090909 &  0.001612903 & ⋯ &  0.033333333 & 0.09756098 & 0.12368421 & 0.11379310 &  0.011764706 & 0.1958333 &  0.05641026 &  0.006666667 & 0.03116883 & 0.4155556\\\\\n",
       "\t 2021-12-01 & 0.01842105 &  0.012121212 &  0.009090909 &  0.012500000 & 0.42962963 & -0.012280702 & -0.05588235 &  0.03500000 &  0.001515152 & ⋯ &  0.025316456 & 0.13461538 & 0.15625000 & 0.08625000 &  0.014285714 & 0.2074627 &  0.05111111 &  0.009803922 & 0.09803922 & 0.3807407\\\\\n",
       "\t 2021-11-01 & 0.02195122 &  0.011267606 &  0.007936508 &  0.012765957 & 0.42500000 &  0.015000000 & -0.06842105 &  0.02790698 &  0.001818182 & ⋯ &  0.018918919 & 0.15000000 & 0.17457627 & 0.05945946 &  0.015384615 & 0.1895522 &  0.05128205 &  0.030612245 & 0.10000000 & 0.3370370\\\\\n",
       "\t 2021-10-01 & 0.02105263 &  0.014814815 &  0.009615385 &  0.013636364 & 0.23958333 &  0.013043478 & -0.14062500 &  0.03088235 &  0.001851852 & ⋯ &  0.023333333 & 0.26428571 & 0.27027027 & 0.05468750 &  0.022222222 & 0.1769231 &  0.07878788 &  0.034285714 & 0.11818182 & 0.2881481\\\\\n",
       "\t 2021-09-01 & 0.02727273 &  0.034210526 &  0.010000000 &  0.016666667 & 0.16750000 & -0.002439024 &  0.33750000 &  0.04062500 &  0.002500000 & ⋯ &  0.051063830 & 0.55714286 & 0.34666667 & 0.05178571 &  0.030769231 & 0.2115385 &  0.07333333 &  0.048148148 & 0.10750000 & 0.3159259\\\\\n",
       "\t 2021-08-01 & 0.03125000 &  0.034042553 &  0.020000000 &  0.021212121 & 0.18387097 &  0.005882353 &  0.12777778 &  0.06000000 &  0.003030303 & ⋯ &  0.097222222 & 1.02500000 & 0.35185185 & 0.04600000 &  0.038461538 & 0.2850000 &  0.07200000 &  0.066666667 & 0.16666667 & 0.2733333\\\\\n",
       "\t 2021-07-01 & 0.03571429 &  0.100000000 &  0.013636364 &  0.025925926 & 0.10740741 &  0.006451613 & -0.25882353 &  0.05102041 &  0.003448276 & ⋯ &  0.125000000 & 1.46666667 & 0.72857143 & 0.04680851 &  0.045454545 & 0.2947368 &  0.11111111 &  0.060000000 & 0.21724138 & 0.2396296\\\\\n",
       "\t 2021-06-01 & 0.03928571 &  0.069230769 &  0.020833333 &  0.031818182 & 0.12000000 & -0.019047619 & -0.28421053 &  0.08918919 &  0.004000000 & ⋯ &  0.148148148 & 2.25000000 & 0.60000000 & 0.05365854 & -0.083333333 & 0.3085714 &  0.12777778 &  0.070588235 & 0.18400000 & 0.2388889\\\\\n",
       "\t 2021-05-01 & 0.03333333 &  0.068000000 &  0.026086957 &  0.046666667 & 0.12222222 &  0.004166667 & -0.12631579 &  0.15312500 &  0.004166667 & ⋯ &  0.196153846 & 2.35000000 & 0.44000000 & 0.04565217 &  0.100000000 & 0.3406250 &  0.08750000 &  0.063636364 & 0.27000000 & 0.2570370\\\\\n",
       "\t 2021-04-01 & 0.07368421 &  0.100000000 &  0.025000000 &  0.058333333 & 0.07419355 &  0.028571429 & -0.35333333 &  0.32500000 &  0.005000000 & ⋯ &  0.117647059 & 4.70000000 & 0.56470588 & 0.03725490 & -0.500000000 & 0.3962963 &  0.13214286 &  0.054545455 & 0.26470588 & 0.2492593\\\\\n",
       "\t 2021-03-01 & 0.07500000 &  0.112500000 &  0.062500000 &  0.266666667 & 0.11304348 &  0.030000000 & -0.22222222 &  0.61111111 &  0.008333333 & ⋯ &  1.333333333 & 4.60000000 & 0.48947368 & 0.04545455 &  0.500000000 & 0.4640000 &  0.13809524 &  1.200000000 & 0.29333333 & 0.2707407\\\\\n",
       "\t 2021-02-01 & 0.10000000 &  0.466666667 &  0.350000000 & -0.088888889 & 0.12380952 &  0.043750000 & -0.56000000 &  1.06000000 & -0.100000000 & ⋯ & -2.800000000 & 4.90000000 & 0.51052632 & 0.07222222 &  0.200000000 & 0.4840000 &  0.19444444 & -0.127272727 & 0.60000000 & 0.2855556\\\\\n",
       "\t 2021-01-01 & 0.16363636 &  0.316666667 & -0.266666667 & -0.100000000 & 0.11363636 &  0.018750000 & -0.85000000 &  1.80000000 &  0.025000000 & ⋯ & -0.540000000 & 2.60000000 & 0.61250000 & 0.09444444 &  0.350000000 & 0.6950000 &  0.19473684 & -0.122222222 & 0.74285714 & 0.2829630\\\\\n",
       "\t 2020-12-01 & 0.23000000 &  1.025000000 &          Inf & -0.100000000 & 0.11666667 &  0.014285714 & -0.45000000 & -0.54444444 & -0.016666667 & ⋯ & -0.420000000 & 2.60000000 & 1.04444444 & 0.15000000 & -0.200000000 & 0.8388889 &  0.50000000 & -0.108333333 & 0.30625000 & 0.2781481\\\\\n",
       "\t 2020-11-01 & 0.12727273 &  1.400000000 &  0.233333333 & -0.081818182 & 0.13571429 & -0.157142857 &  0.15000000 & -0.45000000 & -0.137500000 & ⋯ & -0.271428571 & 2.75000000 & 1.47142857 & 0.12162162 & -0.175000000 & 0.8705882 &  1.10000000 & -0.136363636 & 0.30625000 & 0.3044444\\\\\n",
       "\t 2020-10-01 & 0.12727273 &  0.275000000 &  0.133333333 & -0.064285714 & 0.10344828 & -0.200000000 & -0.63333333 & -0.32352941 & -0.011111111 & ⋯ & -0.471428571 & 0.93333333 & 0.81666667 & 0.11052632 & -0.133333333 & 0.8388889 &  0.60000000 & -0.300000000 & 0.38125000 & 0.3062963\\\\\n",
       "\t 2020-09-01 & 0.10833333 &  0.520000000 &  0.133333333 & -0.052631579 & 0.06969697 & -0.250000000 &  1.56000000 & -0.43846154 & -0.016666667 & ⋯ & -1.350000000 & 0.98000000 & 1.05000000 & 0.13157895 & -0.100000000 & 0.7333333 &  0.56666667 & -0.200000000 & 0.47142857 & 0.3592593\\\\\n",
       "\t 2020-08-01 & 0.08571429 & -0.233333333 &  0.133333333 & -0.034482759 & 0.07714286 & -1.600000000 &  1.25000000 & -0.44615385 & -0.033333333 & ⋯ & -0.880000000 & 0.60000000 & 3.20000000 & 0.08918919 & -0.400000000 & 0.6520000 &  0.34000000 & -0.242857143 & 0.41428571 & 0.3281481\\\\\n",
       "\t 2020-07-01 & 0.08333333 &  0.111764706 &  0.200000000 & -0.045000000 & 0.08888889 &          Inf & -0.20000000 & -0.42307692 & -0.042857143 & ⋯ &  5.300000000 & 0.71428571 & 0.63750000 & 0.09729730 & -0.800000000 & 0.6760000 &  0.47142857 & -0.566666667 & 0.33888889 & 0.3318519\\\\\n",
       "\t 2020-06-01 & 0.13636364 &  0.800000000 &  0.077777778 & -0.054545455 & 0.10882353 &  0.212500000 &  0.25000000 & -0.45625000 & -0.033333333 & ⋯ & -0.618181818 & 0.57000000 & 0.62352941 & 0.11842105 &  0.400000000 & 0.7727273 &  0.34444444 & -0.225000000 & 0.32222222 & 0.3792593\\\\\n",
       "\t 2020-05-01 & 0.18333333 & -0.400000000 &  0.070000000 & -0.092857143 & 0.12903226 &  0.380000000 &  0.05000000 & -0.45555556 & -0.011111111 & ⋯ & -0.700000000 & 0.61111111 & 0.95454545 & 0.18529412 & -0.133333333 & 0.9500000 &  3.10000000 & -0.142857143 & 0.26666667 & 0.3696296\\\\\n",
       "\t 2020-04-01 & 0.08666667 &          Inf &  0.061538462 & -0.100000000 & 0.16969697 &  0.175000000 &  1.70000000 & -0.85555556 & -0.014285714 & ⋯ & -4.700000000 & 0.41818182 & 1.06000000 & 0.32068966 & -0.800000000 & 0.7434783 & -1.55000000 & -0.161538462 & 0.19523810 & 0.3592593\\\\\n",
       "\t 2020-03-01 & 0.06250000 &  0.225000000 &  0.041666667 &  1.100000000 & 0.38333333 &  0.092307692 &  0.10000000 &  0.71000000 &  0.100000000 & ⋯ &  0.307142857 & 0.37500000 & 0.91818182 & 0.30769231 &  0.800000000 & 0.6370370 &  0.27500000 &  0.214285714 & 0.23333333 & 0.4311111\\\\\n",
       "\t 2020-02-01 & 0.05454545 &  0.090000000 &  0.029032258 &  0.140000000 & 0.45405405 &  0.088235294 &  0.24285714 &  0.39000000 &  0.011111111 & ⋯ &  0.130434783 & 0.40000000 & 0.77692308 & 0.29024390 &  0.160000000 & 0.6068966 &  0.18461538 &  0.020000000 & 0.27419355 & 0.4559259\\\\\n",
       "\t 2020-01-01 & 0.06363636 &  0.050000000 &  0.029411765 &  0.242857143 & 0.41315789 &  0.087500000 &  0.02500000 &  0.47500000 &  0.018181818 & ⋯ &  0.136363636 & 0.35714286 & 0.54705882 & 0.32631579 &  0.112500000 & 0.4743590 &  0.14000000 &  0.043478261 & 0.25625000 & 0.4455556\\\\\n",
       "\t 2019-12-01 & 0.07777778 &  0.111111111 &  0.038709677 &  0.228571429 & 0.46250000 &  0.053333333 &  0.20000000 &  0.45000000 &  0.025000000 & ⋯ &  0.252380952 & 0.38461538 & 0.38214286 & 0.40333333 &  0.175000000 & 0.4725000 &  0.11176471 &  0.090000000 & 0.23125000 & 0.4540741\\\\\n",
       "\t 2019-11-01 & 0.10833333 &  0.300000000 &  0.054545455 &  0.320000000 & 0.51000000 &  0.150000000 &  0.25000000 &  0.48333333 &  0.060000000 & ⋯ &  0.285000000 & 0.42307692 & 0.45000000 & 0.54166667 &  0.400000000 & 0.5210526 &  0.10555556 &  0.121428571 & 0.24062500 & 0.4674074\\\\\n",
       "\t 2019-10-01 & 0.16000000 &  0.550000000 &  0.075000000 & -0.240000000 & 0.60384615 &  0.188888889 &          NA &  0.58571429 &  0.150000000 & ⋯ &  0.340909091 & 0.37142857 & 0.42500000 & 0.57826087 & -0.800000000 & 0.6000000 &  0.11250000 &  0.106666667 & 0.28965517 & 0.4873077\\\\\n",
       "\t 2019-09-01 & 0.11666667 &  0.100000000 &  0.068750000 & -0.320000000 & 0.61923077 &  0.155555556 &  0.12500000 &  0.38181818 &  0.150000000 & ⋯ &  0.230434783 & 0.40625000 & 0.46666667 & 0.54166667 & -0.266666667 & 0.5171429 &  0.13076923 &  0.094117647 & 0.27333333 & 0.4903704\\\\\n",
       "\t 2019-08-01 & 0.10000000 &  0.122222222 &  0.048000000 &  0.283333333 & 0.60000000 &  0.150000000 &          NA &  0.39523810 &  0.075000000 & ⋯ &  0.116129032 & 0.31052632 & 0.41612903 & 0.50769231 & -1.000000000 & 0.4365854 &  0.10000000 &  0.066666667 & 0.23666667 & 0.4896154\\\\\n",
       "\t 2019-07-01 & 0.14285714 &  0.091666667 &  0.046153846 &  2.000000000 & 0.57692308 &  0.109090909 &  0.15000000 &  0.46000000 &  0.066666667 & ⋯ &  0.190000000 & 0.33888889 & 0.50000000 & 0.56000000 & -0.157142857 & 0.4317073 &  0.09333333 &  0.075000000 & 0.26000000 & 0.4974074\\\\\n",
       "\t 2019-06-01 & 0.12500000 &  0.123076923 &  0.056521739 &  1.066666667 & 0.63750000 &  0.066666667 &  0.16000000 &  0.27692308 &  0.066666667 & ⋯ &  0.203225806 & 0.32222222 & 0.51111111 & 0.60869565 &  0.171428571 & 0.4153846 &  0.10000000 &  0.089473684 & 0.21111111 & 0.5033333\\\\\n",
       "\t 2019-05-01 & 0.11176471 &  0.088235294 &  0.048275862 &  1.700000000 & 0.58076923 &  0.100000000 &  0.05714286 &  0.22258065 &  0.044444444 & ⋯ &  0.202857143 & 0.37647059 & 0.58260870 & 0.69090909 &  0.400000000 & 0.3727273 &  0.06666667 &  0.118750000 & 0.43703704 & 0.5200000\\\\\n",
       "\t 2019-04-01 & 0.11764706 &  0.105000000 &  0.041935484 &  0.283333333 & 0.57916667 &  0.138095238 &  0.16666667 &  0.18750000 &  0.025000000 & ⋯ &  0.190909091 & 0.31176471 & 0.41666667 & 0.74285714 &  0.133333333 & 0.3613636 &  0.08095238 &  0.088888889 & 0.43750000 & 0.5062963\\\\\n",
       "\t 2019-03-01 & 0.14117647 &  0.081818182 &  0.039285714 &  0.327272727 & 0.51923077 &  0.207142857 &          NA &  0.19545455 &  0.030769231 & ⋯ &  0.181481481 & 0.35384615 & 0.42413793 & 0.92941176 &  0.150000000 & 0.3738095 &  0.05555556 &  0.106250000 & 0.45185185 & 0.5034615\\\\\n",
       "\t 2019-02-01 & 0.17142857 &  0.080000000 &  0.050000000 &  0.475000000 & 0.56666667 &  0.170588235 &  0.09090909 &  0.23157895 &  0.036363636 & ⋯ &  0.164285714 & 0.43076923 & 0.46923077 & 1.33846154 &  0.144444444 & 0.3850000 &  0.03684211 &  0.138461538 & 0.51304348 & 0.5081481\\\\\n",
       "\t 2019-01-01 & 0.13529412 &  0.111111111 &  0.060869565 &  0.171428571 & 0.68500000 &  0.164705882 &          NA &  0.15357143 &  0.040000000 & ⋯ &  0.234482759 & 0.69000000 & 0.57000000 & 2.95000000 &  0.233333333 & 0.5000000 &  0.04500000 &  0.133333333 & 0.45000000 & 0.5373077\\\\\n",
       "\t 2018-12-01 & 0.12352941 &  0.081818182 &  0.078260870 &  0.400000000 & 0.81250000 &  0.164705882 & -0.11428571 &  0.13333333 &  0.041666667 & ⋯ &  0.264000000 & 0.54166667 & 0.71111111 & 2.03333333 &  0.233333333 & 0.5733333 &  0.04090909 &  0.121428571 & 0.52105263 & 0.5177778\\\\\n",
       "\t 2018-11-01 & 0.09130435 &  0.055172414 &  0.050000000 &  0.337500000 & 0.78750000 &  0.136363636 &  0.17142857 &  0.13437500 &  0.023529412 & ⋯ &  0.203448276 & 0.45000000 & 0.75555556 & 1.64545455 &  0.155555556 & 0.5406250 &  0.04285714 &  0.080952381 & 0.37500000 & 0.5162963\\\\\n",
       "\t 2018-10-01 & 0.08750000 &  0.050000000 &  0.038888889 &  0.284210526 & 0.53000000 &  0.107692308 &  0.15714286 &  0.08222222 &  0.017391304 & ⋯ &  0.175000000 & 0.32380952 & 0.73684211 & 1.07333333 &  0.187500000 & 0.4023810 &  0.03333333 &  0.069565217 & 0.32800000 & 0.4959259\\\\\n",
       "\t 2018-09-01 & 0.09047619 &  0.046428571 &  0.038888889 &  0.364705882 & 0.46666667 &  0.140909091 &          NA &  0.12857143 &  0.017391304 & ⋯ &  0.227272727 & 0.27200000 & 0.90625000 & 1.12000000 &  0.077777778 & 0.3276596 &  0.03200000 &  0.072727273 & 0.30370370 & 0.5161538\\\\\n",
       "\t 2018-08-01 & 0.08695652 &  0.057692308 &  0.040540541 &  0.494117647 & 0.39583333 &  0.142857143 &          NA &  0.12857143 &  0.018181818 & ⋯ &  0.246428571 & 0.21666667 & 0.71052632 & 1.12857143 &  0.100000000 & 0.3042553 &  0.03809524 &  0.090000000 & 0.23103448 & 0.4980769\\\\\n",
       "\t 2018-07-01 & 0.09130435 &  0.055555556 &  0.044444444 &  0.607142857 & 0.30909091 &  0.122727273 &  0.66666667 &  0.13636364 &  0.017391304 & ⋯ &  0.225925926 & 0.36666667 & 0.77894737 & 1.14285714 &  0.059090909 & 0.3093023 &  0.03181818 &  0.071428571 & 0.22692308 & 0.4914815\\\\\n",
       "\t 2018-06-01 & 0.08695652 &  0.073076923 &  0.046666667 &  0.558823529 & 0.24166667 &  0.142857143 &  0.99090909 &  0.09230769 &  0.021739130 & ⋯ &  0.211111111 & 0.45500000 & 0.91764706 & 1.15714286 &  0.075000000 & 0.2446809 &  0.04761905 &  0.069565217 & 0.20689655 & 0.5251852\\\\\n",
       "\t 2018-05-01 & 0.09523810 &  0.095652174 &  0.060869565 &  1.020000000 & 0.28000000 &  0.144000000 &  1.90000000 &  0.11290323 &  0.028571429 & ⋯ &  0.329166667 & 0.52941176 & 0.91578947 & 1.32500000 &  0.114285714 & 0.2326087 &  0.05000000 &  0.072727273 & 0.22592593 & 0.5718519\\\\\n",
       "\t 2018-04-01 & 0.10500000 &  0.218750000 &  0.070588235 & -3.466666667 & 0.28888889 &  0.238461538 &  0.72857143 &  0.13103448 &  0.054545455 & ⋯ &  0.333333333 & 0.54285714 & 1.49000000 & 1.70000000 &  0.533333333 & 0.2279070 &  0.06111111 &  0.084210526 & 0.20000000 & 0.4988889\\\\\n",
       "\t 2018-03-01 & 0.10000000 &  0.260000000 &  0.068421053 & -2.650000000 & 0.36250000 &  0.176470588 &  0.55000000 &  0.12758621 &  0.046153846 & ⋯ &  0.278260870 & 0.51538462 & 1.66000000 & 2.18571429 &  0.200000000 & 0.2375000 &  0.04500000 &  0.106666667 & 0.25200000 & 0.4974074\\\\\n",
       "\t 2018-02-01 & 0.11052632 &  0.146666667 &  0.086666667 & -2.750000000 & 0.36250000 &  0.216666667 &  0.14000000 &  0.11875000 &  0.041666667 & ⋯ &  0.422222222 & 0.50000000 & 1.15384615 & 2.20000000 &  0.242857143 & 0.2500000 &  0.05000000 &  0.107142857 & 0.25000000 & 0.4962963\\\\\n",
       "\t 2018-01-01 & 0.12105263 &  0.116666667 &  0.115384615 & -0.740000000 & 0.23333333 &  0.126666667 & -0.78333333 &  0.10555556 &  0.100000000 & ⋯ &  0.275000000 & 0.65000000 & 0.80666667 & 0.98750000 &  0.154545455 & 0.2647059 &  0.05000000 &  0.082352941 & 0.21538462 & 0.4592593\\\\\n",
       "\\end{tabular}\n"
      ],
      "text/markdown": [
       "\n",
       "A data.frame: 57 × 29\n",
       "\n",
       "| Period &lt;date&gt; | Austria &lt;dbl&gt; | Belgium &lt;dbl&gt; | Bulgaria &lt;dbl&gt; | Cyprus &lt;dbl&gt; | Czech.Republic &lt;dbl&gt; | Germany &lt;dbl&gt; | Denmark &lt;dbl&gt; | Estonia &lt;dbl&gt; | Spain &lt;dbl&gt; | ⋯ ⋯ | Latvia &lt;dbl&gt; | Malta &lt;dbl&gt; | Netherlands &lt;dbl&gt; | Poland &lt;dbl&gt; | Portugal &lt;dbl&gt; | Romania &lt;dbl&gt; | Sweden &lt;dbl&gt; | Slovenia &lt;dbl&gt; | Slovakia &lt;dbl&gt; | average &lt;dbl&gt; |\n",
       "|---|---|---|---|---|---|---|---|---|---|---|---|---|---|---|---|---|---|---|---|---|\n",
       "| 2022-09-01 | 0.07339450 |  0.069421488 |  0.007692308 |  0.012222222 | 0.34269663 |  0.077064220 |  0.10360360 |  0.03900415 |  0.017777778 | ⋯ |  0.028181818 | 0.07972973 | 0.10760234 | 0.34649682 |  0.005102041 | 0.4805970 |  0.16019417 |  0.010377358 | 0.05661765 | 1.2850000 |\n",
       "| 2022-08-01 | 0.03978495 |  0.035238095 |  0.007333333 |  0.006250000 | 0.34970760 |  0.055681818 |  0.02525253 |  0.03293651 |  0.000952381 | ⋯ |  0.019158879 | 0.07714286 | 0.11167883 | 0.35270270 |  0.007526882 | 0.4676692 |  0.12736842 |  0.003478261 | 0.03582090 | 1.3492593 |\n",
       "| 2022-07-01 | 0.02446809 |  0.010576923 |  0.006040268 |  0.004716981 | 0.34393064 |  0.036470588 | -0.04583333 |  0.02543103 |  0.002803738 | ⋯ |  0.005633803 | 0.07058824 | 0.13706897 | 0.34154930 |  0.009574468 | 0.4223077 |  0.10843373 |  0.002564103 | 0.01640625 | 1.1159259 |\n",
       "| 2022-06-01 | 0.01379310 |  0.013333333 |  0.004054054 |  0.005555556 | 0.32349398 |  0.020731707 | -0.04945055 |  0.02227273 |  0.001000000 | ⋯ |  0.008333333 | 0.06393443 | 0.14848485 | 0.31690141 |  0.007777778 | 0.3361538 |  0.05955056 |  0.002777778 | 0.01269841 | 0.8903704 |\n",
       "| 2022-05-01 | 0.01038961 |  0.007070707 |  0.002985075 |  0.005681818 | 0.29802632 |  0.016091954 | -0.06097561 |  0.02487562 |  0.001176471 | ⋯ |  0.009523810 | 0.06551724 | 0.12058824 | 0.26406250 |  0.004938272 | 0.2588710 |  0.05066667 |  0.004597701 | 0.01779661 | 0.7237037 |\n",
       "| 2022-04-01 | 0.01408451 |  0.006451613 |  0.003305785 |  0.005813953 | 0.31590909 |  0.017948718 | -0.06891892 |  0.02303665 |  0.001204819 | ⋯ |  0.010687023 | 0.07407407 | 0.10267857 | 0.17807018 |  0.005405405 | 0.2188034 |  0.04848485 |  0.004054054 | 0.02201835 | 0.6200000 |\n",
       "| 2022-03-01 | 0.01212121 |  0.007526882 |  0.003809524 |  0.008064516 | 0.29495798 |  0.015789474 | -0.09000000 |  0.03175676 |  0.001020408 | ⋯ |  0.028695652 | 0.09555556 | 0.09230769 | 0.14509804 |  0.007272727 | 0.2135417 |  0.03968254 |  0.005000000 | 0.02500000 | 0.5618519 |\n",
       "| 2022-02-01 | 0.01636364 |  0.007368421 |  0.004761905 |  0.012068966 | 0.34700000 |  0.010909091 | -0.11132075 |  0.03534483 |  0.001315789 | ⋯ |  0.036363636 | 0.10000000 | 0.13698630 | 0.14814815 |  0.009090909 | 0.1936709 |  0.04318182 |  0.007142857 | 0.04337349 | 0.4574074 |\n",
       "| 2022-01-01 | 0.02000000 |  0.017647059 |  0.005194805 |  0.012000000 | 0.31704545 |  0.021568627 | -0.11632653 |  0.04090909 |  0.001612903 | ⋯ |  0.033333333 | 0.09756098 | 0.12368421 | 0.11379310 |  0.011764706 | 0.1958333 |  0.05641026 |  0.006666667 | 0.03116883 | 0.4155556 |\n",
       "| 2021-12-01 | 0.01842105 |  0.012121212 |  0.009090909 |  0.012500000 | 0.42962963 | -0.012280702 | -0.05588235 |  0.03500000 |  0.001515152 | ⋯ |  0.025316456 | 0.13461538 | 0.15625000 | 0.08625000 |  0.014285714 | 0.2074627 |  0.05111111 |  0.009803922 | 0.09803922 | 0.3807407 |\n",
       "| 2021-11-01 | 0.02195122 |  0.011267606 |  0.007936508 |  0.012765957 | 0.42500000 |  0.015000000 | -0.06842105 |  0.02790698 |  0.001818182 | ⋯ |  0.018918919 | 0.15000000 | 0.17457627 | 0.05945946 |  0.015384615 | 0.1895522 |  0.05128205 |  0.030612245 | 0.10000000 | 0.3370370 |\n",
       "| 2021-10-01 | 0.02105263 |  0.014814815 |  0.009615385 |  0.013636364 | 0.23958333 |  0.013043478 | -0.14062500 |  0.03088235 |  0.001851852 | ⋯ |  0.023333333 | 0.26428571 | 0.27027027 | 0.05468750 |  0.022222222 | 0.1769231 |  0.07878788 |  0.034285714 | 0.11818182 | 0.2881481 |\n",
       "| 2021-09-01 | 0.02727273 |  0.034210526 |  0.010000000 |  0.016666667 | 0.16750000 | -0.002439024 |  0.33750000 |  0.04062500 |  0.002500000 | ⋯ |  0.051063830 | 0.55714286 | 0.34666667 | 0.05178571 |  0.030769231 | 0.2115385 |  0.07333333 |  0.048148148 | 0.10750000 | 0.3159259 |\n",
       "| 2021-08-01 | 0.03125000 |  0.034042553 |  0.020000000 |  0.021212121 | 0.18387097 |  0.005882353 |  0.12777778 |  0.06000000 |  0.003030303 | ⋯ |  0.097222222 | 1.02500000 | 0.35185185 | 0.04600000 |  0.038461538 | 0.2850000 |  0.07200000 |  0.066666667 | 0.16666667 | 0.2733333 |\n",
       "| 2021-07-01 | 0.03571429 |  0.100000000 |  0.013636364 |  0.025925926 | 0.10740741 |  0.006451613 | -0.25882353 |  0.05102041 |  0.003448276 | ⋯ |  0.125000000 | 1.46666667 | 0.72857143 | 0.04680851 |  0.045454545 | 0.2947368 |  0.11111111 |  0.060000000 | 0.21724138 | 0.2396296 |\n",
       "| 2021-06-01 | 0.03928571 |  0.069230769 |  0.020833333 |  0.031818182 | 0.12000000 | -0.019047619 | -0.28421053 |  0.08918919 |  0.004000000 | ⋯ |  0.148148148 | 2.25000000 | 0.60000000 | 0.05365854 | -0.083333333 | 0.3085714 |  0.12777778 |  0.070588235 | 0.18400000 | 0.2388889 |\n",
       "| 2021-05-01 | 0.03333333 |  0.068000000 |  0.026086957 |  0.046666667 | 0.12222222 |  0.004166667 | -0.12631579 |  0.15312500 |  0.004166667 | ⋯ |  0.196153846 | 2.35000000 | 0.44000000 | 0.04565217 |  0.100000000 | 0.3406250 |  0.08750000 |  0.063636364 | 0.27000000 | 0.2570370 |\n",
       "| 2021-04-01 | 0.07368421 |  0.100000000 |  0.025000000 |  0.058333333 | 0.07419355 |  0.028571429 | -0.35333333 |  0.32500000 |  0.005000000 | ⋯ |  0.117647059 | 4.70000000 | 0.56470588 | 0.03725490 | -0.500000000 | 0.3962963 |  0.13214286 |  0.054545455 | 0.26470588 | 0.2492593 |\n",
       "| 2021-03-01 | 0.07500000 |  0.112500000 |  0.062500000 |  0.266666667 | 0.11304348 |  0.030000000 | -0.22222222 |  0.61111111 |  0.008333333 | ⋯ |  1.333333333 | 4.60000000 | 0.48947368 | 0.04545455 |  0.500000000 | 0.4640000 |  0.13809524 |  1.200000000 | 0.29333333 | 0.2707407 |\n",
       "| 2021-02-01 | 0.10000000 |  0.466666667 |  0.350000000 | -0.088888889 | 0.12380952 |  0.043750000 | -0.56000000 |  1.06000000 | -0.100000000 | ⋯ | -2.800000000 | 4.90000000 | 0.51052632 | 0.07222222 |  0.200000000 | 0.4840000 |  0.19444444 | -0.127272727 | 0.60000000 | 0.2855556 |\n",
       "| 2021-01-01 | 0.16363636 |  0.316666667 | -0.266666667 | -0.100000000 | 0.11363636 |  0.018750000 | -0.85000000 |  1.80000000 |  0.025000000 | ⋯ | -0.540000000 | 2.60000000 | 0.61250000 | 0.09444444 |  0.350000000 | 0.6950000 |  0.19473684 | -0.122222222 | 0.74285714 | 0.2829630 |\n",
       "| 2020-12-01 | 0.23000000 |  1.025000000 |          Inf | -0.100000000 | 0.11666667 |  0.014285714 | -0.45000000 | -0.54444444 | -0.016666667 | ⋯ | -0.420000000 | 2.60000000 | 1.04444444 | 0.15000000 | -0.200000000 | 0.8388889 |  0.50000000 | -0.108333333 | 0.30625000 | 0.2781481 |\n",
       "| 2020-11-01 | 0.12727273 |  1.400000000 |  0.233333333 | -0.081818182 | 0.13571429 | -0.157142857 |  0.15000000 | -0.45000000 | -0.137500000 | ⋯ | -0.271428571 | 2.75000000 | 1.47142857 | 0.12162162 | -0.175000000 | 0.8705882 |  1.10000000 | -0.136363636 | 0.30625000 | 0.3044444 |\n",
       "| 2020-10-01 | 0.12727273 |  0.275000000 |  0.133333333 | -0.064285714 | 0.10344828 | -0.200000000 | -0.63333333 | -0.32352941 | -0.011111111 | ⋯ | -0.471428571 | 0.93333333 | 0.81666667 | 0.11052632 | -0.133333333 | 0.8388889 |  0.60000000 | -0.300000000 | 0.38125000 | 0.3062963 |\n",
       "| 2020-09-01 | 0.10833333 |  0.520000000 |  0.133333333 | -0.052631579 | 0.06969697 | -0.250000000 |  1.56000000 | -0.43846154 | -0.016666667 | ⋯ | -1.350000000 | 0.98000000 | 1.05000000 | 0.13157895 | -0.100000000 | 0.7333333 |  0.56666667 | -0.200000000 | 0.47142857 | 0.3592593 |\n",
       "| 2020-08-01 | 0.08571429 | -0.233333333 |  0.133333333 | -0.034482759 | 0.07714286 | -1.600000000 |  1.25000000 | -0.44615385 | -0.033333333 | ⋯ | -0.880000000 | 0.60000000 | 3.20000000 | 0.08918919 | -0.400000000 | 0.6520000 |  0.34000000 | -0.242857143 | 0.41428571 | 0.3281481 |\n",
       "| 2020-07-01 | 0.08333333 |  0.111764706 |  0.200000000 | -0.045000000 | 0.08888889 |          Inf | -0.20000000 | -0.42307692 | -0.042857143 | ⋯ |  5.300000000 | 0.71428571 | 0.63750000 | 0.09729730 | -0.800000000 | 0.6760000 |  0.47142857 | -0.566666667 | 0.33888889 | 0.3318519 |\n",
       "| 2020-06-01 | 0.13636364 |  0.800000000 |  0.077777778 | -0.054545455 | 0.10882353 |  0.212500000 |  0.25000000 | -0.45625000 | -0.033333333 | ⋯ | -0.618181818 | 0.57000000 | 0.62352941 | 0.11842105 |  0.400000000 | 0.7727273 |  0.34444444 | -0.225000000 | 0.32222222 | 0.3792593 |\n",
       "| 2020-05-01 | 0.18333333 | -0.400000000 |  0.070000000 | -0.092857143 | 0.12903226 |  0.380000000 |  0.05000000 | -0.45555556 | -0.011111111 | ⋯ | -0.700000000 | 0.61111111 | 0.95454545 | 0.18529412 | -0.133333333 | 0.9500000 |  3.10000000 | -0.142857143 | 0.26666667 | 0.3696296 |\n",
       "| 2020-04-01 | 0.08666667 |          Inf |  0.061538462 | -0.100000000 | 0.16969697 |  0.175000000 |  1.70000000 | -0.85555556 | -0.014285714 | ⋯ | -4.700000000 | 0.41818182 | 1.06000000 | 0.32068966 | -0.800000000 | 0.7434783 | -1.55000000 | -0.161538462 | 0.19523810 | 0.3592593 |\n",
       "| 2020-03-01 | 0.06250000 |  0.225000000 |  0.041666667 |  1.100000000 | 0.38333333 |  0.092307692 |  0.10000000 |  0.71000000 |  0.100000000 | ⋯ |  0.307142857 | 0.37500000 | 0.91818182 | 0.30769231 |  0.800000000 | 0.6370370 |  0.27500000 |  0.214285714 | 0.23333333 | 0.4311111 |\n",
       "| 2020-02-01 | 0.05454545 |  0.090000000 |  0.029032258 |  0.140000000 | 0.45405405 |  0.088235294 |  0.24285714 |  0.39000000 |  0.011111111 | ⋯ |  0.130434783 | 0.40000000 | 0.77692308 | 0.29024390 |  0.160000000 | 0.6068966 |  0.18461538 |  0.020000000 | 0.27419355 | 0.4559259 |\n",
       "| 2020-01-01 | 0.06363636 |  0.050000000 |  0.029411765 |  0.242857143 | 0.41315789 |  0.087500000 |  0.02500000 |  0.47500000 |  0.018181818 | ⋯ |  0.136363636 | 0.35714286 | 0.54705882 | 0.32631579 |  0.112500000 | 0.4743590 |  0.14000000 |  0.043478261 | 0.25625000 | 0.4455556 |\n",
       "| 2019-12-01 | 0.07777778 |  0.111111111 |  0.038709677 |  0.228571429 | 0.46250000 |  0.053333333 |  0.20000000 |  0.45000000 |  0.025000000 | ⋯ |  0.252380952 | 0.38461538 | 0.38214286 | 0.40333333 |  0.175000000 | 0.4725000 |  0.11176471 |  0.090000000 | 0.23125000 | 0.4540741 |\n",
       "| 2019-11-01 | 0.10833333 |  0.300000000 |  0.054545455 |  0.320000000 | 0.51000000 |  0.150000000 |  0.25000000 |  0.48333333 |  0.060000000 | ⋯ |  0.285000000 | 0.42307692 | 0.45000000 | 0.54166667 |  0.400000000 | 0.5210526 |  0.10555556 |  0.121428571 | 0.24062500 | 0.4674074 |\n",
       "| 2019-10-01 | 0.16000000 |  0.550000000 |  0.075000000 | -0.240000000 | 0.60384615 |  0.188888889 |          NA |  0.58571429 |  0.150000000 | ⋯ |  0.340909091 | 0.37142857 | 0.42500000 | 0.57826087 | -0.800000000 | 0.6000000 |  0.11250000 |  0.106666667 | 0.28965517 | 0.4873077 |\n",
       "| 2019-09-01 | 0.11666667 |  0.100000000 |  0.068750000 | -0.320000000 | 0.61923077 |  0.155555556 |  0.12500000 |  0.38181818 |  0.150000000 | ⋯ |  0.230434783 | 0.40625000 | 0.46666667 | 0.54166667 | -0.266666667 | 0.5171429 |  0.13076923 |  0.094117647 | 0.27333333 | 0.4903704 |\n",
       "| 2019-08-01 | 0.10000000 |  0.122222222 |  0.048000000 |  0.283333333 | 0.60000000 |  0.150000000 |          NA |  0.39523810 |  0.075000000 | ⋯ |  0.116129032 | 0.31052632 | 0.41612903 | 0.50769231 | -1.000000000 | 0.4365854 |  0.10000000 |  0.066666667 | 0.23666667 | 0.4896154 |\n",
       "| 2019-07-01 | 0.14285714 |  0.091666667 |  0.046153846 |  2.000000000 | 0.57692308 |  0.109090909 |  0.15000000 |  0.46000000 |  0.066666667 | ⋯ |  0.190000000 | 0.33888889 | 0.50000000 | 0.56000000 | -0.157142857 | 0.4317073 |  0.09333333 |  0.075000000 | 0.26000000 | 0.4974074 |\n",
       "| 2019-06-01 | 0.12500000 |  0.123076923 |  0.056521739 |  1.066666667 | 0.63750000 |  0.066666667 |  0.16000000 |  0.27692308 |  0.066666667 | ⋯ |  0.203225806 | 0.32222222 | 0.51111111 | 0.60869565 |  0.171428571 | 0.4153846 |  0.10000000 |  0.089473684 | 0.21111111 | 0.5033333 |\n",
       "| 2019-05-01 | 0.11176471 |  0.088235294 |  0.048275862 |  1.700000000 | 0.58076923 |  0.100000000 |  0.05714286 |  0.22258065 |  0.044444444 | ⋯ |  0.202857143 | 0.37647059 | 0.58260870 | 0.69090909 |  0.400000000 | 0.3727273 |  0.06666667 |  0.118750000 | 0.43703704 | 0.5200000 |\n",
       "| 2019-04-01 | 0.11764706 |  0.105000000 |  0.041935484 |  0.283333333 | 0.57916667 |  0.138095238 |  0.16666667 |  0.18750000 |  0.025000000 | ⋯ |  0.190909091 | 0.31176471 | 0.41666667 | 0.74285714 |  0.133333333 | 0.3613636 |  0.08095238 |  0.088888889 | 0.43750000 | 0.5062963 |\n",
       "| 2019-03-01 | 0.14117647 |  0.081818182 |  0.039285714 |  0.327272727 | 0.51923077 |  0.207142857 |          NA |  0.19545455 |  0.030769231 | ⋯ |  0.181481481 | 0.35384615 | 0.42413793 | 0.92941176 |  0.150000000 | 0.3738095 |  0.05555556 |  0.106250000 | 0.45185185 | 0.5034615 |\n",
       "| 2019-02-01 | 0.17142857 |  0.080000000 |  0.050000000 |  0.475000000 | 0.56666667 |  0.170588235 |  0.09090909 |  0.23157895 |  0.036363636 | ⋯ |  0.164285714 | 0.43076923 | 0.46923077 | 1.33846154 |  0.144444444 | 0.3850000 |  0.03684211 |  0.138461538 | 0.51304348 | 0.5081481 |\n",
       "| 2019-01-01 | 0.13529412 |  0.111111111 |  0.060869565 |  0.171428571 | 0.68500000 |  0.164705882 |          NA |  0.15357143 |  0.040000000 | ⋯ |  0.234482759 | 0.69000000 | 0.57000000 | 2.95000000 |  0.233333333 | 0.5000000 |  0.04500000 |  0.133333333 | 0.45000000 | 0.5373077 |\n",
       "| 2018-12-01 | 0.12352941 |  0.081818182 |  0.078260870 |  0.400000000 | 0.81250000 |  0.164705882 | -0.11428571 |  0.13333333 |  0.041666667 | ⋯ |  0.264000000 | 0.54166667 | 0.71111111 | 2.03333333 |  0.233333333 | 0.5733333 |  0.04090909 |  0.121428571 | 0.52105263 | 0.5177778 |\n",
       "| 2018-11-01 | 0.09130435 |  0.055172414 |  0.050000000 |  0.337500000 | 0.78750000 |  0.136363636 |  0.17142857 |  0.13437500 |  0.023529412 | ⋯ |  0.203448276 | 0.45000000 | 0.75555556 | 1.64545455 |  0.155555556 | 0.5406250 |  0.04285714 |  0.080952381 | 0.37500000 | 0.5162963 |\n",
       "| 2018-10-01 | 0.08750000 |  0.050000000 |  0.038888889 |  0.284210526 | 0.53000000 |  0.107692308 |  0.15714286 |  0.08222222 |  0.017391304 | ⋯ |  0.175000000 | 0.32380952 | 0.73684211 | 1.07333333 |  0.187500000 | 0.4023810 |  0.03333333 |  0.069565217 | 0.32800000 | 0.4959259 |\n",
       "| 2018-09-01 | 0.09047619 |  0.046428571 |  0.038888889 |  0.364705882 | 0.46666667 |  0.140909091 |          NA |  0.12857143 |  0.017391304 | ⋯ |  0.227272727 | 0.27200000 | 0.90625000 | 1.12000000 |  0.077777778 | 0.3276596 |  0.03200000 |  0.072727273 | 0.30370370 | 0.5161538 |\n",
       "| 2018-08-01 | 0.08695652 |  0.057692308 |  0.040540541 |  0.494117647 | 0.39583333 |  0.142857143 |          NA |  0.12857143 |  0.018181818 | ⋯ |  0.246428571 | 0.21666667 | 0.71052632 | 1.12857143 |  0.100000000 | 0.3042553 |  0.03809524 |  0.090000000 | 0.23103448 | 0.4980769 |\n",
       "| 2018-07-01 | 0.09130435 |  0.055555556 |  0.044444444 |  0.607142857 | 0.30909091 |  0.122727273 |  0.66666667 |  0.13636364 |  0.017391304 | ⋯ |  0.225925926 | 0.36666667 | 0.77894737 | 1.14285714 |  0.059090909 | 0.3093023 |  0.03181818 |  0.071428571 | 0.22692308 | 0.4914815 |\n",
       "| 2018-06-01 | 0.08695652 |  0.073076923 |  0.046666667 |  0.558823529 | 0.24166667 |  0.142857143 |  0.99090909 |  0.09230769 |  0.021739130 | ⋯ |  0.211111111 | 0.45500000 | 0.91764706 | 1.15714286 |  0.075000000 | 0.2446809 |  0.04761905 |  0.069565217 | 0.20689655 | 0.5251852 |\n",
       "| 2018-05-01 | 0.09523810 |  0.095652174 |  0.060869565 |  1.020000000 | 0.28000000 |  0.144000000 |  1.90000000 |  0.11290323 |  0.028571429 | ⋯ |  0.329166667 | 0.52941176 | 0.91578947 | 1.32500000 |  0.114285714 | 0.2326087 |  0.05000000 |  0.072727273 | 0.22592593 | 0.5718519 |\n",
       "| 2018-04-01 | 0.10500000 |  0.218750000 |  0.070588235 | -3.466666667 | 0.28888889 |  0.238461538 |  0.72857143 |  0.13103448 |  0.054545455 | ⋯ |  0.333333333 | 0.54285714 | 1.49000000 | 1.70000000 |  0.533333333 | 0.2279070 |  0.06111111 |  0.084210526 | 0.20000000 | 0.4988889 |\n",
       "| 2018-03-01 | 0.10000000 |  0.260000000 |  0.068421053 | -2.650000000 | 0.36250000 |  0.176470588 |  0.55000000 |  0.12758621 |  0.046153846 | ⋯ |  0.278260870 | 0.51538462 | 1.66000000 | 2.18571429 |  0.200000000 | 0.2375000 |  0.04500000 |  0.106666667 | 0.25200000 | 0.4974074 |\n",
       "| 2018-02-01 | 0.11052632 |  0.146666667 |  0.086666667 | -2.750000000 | 0.36250000 |  0.216666667 |  0.14000000 |  0.11875000 |  0.041666667 | ⋯ |  0.422222222 | 0.50000000 | 1.15384615 | 2.20000000 |  0.242857143 | 0.2500000 |  0.05000000 |  0.107142857 | 0.25000000 | 0.4962963 |\n",
       "| 2018-01-01 | 0.12105263 |  0.116666667 |  0.115384615 | -0.740000000 | 0.23333333 |  0.126666667 | -0.78333333 |  0.10555556 |  0.100000000 | ⋯ |  0.275000000 | 0.65000000 | 0.80666667 | 0.98750000 |  0.154545455 | 0.2647059 |  0.05000000 |  0.082352941 | 0.21538462 | 0.4592593 |\n",
       "\n"
      ],
      "text/plain": [
       "   Period     Austria    Belgium      Bulgaria     Cyprus       Czech.Republic\n",
       "1  2022-09-01 0.07339450  0.069421488  0.007692308  0.012222222 0.34269663    \n",
       "2  2022-08-01 0.03978495  0.035238095  0.007333333  0.006250000 0.34970760    \n",
       "3  2022-07-01 0.02446809  0.010576923  0.006040268  0.004716981 0.34393064    \n",
       "4  2022-06-01 0.01379310  0.013333333  0.004054054  0.005555556 0.32349398    \n",
       "5  2022-05-01 0.01038961  0.007070707  0.002985075  0.005681818 0.29802632    \n",
       "6  2022-04-01 0.01408451  0.006451613  0.003305785  0.005813953 0.31590909    \n",
       "7  2022-03-01 0.01212121  0.007526882  0.003809524  0.008064516 0.29495798    \n",
       "8  2022-02-01 0.01636364  0.007368421  0.004761905  0.012068966 0.34700000    \n",
       "9  2022-01-01 0.02000000  0.017647059  0.005194805  0.012000000 0.31704545    \n",
       "10 2021-12-01 0.01842105  0.012121212  0.009090909  0.012500000 0.42962963    \n",
       "11 2021-11-01 0.02195122  0.011267606  0.007936508  0.012765957 0.42500000    \n",
       "12 2021-10-01 0.02105263  0.014814815  0.009615385  0.013636364 0.23958333    \n",
       "13 2021-09-01 0.02727273  0.034210526  0.010000000  0.016666667 0.16750000    \n",
       "14 2021-08-01 0.03125000  0.034042553  0.020000000  0.021212121 0.18387097    \n",
       "15 2021-07-01 0.03571429  0.100000000  0.013636364  0.025925926 0.10740741    \n",
       "16 2021-06-01 0.03928571  0.069230769  0.020833333  0.031818182 0.12000000    \n",
       "17 2021-05-01 0.03333333  0.068000000  0.026086957  0.046666667 0.12222222    \n",
       "18 2021-04-01 0.07368421  0.100000000  0.025000000  0.058333333 0.07419355    \n",
       "19 2021-03-01 0.07500000  0.112500000  0.062500000  0.266666667 0.11304348    \n",
       "20 2021-02-01 0.10000000  0.466666667  0.350000000 -0.088888889 0.12380952    \n",
       "21 2021-01-01 0.16363636  0.316666667 -0.266666667 -0.100000000 0.11363636    \n",
       "22 2020-12-01 0.23000000  1.025000000          Inf -0.100000000 0.11666667    \n",
       "23 2020-11-01 0.12727273  1.400000000  0.233333333 -0.081818182 0.13571429    \n",
       "24 2020-10-01 0.12727273  0.275000000  0.133333333 -0.064285714 0.10344828    \n",
       "25 2020-09-01 0.10833333  0.520000000  0.133333333 -0.052631579 0.06969697    \n",
       "26 2020-08-01 0.08571429 -0.233333333  0.133333333 -0.034482759 0.07714286    \n",
       "27 2020-07-01 0.08333333  0.111764706  0.200000000 -0.045000000 0.08888889    \n",
       "28 2020-06-01 0.13636364  0.800000000  0.077777778 -0.054545455 0.10882353    \n",
       "29 2020-05-01 0.18333333 -0.400000000  0.070000000 -0.092857143 0.12903226    \n",
       "30 2020-04-01 0.08666667          Inf  0.061538462 -0.100000000 0.16969697    \n",
       "31 2020-03-01 0.06250000  0.225000000  0.041666667  1.100000000 0.38333333    \n",
       "32 2020-02-01 0.05454545  0.090000000  0.029032258  0.140000000 0.45405405    \n",
       "33 2020-01-01 0.06363636  0.050000000  0.029411765  0.242857143 0.41315789    \n",
       "34 2019-12-01 0.07777778  0.111111111  0.038709677  0.228571429 0.46250000    \n",
       "35 2019-11-01 0.10833333  0.300000000  0.054545455  0.320000000 0.51000000    \n",
       "36 2019-10-01 0.16000000  0.550000000  0.075000000 -0.240000000 0.60384615    \n",
       "37 2019-09-01 0.11666667  0.100000000  0.068750000 -0.320000000 0.61923077    \n",
       "38 2019-08-01 0.10000000  0.122222222  0.048000000  0.283333333 0.60000000    \n",
       "39 2019-07-01 0.14285714  0.091666667  0.046153846  2.000000000 0.57692308    \n",
       "40 2019-06-01 0.12500000  0.123076923  0.056521739  1.066666667 0.63750000    \n",
       "41 2019-05-01 0.11176471  0.088235294  0.048275862  1.700000000 0.58076923    \n",
       "42 2019-04-01 0.11764706  0.105000000  0.041935484  0.283333333 0.57916667    \n",
       "43 2019-03-01 0.14117647  0.081818182  0.039285714  0.327272727 0.51923077    \n",
       "44 2019-02-01 0.17142857  0.080000000  0.050000000  0.475000000 0.56666667    \n",
       "45 2019-01-01 0.13529412  0.111111111  0.060869565  0.171428571 0.68500000    \n",
       "46 2018-12-01 0.12352941  0.081818182  0.078260870  0.400000000 0.81250000    \n",
       "47 2018-11-01 0.09130435  0.055172414  0.050000000  0.337500000 0.78750000    \n",
       "48 2018-10-01 0.08750000  0.050000000  0.038888889  0.284210526 0.53000000    \n",
       "49 2018-09-01 0.09047619  0.046428571  0.038888889  0.364705882 0.46666667    \n",
       "50 2018-08-01 0.08695652  0.057692308  0.040540541  0.494117647 0.39583333    \n",
       "51 2018-07-01 0.09130435  0.055555556  0.044444444  0.607142857 0.30909091    \n",
       "52 2018-06-01 0.08695652  0.073076923  0.046666667  0.558823529 0.24166667    \n",
       "53 2018-05-01 0.09523810  0.095652174  0.060869565  1.020000000 0.28000000    \n",
       "54 2018-04-01 0.10500000  0.218750000  0.070588235 -3.466666667 0.28888889    \n",
       "55 2018-03-01 0.10000000  0.260000000  0.068421053 -2.650000000 0.36250000    \n",
       "56 2018-02-01 0.11052632  0.146666667  0.086666667 -2.750000000 0.36250000    \n",
       "57 2018-01-01 0.12105263  0.116666667  0.115384615 -0.740000000 0.23333333    \n",
       "   Germany      Denmark     Estonia     Spain        ⋯ Latvia       Malta     \n",
       "1   0.077064220  0.10360360  0.03900415  0.017777778 ⋯  0.028181818 0.07972973\n",
       "2   0.055681818  0.02525253  0.03293651  0.000952381 ⋯  0.019158879 0.07714286\n",
       "3   0.036470588 -0.04583333  0.02543103  0.002803738 ⋯  0.005633803 0.07058824\n",
       "4   0.020731707 -0.04945055  0.02227273  0.001000000 ⋯  0.008333333 0.06393443\n",
       "5   0.016091954 -0.06097561  0.02487562  0.001176471 ⋯  0.009523810 0.06551724\n",
       "6   0.017948718 -0.06891892  0.02303665  0.001204819 ⋯  0.010687023 0.07407407\n",
       "7   0.015789474 -0.09000000  0.03175676  0.001020408 ⋯  0.028695652 0.09555556\n",
       "8   0.010909091 -0.11132075  0.03534483  0.001315789 ⋯  0.036363636 0.10000000\n",
       "9   0.021568627 -0.11632653  0.04090909  0.001612903 ⋯  0.033333333 0.09756098\n",
       "10 -0.012280702 -0.05588235  0.03500000  0.001515152 ⋯  0.025316456 0.13461538\n",
       "11  0.015000000 -0.06842105  0.02790698  0.001818182 ⋯  0.018918919 0.15000000\n",
       "12  0.013043478 -0.14062500  0.03088235  0.001851852 ⋯  0.023333333 0.26428571\n",
       "13 -0.002439024  0.33750000  0.04062500  0.002500000 ⋯  0.051063830 0.55714286\n",
       "14  0.005882353  0.12777778  0.06000000  0.003030303 ⋯  0.097222222 1.02500000\n",
       "15  0.006451613 -0.25882353  0.05102041  0.003448276 ⋯  0.125000000 1.46666667\n",
       "16 -0.019047619 -0.28421053  0.08918919  0.004000000 ⋯  0.148148148 2.25000000\n",
       "17  0.004166667 -0.12631579  0.15312500  0.004166667 ⋯  0.196153846 2.35000000\n",
       "18  0.028571429 -0.35333333  0.32500000  0.005000000 ⋯  0.117647059 4.70000000\n",
       "19  0.030000000 -0.22222222  0.61111111  0.008333333 ⋯  1.333333333 4.60000000\n",
       "20  0.043750000 -0.56000000  1.06000000 -0.100000000 ⋯ -2.800000000 4.90000000\n",
       "21  0.018750000 -0.85000000  1.80000000  0.025000000 ⋯ -0.540000000 2.60000000\n",
       "22  0.014285714 -0.45000000 -0.54444444 -0.016666667 ⋯ -0.420000000 2.60000000\n",
       "23 -0.157142857  0.15000000 -0.45000000 -0.137500000 ⋯ -0.271428571 2.75000000\n",
       "24 -0.200000000 -0.63333333 -0.32352941 -0.011111111 ⋯ -0.471428571 0.93333333\n",
       "25 -0.250000000  1.56000000 -0.43846154 -0.016666667 ⋯ -1.350000000 0.98000000\n",
       "26 -1.600000000  1.25000000 -0.44615385 -0.033333333 ⋯ -0.880000000 0.60000000\n",
       "27          Inf -0.20000000 -0.42307692 -0.042857143 ⋯  5.300000000 0.71428571\n",
       "28  0.212500000  0.25000000 -0.45625000 -0.033333333 ⋯ -0.618181818 0.57000000\n",
       "29  0.380000000  0.05000000 -0.45555556 -0.011111111 ⋯ -0.700000000 0.61111111\n",
       "30  0.175000000  1.70000000 -0.85555556 -0.014285714 ⋯ -4.700000000 0.41818182\n",
       "31  0.092307692  0.10000000  0.71000000  0.100000000 ⋯  0.307142857 0.37500000\n",
       "32  0.088235294  0.24285714  0.39000000  0.011111111 ⋯  0.130434783 0.40000000\n",
       "33  0.087500000  0.02500000  0.47500000  0.018181818 ⋯  0.136363636 0.35714286\n",
       "34  0.053333333  0.20000000  0.45000000  0.025000000 ⋯  0.252380952 0.38461538\n",
       "35  0.150000000  0.25000000  0.48333333  0.060000000 ⋯  0.285000000 0.42307692\n",
       "36  0.188888889          NA  0.58571429  0.150000000 ⋯  0.340909091 0.37142857\n",
       "37  0.155555556  0.12500000  0.38181818  0.150000000 ⋯  0.230434783 0.40625000\n",
       "38  0.150000000          NA  0.39523810  0.075000000 ⋯  0.116129032 0.31052632\n",
       "39  0.109090909  0.15000000  0.46000000  0.066666667 ⋯  0.190000000 0.33888889\n",
       "40  0.066666667  0.16000000  0.27692308  0.066666667 ⋯  0.203225806 0.32222222\n",
       "41  0.100000000  0.05714286  0.22258065  0.044444444 ⋯  0.202857143 0.37647059\n",
       "42  0.138095238  0.16666667  0.18750000  0.025000000 ⋯  0.190909091 0.31176471\n",
       "43  0.207142857          NA  0.19545455  0.030769231 ⋯  0.181481481 0.35384615\n",
       "44  0.170588235  0.09090909  0.23157895  0.036363636 ⋯  0.164285714 0.43076923\n",
       "45  0.164705882          NA  0.15357143  0.040000000 ⋯  0.234482759 0.69000000\n",
       "46  0.164705882 -0.11428571  0.13333333  0.041666667 ⋯  0.264000000 0.54166667\n",
       "47  0.136363636  0.17142857  0.13437500  0.023529412 ⋯  0.203448276 0.45000000\n",
       "48  0.107692308  0.15714286  0.08222222  0.017391304 ⋯  0.175000000 0.32380952\n",
       "49  0.140909091          NA  0.12857143  0.017391304 ⋯  0.227272727 0.27200000\n",
       "50  0.142857143          NA  0.12857143  0.018181818 ⋯  0.246428571 0.21666667\n",
       "51  0.122727273  0.66666667  0.13636364  0.017391304 ⋯  0.225925926 0.36666667\n",
       "52  0.142857143  0.99090909  0.09230769  0.021739130 ⋯  0.211111111 0.45500000\n",
       "53  0.144000000  1.90000000  0.11290323  0.028571429 ⋯  0.329166667 0.52941176\n",
       "54  0.238461538  0.72857143  0.13103448  0.054545455 ⋯  0.333333333 0.54285714\n",
       "55  0.176470588  0.55000000  0.12758621  0.046153846 ⋯  0.278260870 0.51538462\n",
       "56  0.216666667  0.14000000  0.11875000  0.041666667 ⋯  0.422222222 0.50000000\n",
       "57  0.126666667 -0.78333333  0.10555556  0.100000000 ⋯  0.275000000 0.65000000\n",
       "   Netherlands Poland     Portugal     Romania   Sweden      Slovenia    \n",
       "1  0.10760234  0.34649682  0.005102041 0.4805970  0.16019417  0.010377358\n",
       "2  0.11167883  0.35270270  0.007526882 0.4676692  0.12736842  0.003478261\n",
       "3  0.13706897  0.34154930  0.009574468 0.4223077  0.10843373  0.002564103\n",
       "4  0.14848485  0.31690141  0.007777778 0.3361538  0.05955056  0.002777778\n",
       "5  0.12058824  0.26406250  0.004938272 0.2588710  0.05066667  0.004597701\n",
       "6  0.10267857  0.17807018  0.005405405 0.2188034  0.04848485  0.004054054\n",
       "7  0.09230769  0.14509804  0.007272727 0.2135417  0.03968254  0.005000000\n",
       "8  0.13698630  0.14814815  0.009090909 0.1936709  0.04318182  0.007142857\n",
       "9  0.12368421  0.11379310  0.011764706 0.1958333  0.05641026  0.006666667\n",
       "10 0.15625000  0.08625000  0.014285714 0.2074627  0.05111111  0.009803922\n",
       "11 0.17457627  0.05945946  0.015384615 0.1895522  0.05128205  0.030612245\n",
       "12 0.27027027  0.05468750  0.022222222 0.1769231  0.07878788  0.034285714\n",
       "13 0.34666667  0.05178571  0.030769231 0.2115385  0.07333333  0.048148148\n",
       "14 0.35185185  0.04600000  0.038461538 0.2850000  0.07200000  0.066666667\n",
       "15 0.72857143  0.04680851  0.045454545 0.2947368  0.11111111  0.060000000\n",
       "16 0.60000000  0.05365854 -0.083333333 0.3085714  0.12777778  0.070588235\n",
       "17 0.44000000  0.04565217  0.100000000 0.3406250  0.08750000  0.063636364\n",
       "18 0.56470588  0.03725490 -0.500000000 0.3962963  0.13214286  0.054545455\n",
       "19 0.48947368  0.04545455  0.500000000 0.4640000  0.13809524  1.200000000\n",
       "20 0.51052632  0.07222222  0.200000000 0.4840000  0.19444444 -0.127272727\n",
       "21 0.61250000  0.09444444  0.350000000 0.6950000  0.19473684 -0.122222222\n",
       "22 1.04444444  0.15000000 -0.200000000 0.8388889  0.50000000 -0.108333333\n",
       "23 1.47142857  0.12162162 -0.175000000 0.8705882  1.10000000 -0.136363636\n",
       "24 0.81666667  0.11052632 -0.133333333 0.8388889  0.60000000 -0.300000000\n",
       "25 1.05000000  0.13157895 -0.100000000 0.7333333  0.56666667 -0.200000000\n",
       "26 3.20000000  0.08918919 -0.400000000 0.6520000  0.34000000 -0.242857143\n",
       "27 0.63750000  0.09729730 -0.800000000 0.6760000  0.47142857 -0.566666667\n",
       "28 0.62352941  0.11842105  0.400000000 0.7727273  0.34444444 -0.225000000\n",
       "29 0.95454545  0.18529412 -0.133333333 0.9500000  3.10000000 -0.142857143\n",
       "30 1.06000000  0.32068966 -0.800000000 0.7434783 -1.55000000 -0.161538462\n",
       "31 0.91818182  0.30769231  0.800000000 0.6370370  0.27500000  0.214285714\n",
       "32 0.77692308  0.29024390  0.160000000 0.6068966  0.18461538  0.020000000\n",
       "33 0.54705882  0.32631579  0.112500000 0.4743590  0.14000000  0.043478261\n",
       "34 0.38214286  0.40333333  0.175000000 0.4725000  0.11176471  0.090000000\n",
       "35 0.45000000  0.54166667  0.400000000 0.5210526  0.10555556  0.121428571\n",
       "36 0.42500000  0.57826087 -0.800000000 0.6000000  0.11250000  0.106666667\n",
       "37 0.46666667  0.54166667 -0.266666667 0.5171429  0.13076923  0.094117647\n",
       "38 0.41612903  0.50769231 -1.000000000 0.4365854  0.10000000  0.066666667\n",
       "39 0.50000000  0.56000000 -0.157142857 0.4317073  0.09333333  0.075000000\n",
       "40 0.51111111  0.60869565  0.171428571 0.4153846  0.10000000  0.089473684\n",
       "41 0.58260870  0.69090909  0.400000000 0.3727273  0.06666667  0.118750000\n",
       "42 0.41666667  0.74285714  0.133333333 0.3613636  0.08095238  0.088888889\n",
       "43 0.42413793  0.92941176  0.150000000 0.3738095  0.05555556  0.106250000\n",
       "44 0.46923077  1.33846154  0.144444444 0.3850000  0.03684211  0.138461538\n",
       "45 0.57000000  2.95000000  0.233333333 0.5000000  0.04500000  0.133333333\n",
       "46 0.71111111  2.03333333  0.233333333 0.5733333  0.04090909  0.121428571\n",
       "47 0.75555556  1.64545455  0.155555556 0.5406250  0.04285714  0.080952381\n",
       "48 0.73684211  1.07333333  0.187500000 0.4023810  0.03333333  0.069565217\n",
       "49 0.90625000  1.12000000  0.077777778 0.3276596  0.03200000  0.072727273\n",
       "50 0.71052632  1.12857143  0.100000000 0.3042553  0.03809524  0.090000000\n",
       "51 0.77894737  1.14285714  0.059090909 0.3093023  0.03181818  0.071428571\n",
       "52 0.91764706  1.15714286  0.075000000 0.2446809  0.04761905  0.069565217\n",
       "53 0.91578947  1.32500000  0.114285714 0.2326087  0.05000000  0.072727273\n",
       "54 1.49000000  1.70000000  0.533333333 0.2279070  0.06111111  0.084210526\n",
       "55 1.66000000  2.18571429  0.200000000 0.2375000  0.04500000  0.106666667\n",
       "56 1.15384615  2.20000000  0.242857143 0.2500000  0.05000000  0.107142857\n",
       "57 0.80666667  0.98750000  0.154545455 0.2647059  0.05000000  0.082352941\n",
       "   Slovakia   average  \n",
       "1  0.05661765 1.2850000\n",
       "2  0.03582090 1.3492593\n",
       "3  0.01640625 1.1159259\n",
       "4  0.01269841 0.8903704\n",
       "5  0.01779661 0.7237037\n",
       "6  0.02201835 0.6200000\n",
       "7  0.02500000 0.5618519\n",
       "8  0.04337349 0.4574074\n",
       "9  0.03116883 0.4155556\n",
       "10 0.09803922 0.3807407\n",
       "11 0.10000000 0.3370370\n",
       "12 0.11818182 0.2881481\n",
       "13 0.10750000 0.3159259\n",
       "14 0.16666667 0.2733333\n",
       "15 0.21724138 0.2396296\n",
       "16 0.18400000 0.2388889\n",
       "17 0.27000000 0.2570370\n",
       "18 0.26470588 0.2492593\n",
       "19 0.29333333 0.2707407\n",
       "20 0.60000000 0.2855556\n",
       "21 0.74285714 0.2829630\n",
       "22 0.30625000 0.2781481\n",
       "23 0.30625000 0.3044444\n",
       "24 0.38125000 0.3062963\n",
       "25 0.47142857 0.3592593\n",
       "26 0.41428571 0.3281481\n",
       "27 0.33888889 0.3318519\n",
       "28 0.32222222 0.3792593\n",
       "29 0.26666667 0.3696296\n",
       "30 0.19523810 0.3592593\n",
       "31 0.23333333 0.4311111\n",
       "32 0.27419355 0.4559259\n",
       "33 0.25625000 0.4455556\n",
       "34 0.23125000 0.4540741\n",
       "35 0.24062500 0.4674074\n",
       "36 0.28965517 0.4873077\n",
       "37 0.27333333 0.4903704\n",
       "38 0.23666667 0.4896154\n",
       "39 0.26000000 0.4974074\n",
       "40 0.21111111 0.5033333\n",
       "41 0.43703704 0.5200000\n",
       "42 0.43750000 0.5062963\n",
       "43 0.45185185 0.5034615\n",
       "44 0.51304348 0.5081481\n",
       "45 0.45000000 0.5373077\n",
       "46 0.52105263 0.5177778\n",
       "47 0.37500000 0.5162963\n",
       "48 0.32800000 0.4959259\n",
       "49 0.30370370 0.5161538\n",
       "50 0.23103448 0.4980769\n",
       "51 0.22692308 0.4914815\n",
       "52 0.20689655 0.5251852\n",
       "53 0.22592593 0.5718519\n",
       "54 0.20000000 0.4988889\n",
       "55 0.25200000 0.4974074\n",
       "56 0.25000000 0.4962963\n",
       "57 0.21538462 0.4592593"
      ]
     },
     "metadata": {},
     "output_type": "display_data"
    }
   ],
   "source": [
    "deposits_to_inflation"
   ]
  },
  {
   "cell_type": "code",
   "execution_count": 373,
   "id": "101a302d-bc53-433a-be39-88aa4294cce2",
   "metadata": {
    "pycharm": {
     "name": "#%%\n"
    }
   },
   "outputs": [
    {
     "data": {
      "image/png": "[encoded data removed]",
      "text/plain": [
       "plot without title"
      ]
     },
     "metadata": {
      "image/png": {
       "height": 420,
       "width": 420
      }
     },
     "output_type": "display_data"
    }
   ],
   "source": [
    "ggplot(data = deposits_to_inflation) +\n",
    "  geom_line(aes(x = Period, y = Poland), color=\"#FF0000\", size=1) +\n",
    "  theme(plot.margin = margin(.2,1,0.2,0.2, \"cm\")) + \n",
    "  labs(x = \"Date\",\n",
    "       y = \"Deposits/Inflation\",\n",
    "       title = \"Deposits/Inflation in Poland\")"
   ]
  },
  {
   "cell_type": "code",
   "execution_count": 421,
   "id": "97996bd2-6133-418d-af73-e74fbccaa785",
   "metadata": {
    "pycharm": {
     "name": "#%%\n"
    }
   },
   "outputs": [
    {
     "name": "stderr",
     "output_type": "stream",
     "text": [
      "Warning message:\n",
      "\"\u001B[1m\u001B[22mRemoved 1 row containing missing values (`geom_line()`).\"\n"
     ]
    },
    {
     "data": {
      "image/png": "[encoded data removed]",
      "text/plain": [
       "plot without title"
      ]
     },
     "metadata": {
      "image/png": {
       "height": 420,
       "width": 420
      }
     },
     "output_type": "display_data"
    }
   ],
   "source": [
    "ggplot(data = deposits_to_inflation) +\n",
    "    geom_line(aes(x = Period, y = Poland), color=\"#FF0000\", size=1) +\n",
    "    geom_line(aes(x = Period, y = France), color=\"#0072BD\", size=1) +\n",
    "    geom_line(aes(x = Period, y = Hungary), color=\"#00FF00\", size=1) +\n",
    "    geom_line(aes(x = Period, y = Slovakia), color=\"#000000\", size=1) +\n",
    "    geom_line(aes(x = Period, y = average), color=\"#E6E6FA\", size=1) +\n",
    "    theme(plot.margin = margin(.5,.5,.5,.5, \"cm\")) + \n",
    "    labs(x = \"Date\",\n",
    "        y = \"Deposits/Inflation\",\n",
    "        title = \"Deposits/Inflation in chosen countries\")"
   ]
  },
  {
   "cell_type": "code",
   "execution_count": 366,
   "id": "779c4824-d71c-4acc-b1f2-4af65af6b496",
   "metadata": {
    "pycharm": {
     "name": "#%%\n"
    }
   },
   "outputs": [
    {
     "data": {
      "image/png": "[encoded data removed]",
      "text/plain": [
       "plot without title"
      ]
     },
     "metadata": {
      "image/png": {
       "height": 420,
       "width": 420
      }
     },
     "output_type": "display_data"
    }
   ],
   "source": [
    "ggplot(data = inflation_from2018) +\n",
    "    geom_line(aes(x = Period, y = Poland), color=\"#FF0000\", size=1) +\n",
    "    geom_line(aes(x = Period, y = France), color=\"#0072BD\", size=1) +\n",
    "    geom_line(aes(x = Period, y = Hungary), color=\"#00FF00\", size=1) +\n",
    "    geom_line(aes(x = Period, y = Slovakia), color=\"#000000\", size=1) +\n",
    "    theme(plot.margin = margin(.5,.5,.5,.5, \"cm\")) + \n",
    "    labs(x = \"Date\",\n",
    "        y = \"Inflation\", \n",
    "        title = \"Inflation in chosen countries\")"
   ]
  },
  {
   "cell_type": "code",
   "execution_count": 372,
   "id": "7e3f1766-fb17-4428-91fd-7bf8b8f4ae26",
   "metadata": {
    "pycharm": {
     "name": "#%%\n"
    }
   },
   "outputs": [
    {
     "name": "stderr",
     "output_type": "stream",
     "text": [
      "Warning message:\n",
      "\"\u001B[1m\u001B[22mRemoved 1 row containing missing values (`geom_line()`).\"\n"
     ]
    },
    {
     "data": {
      "image/png": "[encoded data removed]",
      "text/plain": [
       "plot without title"
      ]
     },
     "metadata": {
      "image/png": {
       "height": 420,
       "width": 420
      }
     },
     "output_type": "display_data"
    }
   ],
   "source": [
    "ggplot(data = deposits_from2018) +\n",
    "    geom_line(aes(x = Period, y = Poland..Polish.zloty), colour=\"#FF0000\", size=1) +\n",
    "    geom_line(aes(x = Period, y = France..Euro), color=\"#0072BD\", size=1) +\n",
    "    geom_line(aes(x = Period, y = Hungary..Hungarian.forint), color=\"#00FF00\", size=1) +\n",
    "    geom_line(aes(x = Period, y = Slovakia..Euro), color=\"#000000\", size=1) +\n",
    "    theme(plot.margin = margin(.5,.5,.5,.5, \"cm\")) + \n",
    "    labs(x = \"Date\",\n",
    "        y = \"Deposits\", \n",
    "        title = \"Deposits in chosen countries\")"
   ]
  },
  {
   "cell_type": "code",
   "execution_count": 374,
   "id": "65e21fc3-90e2-4a4b-a835-4b54eb6ded7a",
   "metadata": {
    "pycharm": {
     "name": "#%%\n"
    }
   },
   "outputs": [
    {
     "data": {
      "text/html": [
       "<style>\n",
       ".dl-inline {width: auto; margin:0; padding: 0}\n",
       ".dl-inline>dt, .dl-inline>dd {float: none; width: auto; display: inline-block}\n",
       ".dl-inline>dt::after {content: \":\\0020\"; padding-right: .5ex}\n",
       ".dl-inline>dt:not(:first-of-type) {padding-left: .5ex}\n",
       "</style><dl class=dl-inline><dt>1</dt><dd>1.285</dd><dt>2</dt><dd>1.34925925925926</dd><dt>3</dt><dd>1.11592592592593</dd><dt>4</dt><dd>0.89037037037037</dd><dt>5</dt><dd>0.723703703703704</dd><dt>6</dt><dd>0.62</dd><dt>7</dt><dd>0.561851851851852</dd><dt>8</dt><dd>0.457407407407407</dd><dt>9</dt><dd>0.415555555555556</dd><dt>10</dt><dd>0.380740740740741</dd><dt>11</dt><dd>0.337037037037037</dd><dt>12</dt><dd>0.288148148148148</dd><dt>13</dt><dd>0.315925925925926</dd><dt>14</dt><dd>0.273333333333333</dd><dt>15</dt><dd>0.23962962962963</dd><dt>16</dt><dd>0.238888888888889</dd><dt>17</dt><dd>0.257037037037037</dd><dt>18</dt><dd>0.249259259259259</dd><dt>19</dt><dd>0.270740740740741</dd><dt>20</dt><dd>0.285555555555556</dd><dt>21</dt><dd>0.282962962962963</dd><dt>22</dt><dd>0.278148148148148</dd><dt>23</dt><dd>0.304444444444444</dd><dt>24</dt><dd>0.306296296296296</dd><dt>25</dt><dd>0.359259259259259</dd><dt>26</dt><dd>0.328148148148148</dd><dt>27</dt><dd>0.331851851851852</dd><dt>28</dt><dd>0.379259259259259</dd><dt>29</dt><dd>0.36962962962963</dd><dt>30</dt><dd>0.359259259259259</dd><dt>31</dt><dd>0.431111111111111</dd><dt>32</dt><dd>0.455925925925926</dd><dt>33</dt><dd>0.445555555555556</dd><dt>34</dt><dd>0.454074074074074</dd><dt>35</dt><dd>0.467407407407407</dd><dt>36</dt><dd>0.487307692307692</dd><dt>37</dt><dd>0.49037037037037</dd><dt>38</dt><dd>0.489615384615385</dd><dt>39</dt><dd>0.497407407407407</dd><dt>40</dt><dd>0.503333333333333</dd><dt>41</dt><dd>0.52</dd><dt>42</dt><dd>0.506296296296296</dd><dt>43</dt><dd>0.503461538461539</dd><dt>44</dt><dd>0.508148148148148</dd><dt>45</dt><dd>0.537307692307692</dd><dt>46</dt><dd>0.517777777777778</dd><dt>47</dt><dd>0.516296296296296</dd><dt>48</dt><dd>0.495925925925926</dd><dt>49</dt><dd>0.516153846153846</dd><dt>50</dt><dd>0.498076923076923</dd><dt>51</dt><dd>0.491481481481481</dd><dt>52</dt><dd>0.525185185185185</dd><dt>53</dt><dd>0.571851851851852</dd><dt>54</dt><dd>0.498888888888889</dd><dt>55</dt><dd>0.497407407407407</dd><dt>56</dt><dd>0.496296296296296</dd><dt>57</dt><dd>0.459259259259259</dd></dl>\n"
      ],
      "text/latex": [
       "\\begin{description*}\n",
       "\\item[1] 1.285\n",
       "\\item[2] 1.34925925925926\n",
       "\\item[3] 1.11592592592593\n",
       "\\item[4] 0.89037037037037\n",
       "\\item[5] 0.723703703703704\n",
       "\\item[6] 0.62\n",
       "\\item[7] 0.561851851851852\n",
       "\\item[8] 0.457407407407407\n",
       "\\item[9] 0.415555555555556\n",
       "\\item[10] 0.380740740740741\n",
       "\\item[11] 0.337037037037037\n",
       "\\item[12] 0.288148148148148\n",
       "\\item[13] 0.315925925925926\n",
       "\\item[14] 0.273333333333333\n",
       "\\item[15] 0.23962962962963\n",
       "\\item[16] 0.238888888888889\n",
       "\\item[17] 0.257037037037037\n",
       "\\item[18] 0.249259259259259\n",
       "\\item[19] 0.270740740740741\n",
       "\\item[20] 0.285555555555556\n",
       "\\item[21] 0.282962962962963\n",
       "\\item[22] 0.278148148148148\n",
       "\\item[23] 0.304444444444444\n",
       "\\item[24] 0.306296296296296\n",
       "\\item[25] 0.359259259259259\n",
       "\\item[26] 0.328148148148148\n",
       "\\item[27] 0.331851851851852\n",
       "\\item[28] 0.379259259259259\n",
       "\\item[29] 0.36962962962963\n",
       "\\item[30] 0.359259259259259\n",
       "\\item[31] 0.431111111111111\n",
       "\\item[32] 0.455925925925926\n",
       "\\item[33] 0.445555555555556\n",
       "\\item[34] 0.454074074074074\n",
       "\\item[35] 0.467407407407407\n",
       "\\item[36] 0.487307692307692\n",
       "\\item[37] 0.49037037037037\n",
       "\\item[38] 0.489615384615385\n",
       "\\item[39] 0.497407407407407\n",
       "\\item[40] 0.503333333333333\n",
       "\\item[41] 0.52\n",
       "\\item[42] 0.506296296296296\n",
       "\\item[43] 0.503461538461539\n",
       "\\item[44] 0.508148148148148\n",
       "\\item[45] 0.537307692307692\n",
       "\\item[46] 0.517777777777778\n",
       "\\item[47] 0.516296296296296\n",
       "\\item[48] 0.495925925925926\n",
       "\\item[49] 0.516153846153846\n",
       "\\item[50] 0.498076923076923\n",
       "\\item[51] 0.491481481481481\n",
       "\\item[52] 0.525185185185185\n",
       "\\item[53] 0.571851851851852\n",
       "\\item[54] 0.498888888888889\n",
       "\\item[55] 0.497407407407407\n",
       "\\item[56] 0.496296296296296\n",
       "\\item[57] 0.459259259259259\n",
       "\\end{description*}\n"
      ],
      "text/markdown": [
       "1\n",
       ":   1.2852\n",
       ":   1.349259259259263\n",
       ":   1.115925925925934\n",
       ":   0.890370370370375\n",
       ":   0.7237037037037046\n",
       ":   0.627\n",
       ":   0.5618518518518528\n",
       ":   0.4574074074074079\n",
       ":   0.41555555555555610\n",
       ":   0.38074074074074111\n",
       ":   0.33703703703703712\n",
       ":   0.28814814814814813\n",
       ":   0.31592592592592614\n",
       ":   0.27333333333333315\n",
       ":   0.2396296296296316\n",
       ":   0.23888888888888917\n",
       ":   0.25703703703703718\n",
       ":   0.24925925925925919\n",
       ":   0.27074074074074120\n",
       ":   0.28555555555555621\n",
       ":   0.28296296296296322\n",
       ":   0.27814814814814823\n",
       ":   0.30444444444444424\n",
       ":   0.30629629629629625\n",
       ":   0.35925925925925926\n",
       ":   0.32814814814814827\n",
       ":   0.33185185185185228\n",
       ":   0.37925925925925929\n",
       ":   0.3696296296296330\n",
       ":   0.35925925925925931\n",
       ":   0.43111111111111132\n",
       ":   0.45592592592592633\n",
       ":   0.44555555555555634\n",
       ":   0.45407407407407435\n",
       ":   0.46740740740740736\n",
       ":   0.48730769230769237\n",
       ":   0.4903703703703738\n",
       ":   0.48961538461538539\n",
       ":   0.49740740740740740\n",
       ":   0.50333333333333341\n",
       ":   0.5242\n",
       ":   0.50629629629629643\n",
       ":   0.50346153846153944\n",
       ":   0.50814814814814845\n",
       ":   0.53730769230769246\n",
       ":   0.51777777777777847\n",
       ":   0.51629629629629648\n",
       ":   0.49592592592592649\n",
       ":   0.51615384615384650\n",
       ":   0.49807692307692351\n",
       ":   0.49148148148148152\n",
       ":   0.52518518518518553\n",
       ":   0.57185185185185254\n",
       ":   0.49888888888888955\n",
       ":   0.49740740740740756\n",
       ":   0.49629629629629657\n",
       ":   0.459259259259259\n",
       "\n"
      ],
      "text/plain": [
       "        1         2         3         4         5         6         7         8 \n",
       "1.2850000 1.3492593 1.1159259 0.8903704 0.7237037 0.6200000 0.5618519 0.4574074 \n",
       "        9        10        11        12        13        14        15        16 \n",
       "0.4155556 0.3807407 0.3370370 0.2881481 0.3159259 0.2733333 0.2396296 0.2388889 \n",
       "       17        18        19        20        21        22        23        24 \n",
       "0.2570370 0.2492593 0.2707407 0.2855556 0.2829630 0.2781481 0.3044444 0.3062963 \n",
       "       25        26        27        28        29        30        31        32 \n",
       "0.3592593 0.3281481 0.3318519 0.3792593 0.3696296 0.3592593 0.4311111 0.4559259 \n",
       "       33        34        35        36        37        38        39        40 \n",
       "0.4455556 0.4540741 0.4674074 0.4873077 0.4903704 0.4896154 0.4974074 0.5033333 \n",
       "       41        42        43        44        45        46        47        48 \n",
       "0.5200000 0.5062963 0.5034615 0.5081481 0.5373077 0.5177778 0.5162963 0.4959259 \n",
       "       49        50        51        52        53        54        55        56 \n",
       "0.5161538 0.4980769 0.4914815 0.5251852 0.5718519 0.4988889 0.4974074 0.4962963 \n",
       "       57 \n",
       "0.4592593 "
      ]
     },
     "metadata": {},
     "output_type": "display_data"
    }
   ],
   "source": [
    "rowMeans(deposits_from2018[2:28], na.rm=TRUE)"
   ]
  },
  {
   "cell_type": "code",
   "execution_count": null,
   "id": "f0ec2f75-d2d2-43c7-8599-15597c122eb9",
   "metadata": {
    "pycharm": {
     "name": "#%%\n"
    }
   },
   "outputs": [],
   "source": []
  }
 ],
 "metadata": {
  "kernelspec": {
   "display_name": "R",
   "language": "R",
   "name": "ir"
  },
  "language_info": {
   "codemirror_mode": "r",
   "file_extension": ".r",
   "mimetype": "text/x-r-source",
   "name": "R",
   "pygments_lexer": "r",
   "version": "4.2.1"
  }
 },
 "nbformat": 4,
 "nbformat_minor": 5
}