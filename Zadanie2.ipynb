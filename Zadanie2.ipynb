{
 "cells": [
  {
   "cell_type": "markdown",
   "id": "44057c13-9fe4-4cc5-80b0-706ef7be5ef7",
   "metadata": {},
   "source": [
    "# Zadanie 2"
   ]
  },
  {
   "cell_type": "code",
   "execution_count": 1,
   "id": "40d67aa9-d748-4916-825e-6837d95e102b",
   "metadata": {
    "vscode": {
     "languageId": "r"
    }
   },
   "outputs": [
    {
     "name": "stderr",
     "output_type": "stream",
     "text": [
      "Warning message:\n",
      "\"pakiet 'glue' został zbudowany w wersji R 4.2.2\"\n",
      "Warning message:\n",
      "\"pakiet 'dplyr' został zbudowany w wersji R 4.2.2\"\n",
      "\n",
      "Dołączanie pakietu: 'dplyr'\n",
      "\n",
      "\n",
      "Następujące obiekty zostały zakryte z 'package:stats':\n",
      "\n",
      "    filter, lag\n",
      "\n",
      "\n",
      "Następujące obiekty zostały zakryte z 'package:base':\n",
      "\n",
      "    intersect, setdiff, setequal, union\n",
      "\n",
      "\n",
      "Warning message:\n",
      "\"pakiet 'readr' został zbudowany w wersji R 4.2.2\"\n",
      "Warning message:\n",
      "\"pakiet 'ggthemes' został zbudowany w wersji R 4.2.2\"\n",
      "Warning message:\n",
      "\"pakiet 'tidyr' został zbudowany w wersji R 4.2.2\"\n",
      "Warning message:\n",
      "\"pakiet 'hrbrthemes' został zbudowany w wersji R 4.2.2\"\n",
      "NOTE: Either Arial Narrow or Roboto Condensed fonts are required to use these themes.\n",
      "\n",
      "      Please use hrbrthemes::import_roboto_condensed() to install Roboto Condensed and\n",
      "\n",
      "      if Arial Narrow is not on your system, please see https://bit.ly/arialnarrow\n",
      "\n",
      "Warning message:\n",
      "\"pakiet 'viridis' został zbudowany w wersji R 4.2.2\"\n",
      "Ładowanie wymaganego pakietu: viridisLite\n",
      "\n",
      "Warning message:\n",
      "\"pakiet 'viridisLite' został zbudowany w wersji R 4.2.2\"\n",
      "Warning message:\n",
      "\"pakiet 'ggplot2' został zbudowany w wersji R 4.2.2\"\n",
      "Warning message:\n",
      "\"pakiet 'ggpubr' został zbudowany w wersji R 4.2.2\"\n"
     ]
    }
   ],
   "source": [
    "library(glue)\n",
    "library(dplyr)\n",
    "library(readr)\n",
    "library(ggthemes)\n",
    "library(tidyr)\n",
    "library(hrbrthemes)\n",
    "library(viridis)\n",
    "library(ggplot2)\n",
    "library(ggpubr)"
   ]
  },
  {
   "cell_type": "code",
   "execution_count": 2,
   "id": "e4630988-ba85-4307-9d30-9b55f87c0214",
   "metadata": {
    "vscode": {
     "languageId": "r"
    }
   },
   "outputs": [],
   "source": [
    "inflation_data <- read.csv(\"data/EU_Inflation_HICP_data_mod.csv\", header = TRUE, sep = \",\")\n",
    "deposits_data <- read.csv(\"data/EU_deposits_1yr_data_mod.csv\", header = TRUE, sep = \",\")"
   ]
  },
  {
   "cell_type": "code",
   "execution_count": 3,
   "id": "6bc4faa2-5c07-4326-9108-2c5abb71c37f",
   "metadata": {
    "vscode": {
     "languageId": "r"
    }
   },
   "outputs": [
    {
     "data": {
      "text/html": [
       "<table class=\"dataframe\">\n",
       "<caption>A data.frame: 6 × 29</caption>\n",
       "<thead>\n",
       "\t<tr><th></th><th scope=col>Period</th><th scope=col>Austria</th><th scope=col>Belgium</th><th scope=col>Bulgaria</th><th scope=col>Cyprus</th><th scope=col>Czech.Republic</th><th scope=col>EU..changing.composition.</th><th scope=col>Germany</th><th scope=col>Denmark</th><th scope=col>Estonia</th><th scope=col>⋯</th><th scope=col>Luxembourg</th><th scope=col>Latvia</th><th scope=col>Malta</th><th scope=col>Netherlands</th><th scope=col>Poland</th><th scope=col>Portugal</th><th scope=col>Romania</th><th scope=col>Sweden</th><th scope=col>Slovenia</th><th scope=col>Slovakia</th></tr>\n",
       "\t<tr><th></th><th scope=col>&lt;chr&gt;</th><th scope=col>&lt;dbl&gt;</th><th scope=col>&lt;dbl&gt;</th><th scope=col>&lt;dbl&gt;</th><th scope=col>&lt;dbl&gt;</th><th scope=col>&lt;dbl&gt;</th><th scope=col>&lt;dbl&gt;</th><th scope=col>&lt;dbl&gt;</th><th scope=col>&lt;dbl&gt;</th><th scope=col>&lt;dbl&gt;</th><th scope=col>⋯</th><th scope=col>&lt;dbl&gt;</th><th scope=col>&lt;dbl&gt;</th><th scope=col>&lt;dbl&gt;</th><th scope=col>&lt;dbl&gt;</th><th scope=col>&lt;dbl&gt;</th><th scope=col>&lt;dbl&gt;</th><th scope=col>&lt;dbl&gt;</th><th scope=col>&lt;dbl&gt;</th><th scope=col>&lt;dbl&gt;</th><th scope=col>&lt;dbl&gt;</th></tr>\n",
       "</thead>\n",
       "<tbody>\n",
       "\t<tr><th scope=row>1</th><td>01/10/2022</td><td>11.5</td><td>13.1</td><td>  NA</td><td> 8.6</td><td>  NA</td><td>  NA</td><td>11.6</td><td>  NA</td><td>22.4</td><td>⋯</td><td> 8.8</td><td>21.8</td><td>7.5</td><td>16.8</td><td>  NA</td><td>10.6</td><td>  NA</td><td>  NA</td><td>10.3</td><td>14.5</td></tr>\n",
       "\t<tr><th scope=row>2</th><td>01/09/2022</td><td>10.9</td><td>12.1</td><td>15.6</td><td> 9.0</td><td>17.8</td><td>10.9</td><td>10.9</td><td>11.1</td><td>24.1</td><td>⋯</td><td> 8.8</td><td>22.0</td><td>7.4</td><td>17.1</td><td>15.7</td><td> 9.8</td><td>13.4</td><td>10.3</td><td>10.6</td><td>13.6</td></tr>\n",
       "\t<tr><th scope=row>3</th><td>01/08/2022</td><td> 9.3</td><td>10.5</td><td>15.0</td><td> 9.6</td><td>17.1</td><td>10.1</td><td> 8.8</td><td> 9.9</td><td>25.2</td><td>⋯</td><td> 8.6</td><td>21.4</td><td>7.0</td><td>13.7</td><td>14.8</td><td> 9.3</td><td>13.3</td><td> 9.5</td><td>11.5</td><td>13.4</td></tr>\n",
       "\t<tr><th scope=row>4</th><td>01/07/2022</td><td> 9.4</td><td>10.4</td><td>14.9</td><td>10.6</td><td>17.3</td><td> 9.8</td><td> 8.5</td><td> 9.6</td><td>23.2</td><td>⋯</td><td> 9.3</td><td>21.3</td><td>6.8</td><td>11.6</td><td>14.2</td><td> 9.4</td><td>13.0</td><td> 8.3</td><td>11.7</td><td>12.8</td></tr>\n",
       "\t<tr><th scope=row>5</th><td>01/06/2022</td><td> 8.7</td><td>10.5</td><td>14.8</td><td> 9.0</td><td>16.6</td><td> 9.6</td><td> 8.2</td><td> 9.1</td><td>22.0</td><td>⋯</td><td>10.3</td><td>19.2</td><td>6.1</td><td> 9.9</td><td>14.2</td><td> 9.0</td><td>13.0</td><td> 8.9</td><td>10.8</td><td>12.6</td></tr>\n",
       "\t<tr><th scope=row>6</th><td>01/05/2022</td><td> 7.7</td><td> 9.9</td><td>13.4</td><td> 8.8</td><td>15.2</td><td> 8.8</td><td> 8.7</td><td> 8.2</td><td>20.1</td><td>⋯</td><td> 9.1</td><td>16.8</td><td>5.8</td><td>10.2</td><td>12.8</td><td> 8.1</td><td>12.4</td><td> 7.5</td><td> 8.7</td><td>11.8</td></tr>\n",
       "</tbody>\n",
       "</table>\n"
      ],
      "text/latex": [
       "A data.frame: 6 × 29\n",
       "\\begin{tabular}{r|lllllllllllllllllllll}\n",
       "  & Period & Austria & Belgium & Bulgaria & Cyprus & Czech.Republic & EU..changing.composition. & Germany & Denmark & Estonia & ⋯ & Luxembourg & Latvia & Malta & Netherlands & Poland & Portugal & Romania & Sweden & Slovenia & Slovakia\\\\\n",
       "  & <chr> & <dbl> & <dbl> & <dbl> & <dbl> & <dbl> & <dbl> & <dbl> & <dbl> & <dbl> & ⋯ & <dbl> & <dbl> & <dbl> & <dbl> & <dbl> & <dbl> & <dbl> & <dbl> & <dbl> & <dbl>\\\\\n",
       "\\hline\n",
       "\t1 & 01/10/2022 & 11.5 & 13.1 &   NA &  8.6 &   NA &   NA & 11.6 &   NA & 22.4 & ⋯ &  8.8 & 21.8 & 7.5 & 16.8 &   NA & 10.6 &   NA &   NA & 10.3 & 14.5\\\\\n",
       "\t2 & 01/09/2022 & 10.9 & 12.1 & 15.6 &  9.0 & 17.8 & 10.9 & 10.9 & 11.1 & 24.1 & ⋯ &  8.8 & 22.0 & 7.4 & 17.1 & 15.7 &  9.8 & 13.4 & 10.3 & 10.6 & 13.6\\\\\n",
       "\t3 & 01/08/2022 &  9.3 & 10.5 & 15.0 &  9.6 & 17.1 & 10.1 &  8.8 &  9.9 & 25.2 & ⋯ &  8.6 & 21.4 & 7.0 & 13.7 & 14.8 &  9.3 & 13.3 &  9.5 & 11.5 & 13.4\\\\\n",
       "\t4 & 01/07/2022 &  9.4 & 10.4 & 14.9 & 10.6 & 17.3 &  9.8 &  8.5 &  9.6 & 23.2 & ⋯ &  9.3 & 21.3 & 6.8 & 11.6 & 14.2 &  9.4 & 13.0 &  8.3 & 11.7 & 12.8\\\\\n",
       "\t5 & 01/06/2022 &  8.7 & 10.5 & 14.8 &  9.0 & 16.6 &  9.6 &  8.2 &  9.1 & 22.0 & ⋯ & 10.3 & 19.2 & 6.1 &  9.9 & 14.2 &  9.0 & 13.0 &  8.9 & 10.8 & 12.6\\\\\n",
       "\t6 & 01/05/2022 &  7.7 &  9.9 & 13.4 &  8.8 & 15.2 &  8.8 &  8.7 &  8.2 & 20.1 & ⋯ &  9.1 & 16.8 & 5.8 & 10.2 & 12.8 &  8.1 & 12.4 &  7.5 &  8.7 & 11.8\\\\\n",
       "\\end{tabular}\n"
      ],
      "text/markdown": [
       "\n",
       "A data.frame: 6 × 29\n",
       "\n",
       "| <!--/--> | Period &lt;chr&gt; | Austria &lt;dbl&gt; | Belgium &lt;dbl&gt; | Bulgaria &lt;dbl&gt; | Cyprus &lt;dbl&gt; | Czech.Republic &lt;dbl&gt; | EU..changing.composition. &lt;dbl&gt; | Germany &lt;dbl&gt; | Denmark &lt;dbl&gt; | Estonia &lt;dbl&gt; | ⋯ ⋯ | Luxembourg &lt;dbl&gt; | Latvia &lt;dbl&gt; | Malta &lt;dbl&gt; | Netherlands &lt;dbl&gt; | Poland &lt;dbl&gt; | Portugal &lt;dbl&gt; | Romania &lt;dbl&gt; | Sweden &lt;dbl&gt; | Slovenia &lt;dbl&gt; | Slovakia &lt;dbl&gt; |\n",
       "|---|---|---|---|---|---|---|---|---|---|---|---|---|---|---|---|---|---|---|---|---|---|\n",
       "| 1 | 01/10/2022 | 11.5 | 13.1 |   NA |  8.6 |   NA |   NA | 11.6 |   NA | 22.4 | ⋯ |  8.8 | 21.8 | 7.5 | 16.8 |   NA | 10.6 |   NA |   NA | 10.3 | 14.5 |\n",
       "| 2 | 01/09/2022 | 10.9 | 12.1 | 15.6 |  9.0 | 17.8 | 10.9 | 10.9 | 11.1 | 24.1 | ⋯ |  8.8 | 22.0 | 7.4 | 17.1 | 15.7 |  9.8 | 13.4 | 10.3 | 10.6 | 13.6 |\n",
       "| 3 | 01/08/2022 |  9.3 | 10.5 | 15.0 |  9.6 | 17.1 | 10.1 |  8.8 |  9.9 | 25.2 | ⋯ |  8.6 | 21.4 | 7.0 | 13.7 | 14.8 |  9.3 | 13.3 |  9.5 | 11.5 | 13.4 |\n",
       "| 4 | 01/07/2022 |  9.4 | 10.4 | 14.9 | 10.6 | 17.3 |  9.8 |  8.5 |  9.6 | 23.2 | ⋯ |  9.3 | 21.3 | 6.8 | 11.6 | 14.2 |  9.4 | 13.0 |  8.3 | 11.7 | 12.8 |\n",
       "| 5 | 01/06/2022 |  8.7 | 10.5 | 14.8 |  9.0 | 16.6 |  9.6 |  8.2 |  9.1 | 22.0 | ⋯ | 10.3 | 19.2 | 6.1 |  9.9 | 14.2 |  9.0 | 13.0 |  8.9 | 10.8 | 12.6 |\n",
       "| 6 | 01/05/2022 |  7.7 |  9.9 | 13.4 |  8.8 | 15.2 |  8.8 |  8.7 |  8.2 | 20.1 | ⋯ |  9.1 | 16.8 | 5.8 | 10.2 | 12.8 |  8.1 | 12.4 |  7.5 |  8.7 | 11.8 |\n",
       "\n"
      ],
      "text/plain": [
       "  Period     Austria Belgium Bulgaria Cyprus Czech.Republic\n",
       "1 01/10/2022 11.5    13.1      NA      8.6     NA          \n",
       "2 01/09/2022 10.9    12.1    15.6      9.0   17.8          \n",
       "3 01/08/2022  9.3    10.5    15.0      9.6   17.1          \n",
       "4 01/07/2022  9.4    10.4    14.9     10.6   17.3          \n",
       "5 01/06/2022  8.7    10.5    14.8      9.0   16.6          \n",
       "6 01/05/2022  7.7     9.9    13.4      8.8   15.2          \n",
       "  EU..changing.composition. Germany Denmark Estonia ⋯ Luxembourg Latvia Malta\n",
       "1   NA                      11.6      NA    22.4    ⋯  8.8       21.8   7.5  \n",
       "2 10.9                      10.9    11.1    24.1    ⋯  8.8       22.0   7.4  \n",
       "3 10.1                       8.8     9.9    25.2    ⋯  8.6       21.4   7.0  \n",
       "4  9.8                       8.5     9.6    23.2    ⋯  9.3       21.3   6.8  \n",
       "5  9.6                       8.2     9.1    22.0    ⋯ 10.3       19.2   6.1  \n",
       "6  8.8                       8.7     8.2    20.1    ⋯  9.1       16.8   5.8  \n",
       "  Netherlands Poland Portugal Romania Sweden Slovenia Slovakia\n",
       "1 16.8          NA   10.6       NA      NA   10.3     14.5    \n",
       "2 17.1        15.7    9.8     13.4    10.3   10.6     13.6    \n",
       "3 13.7        14.8    9.3     13.3     9.5   11.5     13.4    \n",
       "4 11.6        14.2    9.4     13.0     8.3   11.7     12.8    \n",
       "5  9.9        14.2    9.0     13.0     8.9   10.8     12.6    \n",
       "6 10.2        12.8    8.1     12.4     7.5    8.7     11.8    "
      ]
     },
     "metadata": {},
     "output_type": "display_data"
    }
   ],
   "source": [
    "head(inflation_data)"
   ]
  },
  {
   "cell_type": "code",
   "execution_count": 4,
   "id": "a902a810-f6da-4c1a-bcf4-2fc75be72ea8",
   "metadata": {
    "vscode": {
     "languageId": "r"
    }
   },
   "outputs": [
    {
     "data": {
      "text/html": [
       "<table class=\"dataframe\">\n",
       "<caption>A data.frame: 6 × 34</caption>\n",
       "<thead>\n",
       "\t<tr><th></th><th scope=col>Period</th><th scope=col>Austria..Euro</th><th scope=col>Belgium..Euro</th><th scope=col>Bulgaria..Bulgarian.lev</th><th scope=col>Cyprus..Euro</th><th scope=col>Czech.Republic..Czech.koruna</th><th scope=col>Germany..Euro</th><th scope=col>Denmark..Danish.krone</th><th scope=col>Estonia..Estonian.kroon</th><th scope=col>Estonia..Euro</th><th scope=col>⋯</th><th scope=col>Malta..Maltese.lira</th><th scope=col>Netherlands..Euro</th><th scope=col>Poland..Polish.zloty</th><th scope=col>Portugal..Euro</th><th scope=col>Romania..Romanian.leu</th><th scope=col>Sweden..Swedish.krona</th><th scope=col>Slovenia..Euro</th><th scope=col>Slovenia..Slovenian.tolar</th><th scope=col>Slovakia..Euro</th><th scope=col>Slovakia..Slovak.koruna</th></tr>\n",
       "\t<tr><th></th><th scope=col>&lt;chr&gt;</th><th scope=col>&lt;dbl&gt;</th><th scope=col>&lt;chr&gt;</th><th scope=col>&lt;dbl&gt;</th><th scope=col>&lt;dbl&gt;</th><th scope=col>&lt;dbl&gt;</th><th scope=col>&lt;dbl&gt;</th><th scope=col>&lt;chr&gt;</th><th scope=col>&lt;dbl&gt;</th><th scope=col>&lt;dbl&gt;</th><th scope=col>⋯</th><th scope=col>&lt;chr&gt;</th><th scope=col>&lt;dbl&gt;</th><th scope=col>&lt;dbl&gt;</th><th scope=col>&lt;dbl&gt;</th><th scope=col>&lt;dbl&gt;</th><th scope=col>&lt;dbl&gt;</th><th scope=col>&lt;dbl&gt;</th><th scope=col>&lt;dbl&gt;</th><th scope=col>&lt;chr&gt;</th><th scope=col>&lt;dbl&gt;</th></tr>\n",
       "</thead>\n",
       "<tbody>\n",
       "\t<tr><th scope=row>1</th><td>01/09/2022</td><td>0.80</td><td>0.84</td><td>0.12</td><td>0.11</td><td>6.10</td><td>0.84</td><td>1.15 </td><td>NA</td><td>0.94</td><td>⋯</td><td></td><td>1.84</td><td>5.44</td><td>0.05</td><td>6.44</td><td>1.65</td><td>0.11</td><td>NA</td><td>0.77</td><td>NA</td></tr>\n",
       "\t<tr><th scope=row>2</th><td>01/08/2022</td><td>0.37</td><td>0.37</td><td>0.11</td><td>0.06</td><td>5.98</td><td>0.49</td><td>0.25 </td><td>NA</td><td>0.83</td><td>⋯</td><td></td><td>1.53</td><td>5.22</td><td>0.07</td><td>6.22</td><td>1.21</td><td>0.04</td><td>NA</td><td>0.48</td><td>NA</td></tr>\n",
       "\t<tr><th scope=row>3</th><td>01/07/2022</td><td>0.23</td><td>0.11</td><td>0.09</td><td>0.05</td><td>5.95</td><td>0.31</td><td>-0.44</td><td>NA</td><td>0.59</td><td>⋯</td><td></td><td>1.59</td><td>4.85</td><td>0.09</td><td>5.49</td><td>0.90</td><td>0.03</td><td>NA</td><td>0.21</td><td>NA</td></tr>\n",
       "\t<tr><th scope=row>4</th><td>01/06/2022</td><td>0.12</td><td>0.14</td><td>0.06</td><td>0.05</td><td>5.37</td><td>0.17</td><td>-0.45</td><td>NA</td><td>0.49</td><td>⋯</td><td></td><td>1.47</td><td>4.50</td><td>0.07</td><td>4.37</td><td>0.53</td><td>0.03</td><td>NA</td><td>0.16</td><td>NA</td></tr>\n",
       "\t<tr><th scope=row>5</th><td>01/05/2022</td><td>0.08</td><td>0.07</td><td>0.04</td><td>0.05</td><td>4.53</td><td>0.14</td><td>-0.5 </td><td>NA</td><td>0.50</td><td>⋯</td><td></td><td>1.23</td><td>3.38</td><td>0.04</td><td>3.21</td><td>0.38</td><td>0.04</td><td>NA</td><td>0.21</td><td>NA</td></tr>\n",
       "\t<tr><th scope=row>6</th><td>01/04/2022</td><td>0.10</td><td>0.06</td><td>0.04</td><td>0.05</td><td>4.17</td><td>0.14</td><td>-0.51</td><td>NA</td><td>0.44</td><td>⋯</td><td></td><td>1.15</td><td>2.03</td><td>0.04</td><td>2.56</td><td>0.32</td><td>0.03</td><td>NA</td><td>0.24</td><td>NA</td></tr>\n",
       "</tbody>\n",
       "</table>\n"
      ],
      "text/latex": [
       "A data.frame: 6 × 34\n",
       "\\begin{tabular}{r|lllllllllllllllllllll}\n",
       "  & Period & Austria..Euro & Belgium..Euro & Bulgaria..Bulgarian.lev & Cyprus..Euro & Czech.Republic..Czech.koruna & Germany..Euro & Denmark..Danish.krone & Estonia..Estonian.kroon & Estonia..Euro & ⋯ & Malta..Maltese.lira & Netherlands..Euro & Poland..Polish.zloty & Portugal..Euro & Romania..Romanian.leu & Sweden..Swedish.krona & Slovenia..Euro & Slovenia..Slovenian.tolar & Slovakia..Euro & Slovakia..Slovak.koruna\\\\\n",
       "  & <chr> & <dbl> & <chr> & <dbl> & <dbl> & <dbl> & <dbl> & <chr> & <dbl> & <dbl> & ⋯ & <chr> & <dbl> & <dbl> & <dbl> & <dbl> & <dbl> & <dbl> & <dbl> & <chr> & <dbl>\\\\\n",
       "\\hline\n",
       "\t1 & 01/09/2022 & 0.80 & 0.84 & 0.12 & 0.11 & 6.10 & 0.84 & 1.15  & NA & 0.94 & ⋯ &  & 1.84 & 5.44 & 0.05 & 6.44 & 1.65 & 0.11 & NA & 0.77 & NA\\\\\n",
       "\t2 & 01/08/2022 & 0.37 & 0.37 & 0.11 & 0.06 & 5.98 & 0.49 & 0.25  & NA & 0.83 & ⋯ &  & 1.53 & 5.22 & 0.07 & 6.22 & 1.21 & 0.04 & NA & 0.48 & NA\\\\\n",
       "\t3 & 01/07/2022 & 0.23 & 0.11 & 0.09 & 0.05 & 5.95 & 0.31 & -0.44 & NA & 0.59 & ⋯ &  & 1.59 & 4.85 & 0.09 & 5.49 & 0.90 & 0.03 & NA & 0.21 & NA\\\\\n",
       "\t4 & 01/06/2022 & 0.12 & 0.14 & 0.06 & 0.05 & 5.37 & 0.17 & -0.45 & NA & 0.49 & ⋯ &  & 1.47 & 4.50 & 0.07 & 4.37 & 0.53 & 0.03 & NA & 0.16 & NA\\\\\n",
       "\t5 & 01/05/2022 & 0.08 & 0.07 & 0.04 & 0.05 & 4.53 & 0.14 & -0.5  & NA & 0.50 & ⋯ &  & 1.23 & 3.38 & 0.04 & 3.21 & 0.38 & 0.04 & NA & 0.21 & NA\\\\\n",
       "\t6 & 01/04/2022 & 0.10 & 0.06 & 0.04 & 0.05 & 4.17 & 0.14 & -0.51 & NA & 0.44 & ⋯ &  & 1.15 & 2.03 & 0.04 & 2.56 & 0.32 & 0.03 & NA & 0.24 & NA\\\\\n",
       "\\end{tabular}\n"
      ],
      "text/markdown": [
       "\n",
       "A data.frame: 6 × 34\n",
       "\n",
       "| <!--/--> | Period &lt;chr&gt; | Austria..Euro &lt;dbl&gt; | Belgium..Euro &lt;chr&gt; | Bulgaria..Bulgarian.lev &lt;dbl&gt; | Cyprus..Euro &lt;dbl&gt; | Czech.Republic..Czech.koruna &lt;dbl&gt; | Germany..Euro &lt;dbl&gt; | Denmark..Danish.krone &lt;chr&gt; | Estonia..Estonian.kroon &lt;dbl&gt; | Estonia..Euro &lt;dbl&gt; | ⋯ ⋯ | Malta..Maltese.lira &lt;chr&gt; | Netherlands..Euro &lt;dbl&gt; | Poland..Polish.zloty &lt;dbl&gt; | Portugal..Euro &lt;dbl&gt; | Romania..Romanian.leu &lt;dbl&gt; | Sweden..Swedish.krona &lt;dbl&gt; | Slovenia..Euro &lt;dbl&gt; | Slovenia..Slovenian.tolar &lt;dbl&gt; | Slovakia..Euro &lt;chr&gt; | Slovakia..Slovak.koruna &lt;dbl&gt; |\n",
       "|---|---|---|---|---|---|---|---|---|---|---|---|---|---|---|---|---|---|---|---|---|---|\n",
       "| 1 | 01/09/2022 | 0.80 | 0.84 | 0.12 | 0.11 | 6.10 | 0.84 | 1.15  | NA | 0.94 | ⋯ | <!----> | 1.84 | 5.44 | 0.05 | 6.44 | 1.65 | 0.11 | NA | 0.77 | NA |\n",
       "| 2 | 01/08/2022 | 0.37 | 0.37 | 0.11 | 0.06 | 5.98 | 0.49 | 0.25  | NA | 0.83 | ⋯ | <!----> | 1.53 | 5.22 | 0.07 | 6.22 | 1.21 | 0.04 | NA | 0.48 | NA |\n",
       "| 3 | 01/07/2022 | 0.23 | 0.11 | 0.09 | 0.05 | 5.95 | 0.31 | -0.44 | NA | 0.59 | ⋯ | <!----> | 1.59 | 4.85 | 0.09 | 5.49 | 0.90 | 0.03 | NA | 0.21 | NA |\n",
       "| 4 | 01/06/2022 | 0.12 | 0.14 | 0.06 | 0.05 | 5.37 | 0.17 | -0.45 | NA | 0.49 | ⋯ | <!----> | 1.47 | 4.50 | 0.07 | 4.37 | 0.53 | 0.03 | NA | 0.16 | NA |\n",
       "| 5 | 01/05/2022 | 0.08 | 0.07 | 0.04 | 0.05 | 4.53 | 0.14 | -0.5  | NA | 0.50 | ⋯ | <!----> | 1.23 | 3.38 | 0.04 | 3.21 | 0.38 | 0.04 | NA | 0.21 | NA |\n",
       "| 6 | 01/04/2022 | 0.10 | 0.06 | 0.04 | 0.05 | 4.17 | 0.14 | -0.51 | NA | 0.44 | ⋯ | <!----> | 1.15 | 2.03 | 0.04 | 2.56 | 0.32 | 0.03 | NA | 0.24 | NA |\n",
       "\n"
      ],
      "text/plain": [
       "  Period     Austria..Euro Belgium..Euro Bulgaria..Bulgarian.lev Cyprus..Euro\n",
       "1 01/09/2022 0.80          0.84          0.12                    0.11        \n",
       "2 01/08/2022 0.37          0.37          0.11                    0.06        \n",
       "3 01/07/2022 0.23          0.11          0.09                    0.05        \n",
       "4 01/06/2022 0.12          0.14          0.06                    0.05        \n",
       "5 01/05/2022 0.08          0.07          0.04                    0.05        \n",
       "6 01/04/2022 0.10          0.06          0.04                    0.05        \n",
       "  Czech.Republic..Czech.koruna Germany..Euro Denmark..Danish.krone\n",
       "1 6.10                         0.84          1.15                 \n",
       "2 5.98                         0.49          0.25                 \n",
       "3 5.95                         0.31          -0.44                \n",
       "4 5.37                         0.17          -0.45                \n",
       "5 4.53                         0.14          -0.5                 \n",
       "6 4.17                         0.14          -0.51                \n",
       "  Estonia..Estonian.kroon Estonia..Euro ⋯ Malta..Maltese.lira Netherlands..Euro\n",
       "1 NA                      0.94          ⋯                     1.84             \n",
       "2 NA                      0.83          ⋯                     1.53             \n",
       "3 NA                      0.59          ⋯                     1.59             \n",
       "4 NA                      0.49          ⋯                     1.47             \n",
       "5 NA                      0.50          ⋯                     1.23             \n",
       "6 NA                      0.44          ⋯                     1.15             \n",
       "  Poland..Polish.zloty Portugal..Euro Romania..Romanian.leu\n",
       "1 5.44                 0.05           6.44                 \n",
       "2 5.22                 0.07           6.22                 \n",
       "3 4.85                 0.09           5.49                 \n",
       "4 4.50                 0.07           4.37                 \n",
       "5 3.38                 0.04           3.21                 \n",
       "6 2.03                 0.04           2.56                 \n",
       "  Sweden..Swedish.krona Slovenia..Euro Slovenia..Slovenian.tolar Slovakia..Euro\n",
       "1 1.65                  0.11           NA                        0.77          \n",
       "2 1.21                  0.04           NA                        0.48          \n",
       "3 0.90                  0.03           NA                        0.21          \n",
       "4 0.53                  0.03           NA                        0.16          \n",
       "5 0.38                  0.04           NA                        0.21          \n",
       "6 0.32                  0.03           NA                        0.24          \n",
       "  Slovakia..Slovak.koruna\n",
       "1 NA                     \n",
       "2 NA                     \n",
       "3 NA                     \n",
       "4 NA                     \n",
       "5 NA                     \n",
       "6 NA                     "
      ]
     },
     "metadata": {},
     "output_type": "display_data"
    }
   ],
   "source": [
    "head(deposits_data)"
   ]
  },
  {
   "cell_type": "code",
   "execution_count": 5,
   "id": "cb40386e-86f2-408d-9b28-0be5cc49be54",
   "metadata": {},
   "outputs": [],
   "source": [
    "eurozone_countries_inflation_tidy <- inflation_data |> pivot_longer(-Period, names_to = \"country\", values_to = \"inflation\")"
   ]
  },
  {
   "cell_type": "code",
   "execution_count": 6,
   "id": "e9f2b7f3-7994-4996-9969-244526bfb8d8",
   "metadata": {},
   "outputs": [
    {
     "data": {
      "text/html": [
       "<table class=\"dataframe\">\n",
       "<caption>A tibble: 11704 × 3</caption>\n",
       "<thead>\n",
       "\t<tr><th scope=col>Period</th><th scope=col>country</th><th scope=col>inflation</th></tr>\n",
       "\t<tr><th scope=col>&lt;chr&gt;</th><th scope=col>&lt;chr&gt;</th><th scope=col>&lt;dbl&gt;</th></tr>\n",
       "</thead>\n",
       "<tbody>\n",
       "\t<tr><td>01/10/2022</td><td>Austria                  </td><td>11.5</td></tr>\n",
       "\t<tr><td>01/10/2022</td><td>Belgium                  </td><td>13.1</td></tr>\n",
       "\t<tr><td>01/10/2022</td><td>Bulgaria                 </td><td>  NA</td></tr>\n",
       "\t<tr><td>01/10/2022</td><td>Cyprus                   </td><td> 8.6</td></tr>\n",
       "\t<tr><td>01/10/2022</td><td>Czech.Republic           </td><td>  NA</td></tr>\n",
       "\t<tr><td>01/10/2022</td><td>EU..changing.composition.</td><td>  NA</td></tr>\n",
       "\t<tr><td>01/10/2022</td><td>Germany                  </td><td>11.6</td></tr>\n",
       "\t<tr><td>01/10/2022</td><td>Denmark                  </td><td>  NA</td></tr>\n",
       "\t<tr><td>01/10/2022</td><td>Estonia                  </td><td>22.4</td></tr>\n",
       "\t<tr><td>01/10/2022</td><td>Spain                    </td><td> 7.3</td></tr>\n",
       "\t<tr><td>01/10/2022</td><td>Finland                  </td><td> 8.3</td></tr>\n",
       "\t<tr><td>01/10/2022</td><td>France                   </td><td> 7.1</td></tr>\n",
       "\t<tr><td>01/10/2022</td><td>Greece                   </td><td> 9.8</td></tr>\n",
       "\t<tr><td>01/10/2022</td><td>Croatia                  </td><td>  NA</td></tr>\n",
       "\t<tr><td>01/10/2022</td><td>Hungary                  </td><td>  NA</td></tr>\n",
       "\t<tr><td>01/10/2022</td><td>Ireland                  </td><td> 9.6</td></tr>\n",
       "\t<tr><td>01/10/2022</td><td>Italy                    </td><td>12.8</td></tr>\n",
       "\t<tr><td>01/10/2022</td><td>Lithuania                </td><td>22.0</td></tr>\n",
       "\t<tr><td>01/10/2022</td><td>Luxembourg               </td><td> 8.8</td></tr>\n",
       "\t<tr><td>01/10/2022</td><td>Latvia                   </td><td>21.8</td></tr>\n",
       "\t<tr><td>01/10/2022</td><td>Malta                    </td><td> 7.5</td></tr>\n",
       "\t<tr><td>01/10/2022</td><td>Netherlands              </td><td>16.8</td></tr>\n",
       "\t<tr><td>01/10/2022</td><td>Poland                   </td><td>  NA</td></tr>\n",
       "\t<tr><td>01/10/2022</td><td>Portugal                 </td><td>10.6</td></tr>\n",
       "\t<tr><td>01/10/2022</td><td>Romania                  </td><td>  NA</td></tr>\n",
       "\t<tr><td>01/10/2022</td><td>Sweden                   </td><td>  NA</td></tr>\n",
       "\t<tr><td>01/10/2022</td><td>Slovenia                 </td><td>10.3</td></tr>\n",
       "\t<tr><td>01/10/2022</td><td>Slovakia                 </td><td>14.5</td></tr>\n",
       "\t<tr><td>01/09/2022</td><td>Austria                  </td><td>10.9</td></tr>\n",
       "\t<tr><td>01/09/2022</td><td>Belgium                  </td><td>12.1</td></tr>\n",
       "\t<tr><td>⋮</td><td>⋮</td><td>⋮</td></tr>\n",
       "\t<tr><td>01/02/1988</td><td>Slovenia                 </td><td>NA</td></tr>\n",
       "\t<tr><td>01/02/1988</td><td>Slovakia                 </td><td>NA</td></tr>\n",
       "\t<tr><td>01/01/1988</td><td>Austria                  </td><td>NA</td></tr>\n",
       "\t<tr><td>01/01/1988</td><td>Belgium                  </td><td>NA</td></tr>\n",
       "\t<tr><td>01/01/1988</td><td>Bulgaria                 </td><td>NA</td></tr>\n",
       "\t<tr><td>01/01/1988</td><td>Cyprus                   </td><td>NA</td></tr>\n",
       "\t<tr><td>01/01/1988</td><td>Czech.Republic           </td><td>NA</td></tr>\n",
       "\t<tr><td>01/01/1988</td><td>EU..changing.composition.</td><td>NA</td></tr>\n",
       "\t<tr><td>01/01/1988</td><td>Germany                  </td><td>NA</td></tr>\n",
       "\t<tr><td>01/01/1988</td><td>Denmark                  </td><td>NA</td></tr>\n",
       "\t<tr><td>01/01/1988</td><td>Estonia                  </td><td>NA</td></tr>\n",
       "\t<tr><td>01/01/1988</td><td>Spain                    </td><td>NA</td></tr>\n",
       "\t<tr><td>01/01/1988</td><td>Finland                  </td><td>NA</td></tr>\n",
       "\t<tr><td>01/01/1988</td><td>France                   </td><td>NA</td></tr>\n",
       "\t<tr><td>01/01/1988</td><td>Greece                   </td><td>NA</td></tr>\n",
       "\t<tr><td>01/01/1988</td><td>Croatia                  </td><td>NA</td></tr>\n",
       "\t<tr><td>01/01/1988</td><td>Hungary                  </td><td>NA</td></tr>\n",
       "\t<tr><td>01/01/1988</td><td>Ireland                  </td><td>NA</td></tr>\n",
       "\t<tr><td>01/01/1988</td><td>Italy                    </td><td>NA</td></tr>\n",
       "\t<tr><td>01/01/1988</td><td>Lithuania                </td><td>NA</td></tr>\n",
       "\t<tr><td>01/01/1988</td><td>Luxembourg               </td><td>NA</td></tr>\n",
       "\t<tr><td>01/01/1988</td><td>Latvia                   </td><td>NA</td></tr>\n",
       "\t<tr><td>01/01/1988</td><td>Malta                    </td><td>NA</td></tr>\n",
       "\t<tr><td>01/01/1988</td><td>Netherlands              </td><td>NA</td></tr>\n",
       "\t<tr><td>01/01/1988</td><td>Poland                   </td><td>NA</td></tr>\n",
       "\t<tr><td>01/01/1988</td><td>Portugal                 </td><td>NA</td></tr>\n",
       "\t<tr><td>01/01/1988</td><td>Romania                  </td><td>NA</td></tr>\n",
       "\t<tr><td>01/01/1988</td><td>Sweden                   </td><td>NA</td></tr>\n",
       "\t<tr><td>01/01/1988</td><td>Slovenia                 </td><td>NA</td></tr>\n",
       "\t<tr><td>01/01/1988</td><td>Slovakia                 </td><td>NA</td></tr>\n",
       "</tbody>\n",
       "</table>\n"
      ],
      "text/latex": [
       "A tibble: 11704 × 3\n",
       "\\begin{tabular}{lll}\n",
       " Period & country & inflation\\\\\n",
       " <chr> & <chr> & <dbl>\\\\\n",
       "\\hline\n",
       "\t 01/10/2022 & Austria                   & 11.5\\\\\n",
       "\t 01/10/2022 & Belgium                   & 13.1\\\\\n",
       "\t 01/10/2022 & Bulgaria                  &   NA\\\\\n",
       "\t 01/10/2022 & Cyprus                    &  8.6\\\\\n",
       "\t 01/10/2022 & Czech.Republic            &   NA\\\\\n",
       "\t 01/10/2022 & EU..changing.composition. &   NA\\\\\n",
       "\t 01/10/2022 & Germany                   & 11.6\\\\\n",
       "\t 01/10/2022 & Denmark                   &   NA\\\\\n",
       "\t 01/10/2022 & Estonia                   & 22.4\\\\\n",
       "\t 01/10/2022 & Spain                     &  7.3\\\\\n",
       "\t 01/10/2022 & Finland                   &  8.3\\\\\n",
       "\t 01/10/2022 & France                    &  7.1\\\\\n",
       "\t 01/10/2022 & Greece                    &  9.8\\\\\n",
       "\t 01/10/2022 & Croatia                   &   NA\\\\\n",
       "\t 01/10/2022 & Hungary                   &   NA\\\\\n",
       "\t 01/10/2022 & Ireland                   &  9.6\\\\\n",
       "\t 01/10/2022 & Italy                     & 12.8\\\\\n",
       "\t 01/10/2022 & Lithuania                 & 22.0\\\\\n",
       "\t 01/10/2022 & Luxembourg                &  8.8\\\\\n",
       "\t 01/10/2022 & Latvia                    & 21.8\\\\\n",
       "\t 01/10/2022 & Malta                     &  7.5\\\\\n",
       "\t 01/10/2022 & Netherlands               & 16.8\\\\\n",
       "\t 01/10/2022 & Poland                    &   NA\\\\\n",
       "\t 01/10/2022 & Portugal                  & 10.6\\\\\n",
       "\t 01/10/2022 & Romania                   &   NA\\\\\n",
       "\t 01/10/2022 & Sweden                    &   NA\\\\\n",
       "\t 01/10/2022 & Slovenia                  & 10.3\\\\\n",
       "\t 01/10/2022 & Slovakia                  & 14.5\\\\\n",
       "\t 01/09/2022 & Austria                   & 10.9\\\\\n",
       "\t 01/09/2022 & Belgium                   & 12.1\\\\\n",
       "\t ⋮ & ⋮ & ⋮\\\\\n",
       "\t 01/02/1988 & Slovenia                  & NA\\\\\n",
       "\t 01/02/1988 & Slovakia                  & NA\\\\\n",
       "\t 01/01/1988 & Austria                   & NA\\\\\n",
       "\t 01/01/1988 & Belgium                   & NA\\\\\n",
       "\t 01/01/1988 & Bulgaria                  & NA\\\\\n",
       "\t 01/01/1988 & Cyprus                    & NA\\\\\n",
       "\t 01/01/1988 & Czech.Republic            & NA\\\\\n",
       "\t 01/01/1988 & EU..changing.composition. & NA\\\\\n",
       "\t 01/01/1988 & Germany                   & NA\\\\\n",
       "\t 01/01/1988 & Denmark                   & NA\\\\\n",
       "\t 01/01/1988 & Estonia                   & NA\\\\\n",
       "\t 01/01/1988 & Spain                     & NA\\\\\n",
       "\t 01/01/1988 & Finland                   & NA\\\\\n",
       "\t 01/01/1988 & France                    & NA\\\\\n",
       "\t 01/01/1988 & Greece                    & NA\\\\\n",
       "\t 01/01/1988 & Croatia                   & NA\\\\\n",
       "\t 01/01/1988 & Hungary                   & NA\\\\\n",
       "\t 01/01/1988 & Ireland                   & NA\\\\\n",
       "\t 01/01/1988 & Italy                     & NA\\\\\n",
       "\t 01/01/1988 & Lithuania                 & NA\\\\\n",
       "\t 01/01/1988 & Luxembourg                & NA\\\\\n",
       "\t 01/01/1988 & Latvia                    & NA\\\\\n",
       "\t 01/01/1988 & Malta                     & NA\\\\\n",
       "\t 01/01/1988 & Netherlands               & NA\\\\\n",
       "\t 01/01/1988 & Poland                    & NA\\\\\n",
       "\t 01/01/1988 & Portugal                  & NA\\\\\n",
       "\t 01/01/1988 & Romania                   & NA\\\\\n",
       "\t 01/01/1988 & Sweden                    & NA\\\\\n",
       "\t 01/01/1988 & Slovenia                  & NA\\\\\n",
       "\t 01/01/1988 & Slovakia                  & NA\\\\\n",
       "\\end{tabular}\n"
      ],
      "text/markdown": [
       "\n",
       "A tibble: 11704 × 3\n",
       "\n",
       "| Period &lt;chr&gt; | country &lt;chr&gt; | inflation &lt;dbl&gt; |\n",
       "|---|---|---|\n",
       "| 01/10/2022 | Austria                   | 11.5 |\n",
       "| 01/10/2022 | Belgium                   | 13.1 |\n",
       "| 01/10/2022 | Bulgaria                  |   NA |\n",
       "| 01/10/2022 | Cyprus                    |  8.6 |\n",
       "| 01/10/2022 | Czech.Republic            |   NA |\n",
       "| 01/10/2022 | EU..changing.composition. |   NA |\n",
       "| 01/10/2022 | Germany                   | 11.6 |\n",
       "| 01/10/2022 | Denmark                   |   NA |\n",
       "| 01/10/2022 | Estonia                   | 22.4 |\n",
       "| 01/10/2022 | Spain                     |  7.3 |\n",
       "| 01/10/2022 | Finland                   |  8.3 |\n",
       "| 01/10/2022 | France                    |  7.1 |\n",
       "| 01/10/2022 | Greece                    |  9.8 |\n",
       "| 01/10/2022 | Croatia                   |   NA |\n",
       "| 01/10/2022 | Hungary                   |   NA |\n",
       "| 01/10/2022 | Ireland                   |  9.6 |\n",
       "| 01/10/2022 | Italy                     | 12.8 |\n",
       "| 01/10/2022 | Lithuania                 | 22.0 |\n",
       "| 01/10/2022 | Luxembourg                |  8.8 |\n",
       "| 01/10/2022 | Latvia                    | 21.8 |\n",
       "| 01/10/2022 | Malta                     |  7.5 |\n",
       "| 01/10/2022 | Netherlands               | 16.8 |\n",
       "| 01/10/2022 | Poland                    |   NA |\n",
       "| 01/10/2022 | Portugal                  | 10.6 |\n",
       "| 01/10/2022 | Romania                   |   NA |\n",
       "| 01/10/2022 | Sweden                    |   NA |\n",
       "| 01/10/2022 | Slovenia                  | 10.3 |\n",
       "| 01/10/2022 | Slovakia                  | 14.5 |\n",
       "| 01/09/2022 | Austria                   | 10.9 |\n",
       "| 01/09/2022 | Belgium                   | 12.1 |\n",
       "| ⋮ | ⋮ | ⋮ |\n",
       "| 01/02/1988 | Slovenia                  | NA |\n",
       "| 01/02/1988 | Slovakia                  | NA |\n",
       "| 01/01/1988 | Austria                   | NA |\n",
       "| 01/01/1988 | Belgium                   | NA |\n",
       "| 01/01/1988 | Bulgaria                  | NA |\n",
       "| 01/01/1988 | Cyprus                    | NA |\n",
       "| 01/01/1988 | Czech.Republic            | NA |\n",
       "| 01/01/1988 | EU..changing.composition. | NA |\n",
       "| 01/01/1988 | Germany                   | NA |\n",
       "| 01/01/1988 | Denmark                   | NA |\n",
       "| 01/01/1988 | Estonia                   | NA |\n",
       "| 01/01/1988 | Spain                     | NA |\n",
       "| 01/01/1988 | Finland                   | NA |\n",
       "| 01/01/1988 | France                    | NA |\n",
       "| 01/01/1988 | Greece                    | NA |\n",
       "| 01/01/1988 | Croatia                   | NA |\n",
       "| 01/01/1988 | Hungary                   | NA |\n",
       "| 01/01/1988 | Ireland                   | NA |\n",
       "| 01/01/1988 | Italy                     | NA |\n",
       "| 01/01/1988 | Lithuania                 | NA |\n",
       "| 01/01/1988 | Luxembourg                | NA |\n",
       "| 01/01/1988 | Latvia                    | NA |\n",
       "| 01/01/1988 | Malta                     | NA |\n",
       "| 01/01/1988 | Netherlands               | NA |\n",
       "| 01/01/1988 | Poland                    | NA |\n",
       "| 01/01/1988 | Portugal                  | NA |\n",
       "| 01/01/1988 | Romania                   | NA |\n",
       "| 01/01/1988 | Sweden                    | NA |\n",
       "| 01/01/1988 | Slovenia                  | NA |\n",
       "| 01/01/1988 | Slovakia                  | NA |\n",
       "\n"
      ],
      "text/plain": [
       "      Period     country                   inflation\n",
       "1     01/10/2022 Austria                   11.5     \n",
       "2     01/10/2022 Belgium                   13.1     \n",
       "3     01/10/2022 Bulgaria                    NA     \n",
       "4     01/10/2022 Cyprus                     8.6     \n",
       "5     01/10/2022 Czech.Republic              NA     \n",
       "6     01/10/2022 EU..changing.composition.   NA     \n",
       "7     01/10/2022 Germany                   11.6     \n",
       "8     01/10/2022 Denmark                     NA     \n",
       "9     01/10/2022 Estonia                   22.4     \n",
       "10    01/10/2022 Spain                      7.3     \n",
       "11    01/10/2022 Finland                    8.3     \n",
       "12    01/10/2022 France                     7.1     \n",
       "13    01/10/2022 Greece                     9.8     \n",
       "14    01/10/2022 Croatia                     NA     \n",
       "15    01/10/2022 Hungary                     NA     \n",
       "16    01/10/2022 Ireland                    9.6     \n",
       "17    01/10/2022 Italy                     12.8     \n",
       "18    01/10/2022 Lithuania                 22.0     \n",
       "19    01/10/2022 Luxembourg                 8.8     \n",
       "20    01/10/2022 Latvia                    21.8     \n",
       "21    01/10/2022 Malta                      7.5     \n",
       "22    01/10/2022 Netherlands               16.8     \n",
       "23    01/10/2022 Poland                      NA     \n",
       "24    01/10/2022 Portugal                  10.6     \n",
       "25    01/10/2022 Romania                     NA     \n",
       "26    01/10/2022 Sweden                      NA     \n",
       "27    01/10/2022 Slovenia                  10.3     \n",
       "28    01/10/2022 Slovakia                  14.5     \n",
       "29    01/09/2022 Austria                   10.9     \n",
       "30    01/09/2022 Belgium                   12.1     \n",
       "⋮     ⋮          ⋮                         ⋮        \n",
       "11675 01/02/1988 Slovenia                  NA       \n",
       "11676 01/02/1988 Slovakia                  NA       \n",
       "11677 01/01/1988 Austria                   NA       \n",
       "11678 01/01/1988 Belgium                   NA       \n",
       "11679 01/01/1988 Bulgaria                  NA       \n",
       "11680 01/01/1988 Cyprus                    NA       \n",
       "11681 01/01/1988 Czech.Republic            NA       \n",
       "11682 01/01/1988 EU..changing.composition. NA       \n",
       "11683 01/01/1988 Germany                   NA       \n",
       "11684 01/01/1988 Denmark                   NA       \n",
       "11685 01/01/1988 Estonia                   NA       \n",
       "11686 01/01/1988 Spain                     NA       \n",
       "11687 01/01/1988 Finland                   NA       \n",
       "11688 01/01/1988 France                    NA       \n",
       "11689 01/01/1988 Greece                    NA       \n",
       "11690 01/01/1988 Croatia                   NA       \n",
       "11691 01/01/1988 Hungary                   NA       \n",
       "11692 01/01/1988 Ireland                   NA       \n",
       "11693 01/01/1988 Italy                     NA       \n",
       "11694 01/01/1988 Lithuania                 NA       \n",
       "11695 01/01/1988 Luxembourg                NA       \n",
       "11696 01/01/1988 Latvia                    NA       \n",
       "11697 01/01/1988 Malta                     NA       \n",
       "11698 01/01/1988 Netherlands               NA       \n",
       "11699 01/01/1988 Poland                    NA       \n",
       "11700 01/01/1988 Portugal                  NA       \n",
       "11701 01/01/1988 Romania                   NA       \n",
       "11702 01/01/1988 Sweden                    NA       \n",
       "11703 01/01/1988 Slovenia                  NA       \n",
       "11704 01/01/1988 Slovakia                  NA       "
      ]
     },
     "metadata": {},
     "output_type": "display_data"
    }
   ],
   "source": [
    "eurozone_countries_inflation_tidy"
   ]
  },
  {
   "cell_type": "code",
   "execution_count": 7,
   "id": "20e4d6dc-9493-4f1a-8130-6cb91ebbaed3",
   "metadata": {
    "vscode": {
     "languageId": "r"
    }
   },
   "outputs": [],
   "source": [
    "inflation_data$Period <- as.Date(inflation_data$Period, format = \"%d/%m/%Y\")\n",
    "deposits_data$Period <- as.Date(deposits_data$Period, format = \"%d/%m/%Y\")"
   ]
  },
  {
   "cell_type": "code",
   "execution_count": 8,
   "id": "7722fadd-8679-4a8b-9ace-444a7ccde0d7",
   "metadata": {
    "vscode": {
     "languageId": "r"
    }
   },
   "outputs": [
    {
     "name": "stderr",
     "output_type": "stream",
     "text": [
      "Warning message in lapply(X = X, FUN = FUN, ...):\n",
      "\"pojawiły się wartości NA na skutek przekształcenia\"\n",
      "Warning message in lapply(X = X, FUN = FUN, ...):\n",
      "\"pojawiły się wartości NA na skutek przekształcenia\"\n",
      "Warning message in lapply(X = X, FUN = FUN, ...):\n",
      "\"pojawiły się wartości NA na skutek przekształcenia\"\n",
      "Warning message in lapply(X = X, FUN = FUN, ...):\n",
      "\"pojawiły się wartości NA na skutek przekształcenia\"\n",
      "Warning message in lapply(X = X, FUN = FUN, ...):\n",
      "\"pojawiły się wartości NA na skutek przekształcenia\"\n",
      "Warning message in lapply(X = X, FUN = FUN, ...):\n",
      "\"pojawiły się wartości NA na skutek przekształcenia\"\n",
      "Warning message in lapply(X = X, FUN = FUN, ...):\n",
      "\"pojawiły się wartości NA na skutek przekształcenia\"\n"
     ]
    }
   ],
   "source": [
    "deposits_data[, 2:34] <- sapply(deposits_data[, 2:34], as.numeric)\n",
    "# str(deposits_data)"
   ]
  },
  {
   "cell_type": "code",
   "execution_count": 9,
   "id": "67459807-170e-4c70-9c54-ed311715f7d9",
   "metadata": {
    "vscode": {
     "languageId": "r"
    }
   },
   "outputs": [],
   "source": [
    "eurozone_countries_inflation <- select(inflation_data, matches(\"Period|Austria|Belgium|Cyprus|Germany|Estonia|Spain|Finland|France|Greece|Ireland|Italy|Lithuania|Luxembourg|Latvia|Malta|Netherlands|Portugal|Slovenia|Slovakia\"))\n",
    "other_countries_inflation <- select(inflation_data, !matches(\"EU|Austria|Belgium|Cyprus|Germany|Estonia|Spain|Finland|France|Greece|Ireland|Italy|Lithuania|Luxembourg|Latvia|Malta|Netherlands|Portugal|Slovenia|Slovakia\"))\n",
    "# EU_countries_inflation <- select(inflation_data, matches(\"Period|EU\"))\n",
    "# Poland_inflation <- select(inflation_data, matches(\"Period|Poland\"))"
   ]
  },
  {
   "cell_type": "code",
   "execution_count": 10,
   "id": "cadecfdb-89ca-4a11-9b97-869603d321e7",
   "metadata": {
    "vscode": {
     "languageId": "r"
    }
   },
   "outputs": [
    {
     "data": {
      "text/html": [
       "<table class=\"dataframe\">\n",
       "<caption>A data.frame: 6 × 20</caption>\n",
       "<thead>\n",
       "\t<tr><th></th><th scope=col>Period</th><th scope=col>Austria</th><th scope=col>Belgium</th><th scope=col>Cyprus</th><th scope=col>Germany</th><th scope=col>Estonia</th><th scope=col>Spain</th><th scope=col>Finland</th><th scope=col>France</th><th scope=col>Greece</th><th scope=col>Ireland</th><th scope=col>Italy</th><th scope=col>Lithuania</th><th scope=col>Luxembourg</th><th scope=col>Latvia</th><th scope=col>Malta</th><th scope=col>Netherlands</th><th scope=col>Portugal</th><th scope=col>Slovenia</th><th scope=col>Slovakia</th></tr>\n",
       "\t<tr><th></th><th scope=col>&lt;date&gt;</th><th scope=col>&lt;dbl&gt;</th><th scope=col>&lt;dbl&gt;</th><th scope=col>&lt;dbl&gt;</th><th scope=col>&lt;dbl&gt;</th><th scope=col>&lt;dbl&gt;</th><th scope=col>&lt;dbl&gt;</th><th scope=col>&lt;dbl&gt;</th><th scope=col>&lt;dbl&gt;</th><th scope=col>&lt;dbl&gt;</th><th scope=col>&lt;dbl&gt;</th><th scope=col>&lt;dbl&gt;</th><th scope=col>&lt;dbl&gt;</th><th scope=col>&lt;dbl&gt;</th><th scope=col>&lt;dbl&gt;</th><th scope=col>&lt;dbl&gt;</th><th scope=col>&lt;dbl&gt;</th><th scope=col>&lt;dbl&gt;</th><th scope=col>&lt;dbl&gt;</th><th scope=col>&lt;dbl&gt;</th></tr>\n",
       "</thead>\n",
       "<tbody>\n",
       "\t<tr><th scope=row>1</th><td>2022-10-01</td><td>11.5</td><td>13.1</td><td> 8.6</td><td>11.6</td><td>22.4</td><td> 7.3</td><td>8.3</td><td>7.1</td><td> 9.8</td><td>9.6</td><td>12.8</td><td>22.0</td><td> 8.8</td><td>21.8</td><td>7.5</td><td>16.8</td><td>10.6</td><td>10.3</td><td>14.5</td></tr>\n",
       "\t<tr><th scope=row>2</th><td>2022-09-01</td><td>10.9</td><td>12.1</td><td> 9.0</td><td>10.9</td><td>24.1</td><td> 9.0</td><td>8.4</td><td>6.2</td><td>12.1</td><td>8.6</td><td> 9.4</td><td>22.5</td><td> 8.8</td><td>22.0</td><td>7.4</td><td>17.1</td><td> 9.8</td><td>10.6</td><td>13.6</td></tr>\n",
       "\t<tr><th scope=row>3</th><td>2022-08-01</td><td> 9.3</td><td>10.5</td><td> 9.6</td><td> 8.8</td><td>25.2</td><td>10.5</td><td>7.9</td><td>6.6</td><td>11.2</td><td>9.0</td><td> 9.1</td><td>21.1</td><td> 8.6</td><td>21.4</td><td>7.0</td><td>13.7</td><td> 9.3</td><td>11.5</td><td>13.4</td></tr>\n",
       "\t<tr><th scope=row>4</th><td>2022-07-01</td><td> 9.4</td><td>10.4</td><td>10.6</td><td> 8.5</td><td>23.2</td><td>10.7</td><td>8.0</td><td>6.8</td><td>11.3</td><td>9.6</td><td> 8.4</td><td>20.9</td><td> 9.3</td><td>21.3</td><td>6.8</td><td>11.6</td><td> 9.4</td><td>11.7</td><td>12.8</td></tr>\n",
       "\t<tr><th scope=row>5</th><td>2022-06-01</td><td> 8.7</td><td>10.5</td><td> 9.0</td><td> 8.2</td><td>22.0</td><td>10.0</td><td>8.1</td><td>6.5</td><td>11.6</td><td>9.6</td><td> 8.5</td><td>20.5</td><td>10.3</td><td>19.2</td><td>6.1</td><td> 9.9</td><td> 9.0</td><td>10.8</td><td>12.6</td></tr>\n",
       "\t<tr><th scope=row>6</th><td>2022-05-01</td><td> 7.7</td><td> 9.9</td><td> 8.8</td><td> 8.7</td><td>20.1</td><td> 8.5</td><td>7.1</td><td>5.8</td><td>10.5</td><td>8.3</td><td> 7.3</td><td>18.5</td><td> 9.1</td><td>16.8</td><td>5.8</td><td>10.2</td><td> 8.1</td><td> 8.7</td><td>11.8</td></tr>\n",
       "</tbody>\n",
       "</table>\n"
      ],
      "text/latex": [
       "A data.frame: 6 × 20\n",
       "\\begin{tabular}{r|llllllllllllllllllll}\n",
       "  & Period & Austria & Belgium & Cyprus & Germany & Estonia & Spain & Finland & France & Greece & Ireland & Italy & Lithuania & Luxembourg & Latvia & Malta & Netherlands & Portugal & Slovenia & Slovakia\\\\\n",
       "  & <date> & <dbl> & <dbl> & <dbl> & <dbl> & <dbl> & <dbl> & <dbl> & <dbl> & <dbl> & <dbl> & <dbl> & <dbl> & <dbl> & <dbl> & <dbl> & <dbl> & <dbl> & <dbl> & <dbl>\\\\\n",
       "\\hline\n",
       "\t1 & 2022-10-01 & 11.5 & 13.1 &  8.6 & 11.6 & 22.4 &  7.3 & 8.3 & 7.1 &  9.8 & 9.6 & 12.8 & 22.0 &  8.8 & 21.8 & 7.5 & 16.8 & 10.6 & 10.3 & 14.5\\\\\n",
       "\t2 & 2022-09-01 & 10.9 & 12.1 &  9.0 & 10.9 & 24.1 &  9.0 & 8.4 & 6.2 & 12.1 & 8.6 &  9.4 & 22.5 &  8.8 & 22.0 & 7.4 & 17.1 &  9.8 & 10.6 & 13.6\\\\\n",
       "\t3 & 2022-08-01 &  9.3 & 10.5 &  9.6 &  8.8 & 25.2 & 10.5 & 7.9 & 6.6 & 11.2 & 9.0 &  9.1 & 21.1 &  8.6 & 21.4 & 7.0 & 13.7 &  9.3 & 11.5 & 13.4\\\\\n",
       "\t4 & 2022-07-01 &  9.4 & 10.4 & 10.6 &  8.5 & 23.2 & 10.7 & 8.0 & 6.8 & 11.3 & 9.6 &  8.4 & 20.9 &  9.3 & 21.3 & 6.8 & 11.6 &  9.4 & 11.7 & 12.8\\\\\n",
       "\t5 & 2022-06-01 &  8.7 & 10.5 &  9.0 &  8.2 & 22.0 & 10.0 & 8.1 & 6.5 & 11.6 & 9.6 &  8.5 & 20.5 & 10.3 & 19.2 & 6.1 &  9.9 &  9.0 & 10.8 & 12.6\\\\\n",
       "\t6 & 2022-05-01 &  7.7 &  9.9 &  8.8 &  8.7 & 20.1 &  8.5 & 7.1 & 5.8 & 10.5 & 8.3 &  7.3 & 18.5 &  9.1 & 16.8 & 5.8 & 10.2 &  8.1 &  8.7 & 11.8\\\\\n",
       "\\end{tabular}\n"
      ],
      "text/markdown": [
       "\n",
       "A data.frame: 6 × 20\n",
       "\n",
       "| <!--/--> | Period &lt;date&gt; | Austria &lt;dbl&gt; | Belgium &lt;dbl&gt; | Cyprus &lt;dbl&gt; | Germany &lt;dbl&gt; | Estonia &lt;dbl&gt; | Spain &lt;dbl&gt; | Finland &lt;dbl&gt; | France &lt;dbl&gt; | Greece &lt;dbl&gt; | Ireland &lt;dbl&gt; | Italy &lt;dbl&gt; | Lithuania &lt;dbl&gt; | Luxembourg &lt;dbl&gt; | Latvia &lt;dbl&gt; | Malta &lt;dbl&gt; | Netherlands &lt;dbl&gt; | Portugal &lt;dbl&gt; | Slovenia &lt;dbl&gt; | Slovakia &lt;dbl&gt; |\n",
       "|---|---|---|---|---|---|---|---|---|---|---|---|---|---|---|---|---|---|---|---|---|\n",
       "| 1 | 2022-10-01 | 11.5 | 13.1 |  8.6 | 11.6 | 22.4 |  7.3 | 8.3 | 7.1 |  9.8 | 9.6 | 12.8 | 22.0 |  8.8 | 21.8 | 7.5 | 16.8 | 10.6 | 10.3 | 14.5 |\n",
       "| 2 | 2022-09-01 | 10.9 | 12.1 |  9.0 | 10.9 | 24.1 |  9.0 | 8.4 | 6.2 | 12.1 | 8.6 |  9.4 | 22.5 |  8.8 | 22.0 | 7.4 | 17.1 |  9.8 | 10.6 | 13.6 |\n",
       "| 3 | 2022-08-01 |  9.3 | 10.5 |  9.6 |  8.8 | 25.2 | 10.5 | 7.9 | 6.6 | 11.2 | 9.0 |  9.1 | 21.1 |  8.6 | 21.4 | 7.0 | 13.7 |  9.3 | 11.5 | 13.4 |\n",
       "| 4 | 2022-07-01 |  9.4 | 10.4 | 10.6 |  8.5 | 23.2 | 10.7 | 8.0 | 6.8 | 11.3 | 9.6 |  8.4 | 20.9 |  9.3 | 21.3 | 6.8 | 11.6 |  9.4 | 11.7 | 12.8 |\n",
       "| 5 | 2022-06-01 |  8.7 | 10.5 |  9.0 |  8.2 | 22.0 | 10.0 | 8.1 | 6.5 | 11.6 | 9.6 |  8.5 | 20.5 | 10.3 | 19.2 | 6.1 |  9.9 |  9.0 | 10.8 | 12.6 |\n",
       "| 6 | 2022-05-01 |  7.7 |  9.9 |  8.8 |  8.7 | 20.1 |  8.5 | 7.1 | 5.8 | 10.5 | 8.3 |  7.3 | 18.5 |  9.1 | 16.8 | 5.8 | 10.2 |  8.1 |  8.7 | 11.8 |\n",
       "\n"
      ],
      "text/plain": [
       "  Period     Austria Belgium Cyprus Germany Estonia Spain Finland France Greece\n",
       "1 2022-10-01 11.5    13.1     8.6   11.6    22.4     7.3  8.3     7.1     9.8  \n",
       "2 2022-09-01 10.9    12.1     9.0   10.9    24.1     9.0  8.4     6.2    12.1  \n",
       "3 2022-08-01  9.3    10.5     9.6    8.8    25.2    10.5  7.9     6.6    11.2  \n",
       "4 2022-07-01  9.4    10.4    10.6    8.5    23.2    10.7  8.0     6.8    11.3  \n",
       "5 2022-06-01  8.7    10.5     9.0    8.2    22.0    10.0  8.1     6.5    11.6  \n",
       "6 2022-05-01  7.7     9.9     8.8    8.7    20.1     8.5  7.1     5.8    10.5  \n",
       "  Ireland Italy Lithuania Luxembourg Latvia Malta Netherlands Portugal Slovenia\n",
       "1 9.6     12.8  22.0       8.8       21.8   7.5   16.8        10.6     10.3    \n",
       "2 8.6      9.4  22.5       8.8       22.0   7.4   17.1         9.8     10.6    \n",
       "3 9.0      9.1  21.1       8.6       21.4   7.0   13.7         9.3     11.5    \n",
       "4 9.6      8.4  20.9       9.3       21.3   6.8   11.6         9.4     11.7    \n",
       "5 9.6      8.5  20.5      10.3       19.2   6.1    9.9         9.0     10.8    \n",
       "6 8.3      7.3  18.5       9.1       16.8   5.8   10.2         8.1      8.7    \n",
       "  Slovakia\n",
       "1 14.5    \n",
       "2 13.6    \n",
       "3 13.4    \n",
       "4 12.8    \n",
       "5 12.6    \n",
       "6 11.8    "
      ]
     },
     "metadata": {},
     "output_type": "display_data"
    }
   ],
   "source": [
    "head(eurozone_countries_inflation)"
   ]
  },
  {
   "cell_type": "code",
   "execution_count": 11,
   "id": "98c067b8-4b57-42dc-a0e0-cafc266a415e",
   "metadata": {
    "vscode": {
     "languageId": "r"
    }
   },
   "outputs": [],
   "source": [
    "eurozone_countries_inflation_avg <- data.frame(eurozone_countries_inflation[1], (rowMeans(eurozone_countries_inflation[2:20], na.rm=TRUE)))\n",
    "other_countries_inflation_avg <- data.frame(other_countries_inflation[1], (rowMeans(other_countries_inflation[2:9], na.rm=TRUE)))\n",
    "EU_countries_inflation <- data.frame(eurozone_countries_inflation[1], select(inflation_data, matches(\"EU\")))\n",
    "Poland_inflation <- data.frame(eurozone_countries_inflation[1], select(inflation_data, matches(\"Poland\")))"
   ]
  },
  {
   "cell_type": "code",
   "execution_count": 12,
   "id": "9adefc7a-1d46-4e18-bb08-10a1b83a61b5",
   "metadata": {
    "vscode": {
     "languageId": "r"
    }
   },
   "outputs": [],
   "source": [
    "inflation_avg <- data.frame(eurozone_countries_inflation[1], eurozone_countries_inflation_avg[2], other_countries_inflation_avg[2], EU_countries_inflation[2], Poland_inflation[2])\n",
    "\n",
    "colnames(inflation_avg)[1] <- \"Period\"\n",
    "colnames(inflation_avg)[2] <- \"Eurozone\"\n",
    "colnames(inflation_avg)[3] <- \"Other\"\n",
    "colnames(inflation_avg)[4] <- \"EU\"\n",
    "colnames(inflation_avg)[5] <- \"Poland\""
   ]
  },
  {
   "cell_type": "code",
   "execution_count": 13,
   "id": "f0d2e28e-ba28-448d-9034-6f2c189a9f8d",
   "metadata": {
    "vscode": {
     "languageId": "r"
    }
   },
   "outputs": [],
   "source": [
    "# January 2018 - October 2022\n",
    "n_months = 58"
   ]
  },
  {
   "cell_type": "code",
   "execution_count": 14,
   "id": "bbbb9269-664f-4987-9434-37a155bf79f0",
   "metadata": {
    "vscode": {
     "languageId": "r"
    }
   },
   "outputs": [],
   "source": [
    "copy_inf = subset(inflation_data, select=c(Period))[c(2:n_months),]"
   ]
  },
  {
   "cell_type": "code",
   "execution_count": 15,
   "id": "bb15db98-c116-48da-b555-ea55b698fdd6",
   "metadata": {
    "vscode": {
     "languageId": "r"
    }
   },
   "outputs": [],
   "source": [
    "inflation_from2018 = subset(inflation_data, select=-c(EU..changing.composition.))[c(2:n_months),]\n",
    "inflation_from2018['average'] = rowMeans(inflation_from2018[2:28], na.rm=TRUE)"
   ]
  },
  {
   "cell_type": "code",
   "execution_count": 16,
   "id": "b44d29e1-db57-4cc4-9e14-7e1c67085a25",
   "metadata": {
    "vscode": {
     "languageId": "r"
    }
   },
   "outputs": [],
   "source": [
    "deposits_from2018 = subset(deposits_data, select=-c(Slovakia..Slovak.koruna, Slovenia..Slovenian.tolar, Malta..Maltese.lira, Estonia..Estonian.kroon, Latvia..Latvian.lats, Lithuania..Lithuanian.litas))[c(1:(n_months-1)),]\n",
    "deposits_from2018['average'] = rowMeans(deposits_from2018[2:28], na.rm=TRUE)"
   ]
  },
  {
   "cell_type": "code",
   "execution_count": 17,
   "id": "7c133fbe-4ba8-43b9-9aa2-d156379e0c9f",
   "metadata": {
    "vscode": {
     "languageId": "r"
    }
   },
   "outputs": [],
   "source": [
    "inf_cols = colnames(subset(inflation_data, select=-c(Period, EU..changing.composition.)))"
   ]
  },
  {
   "cell_type": "code",
   "execution_count": 18,
   "id": "418abc2e-77b6-40fe-a46c-96359256e494",
   "metadata": {
    "vscode": {
     "languageId": "r"
    }
   },
   "outputs": [],
   "source": [
    "dep_cols = colnames(subset(deposits_data[2:34], select=-c(Slovakia..Slovak.koruna, Slovenia..Slovenian.tolar, Malta..Maltese.lira, Estonia..Estonian.kroon, Latvia..Latvian.lats, Lithuania..Lithuanian.litas)))"
   ]
  },
  {
   "cell_type": "code",
   "execution_count": 19,
   "id": "3e36f7a7-20e4-4c50-b36e-279679cb5a04",
   "metadata": {
    "vscode": {
     "languageId": "r"
    }
   },
   "outputs": [
    {
     "data": {
      "text/html": [
       "<style>\n",
       ".list-inline {list-style: none; margin:0; padding: 0}\n",
       ".list-inline>li {display: inline-block}\n",
       ".list-inline>li:not(:last-child)::after {content: \"\\00b7\"; padding: 0 .5ex}\n",
       "</style>\n",
       "<ol class=list-inline><li>'Austria'</li><li>'Belgium'</li><li>'Bulgaria'</li><li>'Cyprus'</li><li>'Czech.Republic'</li><li>'Germany'</li><li>'Denmark'</li><li>'Estonia'</li><li>'Spain'</li><li>'Finland'</li><li>'France'</li><li>'Greece'</li><li>'Croatia'</li><li>'Hungary'</li><li>'Ireland'</li><li>'Italy'</li><li>'Lithuania'</li><li>'Luxembourg'</li><li>'Latvia'</li><li>'Malta'</li><li>'Netherlands'</li><li>'Poland'</li><li>'Portugal'</li><li>'Romania'</li><li>'Sweden'</li><li>'Slovenia'</li><li>'Slovakia'</li></ol>\n"
      ],
      "text/latex": [
       "\\begin{enumerate*}\n",
       "\\item 'Austria'\n",
       "\\item 'Belgium'\n",
       "\\item 'Bulgaria'\n",
       "\\item 'Cyprus'\n",
       "\\item 'Czech.Republic'\n",
       "\\item 'Germany'\n",
       "\\item 'Denmark'\n",
       "\\item 'Estonia'\n",
       "\\item 'Spain'\n",
       "\\item 'Finland'\n",
       "\\item 'France'\n",
       "\\item 'Greece'\n",
       "\\item 'Croatia'\n",
       "\\item 'Hungary'\n",
       "\\item 'Ireland'\n",
       "\\item 'Italy'\n",
       "\\item 'Lithuania'\n",
       "\\item 'Luxembourg'\n",
       "\\item 'Latvia'\n",
       "\\item 'Malta'\n",
       "\\item 'Netherlands'\n",
       "\\item 'Poland'\n",
       "\\item 'Portugal'\n",
       "\\item 'Romania'\n",
       "\\item 'Sweden'\n",
       "\\item 'Slovenia'\n",
       "\\item 'Slovakia'\n",
       "\\end{enumerate*}\n"
      ],
      "text/markdown": [
       "1. 'Austria'\n",
       "2. 'Belgium'\n",
       "3. 'Bulgaria'\n",
       "4. 'Cyprus'\n",
       "5. 'Czech.Republic'\n",
       "6. 'Germany'\n",
       "7. 'Denmark'\n",
       "8. 'Estonia'\n",
       "9. 'Spain'\n",
       "10. 'Finland'\n",
       "11. 'France'\n",
       "12. 'Greece'\n",
       "13. 'Croatia'\n",
       "14. 'Hungary'\n",
       "15. 'Ireland'\n",
       "16. 'Italy'\n",
       "17. 'Lithuania'\n",
       "18. 'Luxembourg'\n",
       "19. 'Latvia'\n",
       "20. 'Malta'\n",
       "21. 'Netherlands'\n",
       "22. 'Poland'\n",
       "23. 'Portugal'\n",
       "24. 'Romania'\n",
       "25. 'Sweden'\n",
       "26. 'Slovenia'\n",
       "27. 'Slovakia'\n",
       "\n",
       "\n"
      ],
      "text/plain": [
       " [1] \"Austria\"        \"Belgium\"        \"Bulgaria\"       \"Cyprus\"        \n",
       " [5] \"Czech.Republic\" \"Germany\"        \"Denmark\"        \"Estonia\"       \n",
       " [9] \"Spain\"          \"Finland\"        \"France\"         \"Greece\"        \n",
       "[13] \"Croatia\"        \"Hungary\"        \"Ireland\"        \"Italy\"         \n",
       "[17] \"Lithuania\"      \"Luxembourg\"     \"Latvia\"         \"Malta\"         \n",
       "[21] \"Netherlands\"    \"Poland\"         \"Portugal\"       \"Romania\"       \n",
       "[25] \"Sweden\"         \"Slovenia\"       \"Slovakia\"      "
      ]
     },
     "metadata": {},
     "output_type": "display_data"
    }
   ],
   "source": [
    "inf_cols"
   ]
  },
  {
   "cell_type": "code",
   "execution_count": 20,
   "id": "af289ca0-e2e6-4f3b-b2e5-d592ee7ee674",
   "metadata": {
    "vscode": {
     "languageId": "r"
    }
   },
   "outputs": [
    {
     "data": {
      "text/html": [
       "<style>\n",
       ".list-inline {list-style: none; margin:0; padding: 0}\n",
       ".list-inline>li {display: inline-block}\n",
       ".list-inline>li:not(:last-child)::after {content: \"\\00b7\"; padding: 0 .5ex}\n",
       "</style>\n",
       "<ol class=list-inline><li>'Austria..Euro'</li><li>'Belgium..Euro'</li><li>'Bulgaria..Bulgarian.lev'</li><li>'Cyprus..Euro'</li><li>'Czech.Republic..Czech.koruna'</li><li>'Germany..Euro'</li><li>'Denmark..Danish.krone'</li><li>'Estonia..Euro'</li><li>'Spain..Euro'</li><li>'Finland..Euro'</li><li>'France..Euro'</li><li>'Greece..Euro'</li><li>'Croatia..Croatian.kuna'</li><li>'Hungary..Hungarian.forint'</li><li>'Ireland..Euro'</li><li>'Italy..Euro'</li><li>'Lithuania..Euro'</li><li>'Luxembourg..Euro'</li><li>'Latvia..Euro'</li><li>'Malta..Euro'</li><li>'Netherlands..Euro'</li><li>'Poland..Polish.zloty'</li><li>'Portugal..Euro'</li><li>'Romania..Romanian.leu'</li><li>'Sweden..Swedish.krona'</li><li>'Slovenia..Euro'</li><li>'Slovakia..Euro'</li></ol>\n"
      ],
      "text/latex": [
       "\\begin{enumerate*}\n",
       "\\item 'Austria..Euro'\n",
       "\\item 'Belgium..Euro'\n",
       "\\item 'Bulgaria..Bulgarian.lev'\n",
       "\\item 'Cyprus..Euro'\n",
       "\\item 'Czech.Republic..Czech.koruna'\n",
       "\\item 'Germany..Euro'\n",
       "\\item 'Denmark..Danish.krone'\n",
       "\\item 'Estonia..Euro'\n",
       "\\item 'Spain..Euro'\n",
       "\\item 'Finland..Euro'\n",
       "\\item 'France..Euro'\n",
       "\\item 'Greece..Euro'\n",
       "\\item 'Croatia..Croatian.kuna'\n",
       "\\item 'Hungary..Hungarian.forint'\n",
       "\\item 'Ireland..Euro'\n",
       "\\item 'Italy..Euro'\n",
       "\\item 'Lithuania..Euro'\n",
       "\\item 'Luxembourg..Euro'\n",
       "\\item 'Latvia..Euro'\n",
       "\\item 'Malta..Euro'\n",
       "\\item 'Netherlands..Euro'\n",
       "\\item 'Poland..Polish.zloty'\n",
       "\\item 'Portugal..Euro'\n",
       "\\item 'Romania..Romanian.leu'\n",
       "\\item 'Sweden..Swedish.krona'\n",
       "\\item 'Slovenia..Euro'\n",
       "\\item 'Slovakia..Euro'\n",
       "\\end{enumerate*}\n"
      ],
      "text/markdown": [
       "1. 'Austria..Euro'\n",
       "2. 'Belgium..Euro'\n",
       "3. 'Bulgaria..Bulgarian.lev'\n",
       "4. 'Cyprus..Euro'\n",
       "5. 'Czech.Republic..Czech.koruna'\n",
       "6. 'Germany..Euro'\n",
       "7. 'Denmark..Danish.krone'\n",
       "8. 'Estonia..Euro'\n",
       "9. 'Spain..Euro'\n",
       "10. 'Finland..Euro'\n",
       "11. 'France..Euro'\n",
       "12. 'Greece..Euro'\n",
       "13. 'Croatia..Croatian.kuna'\n",
       "14. 'Hungary..Hungarian.forint'\n",
       "15. 'Ireland..Euro'\n",
       "16. 'Italy..Euro'\n",
       "17. 'Lithuania..Euro'\n",
       "18. 'Luxembourg..Euro'\n",
       "19. 'Latvia..Euro'\n",
       "20. 'Malta..Euro'\n",
       "21. 'Netherlands..Euro'\n",
       "22. 'Poland..Polish.zloty'\n",
       "23. 'Portugal..Euro'\n",
       "24. 'Romania..Romanian.leu'\n",
       "25. 'Sweden..Swedish.krona'\n",
       "26. 'Slovenia..Euro'\n",
       "27. 'Slovakia..Euro'\n",
       "\n",
       "\n"
      ],
      "text/plain": [
       " [1] \"Austria..Euro\"                \"Belgium..Euro\"               \n",
       " [3] \"Bulgaria..Bulgarian.lev\"      \"Cyprus..Euro\"                \n",
       " [5] \"Czech.Republic..Czech.koruna\" \"Germany..Euro\"               \n",
       " [7] \"Denmark..Danish.krone\"        \"Estonia..Euro\"               \n",
       " [9] \"Spain..Euro\"                  \"Finland..Euro\"               \n",
       "[11] \"France..Euro\"                 \"Greece..Euro\"                \n",
       "[13] \"Croatia..Croatian.kuna\"       \"Hungary..Hungarian.forint\"   \n",
       "[15] \"Ireland..Euro\"                \"Italy..Euro\"                 \n",
       "[17] \"Lithuania..Euro\"              \"Luxembourg..Euro\"            \n",
       "[19] \"Latvia..Euro\"                 \"Malta..Euro\"                 \n",
       "[21] \"Netherlands..Euro\"            \"Poland..Polish.zloty\"        \n",
       "[23] \"Portugal..Euro\"               \"Romania..Romanian.leu\"       \n",
       "[25] \"Sweden..Swedish.krona\"        \"Slovenia..Euro\"              \n",
       "[27] \"Slovakia..Euro\"              "
      ]
     },
     "metadata": {},
     "output_type": "display_data"
    }
   ],
   "source": [
    "dep_cols"
   ]
  },
  {
   "cell_type": "code",
   "execution_count": 21,
   "id": "452cd275-fa75-49fc-9331-7f08c553fb27",
   "metadata": {
    "vscode": {
     "languageId": "r"
    }
   },
   "outputs": [],
   "source": [
    "deposits_to_inflation <- data.frame(copy_inf)\n",
    "for (i in 1:length(dep_cols)){\n",
    "    col_inf <- inf_cols[i]\n",
    "    col_dep <- dep_cols[i]\n",
    "    new_column = deposits_from2018[col_dep] / ( inflation_from2018[col_inf] + 0.01)\n",
    "    deposits_to_inflation[col_inf] = new_column\n",
    "}\n",
    "names(deposits_to_inflation)[names(deposits_to_inflation) == \"copy_inf\"] <- \"Period\"\n",
    "# deposits_to_inflation[Period] = periods_from2018\n",
    "deposits_to_inflation['average'] = rowMeans(deposits_from2018[2:28], na.rm=TRUE)"
   ]
  },
  {
   "cell_type": "code",
   "execution_count": 22,
   "id": "87ea3ae1-3369-411f-a027-28e420c4bbd2",
   "metadata": {},
   "outputs": [],
   "source": [
    "# eurozone\n",
    "deposits_to_inflation['average_eurozone'] = \n",
    "rowMeans(select(deposits_to_inflation, matches(\n",
    "    \"Austria|Belgium|Cyprus|Germany|Estonia|Spain|Finland|France|Greece|Ireland|Italy|Lithuania|Luxembourg|Latvia|Malta|Netherlands|Portugal|Slovenia|Slovakia\")), na.rm=TRUE)"
   ]
  },
  {
   "cell_type": "code",
   "execution_count": 23,
   "id": "91db7a85-7106-4702-906f-8a59801dc214",
   "metadata": {},
   "outputs": [],
   "source": [
    "# and non-eurozone\n",
    "deposits_to_inflation['average_not_eurozone'] = \n",
    "rowMeans(select(deposits_to_inflation, !matches(\n",
    "    \"Period|Austria|Belgium|Cyprus|Germany|Estonia|Spain|Finland|France|Greece|Ireland|Italy|Lithuania|Luxembourg|Latvia|Malta|Netherlands|Portugal|Slovenia|Slovakia|average|average_eurozone\")), na.rm=TRUE)"
   ]
  },
  {
   "cell_type": "code",
   "execution_count": 24,
   "id": "910d6bef-55c4-40cc-904a-a187b897644a",
   "metadata": {
    "vscode": {
     "languageId": "r"
    }
   },
   "outputs": [],
   "source": [
    "country1 = 'Poland'\n",
    "country2 = 'France'\n",
    "country3 = 'Hungary'\n",
    "country4 = 'Slovakia'"
   ]
  },
  {
   "cell_type": "code",
   "execution_count": 25,
   "id": "101a302d-bc53-433a-be39-88aa4294cce2",
   "metadata": {
    "vscode": {
     "languageId": "r"
    }
   },
   "outputs": [
    {
     "name": "stderr",
     "output_type": "stream",
     "text": [
      "Warning message:\n",
      "\"\u001b[1m\u001b[22mUsing `size` aesthetic for lines was deprecated in ggplot2 3.4.0.\n",
      "\u001b[36mℹ\u001b[39m Please use `linewidth` instead.\"\n"
     ]
    },
    {
     "data": {
      "image/png": "[encoded data removed]",
      "text/plain": [
       "plot without title"
      ]
     },
     "metadata": {
      "image/png": {
       "height": 420,
       "width": 420
      }
     },
     "output_type": "display_data"
    }
   ],
   "source": [
    "ggplot(data = deposits_to_inflation) +\n",
    "  geom_line(aes(x = Period, y = Poland), color=\"#FF0000\", size=1) +\n",
    "  theme(plot.margin = margin(.2,1,0.2,0.2, \"cm\")) + \n",
    "  labs(x = \"Date\",\n",
    "       y = \"Deposits/Inflation\",\n",
    "       title = \"Deposits/Inflation in Poland\")"
   ]
  },
  {
   "cell_type": "code",
   "execution_count": 26,
   "id": "4ae3367d-ca4c-45fd-856b-769758588d2e",
   "metadata": {},
   "outputs": [
    {
     "data": {
      "image/png": "[encoded data removed]",
      "text/plain": [
       "plot without title"
      ]
     },
     "metadata": {
      "image/png": {
       "height": 420,
       "width": 420
      }
     },
     "output_type": "display_data"
    }
   ],
   "source": [
    "ggplot(data = deposits_to_inflation) +\n",
    "  geom_line(aes(x = Period, y = Poland), color=\"#FF0000\", size=1) +\n",
    "geom_line(aes(x = Period, y = average_eurozone), color=\"#0072BD\", size=1) +\n",
    "geom_line(aes(x = Period, y = average_not_eurozone), color=\"#00FF00\", size=1) +\n",
    "geom_line(aes(x = Period, y = average), color=\"#8B008B\", size=1) +\n",
    "  theme(plot.margin = margin(.2,1,0.2,0.2, \"cm\")) + \n",
    "  labs(x = \"Date\",\n",
    "       y = \"Deposits/Inflation\",\n",
    "       title = \"Deposits/Inflation in Poland\")"
   ]
  },
  {
   "cell_type": "code",
   "execution_count": 27,
   "id": "d199e3ef-80cf-4f60-9402-9ed55f5207e9",
   "metadata": {
    "tags": [],
    "vscode": {
     "languageId": "r"
    }
   },
   "outputs": [],
   "source": [
    "plot <- function(dataset, x_axis, y1, y2, y3, y4, y5, y_lab, title) {\n",
    "  ggplot(data = dataset) +\n",
    "    geom_line(aes(x = x_axis, y = y1), colour=\"#FF0000\", size=1) +\n",
    "    geom_line(aes(x = x_axis, y = y2), color=\"#0072BD\", size=1) +\n",
    "    geom_line(aes(x = x_axis, y = y3), color=\"#00FF00\", size=1) +\n",
    "    geom_line(aes(x = x_axis, y = y4), color=\"#000000\", size=1) +\n",
    "    geom_line(aes(x = x_axis, y = y5), color=\"#8B008B\", size=1) +\n",
    "    theme(plot.margin = margin(.5,.5,.5,.5, \"cm\")) + \n",
    "    scale_x_date(date_labels = \"%b-%Y\") +\n",
    "    labs(x = \"Date\",\n",
    "        y = y_lab, \n",
    "        title = title)\n",
    "}"
   ]
  },
  {
   "cell_type": "code",
   "execution_count": 28,
   "id": "97996bd2-6133-418d-af73-e74fbccaa785",
   "metadata": {
    "vscode": {
     "languageId": "r"
    }
   },
   "outputs": [
    {
     "name": "stderr",
     "output_type": "stream",
     "text": [
      "Warning message:\n",
      "\"\u001b[1m\u001b[22mRemoved 1 row containing missing values (`geom_line()`).\"\n"
     ]
    },
    {
     "data": {
      "image/png": "[encoded data removed]",
      "text/plain": [
       "plot without title"
      ]
     },
     "metadata": {
      "image/png": {
       "height": 420,
       "width": 420
      }
     },
     "output_type": "display_data"
    }
   ],
   "source": [
    "plot(deposits_to_inflation, deposits_to_inflation$Period, deposits_to_inflation$Poland, deposits_to_inflation$France, \n",
    "     deposits_to_inflation$Hungary, deposits_to_inflation$Romania, deposits_to_inflation$average, \"Deposits/Inflation\", \"Deposits/Inflation in chosen countries\")"
   ]
  },
  {
   "cell_type": "code",
   "execution_count": 29,
   "id": "779c4824-d71c-4acc-b1f2-4af65af6b496",
   "metadata": {
    "vscode": {
     "languageId": "r"
    }
   },
   "outputs": [
    {
     "data": {
      "image/png": "[encoded data removed]",
      "text/plain": [
       "plot without title"
      ]
     },
     "metadata": {
      "image/png": {
       "height": 420,
       "width": 420
      }
     },
     "output_type": "display_data"
    }
   ],
   "source": [
    "plot(inflation_from2018, inflation_from2018$Period, inflation_from2018$Poland, inflation_from2018$France, \n",
    "     inflation_from2018$Hungary, inflation_from2018$Romania, inflation_from2018$average, \"Inflation\", \"Inflation in chosen countries\")"
   ]
  },
  {
   "cell_type": "code",
   "execution_count": 30,
   "id": "7e3f1766-fb17-4428-91fd-7bf8b8f4ae26",
   "metadata": {
    "vscode": {
     "languageId": "r"
    }
   },
   "outputs": [
    {
     "name": "stderr",
     "output_type": "stream",
     "text": [
      "Warning message:\n",
      "\"\u001b[1m\u001b[22mRemoved 1 row containing missing values (`geom_line()`).\"\n"
     ]
    },
    {
     "data": {
      "image/png": "[encoded data removed]",
      "text/plain": [
       "plot without title"
      ]
     },
     "metadata": {
      "image/png": {
       "height": 420,
       "width": 420
      }
     },
     "output_type": "display_data"
    }
   ],
   "source": [
    "plot(deposits_from2018, deposits_from2018$Period, deposits_from2018$Poland, deposits_from2018$France, \n",
    "     deposits_from2018$Hungary, deposits_from2018$Romania, deposits_from2018$average, \"Deposits\", \"Deposits in chosen countries\")"
   ]
  },
  {
   "cell_type": "code",
   "execution_count": 31,
   "id": "f0ec2f75-d2d2-43c7-8599-15597c122eb9",
   "metadata": {
    "vscode": {
     "languageId": "r"
    }
   },
   "outputs": [],
   "source": [
    "# Creating ranges of intervals\n",
    "before_pandemic <- as.Date(\"01/01/2018\", \"%d/%m/%Y\")\n",
    "pandemic <- as.Date(\"01/03/2020\", \"%d/%m/%Y\")\n",
    "before_war <- as.Date(\"01/02/2021\", \"%d/%m/%Y\")\n",
    "war <- as.Date(\"01/02/2022\", \"%d/%m/%Y\")\n",
    "now <- as.Date(\"01/09/2022\", \"%d/%m/%Y\")"
   ]
  },
  {
   "cell_type": "code",
   "execution_count": 32,
   "id": "d5c0e875-94fc-4049-bb28-04be3dd9476e",
   "metadata": {
    "vscode": {
     "languageId": "r"
    }
   },
   "outputs": [],
   "source": [
    "# Split data to intervals\n",
    "before_pandemic_data <- deposits_to_inflation %>% filter(Period >= before_pandemic & Period < pandemic)\n",
    "pandemic_data <- deposits_to_inflation %>% filter(Period >= pandemic & Period < before_war)\n",
    "before_war_data <- deposits_to_inflation %>% filter(Period >= before_war & Period < war)\n",
    "war_data <- deposits_to_inflation %>% filter(Period >= war & Period <= now)"
   ]
  },
  {
   "cell_type": "code",
   "execution_count": 33,
   "id": "de12a5be-f739-4f72-a3a3-9c41cbcd9e5c",
   "metadata": {
    "vscode": {
     "languageId": "r"
    }
   },
   "outputs": [
    {
     "data": {
      "image/png": "[encoded data removed]",
      "text/plain": [
       "plot without title"
      ]
     },
     "metadata": {
      "image/png": {
       "height": 420,
       "width": 420
      }
     },
     "output_type": "display_data"
    }
   ],
   "source": [
    "# before pandemic\n",
    "plot(before_pandemic_data, before_pandemic_data$Period, before_pandemic_data$Poland, before_pandemic_data$France, \n",
    "     before_pandemic_data$Hungary, before_pandemic_data$Romania, before_pandemic_data$average, \"Deposits/Inflation\", \"Before pandemic\")"
   ]
  },
  {
   "cell_type": "code",
   "execution_count": 34,
   "id": "d9f1bfb6-b379-4b26-8a62-cae24fb12ed7",
   "metadata": {
    "vscode": {
     "languageId": "r"
    }
   },
   "outputs": [
    {
     "data": {
      "image/png": "[encoded data removed]",
      "text/plain": [
       "plot without title"
      ]
     },
     "metadata": {
      "image/png": {
       "height": 420,
       "width": 420
      }
     },
     "output_type": "display_data"
    }
   ],
   "source": [
    "# during pandemic\n",
    "plot(pandemic_data, pandemic_data$Period, pandemic_data$Poland, pandemic_data$France, \n",
    "     pandemic_data$Hungary, pandemic_data$Romania, pandemic_data$average, \"Deposits/Inflation\", \"During pandemic\")"
   ]
  },
  {
   "cell_type": "code",
   "execution_count": 35,
   "id": "1c0e2e0e-17f4-41e4-8498-20d3f5eea77e",
   "metadata": {
    "vscode": {
     "languageId": "r"
    }
   },
   "outputs": [
    {
     "data": {
      "image/png": "[encoded data removed]",
      "text/plain": [
       "plot without title"
      ]
     },
     "metadata": {
      "image/png": {
       "height": 420,
       "width": 420
      }
     },
     "output_type": "display_data"
    }
   ],
   "source": [
    "plot(before_war_data, before_war_data$Period, before_war_data$Poland, before_war_data$France, \n",
    "     before_war_data$Hungary, before_war_data$Romania, before_war_data$average, \"Deposits/Inflation\", \"Year before war started\")"
   ]
  },
  {
   "cell_type": "code",
   "execution_count": 36,
   "id": "f6957859-3c23-462a-98db-2f35a6a286ac",
   "metadata": {
    "vscode": {
     "languageId": "r"
    }
   },
   "outputs": [
    {
     "name": "stderr",
     "output_type": "stream",
     "text": [
      "Warning message:\n",
      "\"\u001b[1m\u001b[22mRemoved 1 row containing missing values (`geom_line()`).\"\n"
     ]
    },
    {
     "data": {
      "image/png": "[encoded data removed]",
      "text/plain": [
       "plot without title"
      ]
     },
     "metadata": {
      "image/png": {
       "height": 420,
       "width": 420
      }
     },
     "output_type": "display_data"
    }
   ],
   "source": [
    "plot(war_data, war_data$Period, war_data$Poland, war_data$France, war_data$Hungary, war_data$Romania, war_data$average, \"Deposits/Inflation\", \"After war started\")"
   ]
  },
  {
   "cell_type": "markdown",
   "id": "979debf6-a3dc-4f89-b08e-a107efb7f495",
   "metadata": {
    "vscode": {
     "languageId": "r"
    }
   },
   "source": [
    "# Tidy"
   ]
  },
  {
   "cell_type": "code",
   "execution_count": 37,
   "id": "5bfa6baf-e42b-4a2d-946d-63ae826ad413",
   "metadata": {},
   "outputs": [],
   "source": [
    "deposits_to_inflation_tidy = deposits_to_inflation |> pivot_longer(-Period, names_to = \"country\", values_to = \"coefficient\")\n",
    "# sort by countries\n",
    "deposits_to_inflation_tidy = arrange(deposits_to_inflation_tidy, country, Period)"
   ]
  },
  {
   "cell_type": "code",
   "execution_count": 38,
   "id": "665aea95-937a-42e8-8a7a-0b149729c4c8",
   "metadata": {
    "vscode": {
     "languageId": "r"
    }
   },
   "outputs": [
    {
     "data": {
      "text/html": [
       "<table class=\"dataframe\">\n",
       "<caption>A tibble: 6 × 3</caption>\n",
       "<thead>\n",
       "\t<tr><th scope=col>Period</th><th scope=col>country</th><th scope=col>coefficient</th></tr>\n",
       "\t<tr><th scope=col>&lt;date&gt;</th><th scope=col>&lt;chr&gt;</th><th scope=col>&lt;dbl&gt;</th></tr>\n",
       "</thead>\n",
       "<tbody>\n",
       "\t<tr><td>2018-01-01</td><td>Austria</td><td>0.12041885</td></tr>\n",
       "\t<tr><td>2018-02-01</td><td>Austria</td><td>0.10994764</td></tr>\n",
       "\t<tr><td>2018-03-01</td><td>Austria</td><td>0.09950249</td></tr>\n",
       "\t<tr><td>2018-04-01</td><td>Austria</td><td>0.10447761</td></tr>\n",
       "\t<tr><td>2018-05-01</td><td>Austria</td><td>0.09478673</td></tr>\n",
       "\t<tr><td>2018-06-01</td><td>Austria</td><td>0.08658009</td></tr>\n",
       "</tbody>\n",
       "</table>\n"
      ],
      "text/latex": [
       "A tibble: 6 × 3\n",
       "\\begin{tabular}{lll}\n",
       " Period & country & coefficient\\\\\n",
       " <date> & <chr> & <dbl>\\\\\n",
       "\\hline\n",
       "\t 2018-01-01 & Austria & 0.12041885\\\\\n",
       "\t 2018-02-01 & Austria & 0.10994764\\\\\n",
       "\t 2018-03-01 & Austria & 0.09950249\\\\\n",
       "\t 2018-04-01 & Austria & 0.10447761\\\\\n",
       "\t 2018-05-01 & Austria & 0.09478673\\\\\n",
       "\t 2018-06-01 & Austria & 0.08658009\\\\\n",
       "\\end{tabular}\n"
      ],
      "text/markdown": [
       "\n",
       "A tibble: 6 × 3\n",
       "\n",
       "| Period &lt;date&gt; | country &lt;chr&gt; | coefficient &lt;dbl&gt; |\n",
       "|---|---|---|\n",
       "| 2018-01-01 | Austria | 0.12041885 |\n",
       "| 2018-02-01 | Austria | 0.10994764 |\n",
       "| 2018-03-01 | Austria | 0.09950249 |\n",
       "| 2018-04-01 | Austria | 0.10447761 |\n",
       "| 2018-05-01 | Austria | 0.09478673 |\n",
       "| 2018-06-01 | Austria | 0.08658009 |\n",
       "\n"
      ],
      "text/plain": [
       "  Period     country coefficient\n",
       "1 2018-01-01 Austria 0.12041885 \n",
       "2 2018-02-01 Austria 0.10994764 \n",
       "3 2018-03-01 Austria 0.09950249 \n",
       "4 2018-04-01 Austria 0.10447761 \n",
       "5 2018-05-01 Austria 0.09478673 \n",
       "6 2018-06-01 Austria 0.08658009 "
      ]
     },
     "metadata": {},
     "output_type": "display_data"
    }
   ],
   "source": [
    "head(deposits_to_inflation_tidy)"
   ]
  },
  {
   "cell_type": "code",
   "execution_count": 39,
   "id": "dc222878-2982-468c-a9c1-0e212fc22609",
   "metadata": {},
   "outputs": [],
   "source": [
    "before_pandemic_data_tidy <- before_pandemic_data |> pivot_longer(-Period, names_to = \"country\", values_to = \"coefficient\")\n",
    "pandemic_data_tidy <- pandemic_data |> pivot_longer(-Period, names_to = \"country\", values_to = \"coefficient\")\n",
    "before_war_data_tidy <- before_war_data |> pivot_longer(-Period, names_to = \"country\", values_to = \"coefficient\")\n",
    "war_data_tidy <- war_data |> pivot_longer(-Period, names_to = \"country\", values_to = \"coefficient\")"
   ]
  },
  {
   "cell_type": "code",
   "execution_count": 40,
   "id": "c8aa6285-860d-420f-bd74-dc771185dfc1",
   "metadata": {},
   "outputs": [],
   "source": [
    "options(warn=-1)\n",
    "# options(warn=0)"
   ]
  },
  {
   "cell_type": "code",
   "execution_count": 41,
   "id": "543bdd5f-c4b6-4bfc-9acf-51e6715ffac5",
   "metadata": {
    "vscode": {
     "languageId": "r"
    }
   },
   "outputs": [],
   "source": [
    "plot <- function(data, title, countries) {\n",
    "  data |>\n",
    "    ggplot(aes(x=Period, y=coefficient, group=country, color=country)) +\n",
    "    scale_color_viridis(discrete = TRUE, labels = countries) +\n",
    "    geom_line(size=1) +\n",
    "    guides(fill=guide_legend(title=NULL)) +\n",
    "    xlab(\"Data\") + ylab(\"Współczynnik\") +\n",
    "    ggtitle(title) +\n",
    "    theme_ipsum() +\n",
    "    scale_x_date(date_labels = \"%b-%Y\") +\n",
    "    theme(\n",
    "      legend.title = element_blank(),\n",
    "      plot.title = element_text(size=18),\n",
    "      axis.title.x = element_text(size=14),\n",
    "      axis.title.y = element_text(size=14),\n",
    "        text=element_text(family=\"CM Roman\", size=21)\n",
    "    )\n",
    "}"
   ]
  },
  {
   "cell_type": "code",
   "execution_count": 42,
   "id": "80089129-4f68-41fb-9142-fc02d4388795",
   "metadata": {},
   "outputs": [
    {
     "data": {
      "text/html": [
       "<table class=\"dataframe\">\n",
       "<caption>A data.frame: 6 × 31</caption>\n",
       "<thead>\n",
       "\t<tr><th></th><th scope=col>Period</th><th scope=col>Austria</th><th scope=col>Belgium</th><th scope=col>Bulgaria</th><th scope=col>Cyprus</th><th scope=col>Czech.Republic</th><th scope=col>Germany</th><th scope=col>Denmark</th><th scope=col>Estonia</th><th scope=col>Spain</th><th scope=col>⋯</th><th scope=col>Netherlands</th><th scope=col>Poland</th><th scope=col>Portugal</th><th scope=col>Romania</th><th scope=col>Sweden</th><th scope=col>Slovenia</th><th scope=col>Slovakia</th><th scope=col>average</th><th scope=col>average_eurozone</th><th scope=col>average_not_eurozone</th></tr>\n",
       "\t<tr><th></th><th scope=col>&lt;date&gt;</th><th scope=col>&lt;dbl&gt;</th><th scope=col>&lt;dbl&gt;</th><th scope=col>&lt;dbl&gt;</th><th scope=col>&lt;dbl&gt;</th><th scope=col>&lt;dbl&gt;</th><th scope=col>&lt;dbl&gt;</th><th scope=col>&lt;dbl&gt;</th><th scope=col>&lt;dbl&gt;</th><th scope=col>&lt;dbl&gt;</th><th scope=col>⋯</th><th scope=col>&lt;dbl&gt;</th><th scope=col>&lt;dbl&gt;</th><th scope=col>&lt;dbl&gt;</th><th scope=col>&lt;dbl&gt;</th><th scope=col>&lt;dbl&gt;</th><th scope=col>&lt;dbl&gt;</th><th scope=col>&lt;dbl&gt;</th><th scope=col>&lt;dbl&gt;</th><th scope=col>&lt;dbl&gt;</th><th scope=col>&lt;dbl&gt;</th></tr>\n",
       "</thead>\n",
       "<tbody>\n",
       "\t<tr><th scope=row>1</th><td>2022-09-01</td><td>0.07332722</td><td>0.069364162</td><td>0.007687380</td><td>0.012208657</td><td>0.3425042</td><td>0.07699358</td><td> 0.10351035</td><td>0.03898797</td><td>0.0177580466</td><td>⋯</td><td>0.1075395</td><td>0.3462763</td><td>0.005096840</td><td>0.4802386</td><td>0.16003880</td><td>0.010367578</td><td>0.05657605</td><td>1.2850000</td><td>0.06046098</td><td>0.2064305</td></tr>\n",
       "\t<tr><th scope=row>2</th><td>2022-08-01</td><td>0.03974221</td><td>0.035204567</td><td>0.007328448</td><td>0.006243496</td><td>0.3495032</td><td>0.05561862</td><td> 0.02522704</td><td>0.03292344</td><td>0.0009514748</td><td>⋯</td><td>0.1115974</td><td>0.3524646</td><td>0.007518797</td><td>0.4673178</td><td>0.12723449</td><td>0.003475239</td><td>0.03579418</td><td>1.3492593</td><td>0.04492382</td><td>0.2232848</td></tr>\n",
       "\t<tr><th scope=row>3</th><td>2022-07-01</td><td>0.02444208</td><td>0.010566763</td><td>0.006036217</td><td>0.004712535</td><td>0.3437319</td><td>0.03642773</td><td>-0.04578564</td><td>0.02542008</td><td>0.0028011204</td><td>⋯</td><td>0.1369509</td><td>0.3413089</td><td>0.009564293</td><td>0.4219831</td><td>0.10830325</td><td>0.002561913</td><td>0.01639344</td><td>1.1159259</td><td>0.03252531</td><td>0.2065824</td></tr>\n",
       "\t<tr><th scope=row>4</th><td>2022-06-01</td><td>0.01377727</td><td>0.013320647</td><td>0.004051317</td><td>0.005549390</td><td>0.3232992</td><td>0.02070646</td><td>-0.04939627</td><td>0.02226261</td><td>0.0009990010</td><td>⋯</td><td>0.1483350</td><td>0.3166784</td><td>0.007769145</td><td>0.3358955</td><td>0.05948373</td><td>0.002775208</td><td>0.01268834</td><td>0.8903704</td><td>0.02637482</td><td>0.1717538</td></tr>\n",
       "\t<tr><th scope=row>5</th><td>2022-05-01</td><td>0.01037613</td><td>0.007063572</td><td>0.002982849</td><td>0.005675369</td><td>0.2978304</td><td>0.01607348</td><td>-0.06090134</td><td>0.02486325</td><td>0.0011750881</td><td>⋯</td><td>0.1204701</td><td>0.2638564</td><td>0.004932182</td><td>0.2586624</td><td>0.05059920</td><td>0.004592423</td><td>0.01778154</td><td>0.7237037</td><td>0.02531048</td><td>0.1491628</td></tr>\n",
       "\t<tr><th scope=row>6</th><td>2022-04-01</td><td>0.01406470</td><td>0.006444683</td><td>0.003303055</td><td>0.005807201</td><td>0.3156699</td><td>0.01792574</td><td>-0.06882591</td><td>0.02302459</td><td>0.0012033694</td><td>⋯</td><td>0.1025870</td><td>0.1779141</td><td>0.005398111</td><td>0.2186166</td><td>0.04841150</td><td>0.004048583</td><td>0.02199817</td><td>0.6200000</td><td>0.02640109</td><td>0.1380048</td></tr>\n",
       "</tbody>\n",
       "</table>\n"
      ],
      "text/latex": [
       "A data.frame: 6 × 31\n",
       "\\begin{tabular}{r|lllllllllllllllllllll}\n",
       "  & Period & Austria & Belgium & Bulgaria & Cyprus & Czech.Republic & Germany & Denmark & Estonia & Spain & ⋯ & Netherlands & Poland & Portugal & Romania & Sweden & Slovenia & Slovakia & average & average\\_eurozone & average\\_not\\_eurozone\\\\\n",
       "  & <date> & <dbl> & <dbl> & <dbl> & <dbl> & <dbl> & <dbl> & <dbl> & <dbl> & <dbl> & ⋯ & <dbl> & <dbl> & <dbl> & <dbl> & <dbl> & <dbl> & <dbl> & <dbl> & <dbl> & <dbl>\\\\\n",
       "\\hline\n",
       "\t1 & 2022-09-01 & 0.07332722 & 0.069364162 & 0.007687380 & 0.012208657 & 0.3425042 & 0.07699358 &  0.10351035 & 0.03898797 & 0.0177580466 & ⋯ & 0.1075395 & 0.3462763 & 0.005096840 & 0.4802386 & 0.16003880 & 0.010367578 & 0.05657605 & 1.2850000 & 0.06046098 & 0.2064305\\\\\n",
       "\t2 & 2022-08-01 & 0.03974221 & 0.035204567 & 0.007328448 & 0.006243496 & 0.3495032 & 0.05561862 &  0.02522704 & 0.03292344 & 0.0009514748 & ⋯ & 0.1115974 & 0.3524646 & 0.007518797 & 0.4673178 & 0.12723449 & 0.003475239 & 0.03579418 & 1.3492593 & 0.04492382 & 0.2232848\\\\\n",
       "\t3 & 2022-07-01 & 0.02444208 & 0.010566763 & 0.006036217 & 0.004712535 & 0.3437319 & 0.03642773 & -0.04578564 & 0.02542008 & 0.0028011204 & ⋯ & 0.1369509 & 0.3413089 & 0.009564293 & 0.4219831 & 0.10830325 & 0.002561913 & 0.01639344 & 1.1159259 & 0.03252531 & 0.2065824\\\\\n",
       "\t4 & 2022-06-01 & 0.01377727 & 0.013320647 & 0.004051317 & 0.005549390 & 0.3232992 & 0.02070646 & -0.04939627 & 0.02226261 & 0.0009990010 & ⋯ & 0.1483350 & 0.3166784 & 0.007769145 & 0.3358955 & 0.05948373 & 0.002775208 & 0.01268834 & 0.8903704 & 0.02637482 & 0.1717538\\\\\n",
       "\t5 & 2022-05-01 & 0.01037613 & 0.007063572 & 0.002982849 & 0.005675369 & 0.2978304 & 0.01607348 & -0.06090134 & 0.02486325 & 0.0011750881 & ⋯ & 0.1204701 & 0.2638564 & 0.004932182 & 0.2586624 & 0.05059920 & 0.004592423 & 0.01778154 & 0.7237037 & 0.02531048 & 0.1491628\\\\\n",
       "\t6 & 2022-04-01 & 0.01406470 & 0.006444683 & 0.003303055 & 0.005807201 & 0.3156699 & 0.01792574 & -0.06882591 & 0.02302459 & 0.0012033694 & ⋯ & 0.1025870 & 0.1779141 & 0.005398111 & 0.2186166 & 0.04841150 & 0.004048583 & 0.02199817 & 0.6200000 & 0.02640109 & 0.1380048\\\\\n",
       "\\end{tabular}\n"
      ],
      "text/markdown": [
       "\n",
       "A data.frame: 6 × 31\n",
       "\n",
       "| <!--/--> | Period &lt;date&gt; | Austria &lt;dbl&gt; | Belgium &lt;dbl&gt; | Bulgaria &lt;dbl&gt; | Cyprus &lt;dbl&gt; | Czech.Republic &lt;dbl&gt; | Germany &lt;dbl&gt; | Denmark &lt;dbl&gt; | Estonia &lt;dbl&gt; | Spain &lt;dbl&gt; | ⋯ ⋯ | Netherlands &lt;dbl&gt; | Poland &lt;dbl&gt; | Portugal &lt;dbl&gt; | Romania &lt;dbl&gt; | Sweden &lt;dbl&gt; | Slovenia &lt;dbl&gt; | Slovakia &lt;dbl&gt; | average &lt;dbl&gt; | average_eurozone &lt;dbl&gt; | average_not_eurozone &lt;dbl&gt; |\n",
       "|---|---|---|---|---|---|---|---|---|---|---|---|---|---|---|---|---|---|---|---|---|---|\n",
       "| 1 | 2022-09-01 | 0.07332722 | 0.069364162 | 0.007687380 | 0.012208657 | 0.3425042 | 0.07699358 |  0.10351035 | 0.03898797 | 0.0177580466 | ⋯ | 0.1075395 | 0.3462763 | 0.005096840 | 0.4802386 | 0.16003880 | 0.010367578 | 0.05657605 | 1.2850000 | 0.06046098 | 0.2064305 |\n",
       "| 2 | 2022-08-01 | 0.03974221 | 0.035204567 | 0.007328448 | 0.006243496 | 0.3495032 | 0.05561862 |  0.02522704 | 0.03292344 | 0.0009514748 | ⋯ | 0.1115974 | 0.3524646 | 0.007518797 | 0.4673178 | 0.12723449 | 0.003475239 | 0.03579418 | 1.3492593 | 0.04492382 | 0.2232848 |\n",
       "| 3 | 2022-07-01 | 0.02444208 | 0.010566763 | 0.006036217 | 0.004712535 | 0.3437319 | 0.03642773 | -0.04578564 | 0.02542008 | 0.0028011204 | ⋯ | 0.1369509 | 0.3413089 | 0.009564293 | 0.4219831 | 0.10830325 | 0.002561913 | 0.01639344 | 1.1159259 | 0.03252531 | 0.2065824 |\n",
       "| 4 | 2022-06-01 | 0.01377727 | 0.013320647 | 0.004051317 | 0.005549390 | 0.3232992 | 0.02070646 | -0.04939627 | 0.02226261 | 0.0009990010 | ⋯ | 0.1483350 | 0.3166784 | 0.007769145 | 0.3358955 | 0.05948373 | 0.002775208 | 0.01268834 | 0.8903704 | 0.02637482 | 0.1717538 |\n",
       "| 5 | 2022-05-01 | 0.01037613 | 0.007063572 | 0.002982849 | 0.005675369 | 0.2978304 | 0.01607348 | -0.06090134 | 0.02486325 | 0.0011750881 | ⋯ | 0.1204701 | 0.2638564 | 0.004932182 | 0.2586624 | 0.05059920 | 0.004592423 | 0.01778154 | 0.7237037 | 0.02531048 | 0.1491628 |\n",
       "| 6 | 2022-04-01 | 0.01406470 | 0.006444683 | 0.003303055 | 0.005807201 | 0.3156699 | 0.01792574 | -0.06882591 | 0.02302459 | 0.0012033694 | ⋯ | 0.1025870 | 0.1779141 | 0.005398111 | 0.2186166 | 0.04841150 | 0.004048583 | 0.02199817 | 0.6200000 | 0.02640109 | 0.1380048 |\n",
       "\n"
      ],
      "text/plain": [
       "  Period     Austria    Belgium     Bulgaria    Cyprus      Czech.Republic\n",
       "1 2022-09-01 0.07332722 0.069364162 0.007687380 0.012208657 0.3425042     \n",
       "2 2022-08-01 0.03974221 0.035204567 0.007328448 0.006243496 0.3495032     \n",
       "3 2022-07-01 0.02444208 0.010566763 0.006036217 0.004712535 0.3437319     \n",
       "4 2022-06-01 0.01377727 0.013320647 0.004051317 0.005549390 0.3232992     \n",
       "5 2022-05-01 0.01037613 0.007063572 0.002982849 0.005675369 0.2978304     \n",
       "6 2022-04-01 0.01406470 0.006444683 0.003303055 0.005807201 0.3156699     \n",
       "  Germany    Denmark     Estonia    Spain        ⋯ Netherlands Poland   \n",
       "1 0.07699358  0.10351035 0.03898797 0.0177580466 ⋯ 0.1075395   0.3462763\n",
       "2 0.05561862  0.02522704 0.03292344 0.0009514748 ⋯ 0.1115974   0.3524646\n",
       "3 0.03642773 -0.04578564 0.02542008 0.0028011204 ⋯ 0.1369509   0.3413089\n",
       "4 0.02070646 -0.04939627 0.02226261 0.0009990010 ⋯ 0.1483350   0.3166784\n",
       "5 0.01607348 -0.06090134 0.02486325 0.0011750881 ⋯ 0.1204701   0.2638564\n",
       "6 0.01792574 -0.06882591 0.02302459 0.0012033694 ⋯ 0.1025870   0.1779141\n",
       "  Portugal    Romania   Sweden     Slovenia    Slovakia   average  \n",
       "1 0.005096840 0.4802386 0.16003880 0.010367578 0.05657605 1.2850000\n",
       "2 0.007518797 0.4673178 0.12723449 0.003475239 0.03579418 1.3492593\n",
       "3 0.009564293 0.4219831 0.10830325 0.002561913 0.01639344 1.1159259\n",
       "4 0.007769145 0.3358955 0.05948373 0.002775208 0.01268834 0.8903704\n",
       "5 0.004932182 0.2586624 0.05059920 0.004592423 0.01778154 0.7237037\n",
       "6 0.005398111 0.2186166 0.04841150 0.004048583 0.02199817 0.6200000\n",
       "  average_eurozone average_not_eurozone\n",
       "1 0.06046098       0.2064305           \n",
       "2 0.04492382       0.2232848           \n",
       "3 0.03252531       0.2065824           \n",
       "4 0.02637482       0.1717538           \n",
       "5 0.02531048       0.1491628           \n",
       "6 0.02640109       0.1380048           "
      ]
     },
     "metadata": {},
     "output_type": "display_data"
    }
   ],
   "source": [
    "head(deposits_to_inflation)"
   ]
  },
  {
   "cell_type": "code",
   "execution_count": 43,
   "id": "87bb361e-deda-496c-878d-0dd965864d02",
   "metadata": {},
   "outputs": [],
   "source": [
    "# ggplot(data = deposits_to_inflation) +\n",
    "#   geom_line(aes(x = Period, y = Poland), color=\"#FF0000\", size=1) +\n",
    "#   theme(plot.margin = margin(.2,1,0.2,0.2, \"cm\")) + \n",
    "#   labs(x = \"Date\",\n",
    "#        y = \"Deposits/Inflation\",\n",
    "#        title = \"Deposits/Inflation in Poland\")"
   ]
  },
  {
   "cell_type": "code",
   "execution_count": 62,
   "id": "b43fa58b-ce6c-402e-ad3a-0dadba3dd62e",
   "metadata": {},
   "outputs": [],
   "source": [
    "# countries = c( 'average', 'France', 'Hungary', 'Poland', 'Romania')\n",
    "countries = c( 'average','Hungary', 'Poland', 'Romania')\n",
    "# countries = c('average', 'Czech.Republic', 'Germany', 'Lithuania', 'Poland', 'Russia', 'Slovakia')"
   ]
  },
  {
   "cell_type": "code",
   "execution_count": 63,
   "id": "5dd0df40-5bc8-4fb0-b3aa-e0938c085c79",
   "metadata": {},
   "outputs": [],
   "source": [
    "picks_overall_tidy = filter(deposits_to_inflation_tidy, country %in% countries)\n",
    "picks_before_pandemic_data_tidy = filter(before_pandemic_data_tidy, country %in% countries)\n",
    "picks_pandemic_data_tidy = filter(pandemic_data_tidy, country %in% countries)\n",
    "picks_before_war_data_tidy = filter(before_war_data_tidy, country %in% countries)\n",
    "picks_war_data_tidy = filter(war_data_tidy, country %in% countries)\n"
   ]
  },
  {
   "cell_type": "code",
   "execution_count": 64,
   "id": "8129d80b-4223-433f-832c-2fbe352150dc",
   "metadata": {},
   "outputs": [],
   "source": [
    "options(repr.plot.width=12, repr.plot.height=10)"
   ]
  },
  {
   "cell_type": "code",
   "execution_count": 65,
   "id": "fd907313-62a1-49ec-9e4d-eed14c2d8d28",
   "metadata": {},
   "outputs": [
    {
     "data": {
      "image/png": "[encoded data removed]",
      "text/plain": [
       "plot without title"
      ]
     },
     "metadata": {
      "image/png": {
       "height": 600,
       "width": 720
      }
     },
     "output_type": "display_data"
    }
   ],
   "source": [
    "plot(picks_overall_tidy, \"Cały okres\", countries)"
   ]
  },
  {
   "cell_type": "code",
   "execution_count": 48,
   "id": "858601b4-4831-4a67-9cef-0d7846858114",
   "metadata": {
    "vscode": {
     "languageId": "r"
    }
   },
   "outputs": [
    {
     "data": {
      "image/png": "[encoded data removed]",
      "text/plain": [
       "plot without title"
      ]
     },
     "metadata": {
      "image/png": {
       "height": 600,
       "width": 720
      }
     },
     "output_type": "display_data"
    }
   ],
   "source": [
    "plot(picks_before_pandemic_data_tidy, \"Wybrane kraje przed pandemią\", countries)"
   ]
  },
  {
   "cell_type": "code",
   "execution_count": 49,
   "id": "8570c204-27f3-4a18-87fc-7cc6f8223aba",
   "metadata": {
    "vscode": {
     "languageId": "r"
    }
   },
   "outputs": [
    {
     "data": {
      "image/png": "[encoded data removed]",
      "text/plain": [
       "plot without title"
      ]
     },
     "metadata": {
      "image/png": {
       "height": 600,
       "width": 720
      }
     },
     "output_type": "display_data"
    }
   ],
   "source": [
    "plot(picks_pandemic_data_tidy, \"Wybrane kraje w trakcie pandemii\", countries)"
   ]
  },
  {
   "cell_type": "code",
   "execution_count": 50,
   "id": "7c1a55ab-38fd-45fa-9128-1ea7799d2a1f",
   "metadata": {
    "vscode": {
     "languageId": "r"
    }
   },
   "outputs": [
    {
     "data": {
      "image/png": "[encoded data removed]",
      "text/plain": [
       "plot without title"
      ]
     },
     "metadata": {
      "image/png": {
       "height": 600,
       "width": 720
      }
     },
     "output_type": "display_data"
    }
   ],
   "source": [
    "plot(picks_before_war_data_tidy, \"Rok przed wojną\", countries)"
   ]
  },
  {
   "cell_type": "code",
   "execution_count": 51,
   "id": "6ec7a1c9-2898-4c0a-a8b3-bf6fbb87b64d",
   "metadata": {
    "vscode": {
     "languageId": "r"
    }
   },
   "outputs": [
    {
     "data": {
      "image/png": "[encoded data removed]",
      "text/plain": [
       "plot without title"
      ]
     },
     "metadata": {
      "image/png": {
       "height": 600,
       "width": 720
      }
     },
     "output_type": "display_data"
    }
   ],
   "source": [
    "plot(picks_war_data_tidy, \"Ostatnio\", countries)"
   ]
  },
  {
   "cell_type": "code",
   "execution_count": 52,
   "id": "8bbb459d-7c75-4143-9c25-fa3e2f364bdc",
   "metadata": {
    "vscode": {
     "languageId": "r"
    }
   },
   "outputs": [],
   "source": [
    "picks_war_data_tidy <- picks_war_data_tidy |> filter(country == 'Poland') |> summary()"
   ]
  },
  {
   "cell_type": "code",
   "execution_count": 53,
   "id": "7306716e-eae1-4c36-abb8-f09455236088",
   "metadata": {},
   "outputs": [
    {
     "data": {
      "text/plain": [
       "     Period             country           coefficient    \n",
       " Min.   :2022-02-01   Length:8           Min.   :0.1450  \n",
       " 1st Qu.:2022-03-24   Class :character   1st Qu.:0.1704  \n",
       " Median :2022-05-16   Mode  :character   Median :0.2903  \n",
       " Mean   :2022-05-16                      Mean   :0.2614  \n",
       " 3rd Qu.:2022-07-08                      3rd Qu.:0.3426  \n",
       " Max.   :2022-09-01                      Max.   :0.3525  "
      ]
     },
     "metadata": {},
     "output_type": "display_data"
    }
   ],
   "source": [
    "picks_war_data_tidy"
   ]
  },
  {
   "cell_type": "code",
   "execution_count": 68,
   "id": "e1d11a2a-f856-4b56-9b38-0bd0dfebaa21",
   "metadata": {},
   "outputs": [
    {
     "name": "stdout",
     "output_type": "stream",
     "text": [
      "[1] \"average\"\n",
      "     Period             country           coefficient    \n",
      " Min.   :2022-02-01   Length:8           Min.   :0.4574  \n",
      " 1st Qu.:2022-03-24   Class :character   1st Qu.:0.6055  \n",
      " Median :2022-05-16   Mode  :character   Median :0.8070  \n",
      " Mean   :2022-05-16                      Mean   :0.8754  \n",
      " 3rd Qu.:2022-07-08                      3rd Qu.:1.1582  \n",
      " Max.   :2022-09-01                      Max.   :1.3493  \n",
      "[1] \"Hungary\"\n",
      "     Period             country           coefficient    \n",
      " Min.   :2022-02-01   Length:8           Min.   :0.2747  \n",
      " 1st Qu.:2022-03-24   Class :character   1st Qu.:0.3759  \n",
      " Median :2022-05-16   Mode  :character   Median :0.4017  \n",
      " Mean   :2022-05-16                      Mean   :0.3940  \n",
      " 3rd Qu.:2022-07-08                      3rd Qu.:0.4283  \n",
      " Max.   :2022-09-01                      Max.   :0.4731  \n",
      "                                         NA's   :1       \n",
      "[1] \"Poland\"\n",
      "     Period             country           coefficient    \n",
      " Min.   :2022-02-01   Length:8           Min.   :0.1450  \n",
      " 1st Qu.:2022-03-24   Class :character   1st Qu.:0.1704  \n",
      " Median :2022-05-16   Mode  :character   Median :0.2903  \n",
      " Mean   :2022-05-16                      Mean   :0.2614  \n",
      " 3rd Qu.:2022-07-08                      3rd Qu.:0.3426  \n",
      " Max.   :2022-09-01                      Max.   :0.3525  \n",
      "[1] \"Romania\"\n",
      "     Period             country           coefficient    \n",
      " Min.   :2022-02-01   Length:8           Min.   :0.1934  \n",
      " 1st Qu.:2022-03-24   Class :character   1st Qu.:0.2173  \n",
      " Median :2022-05-16   Mode  :character   Median :0.2973  \n",
      " Mean   :2022-05-16                      Mean   :0.3237  \n",
      " 3rd Qu.:2022-07-08                      3rd Qu.:0.4333  \n",
      " Max.   :2022-09-01                      Max.   :0.4802  \n"
     ]
    }
   ],
   "source": [
    "for (c in countries){\n",
    "    print(c)\n",
    "    print(picks_overall_tidy |> filter(country == c) |> summary())\n",
    "}"
   ]
  },
  {
   "cell_type": "code",
   "execution_count": 69,
   "id": "a75500b3-db3a-414a-a75d-e69aa927b53a",
   "metadata": {},
   "outputs": [
    {
     "name": "stdout",
     "output_type": "stream",
     "text": [
      "[1] \"average\"\n",
      "     Period             country           coefficient    \n",
      " Min.   :2018-01-01   Length:26          Min.   :0.4456  \n",
      " 1st Qu.:2018-07-08   Class :character   1st Qu.:0.4898  \n",
      " Median :2019-01-16   Mode  :character   Median :0.4977  \n",
      " Mean   :2019-01-15                      Mean   :0.4981  \n",
      " 3rd Qu.:2019-07-24                      3rd Qu.:0.5142  \n",
      " Max.   :2020-02-01                      Max.   :0.5719  \n",
      "[1] \"Hungary\"\n",
      "     Period             country           coefficient     \n",
      " Min.   :2018-01-01   Length:26          Min.   :0.04199  \n",
      " 1st Qu.:2018-07-08   Class :character   1st Qu.:0.05020  \n",
      " Median :2019-01-16   Mode  :character   Median :0.06048  \n",
      " Mean   :2019-01-15                      Mean   :0.06754  \n",
      " 3rd Qu.:2019-07-24                      3rd Qu.:0.07349  \n",
      " Max.   :2020-02-01                      Max.   :0.14136  \n",
      "[1] \"Poland\"\n",
      "     Period             country           coefficient    \n",
      " Min.   :2018-01-01   Length:26          Min.   :0.2895  \n",
      " 1st Qu.:2018-07-08   Class :character   1st Qu.:0.5623  \n",
      " Median :2019-01-16   Mode  :character   Median :1.0238  \n",
      " Mean   :2019-01-15                      Mean   :1.0941  \n",
      " 3rd Qu.:2019-07-24                      3rd Qu.:1.3247  \n",
      " Max.   :2020-02-01                      Max.   :2.9016  \n",
      "[1] \"Romania\"\n",
      "     Period             country           coefficient    \n",
      " Min.   :2018-01-01   Length:26          Min.   :0.2274  \n",
      " 1st Qu.:2018-07-08   Class :character   1st Qu.:0.3049  \n",
      " Median :2019-01-16   Mode  :character   Median :0.3927  \n",
      " Mean   :2019-01-15                      Mean   :0.3983  \n",
      " 3rd Qu.:2019-07-24                      3rd Qu.:0.4921  \n",
      " Max.   :2020-02-01                      Max.   :0.6048  \n"
     ]
    }
   ],
   "source": [
    "for (c in countries){\n",
    "    print(c)\n",
    "    print(picks_before_pandemic_data_tidy |> filter(country == c) |> summary())\n",
    "}"
   ]
  },
  {
   "cell_type": "code",
   "execution_count": 70,
   "id": "91018d87-5a15-4eb8-af7c-d4e5c3aad22b",
   "metadata": {},
   "outputs": [
    {
     "name": "stdout",
     "output_type": "stream",
     "text": [
      "[1] \"average\"\n",
      "     Period             country           coefficient    \n",
      " Min.   :2020-03-01   Length:11          Min.   :0.2781  \n",
      " 1st Qu.:2020-05-16   Class :character   1st Qu.:0.3054  \n",
      " Median :2020-08-01   Mode  :character   Median :0.3319  \n",
      " Mean   :2020-08-01                      Mean   :0.3391  \n",
      " 3rd Qu.:2020-10-16                      3rd Qu.:0.3644  \n",
      " Max.   :2021-01-01                      Max.   :0.4311  \n",
      "[1] \"Hungary\"\n",
      "     Period             country           coefficient     \n",
      " Min.   :2020-03-01   Length:11          Min.   :0.05627  \n",
      " 1st Qu.:2020-05-16   Class :character   1st Qu.:0.07393  \n",
      " Median :2020-08-01   Mode  :character   Median :0.08638  \n",
      " Mean   :2020-08-01                      Mean   :0.10692  \n",
      " 3rd Qu.:2020-10-16                      3rd Qu.:0.11158  \n",
      " Max.   :2021-01-01                      Max.   :0.25339  \n",
      "[1] \"Poland\"\n",
      "     Period             country           coefficient     \n",
      " Min.   :2020-03-01   Length:11          Min.   :0.08895  \n",
      " 1st Qu.:2020-05-16   Class :character   1st Qu.:0.10364  \n",
      " Median :2020-08-01   Mode  :character   Median :0.12129  \n",
      " Mean   :2020-08-01                      Mean   :0.15653  \n",
      " 3rd Qu.:2020-10-16                      3rd Qu.:0.16716  \n",
      " Max.   :2021-01-01                      Max.   :0.31959  \n",
      "[1] \"Romania\"\n",
      "     Period             country           coefficient    \n",
      " Min.   :2020-03-01   Length:11          Min.   :0.6347  \n",
      " 1st Qu.:2020-05-16   Class :character   1st Qu.:0.6824  \n",
      " Median :2020-08-01   Mode  :character   Median :0.7403  \n",
      " Mean   :2020-08-01                      Mean   :0.7606  \n",
      " 3rd Qu.:2020-10-16                      3rd Qu.:0.8343  \n",
      " Max.   :2021-01-01                      Max.   :0.9448  \n"
     ]
    }
   ],
   "source": [
    "for (c in countries){\n",
    "    print(c)\n",
    "    print(picks_pandemic_data_tidy |> filter(country == c) |> summary())\n",
    "}"
   ]
  },
  {
   "cell_type": "code",
   "execution_count": 71,
   "id": "caa13f52-97ac-4c59-88f5-f5466a48725d",
   "metadata": {},
   "outputs": [
    {
     "name": "stdout",
     "output_type": "stream",
     "text": [
      "[1] \"average\"\n",
      "     Period             country           coefficient    \n",
      " Min.   :2021-02-01   Length:12          Min.   :0.2389  \n",
      " 1st Qu.:2021-04-23   Class :character   1st Qu.:0.2551  \n",
      " Median :2021-07-16   Mode  :character   Median :0.2794  \n",
      " Mean   :2021-07-16                      Mean   :0.2960  \n",
      " 3rd Qu.:2021-10-08                      3rd Qu.:0.3212  \n",
      " Max.   :2022-01-01                      Max.   :0.4156  \n",
      "[1] \"Hungary\"\n",
      "     Period             country           coefficient     \n",
      " Min.   :2021-02-01   Length:12          Min.   :0.05838  \n",
      " 1st Qu.:2021-04-23   Class :character   1st Qu.:0.07717  \n",
      " Median :2021-07-16   Mode  :character   Median :0.09221  \n",
      " Mean   :2021-07-16                      Mean   :0.11394  \n",
      " 3rd Qu.:2021-10-08                      3rd Qu.:0.12140  \n",
      " Max.   :2022-01-01                      Max.   :0.27686  \n",
      "[1] \"Poland\"\n",
      "     Period             country           coefficient     \n",
      " Min.   :2021-02-01   Length:12          Min.   :0.03718  \n",
      " 1st Qu.:2021-04-23   Class :character   1st Qu.:0.04582  \n",
      " Median :2021-07-16   Mode  :character   Median :0.05261  \n",
      " Mean   :2021-07-16                      Mean   :0.05931  \n",
      " 3rd Qu.:2021-10-08                      3rd Qu.:0.06254  \n",
      " Max.   :2022-01-01                      Max.   :0.11366  \n",
      "[1] \"Romania\"\n",
      "     Period             country           coefficient    \n",
      " Min.   :2021-02-01   Length:12          Min.   :0.1767  \n",
      " 1st Qu.:2021-04-23   Class :character   1st Qu.:0.2043  \n",
      " Median :2021-07-16   Mode  :character   Median :0.2891  \n",
      " Mean   :2021-07-16                      Mean   :0.2954  \n",
      " 3rd Qu.:2021-10-08                      3rd Qu.:0.3534  \n",
      " Max.   :2022-01-01                      Max.   :0.4821  \n"
     ]
    }
   ],
   "source": [
    "for (c in countries){\n",
    "    print(c)\n",
    "    print(picks_before_war_data_tidy |> filter(country == c) |> summary())\n",
    "}"
   ]
  },
  {
   "cell_type": "code",
   "execution_count": 72,
   "id": "28f56f40-261d-4e0c-b754-f4ecbb7fbaa1",
   "metadata": {},
   "outputs": [
    {
     "name": "stdout",
     "output_type": "stream",
     "text": [
      "[1] \"average\"\n",
      "     Period             country           coefficient    \n",
      " Min.   :2022-02-01   Length:8           Min.   :0.4574  \n",
      " 1st Qu.:2022-03-24   Class :character   1st Qu.:0.6055  \n",
      " Median :2022-05-16   Mode  :character   Median :0.8070  \n",
      " Mean   :2022-05-16                      Mean   :0.8754  \n",
      " 3rd Qu.:2022-07-08                      3rd Qu.:1.1582  \n",
      " Max.   :2022-09-01                      Max.   :1.3493  \n",
      "[1] \"Hungary\"\n",
      "     Period             country           coefficient    \n",
      " Min.   :2022-02-01   Length:8           Min.   :0.2747  \n",
      " 1st Qu.:2022-03-24   Class :character   1st Qu.:0.3759  \n",
      " Median :2022-05-16   Mode  :character   Median :0.4017  \n",
      " Mean   :2022-05-16                      Mean   :0.3940  \n",
      " 3rd Qu.:2022-07-08                      3rd Qu.:0.4283  \n",
      " Max.   :2022-09-01                      Max.   :0.4731  \n",
      "                                         NA's   :1       \n",
      "[1] \"Poland\"\n",
      "     Period             country           coefficient    \n",
      " Min.   :2022-02-01   Length:8           Min.   :0.1450  \n",
      " 1st Qu.:2022-03-24   Class :character   1st Qu.:0.1704  \n",
      " Median :2022-05-16   Mode  :character   Median :0.2903  \n",
      " Mean   :2022-05-16                      Mean   :0.2614  \n",
      " 3rd Qu.:2022-07-08                      3rd Qu.:0.3426  \n",
      " Max.   :2022-09-01                      Max.   :0.3525  \n",
      "[1] \"Romania\"\n",
      "     Period             country           coefficient    \n",
      " Min.   :2022-02-01   Length:8           Min.   :0.1934  \n",
      " 1st Qu.:2022-03-24   Class :character   1st Qu.:0.2173  \n",
      " Median :2022-05-16   Mode  :character   Median :0.2973  \n",
      " Mean   :2022-05-16                      Mean   :0.3237  \n",
      " 3rd Qu.:2022-07-08                      3rd Qu.:0.4333  \n",
      " Max.   :2022-09-01                      Max.   :0.4802  \n"
     ]
    }
   ],
   "source": [
    "for (c in countries){\n",
    "    print(c)\n",
    "    print(picks_war_data_tidy |> filter(country == c) |> summary())\n",
    "}"
   ]
  },
  {
   "cell_type": "code",
   "execution_count": null,
   "id": "b242443c-1d74-4b98-a6a6-64c020724eb8",
   "metadata": {},
   "outputs": [],
   "source": []
  },
  {
   "cell_type": "code",
   "execution_count": null,
   "id": "2d8bf579-6998-4e38-b17b-be160b08a29a",
   "metadata": {},
   "outputs": [],
   "source": []
  }
 ],
 "metadata": {
  "kernelspec": {
   "display_name": "R",
   "language": "R",
   "name": "ir"
  },
  "language_info": {
   "codemirror_mode": "r",
   "file_extension": ".r",
   "mimetype": "text/x-r-source",
   "name": "R",
   "pygments_lexer": "r",
   "version": "4.2.1"
  }
 },
 "nbformat": 4,
 "nbformat_minor": 5
}
