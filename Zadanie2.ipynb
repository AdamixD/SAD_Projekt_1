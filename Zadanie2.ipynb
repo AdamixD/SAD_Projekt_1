{
 "cells": [
  {
   "cell_type": "markdown",
   "id": "44057c13-9fe4-4cc5-80b0-706ef7be5ef7",
   "metadata": {},
   "source": [
    "# Zadanie 2"
   ]
  },
  {
   "cell_type": "code",
   "execution_count": null,
   "outputs": [],
   "source": [
    "library(glue)\n",
    "library(dplyr)\n",
    "library(readr)\n",
    "library(ggthemes)\n",
    "library(tidyr)\n",
    "library(hrbrthemes)\n",
    "library(viridis)\n",
    "library(ggplot2)\n",
    "library(ggpubr)"
   ],
   "metadata": {
    "collapsed": false,
    "pycharm": {
     "name": "#%%\n"
    }
   }
  },
  {
   "cell_type": "code",
   "execution_count": null,
   "outputs": [],
   "source": [
    "inflation_data <- read.csv(\"data/EU_Inflation_HICP_data_mod.csv\", header = TRUE, sep = \",\")\n",
    "deposits_data <- read.csv(\"data/EU_deposits_1yr_data_mod.csv\", header = TRUE, sep = \",\")"
   ],
   "metadata": {
    "collapsed": false,
    "pycharm": {
     "name": "#%%\n"
    }
   }
  },
  {
   "cell_type": "code",
   "execution_count": null,
   "outputs": [],
   "source": [
    "head(inflation_data)"
   ],
   "metadata": {
    "collapsed": false,
    "pycharm": {
     "name": "#%%\n"
    }
   }
  },
  {
   "cell_type": "code",
   "execution_count": null,
   "outputs": [],
   "source": [
    "head(deposits_data)"
   ],
   "metadata": {
    "collapsed": false,
    "pycharm": {
     "name": "#%%\n"
    }
   }
  },
  {
   "cell_type": "code",
   "execution_count": null,
   "outputs": [],
   "source": [
    "eurozone_countries_inflation_tidy <- inflation_data |> pivot_longer(-Period, names_to = \"country\", values_to = \"inflation\")"
   ],
   "metadata": {
    "collapsed": false,
    "pycharm": {
     "name": "#%%\n"
    }
   }
  },
  {
   "cell_type": "code",
   "execution_count": null,
   "outputs": [],
   "source": [
    "eurozone_countries_inflation_tidy"
   ],
   "metadata": {
    "collapsed": false,
    "pycharm": {
     "name": "#%%\n"
    }
   }
  },
  {
   "cell_type": "code",
   "execution_count": null,
   "outputs": [],
   "source": [
    "inflation_data$Period <- as.Date(inflation_data$Period, format = \"%d/%m/%Y\")\n",
    "deposits_data$Period <- as.Date(deposits_data$Period, format = \"%d/%m/%Y\")"
   ],
   "metadata": {
    "collapsed": false,
    "pycharm": {
     "name": "#%%\n"
    }
   }
  },
  {
   "cell_type": "code",
   "execution_count": null,
   "outputs": [],
   "source": [
    "deposits_data[, 2:34] <- sapply(deposits_data[, 2:34], as.numeric)\n",
    "# str(deposits_data)"
   ],
   "metadata": {
    "collapsed": false,
    "pycharm": {
     "name": "#%%\n"
    }
   }
  },
  {
   "cell_type": "code",
   "execution_count": null,
   "outputs": [],
   "source": [
    "eurozone_countries_inflation <- select(inflation_data, matches(\"Period|Austria|Belgium|Cyprus|Germany|Estonia|Spain|Finland|France|Greece|Ireland|Italy|Lithuania|Luxembourg|Latvia|Malta|Netherlands|Portugal|Slovenia|Slovakia\"))\n",
    "other_countries_inflation <- select(inflation_data, !matches(\"EU|Austria|Belgium|Cyprus|Germany|Estonia|Spain|Finland|France|Greece|Ireland|Italy|Lithuania|Luxembourg|Latvia|Malta|Netherlands|Portugal|Slovenia|Slovakia\"))\n",
    "# EU_countries_inflation <- select(inflation_data, matches(\"Period|EU\"))\n",
    "# Poland_inflation <- select(inflation_data, matches(\"Period|Poland\"))"
   ],
   "metadata": {
    "collapsed": false,
    "pycharm": {
     "name": "#%%\n"
    }
   }
  },
  {
   "cell_type": "code",
   "execution_count": null,
   "outputs": [],
   "source": [
    "head(eurozone_countries_inflation)"
   ],
   "metadata": {
    "collapsed": false,
    "pycharm": {
     "name": "#%%\n"
    }
   }
  },
  {
   "cell_type": "code",
   "execution_count": null,
   "outputs": [],
   "source": [
    "eurozone_countries_inflation_avg <- data.frame(eurozone_countries_inflation[1], (rowMeans(eurozone_countries_inflation[2:20], na.rm=TRUE)))\n",
    "other_countries_inflation_avg <- data.frame(other_countries_inflation[1], (rowMeans(other_countries_inflation[2:9], na.rm=TRUE)))\n",
    "EU_countries_inflation <- data.frame(eurozone_countries_inflation[1], select(inflation_data, matches(\"EU\")))\n",
    "Poland_inflation <- data.frame(eurozone_countries_inflation[1], select(inflation_data, matches(\"Poland\")))"
   ],
   "metadata": {
    "collapsed": false,
    "pycharm": {
     "name": "#%%\n"
    }
   }
  },
  {
   "cell_type": "code",
   "execution_count": null,
   "outputs": [],
   "source": [
    "inflation_avg <- data.frame(eurozone_countries_inflation[1], eurozone_countries_inflation_avg[2], other_countries_inflation_avg[2], EU_countries_inflation[2], Poland_inflation[2])\n",
    "\n",
    "colnames(inflation_avg)[1] <- \"Period\"\n",
    "colnames(inflation_avg)[2] <- \"Eurozone\"\n",
    "colnames(inflation_avg)[3] <- \"Other\"\n",
    "colnames(inflation_avg)[4] <- \"EU\"\n",
    "colnames(inflation_avg)[5] <- \"Poland\""
   ],
   "metadata": {
    "collapsed": false,
    "pycharm": {
     "name": "#%%\n"
    }
   }
  },
  {
   "cell_type": "code",
   "execution_count": null,
   "outputs": [],
   "source": [
    "# January 2018 - October 2022\n",
    "n_months = 58"
   ],
   "metadata": {
    "collapsed": false,
    "pycharm": {
     "name": "#%%\n"
    }
   }
  },
  {
   "cell_type": "code",
   "execution_count": null,
   "outputs": [],
   "source": [
    "copy_inf = subset(inflation_data, select=c(Period))[c(2:n_months),]"
   ],
   "metadata": {
    "collapsed": false,
    "pycharm": {
     "name": "#%%\n"
    }
   }
  },
  {
   "cell_type": "code",
   "execution_count": null,
   "outputs": [],
   "source": [
    "inflation_from2018 = subset(inflation_data, select=-c(EU..changing.composition.))[c(2:n_months),]\n",
    "inflation_from2018['average'] = rowMeans(inflation_from2018[2:28], na.rm=TRUE)"
   ],
   "metadata": {
    "collapsed": false,
    "pycharm": {
     "name": "#%%\n"
    }
   }
  },
  {
   "cell_type": "code",
   "execution_count": null,
   "outputs": [],
   "source": [
    "deposits_from2018 = subset(deposits_data, select=-c(Slovakia..Slovak.koruna, Slovenia..Slovenian.tolar, Malta..Maltese.lira, Estonia..Estonian.kroon, Latvia..Latvian.lats, Lithuania..Lithuanian.litas))[c(1:(n_months-1)),]\n",
    "deposits_from2018['average'] = rowMeans(deposits_from2018[2:28], na.rm=TRUE)"
   ],
   "metadata": {
    "collapsed": false,
    "pycharm": {
     "name": "#%%\n"
    }
   }
  },
  {
   "cell_type": "code",
   "execution_count": null,
   "outputs": [],
   "source": [
    "inf_cols = colnames(subset(inflation_data, select=-c(Period, EU..changing.composition.)))"
   ],
   "metadata": {
    "collapsed": false,
    "pycharm": {
     "name": "#%%\n"
    }
   }
  },
  {
   "cell_type": "code",
   "execution_count": null,
   "outputs": [],
   "source": [
    "dep_cols = colnames(subset(deposits_data[2:34], select=-c(Slovakia..Slovak.koruna, Slovenia..Slovenian.tolar, Malta..Maltese.lira, Estonia..Estonian.kroon, Latvia..Latvian.lats, Lithuania..Lithuanian.litas)))"
   ],
   "metadata": {
    "collapsed": false,
    "pycharm": {
     "name": "#%%\n"
    }
   }
  },
  {
   "cell_type": "code",
   "execution_count": null,
   "outputs": [],
   "source": [
    "inf_cols"
   ],
   "metadata": {
    "collapsed": false,
    "pycharm": {
     "name": "#%%\n"
    }
   }
  },
  {
   "cell_type": "code",
   "execution_count": null,
   "outputs": [],
   "source": [
    "dep_cols"
   ],
   "metadata": {
    "collapsed": false,
    "pycharm": {
     "name": "#%%\n"
    }
   }
  },
  {
   "cell_type": "code",
   "execution_count": null,
   "outputs": [],
   "source": [
    "deposits_to_inflation <- data.frame(copy_inf)\n",
    "for (i in 1:length(dep_cols)){\n",
    "    col_inf <- inf_cols[i]\n",
    "    col_dep <- dep_cols[i]\n",
    "    new_column = deposits_from2018[col_dep] / ( inflation_from2018[col_inf] + 0.01)\n",
    "    deposits_to_inflation[col_inf] = new_column\n",
    "}\n",
    "names(deposits_to_inflation)[names(deposits_to_inflation) == \"copy_inf\"] <- \"Period\"\n",
    "# deposits_to_inflation[Period] = periods_from2018\n",
    "deposits_to_inflation['average'] = rowMeans(deposits_from2018[2:28], na.rm=TRUE)"
   ],
   "metadata": {
    "collapsed": false,
    "pycharm": {
     "name": "#%%\n"
    }
   }
  },
  {
   "cell_type": "code",
   "execution_count": null,
   "outputs": [],
   "source": [
    "# eurozone\n",
    "deposits_to_inflation['average_eurozone'] = \n",
    "rowMeans(select(deposits_to_inflation, matches(\n",
    "    \"Austria|Belgium|Cyprus|Germany|Estonia|Spain|Finland|France|Greece|Ireland|Italy|Lithuania|Luxembourg|Latvia|Malta|Netherlands|Portugal|Slovenia|Slovakia\")), na.rm=TRUE)"
   ],
   "metadata": {
    "collapsed": false,
    "pycharm": {
     "name": "#%%\n"
    }
   }
  },
  {
   "cell_type": "code",
   "execution_count": null,
   "outputs": [],
   "source": [
    "# and non-eurozone\n",
    "deposits_to_inflation['average_not_eurozone'] = \n",
    "rowMeans(select(deposits_to_inflation, !matches(\n",
    "    \"Period|Austria|Belgium|Cyprus|Germany|Estonia|Spain|Finland|France|Greece|Ireland|Italy|Lithuania|Luxembourg|Latvia|Malta|Netherlands|Portugal|Slovenia|Slovakia|average|average_eurozone\")), na.rm=TRUE)"
   ],
   "metadata": {
    "collapsed": false,
    "pycharm": {
     "name": "#%%\n"
    }
   }
  },
  {
   "cell_type": "code",
   "execution_count": null,
   "outputs": [],
   "source": [
    "country1 = 'Poland'\n",
    "country2 = 'France'\n",
    "country3 = 'Hungary'\n",
    "country4 = 'Slovakia'"
   ],
   "metadata": {
    "collapsed": false,
    "pycharm": {
     "name": "#%%\n"
    }
   }
  },
  {
   "cell_type": "code",
   "execution_count": null,
   "outputs": [],
   "source": [
    "ggplot(data = deposits_to_inflation) +\n",
    "  geom_line(aes(x = Period, y = Poland), color=\"#FF0000\", size=1) +\n",
    "  theme(plot.margin = margin(.2,1,0.2,0.2, \"cm\")) + \n",
    "  labs(x = \"Date\",\n",
    "       y = \"Deposits/Inflation\",\n",
    "       title = \"Deposits/Inflation in Poland\")"
   ],
   "metadata": {
    "collapsed": false,
    "pycharm": {
     "name": "#%%\n"
    }
   }
  },
  {
   "cell_type": "code",
   "execution_count": null,
   "outputs": [],
   "source": [
    "ggplot(data = deposits_to_inflation) +\n",
    "  geom_line(aes(x = Period, y = Poland), color=\"#FF0000\", size=1) +\n",
    "geom_line(aes(x = Period, y = average_eurozone), color=\"#0072BD\", size=1) +\n",
    "geom_line(aes(x = Period, y = average_not_eurozone), color=\"#00FF00\", size=1) +\n",
    "geom_line(aes(x = Period, y = average), color=\"#8B008B\", size=1) +\n",
    "  theme(plot.margin = margin(.2,1,0.2,0.2, \"cm\")) + \n",
    "  labs(x = \"Date\",\n",
    "       y = \"Deposits/Inflation\",\n",
    "       title = \"Deposits/Inflation in Poland\")"
   ],
   "metadata": {
    "collapsed": false,
    "pycharm": {
     "name": "#%%\n"
    }
   }
  },
  {
   "cell_type": "code",
   "execution_count": null,
   "outputs": [],
   "source": [
    "plot <- function(dataset, x_axis, y1, y2, y3, y4, y5, y_lab, title) {\n",
    "  ggplot(data = dataset) +\n",
    "    geom_line(aes(x = x_axis, y = y1), colour=\"#FF0000\", size=1) +\n",
    "    geom_line(aes(x = x_axis, y = y2), color=\"#0072BD\", size=1) +\n",
    "    geom_line(aes(x = x_axis, y = y3), color=\"#00FF00\", size=1) +\n",
    "    geom_line(aes(x = x_axis, y = y4), color=\"#000000\", size=1) +\n",
    "    geom_line(aes(x = x_axis, y = y5), color=\"#8B008B\", size=1) +\n",
    "    theme(plot.margin = margin(.5,.5,.5,.5, \"cm\")) + \n",
    "    scale_x_date(date_labels = \"%b-%Y\") +\n",
    "    labs(x = \"Date\",\n",
    "        y = y_lab, \n",
    "        title = title)\n",
    "}"
   ],
   "metadata": {
    "collapsed": false,
    "pycharm": {
     "name": "#%%\n"
    }
   }
  },
  {
   "cell_type": "code",
   "execution_count": null,
   "outputs": [],
   "source": [
    "plot(deposits_to_inflation, deposits_to_inflation$Period, deposits_to_inflation$Poland, deposits_to_inflation$France, \n",
    "     deposits_to_inflation$Hungary, deposits_to_inflation$Romania, deposits_to_inflation$average, \"Deposits/Inflation\", \"Deposits/Inflation in chosen countries\")"
   ],
   "metadata": {
    "collapsed": false,
    "pycharm": {
     "name": "#%%\n"
    }
   }
  },
  {
   "cell_type": "code",
   "execution_count": null,
   "outputs": [],
   "source": [
    "plot(inflation_from2018, inflation_from2018$Period, inflation_from2018$Poland, inflation_from2018$France, \n",
    "     inflation_from2018$Hungary, inflation_from2018$Romania, inflation_from2018$average, \"Inflation\", \"Inflation in chosen countries\")"
   ],
   "metadata": {
    "collapsed": false,
    "pycharm": {
     "name": "#%%\n"
    }
   }
  },
  {
   "cell_type": "code",
   "execution_count": null,
   "outputs": [],
   "source": [
    "plot(deposits_from2018, deposits_from2018$Period, deposits_from2018$Poland, deposits_from2018$France, \n",
    "     deposits_from2018$Hungary, deposits_from2018$Romania, deposits_from2018$average, \"Deposits\", \"Deposits in chosen countries\")"
   ],
   "metadata": {
    "collapsed": false,
    "pycharm": {
     "name": "#%%\n"
    }
   }
  },
  {
   "cell_type": "code",
   "execution_count": null,
   "outputs": [],
   "source": [
    "# Creating ranges of intervals\n",
    "before_pandemic <- as.Date(\"01/01/2018\", \"%d/%m/%Y\")\n",
    "pandemic <- as.Date(\"01/03/2020\", \"%d/%m/%Y\")\n",
    "before_war <- as.Date(\"01/02/2021\", \"%d/%m/%Y\")\n",
    "war <- as.Date(\"01/02/2022\", \"%d/%m/%Y\")\n",
    "now <- as.Date(\"01/09/2022\", \"%d/%m/%Y\")"
   ],
   "metadata": {
    "collapsed": false,
    "pycharm": {
     "name": "#%%\n"
    }
   }
  },
  {
   "cell_type": "code",
   "execution_count": null,
   "outputs": [],
   "source": [
    "# Split data to intervals\n",
    "before_pandemic_data <- deposits_to_inflation %>% filter(Period >= before_pandemic & Period < pandemic)\n",
    "pandemic_data <- deposits_to_inflation %>% filter(Period >= pandemic & Period < before_war)\n",
    "before_war_data <- deposits_to_inflation %>% filter(Period >= before_war & Period < war)\n",
    "war_data <- deposits_to_inflation %>% filter(Period >= war & Period <= now)"
   ],
   "metadata": {
    "collapsed": false,
    "pycharm": {
     "name": "#%%\n"
    }
   }
  },
  {
   "cell_type": "code",
   "execution_count": null,
   "outputs": [],
   "source": [
    "# before pandemic\n",
    "plot(before_pandemic_data, before_pandemic_data$Period, before_pandemic_data$Poland, before_pandemic_data$France, \n",
    "     before_pandemic_data$Hungary, before_pandemic_data$Romania, before_pandemic_data$average, \"Deposits/Inflation\", \"Before pandemic\")"
   ],
   "metadata": {
    "collapsed": false,
    "pycharm": {
     "name": "#%%\n"
    }
   }
  },
  {
   "cell_type": "code",
   "execution_count": null,
   "outputs": [],
   "source": [
    "# during pandemic\n",
    "plot(pandemic_data, pandemic_data$Period, pandemic_data$Poland, pandemic_data$France, \n",
    "     pandemic_data$Hungary, pandemic_data$Romania, pandemic_data$average, \"Deposits/Inflation\", \"During pandemic\")"
   ],
   "metadata": {
    "collapsed": false,
    "pycharm": {
     "name": "#%%\n"
    }
   }
  },
  {
   "cell_type": "code",
   "execution_count": null,
   "outputs": [],
   "source": [
    "plot(before_war_data, before_war_data$Period, before_war_data$Poland, before_war_data$France, \n",
    "     before_war_data$Hungary, before_war_data$Romania, before_war_data$average, \"Deposits/Inflation\", \"Year before war started\")"
   ],
   "metadata": {
    "collapsed": false,
    "pycharm": {
     "name": "#%%\n"
    }
   }
  },
  {
   "cell_type": "code",
   "execution_count": null,
   "outputs": [],
   "source": [
    "plot(war_data, war_data$Period, war_data$Poland, war_data$France, war_data$Hungary, war_data$Romania, war_data$average, \"Deposits/Inflation\", \"After war started\")"
   ],
   "metadata": {
    "collapsed": false,
    "pycharm": {
     "name": "#%%\n"
    }
   }
  },
  {
   "cell_type": "markdown",
   "source": [
    "# Tidy"
   ],
   "metadata": {
    "collapsed": false,
    "pycharm": {
     "name": "#%% md\n"
    }
   }
  },
  {
   "cell_type": "code",
   "execution_count": null,
   "outputs": [],
   "source": [
    "deposits_to_inflation_tidy = deposits_to_inflation |> pivot_longer(-Period, names_to = \"country\", values_to = \"coefficient\")\n",
    "# sort by countries\n",
    "deposits_to_inflation_tidy = arrange(deposits_to_inflation_tidy, country, Period)"
   ],
   "metadata": {
    "collapsed": false,
    "pycharm": {
     "name": "#%%\n"
    }
   }
  },
  {
   "cell_type": "code",
   "execution_count": null,
   "outputs": [],
   "source": [
    "head(deposits_to_inflation_tidy)"
   ],
   "metadata": {
    "collapsed": false,
    "pycharm": {
     "name": "#%%\n"
    }
   }
  },
  {
   "cell_type": "code",
   "execution_count": null,
   "outputs": [],
   "source": [
    "before_pandemic_data_tidy <- before_pandemic_data |> pivot_longer(-Period, names_to = \"country\", values_to = \"coefficient\")\n",
    "pandemic_data_tidy <- pandemic_data |> pivot_longer(-Period, names_to = \"country\", values_to = \"coefficient\")\n",
    "before_war_data_tidy <- before_war_data |> pivot_longer(-Period, names_to = \"country\", values_to = \"coefficient\")\n",
    "war_data_tidy <- war_data |> pivot_longer(-Period, names_to = \"country\", values_to = \"coefficient\")"
   ],
   "metadata": {
    "collapsed": false,
    "pycharm": {
     "name": "#%%\n"
    }
   }
  },
  {
   "cell_type": "code",
   "execution_count": null,
   "outputs": [],
   "source": [
    "options(warn=-1)"
   ],
   "metadata": {
    "collapsed": false,
    "pycharm": {
     "name": "#%%\n"
    }
   }
  },
  {
   "cell_type": "code",
   "execution_count": null,
   "outputs": [],
   "source": [
    "plot <- function(data, title, countries) {\n",
    "  data |>\n",
    "    ggplot(aes(x=Period, y=coefficient, group=country, color=country)) +\n",
    "    scale_color_viridis(discrete = TRUE, labels = countries) +\n",
    "    geom_line(size=1) +\n",
    "    guides(fill=guide_legend(title=NULL)) +\n",
    "    xlab(\"Data\") + ylab(\"Współczynnik\") +\n",
    "    ggtitle(title) +\n",
    "    theme_ipsum() +\n",
    "    scale_x_date(date_labels = \"%b-%Y\") +\n",
    "    theme(\n",
    "      legend.title = element_blank(),\n",
    "      plot.title = element_text(size=18),\n",
    "      axis.title.x = element_text(size=14),\n",
    "      axis.title.y = element_text(size=14),\n",
    "        text=element_text(family=\"CM Roman\")\n",
    "    )\n",
    "}"
   ],
   "metadata": {
    "collapsed": false,
    "pycharm": {
     "name": "#%%\n"
    }
   }
  },
  {
   "cell_type": "code",
   "execution_count": null,
   "outputs": [],
   "source": [
    "# ggplot(data = deposits_to_inflation) +\n",
    "#   geom_line(aes(x = Period, y = Poland), color=\"#FF0000\", size=1) +\n",
    "#   theme(plot.margin = margin(.2,1,0.2,0.2, \"cm\")) + \n",
    "#   labs(x = \"Date\",\n",
    "#        y = \"Deposits/Inflation\",\n",
    "#        title = \"Deposits/Inflation in Poland\")"
   ],
   "metadata": {
    "collapsed": false,
    "pycharm": {
     "name": "#%%\n"
    }
   }
  },
  {
   "cell_type": "code",
   "execution_count": null,
   "outputs": [],
   "source": [
    "countries = c( 'average', 'France', 'Greece', 'Hungary', 'Poland')"
   ],
   "metadata": {
    "collapsed": false,
    "pycharm": {
     "name": "#%%\n"
    }
   }
  },
  {
   "cell_type": "code",
   "execution_count": null,
   "outputs": [],
   "source": [
    "picks_overall_tidy = filter(deposits_to_inflation_tidy, country %in% countries)\n",
    "picks_before_pandemic_data_tidy = filter(before_pandemic_data_tidy, country %in% countries)\n",
    "picks_pandemic_data_tidy = filter(pandemic_data_tidy, country %in% countries)\n",
    "picks_before_war_data_tidy = filter(before_war_data_tidy, country %in% countries)\n",
    "picks_war_data_tidy = filter(war_data_tidy, country %in% countries)"
   ],
   "metadata": {
    "collapsed": false,
    "pycharm": {
     "name": "#%%\n"
    }
   }
  },
  {
   "cell_type": "code",
   "execution_count": null,
   "outputs": [],
   "source": [
    "plot(picks_war_data_tidy, \"Ostatnio\", countries)"
   ],
   "metadata": {
    "collapsed": false,
    "pycharm": {
     "name": "#%%\n"
    }
   }
  },
  {
   "cell_type": "code",
   "execution_count": null,
   "outputs": [],
   "source": [
    "plot(picks_war_data_tidy, \"Ostatnio\", countries)"
   ],
   "metadata": {
    "collapsed": false,
    "pycharm": {
     "name": "#%%\n"
    }
   }
  },
  {
   "cell_type": "code",
   "execution_count": null,
   "outputs": [],
   "source": [
    "plot(picks_overall_tidy, \"Cały okres\", countries)"
   ],
   "metadata": {
    "collapsed": false,
    "pycharm": {
     "name": "#%%\n"
    }
   }
  },
  {
   "cell_type": "code",
   "execution_count": null,
   "outputs": [],
   "source": [
    "plot(picks_overall_tidy, \"Cały okres\", countries)"
   ],
   "metadata": {
    "collapsed": false,
    "pycharm": {
     "name": "#%%\n"
    }
   }
  },
  {
   "cell_type": "code",
   "execution_count": null,
   "outputs": [],
   "source": [
    "plot(picks_before_pandemic_data_tidy, \"Wybrane kraje przed pandemią\", countries)"
   ],
   "metadata": {
    "collapsed": false,
    "pycharm": {
     "name": "#%%\n"
    }
   }
  },
  {
   "cell_type": "code",
   "execution_count": null,
   "outputs": [],
   "source": [
    "plot(picks_pandemic_data_tidy, \"Wybrane kraje w trakcie pandemii\", countries)"
   ],
   "metadata": {
    "collapsed": false,
    "pycharm": {
     "name": "#%%\n"
    }
   }
  },
  {
   "cell_type": "code",
   "execution_count": null,
   "outputs": [],
   "source": [
    "plot(picks_before_war_data_tidy, \"Rok przed wojną\", countries)"
   ],
   "metadata": {
    "collapsed": false,
    "pycharm": {
     "name": "#%%\n"
    }
   }
  },
  {
   "cell_type": "code",
   "execution_count": null,
   "outputs": [],
   "source": [
    "plot(picks_war_data_tidy, \"Ostatnio\", countries)"
   ],
   "metadata": {
    "collapsed": false,
    "pycharm": {
     "name": "#%%\n"
    }
   }
  },
  {
   "cell_type": "code",
   "execution_count": 46,
   "id": "307bb2b6-bf1d-4fde-ad8a-d18e16b42c7c",
   "metadata": {
    "vscode": {
     "languageId": "r"
    }
   },
   "outputs": [
    {
     "data": {
      "image/png": "[encoded data removed]",
      "text/plain": [
       "plot without title"
      ]
     },
     "metadata": {
      "image/png": {
       "height": 420,
       "width": 420
      }
     },
     "output_type": "display_data"
    }
   ],
   "source": [
    "plot(picks_war_data_tidy, \"Ostatnio\", countries)"
   ]
  },
  {
   "cell_type": "code",
   "execution_count": 47,
   "id": "91385a51-ae1e-442a-aef8-1ee3f9278246",
   "metadata": {},
   "outputs": [
    {
     "data": {
      "image/png": "[encoded data removed]",
      "text/plain": [
       "plot without title"
      ]
     },
     "metadata": {
      "image/png": {
       "height": 420,
       "width": 420
      }
     },
     "output_type": "display_data"
    }
   ],
   "source": [
    "plot(picks_overall_tidy, \"Cały okres\", countries)"
   ]
  },
  {
   "cell_type": "code",
   "execution_count": 48,
   "id": "fd907313-62a1-49ec-9e4d-eed14c2d8d28",
   "metadata": {},
   "outputs": [
    {
     "data": {
      "image/png": "[encoded data removed]",
      "text/plain": [
       "plot without title"
      ]
     },
     "metadata": {
      "image/png": {
       "height": 420,
       "width": 420
      }
     },
     "output_type": "display_data"
    }
   ],
   "source": [
    "plot(picks_overall_tidy, \"Cały okres\", countries)"
   ]
  },
  {
   "cell_type": "code",
   "execution_count": 49,
   "id": "858601b4-4831-4a67-9cef-0d7846858114",
   "metadata": {
    "vscode": {
     "languageId": "r"
    }
   },
   "outputs": [
    {
     "data": {
      "image/png": "[encoded data removed]",
      "text/plain": [
       "plot without title"
      ]
     },
     "metadata": {
      "image/png": {
       "height": 420,
       "width": 420
      }
     },
     "output_type": "display_data"
    }
   ],
   "source": [
    "plot(picks_before_pandemic_data_tidy, \"Wybrane kraje przed pandemią\", countries)"
   ]
  },
  {
   "cell_type": "code",
   "execution_count": 50,
   "id": "8570c204-27f3-4a18-87fc-7cc6f8223aba",
   "metadata": {
    "vscode": {
     "languageId": "r"
    }
   },
   "outputs": [
    {
     "data": {
      "image/png": "[encoded data removed]",
      "text/plain": [
       "plot without title"
      ]
     },
     "metadata": {
      "image/png": {
       "height": 420,
       "width": 420
      }
     },
     "output_type": "display_data"
    }
   ],
   "source": [
    "plot(picks_pandemic_data_tidy, \"Wybrane kraje w trakcie pandemii\", countries)"
   ]
  },
  {
   "cell_type": "code",
   "execution_count": 51,
   "id": "7c1a55ab-38fd-45fa-9128-1ea7799d2a1f",
   "metadata": {
    "vscode": {
     "languageId": "r"
    }
   },
   "outputs": [
    {
     "data": {
      "image/png": "[encoded data removed]",
      "text/plain": [
       "plot without title"
      ]
     },
     "metadata": {
      "image/png": {
       "height": 420,
       "width": 420
      }
     },
     "output_type": "display_data"
    }
   ],
   "source": [
    "plot(picks_before_war_data_tidy, \"Rok przed wojną\", countries)"
   ]
  },
  {
   "cell_type": "code",
   "execution_count": 52,
   "id": "6ec7a1c9-2898-4c0a-a8b3-bf6fbb87b64d",
   "metadata": {
    "vscode": {
     "languageId": "r"
    }
   },
   "outputs": [
    {
     "data": {
      "image/png": "[encoded data removed]",
      "text/plain": [
       "plot without title"
      ]
     },
     "metadata": {
      "image/png": {
       "height": 420,
       "width": 420
      }
     },
     "output_type": "display_data"
    }
   ],
   "source": [
    "plot(picks_war_data_tidy, \"Ostatnio\", countries)"
   ]
  },
  {
   "cell_type": "code",
   "execution_count": null,
   "id": "8bbb459d-7c75-4143-9c25-fa3e2f364bdc",
   "metadata": {
    "vscode": {
     "languageId": "r"
    }
   },
   "outputs": [],
   "source": []
  }
 ],
 "metadata": {
  "kernelspec": {
   "display_name": "R",
   "language": "R",
   "name": "ir"
  },
  "language_info": {
   "codemirror_mode": "r",
   "file_extension": ".r",
   "mimetype": "text/x-r-source",
   "name": "R",
   "pygments_lexer": "r",
   "version": "4.2.1"
  }
 },
 "nbformat": 4,
 "nbformat_minor": 5
}