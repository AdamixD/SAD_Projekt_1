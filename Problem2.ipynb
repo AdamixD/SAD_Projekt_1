{
 "cells": [
  {
   "cell_type": "markdown",
   "id": "eb4fa537-6db3-47fa-879e-d3e82a06320a",
   "metadata": {},
   "source": [
    "# Problem 2"
   ]
  },
  {
   "cell_type": "code",
   "execution_count": 1,
   "id": "0554a85b-65b2-4657-8637-e6bbab6f9132",
   "metadata": {},
   "outputs": [
    {
     "name": "stderr",
     "output_type": "stream",
     "text": [
      "Warning message:\n",
      "\"pakiet 'glue' został zbudowany w wersji R 4.2.2\"\n",
      "Warning message:\n",
      "\"pakiet 'dplyr' został zbudowany w wersji R 4.2.2\"\n",
      "\n",
      "Dołączanie pakietu: 'dplyr'\n",
      "\n",
      "\n",
      "Następujące obiekty zostały zakryte z 'package:stats':\n",
      "\n",
      "    filter, lag\n",
      "\n",
      "\n",
      "Następujące obiekty zostały zakryte z 'package:base':\n",
      "\n",
      "    intersect, setdiff, setequal, union\n",
      "\n",
      "\n",
      "Warning message:\n",
      "\"pakiet 'readr' został zbudowany w wersji R 4.2.2\"\n",
      "Warning message:\n",
      "\"pakiet 'ggthemes' został zbudowany w wersji R 4.2.2\"\n",
      "Warning message:\n",
      "\"pakiet 'tidyr' został zbudowany w wersji R 4.2.2\"\n",
      "Warning message:\n",
      "\"pakiet 'hrbrthemes' został zbudowany w wersji R 4.2.2\"\n",
      "NOTE: Either Arial Narrow or Roboto Condensed fonts are required to use these themes.\n",
      "\n",
      "      Please use hrbrthemes::import_roboto_condensed() to install Roboto Condensed and\n",
      "\n",
      "      if Arial Narrow is not on your system, please see https://bit.ly/arialnarrow\n",
      "\n",
      "Warning message:\n",
      "\"pakiet 'viridis' został zbudowany w wersji R 4.2.2\"\n",
      "Ładowanie wymaganego pakietu: viridisLite\n",
      "\n",
      "Warning message:\n",
      "\"pakiet 'viridisLite' został zbudowany w wersji R 4.2.2\"\n",
      "Warning message:\n",
      "\"pakiet 'ggplot2' został zbudowany w wersji R 4.2.2\"\n",
      "Warning message:\n",
      "\"pakiet 'ggpubr' został zbudowany w wersji R 4.2.2\"\n"
     ]
    }
   ],
   "source": [
    "library(glue)\n",
    "library(dplyr)\n",
    "library(readr)\n",
    "library(ggthemes)\n",
    "library(tidyr)\n",
    "library(hrbrthemes)\n",
    "library(viridis)\n",
    "library(ggplot2)\n",
    "library(ggpubr)"
   ]
  },
  {
   "cell_type": "code",
   "execution_count": 2,
   "id": "f4613ec7-1cee-415c-ba8a-6440cfc16125",
   "metadata": {},
   "outputs": [],
   "source": [
    "mieso <- read.csv(\"data/mieso.csv\", header = TRUE, sep = \",\")\n",
    "nabial <- read.csv(\"data/nabial.csv\", header = TRUE, sep = \",\")\n",
    "pieczywo <- read.csv(\"data/pieczywo.csv\", header = TRUE, sep = \",\")\n",
    "slodycze <- read.csv(\"data/slodycze.csv\", header = TRUE, sep = \",\")\n",
    "tluszcze <- read.csv(\"data/tluszcze.csv\", header = TRUE, sep = \",\")\n",
    "warzywa <- read.csv(\"data/warzywa.csv\", header = TRUE, sep = \",\")"
   ]
  },
  {
   "cell_type": "code",
   "execution_count": 3,
   "id": "a9bfdd73-fe6b-4753-b362-051e6e60e32b",
   "metadata": {},
   "outputs": [
    {
     "data": {
      "text/html": [
       "<table class=\"dataframe\">\n",
       "<caption>A data.frame: 6 × 29</caption>\n",
       "<thead>\n",
       "\t<tr><th></th><th scope=col>Period</th><th scope=col>Austria</th><th scope=col>Belgium</th><th scope=col>Bulgaria</th><th scope=col>Cyprus</th><th scope=col>Czech.Republic</th><th scope=col>EU..changing.composition.</th><th scope=col>Germany</th><th scope=col>Denmark</th><th scope=col>Estonia</th><th scope=col>⋯</th><th scope=col>Luxembourg</th><th scope=col>Latvia</th><th scope=col>Malta</th><th scope=col>Netherlands</th><th scope=col>Poland</th><th scope=col>Portugal</th><th scope=col>Romania</th><th scope=col>Sweden</th><th scope=col>Slovenia</th><th scope=col>Slovakia</th></tr>\n",
       "\t<tr><th></th><th scope=col>&lt;chr&gt;</th><th scope=col>&lt;dbl&gt;</th><th scope=col>&lt;dbl&gt;</th><th scope=col>&lt;dbl&gt;</th><th scope=col>&lt;dbl&gt;</th><th scope=col>&lt;dbl&gt;</th><th scope=col>&lt;dbl&gt;</th><th scope=col>&lt;dbl&gt;</th><th scope=col>&lt;dbl&gt;</th><th scope=col>&lt;dbl&gt;</th><th scope=col>⋯</th><th scope=col>&lt;dbl&gt;</th><th scope=col>&lt;dbl&gt;</th><th scope=col>&lt;dbl&gt;</th><th scope=col>&lt;dbl&gt;</th><th scope=col>&lt;dbl&gt;</th><th scope=col>&lt;dbl&gt;</th><th scope=col>&lt;dbl&gt;</th><th scope=col>&lt;dbl&gt;</th><th scope=col>&lt;dbl&gt;</th><th scope=col>&lt;dbl&gt;</th></tr>\n",
       "</thead>\n",
       "<tbody>\n",
       "\t<tr><th scope=row>1</th><td>2022Oct</td><td>130.72</td><td>121.85</td><td>152.40</td><td>112.24</td><td>143.5</td><td>130.05</td><td>142.0</td><td>125.2</td><td>142.96</td><td>⋯</td><td>129.74</td><td>146.30</td><td>128.51</td><td>137.21</td><td>153.9</td><td>131.78</td><td>137.91</td><td>132.25</td><td>139.40</td><td>151.39</td></tr>\n",
       "\t<tr><th scope=row>2</th><td>2022Sep</td><td>130.21</td><td>119.43</td><td>150.91</td><td>111.41</td><td>141.1</td><td>128.68</td><td>141.2</td><td>124.5</td><td>139.93</td><td>⋯</td><td>128.92</td><td>145.25</td><td>127.47</td><td>136.24</td><td>152.2</td><td>130.69</td><td>136.38</td><td>132.02</td><td>138.60</td><td>148.80</td></tr>\n",
       "\t<tr><th scope=row>3</th><td>2022Aug</td><td>129.28</td><td>119.46</td><td>147.85</td><td>109.68</td><td>141.2</td><td>127.63</td><td>139.9</td><td>125.3</td><td>136.92</td><td>⋯</td><td>128.48</td><td>141.17</td><td>126.59</td><td>136.99</td><td>148.4</td><td>130.32</td><td>134.94</td><td>132.43</td><td>137.80</td><td>144.41</td></tr>\n",
       "\t<tr><th scope=row>4</th><td>2022Jul</td><td>128.28</td><td>118.66</td><td>145.16</td><td>108.42</td><td>140.9</td><td>126.46</td><td>139.4</td><td>125.7</td><td>135.19</td><td>⋯</td><td>127.73</td><td>141.58</td><td>126.54</td><td>135.14</td><td>146.8</td><td>128.41</td><td>133.07</td><td>133.09</td><td>137.47</td><td>141.99</td></tr>\n",
       "\t<tr><th scope=row>5</th><td>2022Jun</td><td>127.91</td><td>116.58</td><td>144.45</td><td>107.84</td><td>138.6</td><td>125.24</td><td>138.7</td><td>123.2</td><td>133.73</td><td>⋯</td><td>127.42</td><td>138.28</td><td>125.56</td><td>134.68</td><td>145.8</td><td>127.44</td><td>132.00</td><td>131.08</td><td>136.58</td><td>139.88</td></tr>\n",
       "\t<tr><th scope=row>6</th><td>2022May</td><td>125.80</td><td>114.42</td><td>143.33</td><td>107.60</td><td>134.6</td><td>123.49</td><td>136.6</td><td>117.8</td><td>127.16</td><td>⋯</td><td>125.56</td><td>135.30</td><td>123.77</td><td>132.01</td><td>145.8</td><td>126.51</td><td>130.49</td><td>125.59</td><td>134.07</td><td>135.37</td></tr>\n",
       "</tbody>\n",
       "</table>\n"
      ],
      "text/latex": [
       "A data.frame: 6 × 29\n",
       "\\begin{tabular}{r|lllllllllllllllllllll}\n",
       "  & Period & Austria & Belgium & Bulgaria & Cyprus & Czech.Republic & EU..changing.composition. & Germany & Denmark & Estonia & ⋯ & Luxembourg & Latvia & Malta & Netherlands & Poland & Portugal & Romania & Sweden & Slovenia & Slovakia\\\\\n",
       "  & <chr> & <dbl> & <dbl> & <dbl> & <dbl> & <dbl> & <dbl> & <dbl> & <dbl> & <dbl> & ⋯ & <dbl> & <dbl> & <dbl> & <dbl> & <dbl> & <dbl> & <dbl> & <dbl> & <dbl> & <dbl>\\\\\n",
       "\\hline\n",
       "\t1 & 2022Oct & 130.72 & 121.85 & 152.40 & 112.24 & 143.5 & 130.05 & 142.0 & 125.2 & 142.96 & ⋯ & 129.74 & 146.30 & 128.51 & 137.21 & 153.9 & 131.78 & 137.91 & 132.25 & 139.40 & 151.39\\\\\n",
       "\t2 & 2022Sep & 130.21 & 119.43 & 150.91 & 111.41 & 141.1 & 128.68 & 141.2 & 124.5 & 139.93 & ⋯ & 128.92 & 145.25 & 127.47 & 136.24 & 152.2 & 130.69 & 136.38 & 132.02 & 138.60 & 148.80\\\\\n",
       "\t3 & 2022Aug & 129.28 & 119.46 & 147.85 & 109.68 & 141.2 & 127.63 & 139.9 & 125.3 & 136.92 & ⋯ & 128.48 & 141.17 & 126.59 & 136.99 & 148.4 & 130.32 & 134.94 & 132.43 & 137.80 & 144.41\\\\\n",
       "\t4 & 2022Jul & 128.28 & 118.66 & 145.16 & 108.42 & 140.9 & 126.46 & 139.4 & 125.7 & 135.19 & ⋯ & 127.73 & 141.58 & 126.54 & 135.14 & 146.8 & 128.41 & 133.07 & 133.09 & 137.47 & 141.99\\\\\n",
       "\t5 & 2022Jun & 127.91 & 116.58 & 144.45 & 107.84 & 138.6 & 125.24 & 138.7 & 123.2 & 133.73 & ⋯ & 127.42 & 138.28 & 125.56 & 134.68 & 145.8 & 127.44 & 132.00 & 131.08 & 136.58 & 139.88\\\\\n",
       "\t6 & 2022May & 125.80 & 114.42 & 143.33 & 107.60 & 134.6 & 123.49 & 136.6 & 117.8 & 127.16 & ⋯ & 125.56 & 135.30 & 123.77 & 132.01 & 145.8 & 126.51 & 130.49 & 125.59 & 134.07 & 135.37\\\\\n",
       "\\end{tabular}\n"
      ],
      "text/markdown": [
       "\n",
       "A data.frame: 6 × 29\n",
       "\n",
       "| <!--/--> | Period &lt;chr&gt; | Austria &lt;dbl&gt; | Belgium &lt;dbl&gt; | Bulgaria &lt;dbl&gt; | Cyprus &lt;dbl&gt; | Czech.Republic &lt;dbl&gt; | EU..changing.composition. &lt;dbl&gt; | Germany &lt;dbl&gt; | Denmark &lt;dbl&gt; | Estonia &lt;dbl&gt; | ⋯ ⋯ | Luxembourg &lt;dbl&gt; | Latvia &lt;dbl&gt; | Malta &lt;dbl&gt; | Netherlands &lt;dbl&gt; | Poland &lt;dbl&gt; | Portugal &lt;dbl&gt; | Romania &lt;dbl&gt; | Sweden &lt;dbl&gt; | Slovenia &lt;dbl&gt; | Slovakia &lt;dbl&gt; |\n",
       "|---|---|---|---|---|---|---|---|---|---|---|---|---|---|---|---|---|---|---|---|---|---|\n",
       "| 1 | 2022Oct | 130.72 | 121.85 | 152.40 | 112.24 | 143.5 | 130.05 | 142.0 | 125.2 | 142.96 | ⋯ | 129.74 | 146.30 | 128.51 | 137.21 | 153.9 | 131.78 | 137.91 | 132.25 | 139.40 | 151.39 |\n",
       "| 2 | 2022Sep | 130.21 | 119.43 | 150.91 | 111.41 | 141.1 | 128.68 | 141.2 | 124.5 | 139.93 | ⋯ | 128.92 | 145.25 | 127.47 | 136.24 | 152.2 | 130.69 | 136.38 | 132.02 | 138.60 | 148.80 |\n",
       "| 3 | 2022Aug | 129.28 | 119.46 | 147.85 | 109.68 | 141.2 | 127.63 | 139.9 | 125.3 | 136.92 | ⋯ | 128.48 | 141.17 | 126.59 | 136.99 | 148.4 | 130.32 | 134.94 | 132.43 | 137.80 | 144.41 |\n",
       "| 4 | 2022Jul | 128.28 | 118.66 | 145.16 | 108.42 | 140.9 | 126.46 | 139.4 | 125.7 | 135.19 | ⋯ | 127.73 | 141.58 | 126.54 | 135.14 | 146.8 | 128.41 | 133.07 | 133.09 | 137.47 | 141.99 |\n",
       "| 5 | 2022Jun | 127.91 | 116.58 | 144.45 | 107.84 | 138.6 | 125.24 | 138.7 | 123.2 | 133.73 | ⋯ | 127.42 | 138.28 | 125.56 | 134.68 | 145.8 | 127.44 | 132.00 | 131.08 | 136.58 | 139.88 |\n",
       "| 6 | 2022May | 125.80 | 114.42 | 143.33 | 107.60 | 134.6 | 123.49 | 136.6 | 117.8 | 127.16 | ⋯ | 125.56 | 135.30 | 123.77 | 132.01 | 145.8 | 126.51 | 130.49 | 125.59 | 134.07 | 135.37 |\n",
       "\n"
      ],
      "text/plain": [
       "  Period  Austria Belgium Bulgaria Cyprus Czech.Republic\n",
       "1 2022Oct 130.72  121.85  152.40   112.24 143.5         \n",
       "2 2022Sep 130.21  119.43  150.91   111.41 141.1         \n",
       "3 2022Aug 129.28  119.46  147.85   109.68 141.2         \n",
       "4 2022Jul 128.28  118.66  145.16   108.42 140.9         \n",
       "5 2022Jun 127.91  116.58  144.45   107.84 138.6         \n",
       "6 2022May 125.80  114.42  143.33   107.60 134.6         \n",
       "  EU..changing.composition. Germany Denmark Estonia ⋯ Luxembourg Latvia Malta \n",
       "1 130.05                    142.0   125.2   142.96  ⋯ 129.74     146.30 128.51\n",
       "2 128.68                    141.2   124.5   139.93  ⋯ 128.92     145.25 127.47\n",
       "3 127.63                    139.9   125.3   136.92  ⋯ 128.48     141.17 126.59\n",
       "4 126.46                    139.4   125.7   135.19  ⋯ 127.73     141.58 126.54\n",
       "5 125.24                    138.7   123.2   133.73  ⋯ 127.42     138.28 125.56\n",
       "6 123.49                    136.6   117.8   127.16  ⋯ 125.56     135.30 123.77\n",
       "  Netherlands Poland Portugal Romania Sweden Slovenia Slovakia\n",
       "1 137.21      153.9  131.78   137.91  132.25 139.40   151.39  \n",
       "2 136.24      152.2  130.69   136.38  132.02 138.60   148.80  \n",
       "3 136.99      148.4  130.32   134.94  132.43 137.80   144.41  \n",
       "4 135.14      146.8  128.41   133.07  133.09 137.47   141.99  \n",
       "5 134.68      145.8  127.44   132.00  131.08 136.58   139.88  \n",
       "6 132.01      145.8  126.51   130.49  125.59 134.07   135.37  "
      ]
     },
     "metadata": {},
     "output_type": "display_data"
    }
   ],
   "source": [
    "head(mieso)"
   ]
  },
  {
   "cell_type": "code",
   "execution_count": null,
   "id": "8757ec5d-0a99-4e0d-abfb-856c66912520",
   "metadata": {},
   "outputs": [],
   "source": []
  }
 ],
 "metadata": {
  "kernelspec": {
   "display_name": "R",
   "language": "R",
   "name": "ir"
  },
  "language_info": {
   "codemirror_mode": "r",
   "file_extension": ".r",
   "mimetype": "text/x-r-source",
   "name": "R",
   "pygments_lexer": "r",
   "version": "4.2.1"
  }
 },
 "nbformat": 4,
 "nbformat_minor": 5
}
