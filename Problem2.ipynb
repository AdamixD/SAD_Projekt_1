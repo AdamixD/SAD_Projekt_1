{
 "cells": [
  {
   "cell_type": "markdown",
   "id": "eb4fa537-6db3-47fa-879e-d3e82a06320a",
   "metadata": {
    "pycharm": {
     "name": "#%% md\n"
    }
   },
   "source": [
    "# Problem 2"
   ]
  },
  {
   "cell_type": "code",
   "execution_count": 1,
   "id": "0554a85b-65b2-4657-8637-e6bbab6f9132",
   "metadata": {
    "pycharm": {
     "name": "#%%\n"
    },
    "vscode": {
     "languageId": "r"
    }
   },
   "outputs": [
    {
     "name": "stderr",
     "output_type": "stream",
     "text": [
      "Warning message:\n",
      "\"pakiet 'glue' został zbudowany w wersji R 4.2.2\"\n",
      "Warning message:\n",
      "\"pakiet 'dplyr' został zbudowany w wersji R 4.2.2\"\n",
      "\n",
      "Dołączanie pakietu: 'dplyr'\n",
      "\n",
      "\n",
      "Następujące obiekty zostały zakryte z 'package:stats':\n",
      "\n",
      "    filter, lag\n",
      "\n",
      "\n",
      "Następujące obiekty zostały zakryte z 'package:base':\n",
      "\n",
      "    intersect, setdiff, setequal, union\n",
      "\n",
      "\n",
      "Warning message:\n",
      "\"pakiet 'readr' został zbudowany w wersji R 4.2.2\"\n",
      "Warning message:\n",
      "\"pakiet 'ggthemes' został zbudowany w wersji R 4.2.2\"\n",
      "Warning message:\n",
      "\"pakiet 'tidyr' został zbudowany w wersji R 4.2.2\"\n",
      "Warning message:\n",
      "\"pakiet 'hrbrthemes' został zbudowany w wersji R 4.2.2\"\n",
      "NOTE: Either Arial Narrow or Roboto Condensed fonts are required to use these themes.\n",
      "\n",
      "      Please use hrbrthemes::import_roboto_condensed() to install Roboto Condensed and\n",
      "\n",
      "      if Arial Narrow is not on your system, please see https://bit.ly/arialnarrow\n",
      "\n",
      "Warning message:\n",
      "\"pakiet 'viridis' został zbudowany w wersji R 4.2.2\"\n",
      "Ładowanie wymaganego pakietu: viridisLite\n",
      "\n",
      "Warning message:\n",
      "\"pakiet 'viridisLite' został zbudowany w wersji R 4.2.2\"\n",
      "Warning message:\n",
      "\"pakiet 'ggplot2' został zbudowany w wersji R 4.2.2\"\n",
      "Warning message:\n",
      "\"pakiet 'ggpubr' został zbudowany w wersji R 4.2.2\"\n",
      "Warning message:\n",
      "\"pakiet 'lubridate' został zbudowany w wersji R 4.2.2\"\n",
      "Ładowanie wymaganego pakietu: timechange\n",
      "\n",
      "Warning message:\n",
      "\"pakiet 'timechange' został zbudowany w wersji R 4.2.2\"\n",
      "\n",
      "Dołączanie pakietu: 'lubridate'\n",
      "\n",
      "\n",
      "Następujące obiekty zostały zakryte z 'package:base':\n",
      "\n",
      "    date, intersect, setdiff, union\n",
      "\n",
      "\n",
      "Warning message:\n",
      "\"pakiet 'tidyverse' został zbudowany w wersji R 4.2.2\"\n",
      "── \u001b[1mAttaching packages\u001b[22m ──────────────────────────────────────────────────────────────────────────────────────────────────────────────────────────────────────────────────────────────────── tidyverse 1.3.2 ──\n",
      "\u001b[32m✔\u001b[39m \u001b[34mtibble \u001b[39m 3.1.8     \u001b[32m✔\u001b[39m \u001b[34mstringr\u001b[39m 1.5.0\n",
      "\u001b[32m✔\u001b[39m \u001b[34mpurrr  \u001b[39m 0.3.5     \u001b[32m✔\u001b[39m \u001b[34mforcats\u001b[39m 0.5.2\n",
      "Warning message:\n",
      "\"pakiet 'tibble' został zbudowany w wersji R 4.2.2\"\n",
      "Warning message:\n",
      "\"pakiet 'purrr' został zbudowany w wersji R 4.2.2\"\n",
      "Warning message:\n",
      "\"pakiet 'stringr' został zbudowany w wersji R 4.2.2\"\n",
      "Warning message:\n",
      "\"pakiet 'forcats' został zbudowany w wersji R 4.2.2\"\n",
      "── \u001b[1mConflicts\u001b[22m ─────────────────────────────────────────────────────────────────────────────────────────────────────────────────────────────────────────────────────────────────────── tidyverse_conflicts() ──\n",
      "\u001b[31m✖\u001b[39m \u001b[34mlubridate\u001b[39m::\u001b[32mas.difftime()\u001b[39m masks \u001b[34mbase\u001b[39m::as.difftime()\n",
      "\u001b[31m✖\u001b[39m \u001b[34mlubridate\u001b[39m::\u001b[32mdate()\u001b[39m        masks \u001b[34mbase\u001b[39m::date()\n",
      "\u001b[31m✖\u001b[39m \u001b[34mdplyr\u001b[39m::\u001b[32mfilter()\u001b[39m          masks \u001b[34mstats\u001b[39m::filter()\n",
      "\u001b[31m✖\u001b[39m \u001b[34mlubridate\u001b[39m::\u001b[32mintersect()\u001b[39m   masks \u001b[34mbase\u001b[39m::intersect()\n",
      "\u001b[31m✖\u001b[39m \u001b[34mdplyr\u001b[39m::\u001b[32mlag()\u001b[39m             masks \u001b[34mstats\u001b[39m::lag()\n",
      "\u001b[31m✖\u001b[39m \u001b[34mlubridate\u001b[39m::\u001b[32msetdiff()\u001b[39m     masks \u001b[34mbase\u001b[39m::setdiff()\n",
      "\u001b[31m✖\u001b[39m \u001b[34mlubridate\u001b[39m::\u001b[32munion()\u001b[39m       masks \u001b[34mbase\u001b[39m::union()\n",
      "Warning message:\n",
      "\"pakiet 'corrplot' został zbudowany w wersji R 4.2.2\"\n",
      "corrplot 0.92 loaded\n",
      "\n"
     ]
    }
   ],
   "source": [
    "library(glue)\n",
    "library(dplyr)\n",
    "library(readr)\n",
    "library(ggthemes)\n",
    "library(tidyr)\n",
    "library(hrbrthemes)\n",
    "library(viridis)\n",
    "library(ggplot2)\n",
    "library(ggpubr)\n",
    "library(lubridate)\n",
    "library(stringi)\n",
    "library(tidyverse)\n",
    "library(corrplot)"
   ]
  },
  {
   "cell_type": "code",
   "execution_count": 2,
   "id": "f4613ec7-1cee-415c-ba8a-6440cfc16125",
   "metadata": {
    "pycharm": {
     "name": "#%%\n"
    },
    "vscode": {
     "languageId": "r"
    }
   },
   "outputs": [],
   "source": [
    "mieso <- read.csv(\"data/mieso.csv\", header = TRUE, sep = \",\")\n",
    "nabial <- read.csv(\"data/nabial.csv\", header = TRUE, sep = \",\")\n",
    "pieczywo <- read.csv(\"data/pieczywo.csv\", header = TRUE, sep = \",\")\n",
    "slodycze <- read.csv(\"data/slodycze.csv\", header = TRUE, sep = \",\")\n",
    "tluszcze <- read.csv(\"data/tluszcze.csv\", header = TRUE, sep = \",\")\n",
    "warzywa <- read.csv(\"data/warzywa.csv\", header = TRUE, sep = \",\")"
   ]
  },
  {
   "cell_type": "code",
   "execution_count": 3,
   "id": "0e2d8801-8d19-4103-9281-1710d8680d9a",
   "metadata": {},
   "outputs": [],
   "source": [
    "# glue(head(mieso_tidy$cena, n= 100), head(nabial_tidy$cena, n= 100))"
   ]
  },
  {
   "cell_type": "code",
   "execution_count": 4,
   "id": "3ee9a571-305b-4c15-9ed7-58e5a19712b2",
   "metadata": {},
   "outputs": [],
   "source": [
    "rows = 100\n",
    "\n",
    "#create data frame with 0 rows and 3 columns\n",
    "df_cor <- data.frame(matrix(ncol = 6, nrow = rows))\n",
    "\n",
    "#provide column names\n",
    "colnames(df_cor) <- c('mieso', 'nabial', 'pieczywo', 'slodycze', 'tluszcze', 'warzywa')"
   ]
  },
  {
   "cell_type": "code",
   "execution_count": 5,
   "id": "8757ec5d-0a99-4e0d-abfb-856c66912520",
   "metadata": {
    "pycharm": {
     "name": "#%%\n"
    },
    "vscode": {
     "languageId": "r"
    }
   },
   "outputs": [],
   "source": [
    "# tidy\n",
    "mieso_tidy <- mieso |> pivot_longer(-Period, names_to = \"kraj\", values_to = \"cena\")\n",
    "nabial_tidy <- nabial |> pivot_longer(-Period, names_to = \"kraj\", values_to = \"cena\")\n",
    "pieczywo_tidy <- pieczywo |> pivot_longer(-Period, names_to = \"kraj\", values_to = \"cena\")\n",
    "slodycze_tidy <- slodycze |> pivot_longer(-Period, names_to = \"kraj\", values_to = \"cena\")\n",
    "tluszcze_tidy <- tluszcze |> pivot_longer(-Period, names_to = \"kraj\", values_to = \"cena\")\n",
    "warzywa_tidy <- warzywa |> pivot_longer(-Period, names_to = \"kraj\", values_to = \"cena\")"
   ]
  },
  {
   "cell_type": "code",
   "execution_count": 6,
   "id": "170c1062-bbc2-4384-bad3-07afc666798d",
   "metadata": {},
   "outputs": [],
   "source": [
    "df_cor['mieso'] = head(mieso_tidy$cena, n = rows)\n",
    "df_cor['nabial'] = head(nabial_tidy$cena, n = rows)\n",
    "df_cor['pieczywo'] = head(pieczywo_tidy$cena, n = rows)\n",
    "df_cor['slodycze'] = head(slodycze_tidy$cena, n = rows)\n",
    "df_cor['tluszcze'] = head(tluszcze_tidy$cena, n = rows)\n",
    "df_cor['warzywa'] = head(warzywa_tidy$cena, n = rows)"
   ]
  },
  {
   "cell_type": "code",
   "execution_count": 7,
   "id": "7f361558-2229-4d17-9945-a35f66c4531f",
   "metadata": {},
   "outputs": [],
   "source": [
    "cor_matrix = cor(df_cor)"
   ]
  },
  {
   "cell_type": "code",
   "execution_count": 8,
   "id": "50e7652b-03a2-4ab0-ba02-f71cd85bf300",
   "metadata": {},
   "outputs": [
    {
     "data": {
      "text/html": [
       "<table class=\"dataframe\">\n",
       "<caption>A matrix: 6 × 6 of type dbl</caption>\n",
       "<thead>\n",
       "\t<tr><th></th><th scope=col>mieso</th><th scope=col>nabial</th><th scope=col>pieczywo</th><th scope=col>slodycze</th><th scope=col>tluszcze</th><th scope=col>warzywa</th></tr>\n",
       "</thead>\n",
       "<tbody>\n",
       "\t<tr><th scope=row>mieso</th><td>1.0000000</td><td>0.8304378</td><td>0.8221961</td><td>0.8111672</td><td>0.8170653</td><td>0.7060012</td></tr>\n",
       "\t<tr><th scope=row>nabial</th><td>0.8304378</td><td>1.0000000</td><td>0.8893400</td><td>0.8145723</td><td>0.8433124</td><td>0.7598769</td></tr>\n",
       "\t<tr><th scope=row>pieczywo</th><td>0.8221961</td><td>0.8893400</td><td>1.0000000</td><td>0.8751538</td><td>0.7328427</td><td>0.8354569</td></tr>\n",
       "\t<tr><th scope=row>slodycze</th><td>0.8111672</td><td>0.8145723</td><td>0.8751538</td><td>1.0000000</td><td>0.7658236</td><td>0.8070602</td></tr>\n",
       "\t<tr><th scope=row>tluszcze</th><td>0.8170653</td><td>0.8433124</td><td>0.7328427</td><td>0.7658236</td><td>1.0000000</td><td>0.6049740</td></tr>\n",
       "\t<tr><th scope=row>warzywa</th><td>0.7060012</td><td>0.7598769</td><td>0.8354569</td><td>0.8070602</td><td>0.6049740</td><td>1.0000000</td></tr>\n",
       "</tbody>\n",
       "</table>\n"
      ],
      "text/latex": [
       "A matrix: 6 × 6 of type dbl\n",
       "\\begin{tabular}{r|llllll}\n",
       "  & mieso & nabial & pieczywo & slodycze & tluszcze & warzywa\\\\\n",
       "\\hline\n",
       "\tmieso & 1.0000000 & 0.8304378 & 0.8221961 & 0.8111672 & 0.8170653 & 0.7060012\\\\\n",
       "\tnabial & 0.8304378 & 1.0000000 & 0.8893400 & 0.8145723 & 0.8433124 & 0.7598769\\\\\n",
       "\tpieczywo & 0.8221961 & 0.8893400 & 1.0000000 & 0.8751538 & 0.7328427 & 0.8354569\\\\\n",
       "\tslodycze & 0.8111672 & 0.8145723 & 0.8751538 & 1.0000000 & 0.7658236 & 0.8070602\\\\\n",
       "\ttluszcze & 0.8170653 & 0.8433124 & 0.7328427 & 0.7658236 & 1.0000000 & 0.6049740\\\\\n",
       "\twarzywa & 0.7060012 & 0.7598769 & 0.8354569 & 0.8070602 & 0.6049740 & 1.0000000\\\\\n",
       "\\end{tabular}\n"
      ],
      "text/markdown": [
       "\n",
       "A matrix: 6 × 6 of type dbl\n",
       "\n",
       "| <!--/--> | mieso | nabial | pieczywo | slodycze | tluszcze | warzywa |\n",
       "|---|---|---|---|---|---|---|\n",
       "| mieso | 1.0000000 | 0.8304378 | 0.8221961 | 0.8111672 | 0.8170653 | 0.7060012 |\n",
       "| nabial | 0.8304378 | 1.0000000 | 0.8893400 | 0.8145723 | 0.8433124 | 0.7598769 |\n",
       "| pieczywo | 0.8221961 | 0.8893400 | 1.0000000 | 0.8751538 | 0.7328427 | 0.8354569 |\n",
       "| slodycze | 0.8111672 | 0.8145723 | 0.8751538 | 1.0000000 | 0.7658236 | 0.8070602 |\n",
       "| tluszcze | 0.8170653 | 0.8433124 | 0.7328427 | 0.7658236 | 1.0000000 | 0.6049740 |\n",
       "| warzywa | 0.7060012 | 0.7598769 | 0.8354569 | 0.8070602 | 0.6049740 | 1.0000000 |\n",
       "\n"
      ],
      "text/plain": [
       "         mieso     nabial    pieczywo  slodycze  tluszcze  warzywa  \n",
       "mieso    1.0000000 0.8304378 0.8221961 0.8111672 0.8170653 0.7060012\n",
       "nabial   0.8304378 1.0000000 0.8893400 0.8145723 0.8433124 0.7598769\n",
       "pieczywo 0.8221961 0.8893400 1.0000000 0.8751538 0.7328427 0.8354569\n",
       "slodycze 0.8111672 0.8145723 0.8751538 1.0000000 0.7658236 0.8070602\n",
       "tluszcze 0.8170653 0.8433124 0.7328427 0.7658236 1.0000000 0.6049740\n",
       "warzywa  0.7060012 0.7598769 0.8354569 0.8070602 0.6049740 1.0000000"
      ]
     },
     "metadata": {},
     "output_type": "display_data"
    }
   ],
   "source": [
    "cor_matrix"
   ]
  },
  {
   "cell_type": "code",
   "execution_count": 9,
   "id": "37cd71d9-d9d6-43d0-ae48-4dc1adbda076",
   "metadata": {},
   "outputs": [
    {
     "data": {
      "image/png": "[encoded data removed]",
      "text/plain": [
       "Plot with title \"\""
      ]
     },
     "metadata": {
      "image/png": {
       "height": 420,
       "width": 420
      }
     },
     "output_type": "display_data"
    }
   ],
   "source": [
    "corrplot(cor_matrix, method=\"color\")"
   ]
  },
  {
   "cell_type": "code",
   "execution_count": 10,
   "id": "b86b3b2c-4210-46cb-bbd7-0f053f357f92",
   "metadata": {
    "pycharm": {
     "name": "#%%\n"
    },
    "vscode": {
     "languageId": "r"
    }
   },
   "outputs": [],
   "source": [
    "# type column\n",
    "mieso_tidy[\"typ\"] = \"mieso\"\n",
    "nabial_tidy[\"typ\"] = \"nabial\"\n",
    "pieczywo_tidy[\"typ\"] = \"pieczywo\"\n",
    "slodycze_tidy[\"typ\"] = \"slodycze\"\n",
    "tluszcze_tidy[\"typ\"] = \"tluszcze\"\n",
    "warzywa_tidy[\"typ\"] = \"warzywa\""
   ]
  },
  {
   "cell_type": "code",
   "execution_count": 11,
   "id": "664e3e8c-5b1e-433d-aefc-3d7995c19f76",
   "metadata": {
    "pycharm": {
     "name": "#%%\n"
    },
    "vscode": {
     "languageId": "r"
    }
   },
   "outputs": [],
   "source": [
    "# Concatenate the dataframes\n",
    "zywnosc_tidy <- rbind(mieso_tidy, nabial_tidy, pieczywo_tidy, slodycze_tidy, tluszcze_tidy, warzywa_tidy)"
   ]
  },
  {
   "cell_type": "code",
   "execution_count": 12,
   "id": "22884d5a-477b-4f51-b592-2cbf2763cda8",
   "metadata": {
    "pycharm": {
     "name": "#%%\n"
    },
    "vscode": {
     "languageId": "r"
    }
   },
   "outputs": [],
   "source": [
    "zywnosc_tidy$Period <- lapply(zywnosc_tidy$Period, gsub, pattern = \"Jan\", replacement = \"01\")\n",
    "zywnosc_tidy$Period <- lapply(zywnosc_tidy$Period, gsub, pattern = \"Feb\", replacement = \"02\")\n",
    "zywnosc_tidy$Period <- lapply(zywnosc_tidy$Period, gsub, pattern = \"Mar\", replacement = \"03\")\n",
    "\n",
    "zywnosc_tidy$Period <- lapply(zywnosc_tidy$Period, gsub, pattern = \"Apr\", replacement = \"04\")\n",
    "zywnosc_tidy$Period <- lapply(zywnosc_tidy$Period, gsub, pattern = \"May\", replacement = \"05\")\n",
    "zywnosc_tidy$Period <- lapply(zywnosc_tidy$Period, gsub, pattern = \"Jun\", replacement = \"06\")\n",
    "\n",
    "zywnosc_tidy$Period <- lapply(zywnosc_tidy$Period, gsub, pattern = \"Jul\", replacement = \"07\")\n",
    "zywnosc_tidy$Period <- lapply(zywnosc_tidy$Period, gsub, pattern = \"Aug\", replacement = \"08\")\n",
    "zywnosc_tidy$Period <- lapply(zywnosc_tidy$Period, gsub, pattern = \"Sep\", replacement = \"09\")\n",
    "\n",
    "zywnosc_tidy$Period <- lapply(zywnosc_tidy$Period, gsub, pattern = \"Oct\", replacement = \"10\")\n",
    "zywnosc_tidy$Period <- lapply(zywnosc_tidy$Period, gsub, pattern = \"Nov\", replacement = \"11\")\n",
    "zywnosc_tidy$Period <- lapply(zywnosc_tidy$Period, gsub, pattern = \"Dec\", replacement = \"12\")\n",
    "\n",
    "zywnosc_tidy$Period <- sub(\"^\", \"01\", zywnosc_tidy$Period )"
   ]
  },
  {
   "cell_type": "code",
   "execution_count": 13,
   "id": "a18c1ff8-e75a-40b2-ba40-3689767dd900",
   "metadata": {
    "pycharm": {
     "name": "#%%\n"
    },
    "vscode": {
     "languageId": "r"
    }
   },
   "outputs": [],
   "source": [
    "# data\n",
    "zywnosc_tidy$Period <- as.Date(zywnosc_tidy$Period, format = \"%d%Y%m\")"
   ]
  },
  {
   "cell_type": "code",
   "execution_count": 14,
   "id": "93906fea-a5b0-4753-bef2-b87f6faa38f6",
   "metadata": {
    "pycharm": {
     "name": "#%%\n"
    },
    "vscode": {
     "languageId": "r"
    }
   },
   "outputs": [
    {
     "data": {
      "text/html": [
       "<table class=\"dataframe\">\n",
       "<caption>A tibble: 6 × 4</caption>\n",
       "<thead>\n",
       "\t<tr><th scope=col>Period</th><th scope=col>kraj</th><th scope=col>cena</th><th scope=col>typ</th></tr>\n",
       "\t<tr><th scope=col>&lt;date&gt;</th><th scope=col>&lt;chr&gt;</th><th scope=col>&lt;dbl&gt;</th><th scope=col>&lt;chr&gt;</th></tr>\n",
       "</thead>\n",
       "<tbody>\n",
       "\t<tr><td>2022-10-01</td><td>Austria                  </td><td>130.72</td><td>mieso</td></tr>\n",
       "\t<tr><td>2022-10-01</td><td>Belgium                  </td><td>121.85</td><td>mieso</td></tr>\n",
       "\t<tr><td>2022-10-01</td><td>Bulgaria                 </td><td>152.40</td><td>mieso</td></tr>\n",
       "\t<tr><td>2022-10-01</td><td>Cyprus                   </td><td>112.24</td><td>mieso</td></tr>\n",
       "\t<tr><td>2022-10-01</td><td>Czech.Republic           </td><td>143.50</td><td>mieso</td></tr>\n",
       "\t<tr><td>2022-10-01</td><td>EU..changing.composition.</td><td>130.05</td><td>mieso</td></tr>\n",
       "</tbody>\n",
       "</table>\n"
      ],
      "text/latex": [
       "A tibble: 6 × 4\n",
       "\\begin{tabular}{llll}\n",
       " Period & kraj & cena & typ\\\\\n",
       " <date> & <chr> & <dbl> & <chr>\\\\\n",
       "\\hline\n",
       "\t 2022-10-01 & Austria                   & 130.72 & mieso\\\\\n",
       "\t 2022-10-01 & Belgium                   & 121.85 & mieso\\\\\n",
       "\t 2022-10-01 & Bulgaria                  & 152.40 & mieso\\\\\n",
       "\t 2022-10-01 & Cyprus                    & 112.24 & mieso\\\\\n",
       "\t 2022-10-01 & Czech.Republic            & 143.50 & mieso\\\\\n",
       "\t 2022-10-01 & EU..changing.composition. & 130.05 & mieso\\\\\n",
       "\\end{tabular}\n"
      ],
      "text/markdown": [
       "\n",
       "A tibble: 6 × 4\n",
       "\n",
       "| Period &lt;date&gt; | kraj &lt;chr&gt; | cena &lt;dbl&gt; | typ &lt;chr&gt; |\n",
       "|---|---|---|---|\n",
       "| 2022-10-01 | Austria                   | 130.72 | mieso |\n",
       "| 2022-10-01 | Belgium                   | 121.85 | mieso |\n",
       "| 2022-10-01 | Bulgaria                  | 152.40 | mieso |\n",
       "| 2022-10-01 | Cyprus                    | 112.24 | mieso |\n",
       "| 2022-10-01 | Czech.Republic            | 143.50 | mieso |\n",
       "| 2022-10-01 | EU..changing.composition. | 130.05 | mieso |\n",
       "\n"
      ],
      "text/plain": [
       "  Period     kraj                      cena   typ  \n",
       "1 2022-10-01 Austria                   130.72 mieso\n",
       "2 2022-10-01 Belgium                   121.85 mieso\n",
       "3 2022-10-01 Bulgaria                  152.40 mieso\n",
       "4 2022-10-01 Cyprus                    112.24 mieso\n",
       "5 2022-10-01 Czech.Republic            143.50 mieso\n",
       "6 2022-10-01 EU..changing.composition. 130.05 mieso"
      ]
     },
     "metadata": {},
     "output_type": "display_data"
    }
   ],
   "source": [
    "head(zywnosc_tidy)"
   ]
  },
  {
   "cell_type": "code",
   "execution_count": 15,
   "id": "f77d4931-51a9-4298-9545-18df1d1576ed",
   "metadata": {
    "pycharm": {
     "name": "#%%\n"
    },
    "vscode": {
     "languageId": "r"
    }
   },
   "outputs": [],
   "source": [
    "plot <- function(data, title, countries, types) {\n",
    "    data = filter(data, typ %in% types)\n",
    "    data |>\n",
    "        ggplot(aes(x=Period, y=cena, group=kraj, color=kraj)) +\n",
    "        scale_color_viridis(discrete = TRUE, labels = countries) +\n",
    "        geom_line(size=1.5) +\n",
    "        guides(fill=guide_legend(title=NULL)) +\n",
    "        xlab(\"Data\") + ylab(\"HICP\") +\n",
    "        ggtitle(title) +\n",
    "        theme_ipsum() +\n",
    "        scale_x_date(date_labels = \"%b-%Y\") +\n",
    "        theme(\n",
    "            legend.title = element_blank(),\n",
    "            plot.title = element_text(size=18),\n",
    "            axis.title.x = element_text(size=14),\n",
    "            axis.title.y = element_text(size=14),\n",
    "                text=element_text(family=\"CM Roman\", size=21)\n",
    "        )\n",
    "}"
   ]
  },
  {
   "cell_type": "markdown",
   "id": "5465acd2-5e4c-4440-b5ce-99a788a785a5",
   "metadata": {},
   "source": [
    "# HICP total"
   ]
  },
  {
   "cell_type": "code",
   "execution_count": 77,
   "id": "90bbcceb-8118-43be-ac6a-605deb2e4da6",
   "metadata": {},
   "outputs": [],
   "source": [
    "hicp_total <- read.csv(\"data/HICP_total.csv\", header = TRUE, sep = \",\")"
   ]
  },
  {
   "cell_type": "code",
   "execution_count": 78,
   "id": "d32db1e0-f3d0-480c-87b8-ceb747c30908",
   "metadata": {},
   "outputs": [],
   "source": [
    "hicp_total = head(tail(hicp_total, n=nrow(hicp_total) - 1), 300)"
   ]
  },
  {
   "cell_type": "code",
   "execution_count": 79,
   "id": "93d24013-f516-4923-8299-949fe3f67e1f",
   "metadata": {},
   "outputs": [],
   "source": [
    "# hicp_total"
   ]
  },
  {
   "cell_type": "code",
   "execution_count": 80,
   "id": "ede3d412-53a5-4aa1-b15a-81a7e319b924",
   "metadata": {},
   "outputs": [],
   "source": [
    "hicp_total$Germany <- sapply(hicp_total$Germany, as.numeric)"
   ]
  },
  {
   "cell_type": "code",
   "execution_count": 81,
   "id": "fa7bc763-0338-4f22-8ff4-0bf809dd0254",
   "metadata": {},
   "outputs": [],
   "source": [
    "# hicp total to tidy\n",
    "hicp_total_tidy = hicp_total |> pivot_longer(-Period, names_to = \"kraj\", values_to = \"hicp_total\")"
   ]
  },
  {
   "cell_type": "code",
   "execution_count": 82,
   "id": "03e1cc83-1221-4e5e-b974-2750cea650d8",
   "metadata": {},
   "outputs": [
    {
     "data": {
      "text/html": [
       "<table class=\"dataframe\">\n",
       "<caption>A tibble: 6 × 3</caption>\n",
       "<thead>\n",
       "\t<tr><th scope=col>Period</th><th scope=col>kraj</th><th scope=col>hicp_total</th></tr>\n",
       "\t<tr><th scope=col>&lt;chr&gt;</th><th scope=col>&lt;chr&gt;</th><th scope=col>&lt;dbl&gt;</th></tr>\n",
       "</thead>\n",
       "<tbody>\n",
       "\t<tr><td>2022Oct</td><td>Austria</td><td>126.08</td></tr>\n",
       "\t<tr><td>2022Oct</td><td>Belgium</td><td>129.30</td></tr>\n",
       "\t<tr><td>2022Oct</td><td>Cyprus </td><td>113.24</td></tr>\n",
       "\t<tr><td>2022Oct</td><td>Germany</td><td>123.50</td></tr>\n",
       "\t<tr><td>2022Oct</td><td>Estonia</td><td>143.23</td></tr>\n",
       "\t<tr><td>2022Oct</td><td>Spain  </td><td>117.61</td></tr>\n",
       "</tbody>\n",
       "</table>\n"
      ],
      "text/latex": [
       "A tibble: 6 × 3\n",
       "\\begin{tabular}{lll}\n",
       " Period & kraj & hicp\\_total\\\\\n",
       " <chr> & <chr> & <dbl>\\\\\n",
       "\\hline\n",
       "\t 2022Oct & Austria & 126.08\\\\\n",
       "\t 2022Oct & Belgium & 129.30\\\\\n",
       "\t 2022Oct & Cyprus  & 113.24\\\\\n",
       "\t 2022Oct & Germany & 123.50\\\\\n",
       "\t 2022Oct & Estonia & 143.23\\\\\n",
       "\t 2022Oct & Spain   & 117.61\\\\\n",
       "\\end{tabular}\n"
      ],
      "text/markdown": [
       "\n",
       "A tibble: 6 × 3\n",
       "\n",
       "| Period &lt;chr&gt; | kraj &lt;chr&gt; | hicp_total &lt;dbl&gt; |\n",
       "|---|---|---|\n",
       "| 2022Oct | Austria | 126.08 |\n",
       "| 2022Oct | Belgium | 129.30 |\n",
       "| 2022Oct | Cyprus  | 113.24 |\n",
       "| 2022Oct | Germany | 123.50 |\n",
       "| 2022Oct | Estonia | 143.23 |\n",
       "| 2022Oct | Spain   | 117.61 |\n",
       "\n"
      ],
      "text/plain": [
       "  Period  kraj    hicp_total\n",
       "1 2022Oct Austria 126.08    \n",
       "2 2022Oct Belgium 129.30    \n",
       "3 2022Oct Cyprus  113.24    \n",
       "4 2022Oct Germany 123.50    \n",
       "5 2022Oct Estonia 143.23    \n",
       "6 2022Oct Spain   117.61    "
      ]
     },
     "metadata": {},
     "output_type": "display_data"
    }
   ],
   "source": [
    "head(hicp_total_tidy)"
   ]
  },
  {
   "cell_type": "code",
   "execution_count": 83,
   "id": "1857c980-c601-4e9c-88ac-00f906fe2467",
   "metadata": {},
   "outputs": [],
   "source": [
    "hicp_total_tidy$Period <- lapply(hicp_total_tidy$Period, gsub, pattern = \"Jan\", replacement = \"01\")\n",
    "hicp_total_tidy$Period <- lapply(hicp_total_tidy$Period, gsub, pattern = \"Feb\", replacement = \"02\")\n",
    "hicp_total_tidy$Period <- lapply(hicp_total_tidy$Period, gsub, pattern = \"Mar\", replacement = \"03\")\n",
    "\n",
    "hicp_total_tidy$Period <- lapply(hicp_total_tidy$Period, gsub, pattern = \"Apr\", replacement = \"04\")\n",
    "hicp_total_tidy$Period <- lapply(hicp_total_tidy$Period, gsub, pattern = \"May\", replacement = \"05\")\n",
    "hicp_total_tidy$Period <- lapply(hicp_total_tidy$Period, gsub, pattern = \"Jun\", replacement = \"06\")\n",
    "\n",
    "hicp_total_tidy$Period <- lapply(hicp_total_tidy$Period, gsub, pattern = \"Jul\", replacement = \"07\")\n",
    "hicp_total_tidy$Period <- lapply(hicp_total_tidy$Period, gsub, pattern = \"Aug\", replacement = \"08\")\n",
    "hicp_total_tidy$Period <- lapply(hicp_total_tidy$Period, gsub, pattern = \"Sep\", replacement = \"09\")\n",
    "\n",
    "hicp_total_tidy$Period <- lapply(hicp_total_tidy$Period, gsub, pattern = \"Oct\", replacement = \"10\")\n",
    "hicp_total_tidy$Period <- lapply(hicp_total_tidy$Period, gsub, pattern = \"Nov\", replacement = \"11\")\n",
    "hicp_total_tidy$Period <- lapply(hicp_total_tidy$Period, gsub, pattern = \"Dec\", replacement = \"12\")\n",
    "\n",
    "hicp_total_tidy$Period <- sub(\"^\", \"01\", hicp_total_tidy$Period )"
   ]
  },
  {
   "cell_type": "code",
   "execution_count": 85,
   "id": "aec97714-b59b-4641-ba59-e22cd709938f",
   "metadata": {},
   "outputs": [],
   "source": [
    "hicp_total_tidy$Period <- as.Date(hicp_total_tidy$Period, format = \"%d%Y%m\")"
   ]
  },
  {
   "cell_type": "code",
   "execution_count": 86,
   "id": "7b54050b-4302-451e-a2e4-c52db13459a6",
   "metadata": {},
   "outputs": [
    {
     "data": {
      "text/html": [
       "<table class=\"dataframe\">\n",
       "<caption>A tibble: 6 × 3</caption>\n",
       "<thead>\n",
       "\t<tr><th scope=col>Period</th><th scope=col>kraj</th><th scope=col>hicp_total</th></tr>\n",
       "\t<tr><th scope=col>&lt;date&gt;</th><th scope=col>&lt;chr&gt;</th><th scope=col>&lt;dbl&gt;</th></tr>\n",
       "</thead>\n",
       "<tbody>\n",
       "\t<tr><td>2022-10-01</td><td>Austria</td><td>126.08</td></tr>\n",
       "\t<tr><td>2022-10-01</td><td>Belgium</td><td>129.30</td></tr>\n",
       "\t<tr><td>2022-10-01</td><td>Cyprus </td><td>113.24</td></tr>\n",
       "\t<tr><td>2022-10-01</td><td>Germany</td><td>123.50</td></tr>\n",
       "\t<tr><td>2022-10-01</td><td>Estonia</td><td>143.23</td></tr>\n",
       "\t<tr><td>2022-10-01</td><td>Spain  </td><td>117.61</td></tr>\n",
       "</tbody>\n",
       "</table>\n"
      ],
      "text/latex": [
       "A tibble: 6 × 3\n",
       "\\begin{tabular}{lll}\n",
       " Period & kraj & hicp\\_total\\\\\n",
       " <date> & <chr> & <dbl>\\\\\n",
       "\\hline\n",
       "\t 2022-10-01 & Austria & 126.08\\\\\n",
       "\t 2022-10-01 & Belgium & 129.30\\\\\n",
       "\t 2022-10-01 & Cyprus  & 113.24\\\\\n",
       "\t 2022-10-01 & Germany & 123.50\\\\\n",
       "\t 2022-10-01 & Estonia & 143.23\\\\\n",
       "\t 2022-10-01 & Spain   & 117.61\\\\\n",
       "\\end{tabular}\n"
      ],
      "text/markdown": [
       "\n",
       "A tibble: 6 × 3\n",
       "\n",
       "| Period &lt;date&gt; | kraj &lt;chr&gt; | hicp_total &lt;dbl&gt; |\n",
       "|---|---|---|\n",
       "| 2022-10-01 | Austria | 126.08 |\n",
       "| 2022-10-01 | Belgium | 129.30 |\n",
       "| 2022-10-01 | Cyprus  | 113.24 |\n",
       "| 2022-10-01 | Germany | 123.50 |\n",
       "| 2022-10-01 | Estonia | 143.23 |\n",
       "| 2022-10-01 | Spain   | 117.61 |\n",
       "\n"
      ],
      "text/plain": [
       "  Period     kraj    hicp_total\n",
       "1 2022-10-01 Austria 126.08    \n",
       "2 2022-10-01 Belgium 129.30    \n",
       "3 2022-10-01 Cyprus  113.24    \n",
       "4 2022-10-01 Germany 123.50    \n",
       "5 2022-10-01 Estonia 143.23    \n",
       "6 2022-10-01 Spain   117.61    "
      ]
     },
     "metadata": {},
     "output_type": "display_data"
    }
   ],
   "source": [
    "head(hicp_total_tidy)"
   ]
  },
  {
   "cell_type": "code",
   "execution_count": 87,
   "id": "8a9119cc-9f5e-46a4-836b-80e89c0c26b5",
   "metadata": {
    "pycharm": {
     "name": "#%%\n"
    },
    "vscode": {
     "languageId": "r"
    }
   },
   "outputs": [],
   "source": [
    "countries = c('France', 'Hungary', 'Poland', 'Romania')"
   ]
  },
  {
   "cell_type": "code",
   "execution_count": 88,
   "id": "da625bf4-ee98-40ef-8cbc-4674669c58d0",
   "metadata": {},
   "outputs": [],
   "source": [
    "hicp_total_tidy = filter(hicp_total_tidy, kraj %in% countries)"
   ]
  },
  {
   "cell_type": "code",
   "execution_count": 102,
   "id": "e297f5c0-9794-46e3-85e5-f30ee1ccbb2d",
   "metadata": {},
   "outputs": [],
   "source": [
    "plot_with_hicp_total <- function(data, title, countries, types, inflation_data) {\n",
    "    data = filter(data, typ %in% types)\n",
    "    \n",
    "    ggplot() +\n",
    "    geom_line(data = inflation_data, aes(x=Period, y=hicp_total, group=kraj, color=kraj)) + \n",
    "    geom_line(data = data, aes(x=Period, y=cena, group=kraj, color=kraj)) +\n",
    "    scale_color_viridis(discrete = TRUE, labels = countries) +\n",
    "    geom_line(size=1.5) +\n",
    "    guides(fill=guide_legend(title=NULL)) +\n",
    "    xlab(\"Data\") + ylab(\"Cena\") +\n",
    "    ggtitle(title) +\n",
    "    theme_ipsum() +\n",
    "    scale_x_date(date_labels = \"%b-%Y\") +\n",
    "    theme(\n",
    "        legend.title = element_blank(),\n",
    "        plot.title = element_text(size=18),\n",
    "        axis.title.x = element_text(size=14),\n",
    "        axis.title.y = element_text(size=14),\n",
    "            text=element_text(family=\"CM Roman\", size=21)\n",
    "    )\n",
    "    \n",
    "}"
   ]
  },
  {
   "cell_type": "code",
   "execution_count": 92,
   "id": "a3458fa9-8903-4c6f-b7da-8eb7b4eaf848",
   "metadata": {},
   "outputs": [],
   "source": [
    "plot_for_country <- function(data, title, countries, types) {\n",
    "    data = filter(data, typ %in% types)\n",
    "    data |>\n",
    "        ggplot(aes(x=Period, y=cena, group=typ, color=typ)) +\n",
    "        scale_color_viridis(discrete = TRUE, labels = types) +\n",
    "        geom_line(size=1.5) +\n",
    "        guides(fill=guide_legend(title=NULL)) +\n",
    "        xlab(\"Data\") + ylab(\"HICP\") +\n",
    "        ggtitle(title) +\n",
    "        theme_ipsum() +\n",
    "        scale_x_date(date_labels = \"%b-%Y\") +\n",
    "        theme(\n",
    "            legend.title = element_blank(),\n",
    "            plot.title = element_text(size=18),\n",
    "            axis.title.x = element_text(size=14),\n",
    "            axis.title.y = element_text(size=14),\n",
    "                text=element_text(family=\"CM Roman\", size=21)\n",
    "        )\n",
    "}"
   ]
  },
  {
   "cell_type": "code",
   "execution_count": 93,
   "id": "57cd2d20-1557-4286-93cb-6ac19d1f2939",
   "metadata": {
    "pycharm": {
     "name": "#%%\n"
    },
    "vscode": {
     "languageId": "r"
    }
   },
   "outputs": [],
   "source": [
    "options(repr.plot.width=12, repr.plot.height=10)\n",
    "options(warn=-1)"
   ]
  },
  {
   "cell_type": "code",
   "execution_count": 94,
   "id": "d4f763fa-a459-48fc-b6b0-50dfc35b7e33",
   "metadata": {
    "pycharm": {
     "name": "#%%\n"
    },
    "vscode": {
     "languageId": "r"
    }
   },
   "outputs": [],
   "source": [
    "picks_tidy = filter(zywnosc_tidy, kraj %in% countries)"
   ]
  },
  {
   "cell_type": "code",
   "execution_count": 95,
   "id": "eb5eff17-144f-4b1b-b277-1477689a87ed",
   "metadata": {
    "pycharm": {
     "name": "#%%\n"
    },
    "vscode": {
     "languageId": "r"
    }
   },
   "outputs": [],
   "source": [
    "# Creating ranges of intervals\n",
    "before_pandemic <- as.Date(\"01/01/2018\", \"%d/%m/%Y\")\n",
    "pandemic <- as.Date(\"01/03/2020\", \"%d/%m/%Y\")\n",
    "before_war <- as.Date(\"01/02/2021\", \"%d/%m/%Y\")\n",
    "war <- as.Date(\"01/02/2022\", \"%d/%m/%Y\")\n",
    "now <- as.Date(\"01/09/2022\", \"%d/%m/%Y\")"
   ]
  },
  {
   "cell_type": "code",
   "execution_count": 96,
   "id": "17f347cf-fe57-480c-a7fa-1cdb92b7d386",
   "metadata": {
    "pycharm": {
     "name": "#%%\n"
    },
    "vscode": {
     "languageId": "r"
    }
   },
   "outputs": [],
   "source": [
    "before_pandemic_data <- picks_tidy %>% filter(Period >= before_pandemic & Period < pandemic)\n",
    "pandemic_data <- picks_tidy %>% filter(Period >= pandemic & Period < before_war)\n",
    "before_war_data <- picks_tidy %>% filter(Period >= before_war & Period < war)\n",
    "war_data <- picks_tidy %>% filter(Period >= war & Period <= now)"
   ]
  },
  {
   "cell_type": "code",
   "execution_count": 103,
   "id": "a1247e3c-83ee-4f7a-948f-9c041b212395",
   "metadata": {},
   "outputs": [
    {
     "data": {
      "image/png": "[encoded data removed]",
      "text/plain": [
       "plot without title"
      ]
     },
     "metadata": {
      "image/png": {
       "height": 600,
       "width": 720
      }
     },
     "output_type": "display_data"
    }
   ],
   "source": [
    "plot_with_hicp_total(picks_tidy, \"Caly okres\", countries, c('mieso'), hicp_total_tidy)"
   ]
  },
  {
   "cell_type": "markdown",
   "id": "114069d0-88e1-4dfb-9a49-380122a2ccca",
   "metadata": {},
   "source": [
    "# Poland vs other countries"
   ]
  },
  {
   "cell_type": "code",
   "execution_count": null,
   "id": "dc012e0e-0f59-4c92-8f03-3516955909b5",
   "metadata": {
    "pycharm": {
     "name": "#%%\n"
    },
    "vscode": {
     "languageId": "r"
    }
   },
   "outputs": [],
   "source": [
    "plot(before_pandemic_data, \"Przed pandemią\", countries, c('mieso'))"
   ]
  },
  {
   "cell_type": "code",
   "execution_count": null,
   "id": "53fb95b4-3213-4550-998f-eeee0f921144",
   "metadata": {
    "pycharm": {
     "name": "#%%\n"
    },
    "vscode": {
     "languageId": "r"
    }
   },
   "outputs": [],
   "source": [
    "plot(pandemic_data, \"Szczyt pandemii\", countries, c('mieso'))"
   ]
  },
  {
   "cell_type": "code",
   "execution_count": null,
   "id": "4f8c1bcb-26e3-4e19-a2c6-2edbbac06809",
   "metadata": {},
   "outputs": [],
   "source": [
    "plot(before_war_data, \"Rok przed wojną\", countries, c('mieso'))"
   ]
  },
  {
   "cell_type": "code",
   "execution_count": null,
   "id": "995ae3df-9178-4a49-8e72-474463b6e620",
   "metadata": {},
   "outputs": [],
   "source": [
    "plot(war_data, \"Tuż po inwazji na Ukrainę\", countries, c('mieso'))"
   ]
  },
  {
   "cell_type": "code",
   "execution_count": null,
   "id": "1a12088b-6725-44d6-b9fd-5d2529b42252",
   "metadata": {},
   "outputs": [],
   "source": [
    "plot(war_data, \"Tuż po inwazji na Ukrainę\", countries, c('mieso'))"
   ]
  },
  {
   "cell_type": "markdown",
   "id": "b2656922-8aae-4ab3-b73e-f5ffd44f8e11",
   "metadata": {
    "tags": []
   },
   "source": [
    "# Plots for Poland only"
   ]
  },
  {
   "cell_type": "code",
   "execution_count": null,
   "id": "cda882ba-0da3-42b6-ac24-9fe1fd487063",
   "metadata": {},
   "outputs": [],
   "source": [
    "# ('mieso', 'nabial', 'pieczywo', 'slodycze', 'tluszcze', 'warzywa')\n",
    "country = c('Poland')\n",
    "data_for_country = filter(picks_tidy, kraj %in% country)\n",
    "plot_for_country(data_for_country, \"Ceny zywnosci w Polsce\", country, c('mieso', 'nabial', 'pieczywo', 'slodycze', 'tluszcze', 'warzywa'))"
   ]
  },
  {
   "cell_type": "code",
   "execution_count": null,
   "id": "6e1055e6-0a40-46f4-a3c3-a226d1ebab54",
   "metadata": {},
   "outputs": [],
   "source": [
    "country = c('Poland')\n",
    "data_for_country = filter(before_pandemic_data, kraj %in% country)\n",
    "plot_for_country(data_for_country, \"Ceny zywnosci w Polsce przed pandemia\", country, c('mieso', 'nabial', 'pieczywo', 'slodycze', 'tluszcze', 'warzywa'))"
   ]
  },
  {
   "cell_type": "code",
   "execution_count": null,
   "id": "08ba07af-bdb7-4d0b-9cb0-22e81903b748",
   "metadata": {},
   "outputs": [],
   "source": [
    "country = c('Poland')\n",
    "data_for_country = filter(pandemic_data, kraj %in% country)\n",
    "plot_for_country(data_for_country, \"Ceny zywnosci w po rozpoczeciu pandemii\", country, c('mieso', 'nabial', 'pieczywo', 'slodycze', 'tluszcze', 'warzywa'))"
   ]
  },
  {
   "cell_type": "code",
   "execution_count": null,
   "id": "dc6f9a7b-1d04-44f7-b322-883c67987a5b",
   "metadata": {},
   "outputs": [],
   "source": [
    "country = c('Poland')\n",
    "data_for_country = filter(before_war_data, kraj %in% country)\n",
    "plot_for_country(data_for_country, \"Ceny zywnosci w Polsce przed wojna\", country, c('mieso', 'nabial', 'pieczywo', 'slodycze', 'tluszcze', 'warzywa'))"
   ]
  },
  {
   "cell_type": "code",
   "execution_count": null,
   "id": "07f149f5-d190-4684-a0ba-92540948a8cb",
   "metadata": {},
   "outputs": [],
   "source": [
    "country = c('Poland')\n",
    "data_for_country = filter(war_data, kraj %in% country)\n",
    "plot_for_country(data_for_country, \"Ceny zywnosci w Polsce tuż po inwazji na Ukrainę\", country, c('mieso', 'nabial', 'pieczywo', 'slodycze', 'tluszcze', 'warzywa'))"
   ]
  },
  {
   "cell_type": "code",
   "execution_count": null,
   "id": "1352f283-9a90-4ee2-9750-53b1ff6a84cc",
   "metadata": {},
   "outputs": [],
   "source": []
  },
  {
   "cell_type": "code",
   "execution_count": null,
   "id": "9041b719-82bc-440e-adc7-87860c459f9c",
   "metadata": {},
   "outputs": [],
   "source": []
  }
 ],
 "metadata": {
  "kernelspec": {
   "display_name": "R",
   "language": "R",
   "name": "ir"
  },
  "language_info": {
   "codemirror_mode": "r",
   "file_extension": ".r",
   "mimetype": "text/x-r-source",
   "name": "R",
   "pygments_lexer": "r",
   "version": "4.2.1"
  }
 },
 "nbformat": 4,
 "nbformat_minor": 5
}
