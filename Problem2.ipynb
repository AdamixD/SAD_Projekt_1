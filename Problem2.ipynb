{
 "cells": [
  {
   "cell_type": "markdown",
   "id": "eb4fa537-6db3-47fa-879e-d3e82a06320a",
   "metadata": {},
   "source": [
    "# Problem 2"
   ]
  },
  {
   "cell_type": "code",
   "execution_count": 10,
   "id": "0554a85b-65b2-4657-8637-e6bbab6f9132",
   "metadata": {},
   "outputs": [],
   "source": [
    "library(glue)\n",
    "library(dplyr)\n",
    "library(readr)\n",
    "library(ggthemes)\n",
    "library(tidyr)\n",
    "library(hrbrthemes)\n",
    "library(viridis)\n",
    "library(ggplot2)\n",
    "library(ggpubr)"
   ]
  },
  {
   "cell_type": "code",
   "execution_count": 16,
   "id": "f4613ec7-1cee-415c-ba8a-6440cfc16125",
   "metadata": {},
   "outputs": [],
   "source": [
    "mieso <- read.csv(\"data/mieso.csv\", header = TRUE, sep = \",\")\n",
    "nabial <- read.csv(\"data/nabial.csv\", header = TRUE, sep = \",\")\n",
    "pieczywo <- read.csv(\"data/pieczywo.csv\", header = TRUE, sep = \",\")\n",
    "slodycze <- read.csv(\"data/slodycze.csv\", header = TRUE, sep = \",\")\n",
    "tluszcze <- read.csv(\"data/tluszcze.csv\", header = TRUE, sep = \",\")"
   ]
  },
  {
   "cell_type": "code",
   "execution_count": 21,
   "id": "a9bfdd73-fe6b-4753-b362-051e6e60e32b",
   "metadata": {},
   "outputs": [
    {
     "data": {
      "text/html": [
       "<table class=\"dataframe\">\n",
       "<caption>A data.frame: 6 × 29</caption>\n",
       "<thead>\n",
       "\t<tr><th></th><th scope=col>Period</th><th scope=col>Austria</th><th scope=col>Belgium</th><th scope=col>Bulgaria</th><th scope=col>Cyprus</th><th scope=col>Czech.Republic</th><th scope=col>EU..changing.composition.</th><th scope=col>Germany</th><th scope=col>Denmark</th><th scope=col>Estonia</th><th scope=col>⋯</th><th scope=col>Luxembourg</th><th scope=col>Latvia</th><th scope=col>Malta</th><th scope=col>Netherlands</th><th scope=col>Poland</th><th scope=col>Portugal</th><th scope=col>Romania</th><th scope=col>Sweden</th><th scope=col>Slovenia</th><th scope=col>Slovakia</th></tr>\n",
       "\t<tr><th></th><th scope=col>&lt;chr&gt;</th><th scope=col>&lt;dbl&gt;</th><th scope=col>&lt;dbl&gt;</th><th scope=col>&lt;dbl&gt;</th><th scope=col>&lt;dbl&gt;</th><th scope=col>&lt;dbl&gt;</th><th scope=col>&lt;dbl&gt;</th><th scope=col>&lt;dbl&gt;</th><th scope=col>&lt;dbl&gt;</th><th scope=col>&lt;dbl&gt;</th><th scope=col>⋯</th><th scope=col>&lt;dbl&gt;</th><th scope=col>&lt;dbl&gt;</th><th scope=col>&lt;dbl&gt;</th><th scope=col>&lt;dbl&gt;</th><th scope=col>&lt;dbl&gt;</th><th scope=col>&lt;dbl&gt;</th><th scope=col>&lt;dbl&gt;</th><th scope=col>&lt;dbl&gt;</th><th scope=col>&lt;dbl&gt;</th><th scope=col>&lt;dbl&gt;</th></tr>\n",
       "</thead>\n",
       "<tbody>\n",
       "\t<tr><th scope=row>1</th><td>2022Oct</td><td>128.60</td><td>117.95</td><td>149.04</td><td>146.22</td><td>146.8</td><td>136.85</td><td>136.1</td><td>119.8</td><td>170.08</td><td>⋯</td><td>127.72</td><td>151.42</td><td>158.77</td><td>125.03</td><td>152.1</td><td>138.15</td><td>165.00</td><td>134.72</td><td>128.69</td><td>153.73</td></tr>\n",
       "\t<tr><th scope=row>2</th><td>2022Sep</td><td>124.04</td><td>112.41</td><td>144.23</td><td>126.23</td><td>134.2</td><td>129.70</td><td>129.0</td><td>118.9</td><td>162.64</td><td>⋯</td><td>123.76</td><td>132.71</td><td>140.93</td><td>123.12</td><td>140.5</td><td>133.14</td><td>156.29</td><td>129.61</td><td>123.35</td><td>140.19</td></tr>\n",
       "\t<tr><th scope=row>3</th><td>2022Aug</td><td>123.29</td><td>110.58</td><td>137.17</td><td>122.76</td><td>133.8</td><td>125.62</td><td>124.6</td><td>120.9</td><td>170.59</td><td>⋯</td><td>116.66</td><td>140.29</td><td>133.38</td><td>125.17</td><td>138.6</td><td>129.22</td><td>154.44</td><td>130.01</td><td>121.20</td><td>139.94</td></tr>\n",
       "\t<tr><th scope=row>4</th><td>2022Jul</td><td>122.86</td><td>112.75</td><td>137.61</td><td>112.51</td><td>139.5</td><td>125.03</td><td>123.3</td><td>121.2</td><td>164.21</td><td>⋯</td><td>117.30</td><td>148.92</td><td>133.43</td><td>123.55</td><td>141.2</td><td>124.27</td><td>152.10</td><td>130.55</td><td>118.88</td><td>141.70</td></tr>\n",
       "\t<tr><th scope=row>5</th><td>2022Jun</td><td>122.07</td><td>113.15</td><td>140.09</td><td>109.94</td><td>143.4</td><td>125.78</td><td>122.2</td><td>117.7</td><td>159.32</td><td>⋯</td><td>114.20</td><td>150.72</td><td>130.28</td><td>121.39</td><td>149.4</td><td>121.10</td><td>154.86</td><td>125.14</td><td>120.59</td><td>146.99</td></tr>\n",
       "\t<tr><th scope=row>6</th><td>2022May</td><td>123.60</td><td>111.86</td><td>158.44</td><td>132.82</td><td>143.5</td><td>127.97</td><td>126.8</td><td>116.9</td><td>155.83</td><td>⋯</td><td>113.33</td><td>152.43</td><td>137.33</td><td>120.51</td><td>151.9</td><td>120.45</td><td>164.46</td><td>125.49</td><td>120.58</td><td>151.02</td></tr>\n",
       "</tbody>\n",
       "</table>\n"
      ],
      "text/latex": [
       "A data.frame: 6 × 29\n",
       "\\begin{tabular}{r|lllllllllllllllllllll}\n",
       "  & Period & Austria & Belgium & Bulgaria & Cyprus & Czech.Republic & EU..changing.composition. & Germany & Denmark & Estonia & ⋯ & Luxembourg & Latvia & Malta & Netherlands & Poland & Portugal & Romania & Sweden & Slovenia & Slovakia\\\\\n",
       "  & <chr> & <dbl> & <dbl> & <dbl> & <dbl> & <dbl> & <dbl> & <dbl> & <dbl> & <dbl> & ⋯ & <dbl> & <dbl> & <dbl> & <dbl> & <dbl> & <dbl> & <dbl> & <dbl> & <dbl> & <dbl>\\\\\n",
       "\\hline\n",
       "\t1 & 2022Oct & 128.60 & 117.95 & 149.04 & 146.22 & 146.8 & 136.85 & 136.1 & 119.8 & 170.08 & ⋯ & 127.72 & 151.42 & 158.77 & 125.03 & 152.1 & 138.15 & 165.00 & 134.72 & 128.69 & 153.73\\\\\n",
       "\t2 & 2022Sep & 124.04 & 112.41 & 144.23 & 126.23 & 134.2 & 129.70 & 129.0 & 118.9 & 162.64 & ⋯ & 123.76 & 132.71 & 140.93 & 123.12 & 140.5 & 133.14 & 156.29 & 129.61 & 123.35 & 140.19\\\\\n",
       "\t3 & 2022Aug & 123.29 & 110.58 & 137.17 & 122.76 & 133.8 & 125.62 & 124.6 & 120.9 & 170.59 & ⋯ & 116.66 & 140.29 & 133.38 & 125.17 & 138.6 & 129.22 & 154.44 & 130.01 & 121.20 & 139.94\\\\\n",
       "\t4 & 2022Jul & 122.86 & 112.75 & 137.61 & 112.51 & 139.5 & 125.03 & 123.3 & 121.2 & 164.21 & ⋯ & 117.30 & 148.92 & 133.43 & 123.55 & 141.2 & 124.27 & 152.10 & 130.55 & 118.88 & 141.70\\\\\n",
       "\t5 & 2022Jun & 122.07 & 113.15 & 140.09 & 109.94 & 143.4 & 125.78 & 122.2 & 117.7 & 159.32 & ⋯ & 114.20 & 150.72 & 130.28 & 121.39 & 149.4 & 121.10 & 154.86 & 125.14 & 120.59 & 146.99\\\\\n",
       "\t6 & 2022May & 123.60 & 111.86 & 158.44 & 132.82 & 143.5 & 127.97 & 126.8 & 116.9 & 155.83 & ⋯ & 113.33 & 152.43 & 137.33 & 120.51 & 151.9 & 120.45 & 164.46 & 125.49 & 120.58 & 151.02\\\\\n",
       "\\end{tabular}\n"
      ],
      "text/markdown": [
       "\n",
       "A data.frame: 6 × 29\n",
       "\n",
       "| <!--/--> | Period &lt;chr&gt; | Austria &lt;dbl&gt; | Belgium &lt;dbl&gt; | Bulgaria &lt;dbl&gt; | Cyprus &lt;dbl&gt; | Czech.Republic &lt;dbl&gt; | EU..changing.composition. &lt;dbl&gt; | Germany &lt;dbl&gt; | Denmark &lt;dbl&gt; | Estonia &lt;dbl&gt; | ⋯ ⋯ | Luxembourg &lt;dbl&gt; | Latvia &lt;dbl&gt; | Malta &lt;dbl&gt; | Netherlands &lt;dbl&gt; | Poland &lt;dbl&gt; | Portugal &lt;dbl&gt; | Romania &lt;dbl&gt; | Sweden &lt;dbl&gt; | Slovenia &lt;dbl&gt; | Slovakia &lt;dbl&gt; |\n",
       "|---|---|---|---|---|---|---|---|---|---|---|---|---|---|---|---|---|---|---|---|---|---|\n",
       "| 1 | 2022Oct | 128.60 | 117.95 | 149.04 | 146.22 | 146.8 | 136.85 | 136.1 | 119.8 | 170.08 | ⋯ | 127.72 | 151.42 | 158.77 | 125.03 | 152.1 | 138.15 | 165.00 | 134.72 | 128.69 | 153.73 |\n",
       "| 2 | 2022Sep | 124.04 | 112.41 | 144.23 | 126.23 | 134.2 | 129.70 | 129.0 | 118.9 | 162.64 | ⋯ | 123.76 | 132.71 | 140.93 | 123.12 | 140.5 | 133.14 | 156.29 | 129.61 | 123.35 | 140.19 |\n",
       "| 3 | 2022Aug | 123.29 | 110.58 | 137.17 | 122.76 | 133.8 | 125.62 | 124.6 | 120.9 | 170.59 | ⋯ | 116.66 | 140.29 | 133.38 | 125.17 | 138.6 | 129.22 | 154.44 | 130.01 | 121.20 | 139.94 |\n",
       "| 4 | 2022Jul | 122.86 | 112.75 | 137.61 | 112.51 | 139.5 | 125.03 | 123.3 | 121.2 | 164.21 | ⋯ | 117.30 | 148.92 | 133.43 | 123.55 | 141.2 | 124.27 | 152.10 | 130.55 | 118.88 | 141.70 |\n",
       "| 5 | 2022Jun | 122.07 | 113.15 | 140.09 | 109.94 | 143.4 | 125.78 | 122.2 | 117.7 | 159.32 | ⋯ | 114.20 | 150.72 | 130.28 | 121.39 | 149.4 | 121.10 | 154.86 | 125.14 | 120.59 | 146.99 |\n",
       "| 6 | 2022May | 123.60 | 111.86 | 158.44 | 132.82 | 143.5 | 127.97 | 126.8 | 116.9 | 155.83 | ⋯ | 113.33 | 152.43 | 137.33 | 120.51 | 151.9 | 120.45 | 164.46 | 125.49 | 120.58 | 151.02 |\n",
       "\n"
      ],
      "text/plain": [
       "  Period  Austria Belgium Bulgaria Cyprus Czech.Republic\n",
       "1 2022Oct 128.60  117.95  149.04   146.22 146.8         \n",
       "2 2022Sep 124.04  112.41  144.23   126.23 134.2         \n",
       "3 2022Aug 123.29  110.58  137.17   122.76 133.8         \n",
       "4 2022Jul 122.86  112.75  137.61   112.51 139.5         \n",
       "5 2022Jun 122.07  113.15  140.09   109.94 143.4         \n",
       "6 2022May 123.60  111.86  158.44   132.82 143.5         \n",
       "  EU..changing.composition. Germany Denmark Estonia ⋯ Luxembourg Latvia Malta \n",
       "1 136.85                    136.1   119.8   170.08  ⋯ 127.72     151.42 158.77\n",
       "2 129.70                    129.0   118.9   162.64  ⋯ 123.76     132.71 140.93\n",
       "3 125.62                    124.6   120.9   170.59  ⋯ 116.66     140.29 133.38\n",
       "4 125.03                    123.3   121.2   164.21  ⋯ 117.30     148.92 133.43\n",
       "5 125.78                    122.2   117.7   159.32  ⋯ 114.20     150.72 130.28\n",
       "6 127.97                    126.8   116.9   155.83  ⋯ 113.33     152.43 137.33\n",
       "  Netherlands Poland Portugal Romania Sweden Slovenia Slovakia\n",
       "1 125.03      152.1  138.15   165.00  134.72 128.69   153.73  \n",
       "2 123.12      140.5  133.14   156.29  129.61 123.35   140.19  \n",
       "3 125.17      138.6  129.22   154.44  130.01 121.20   139.94  \n",
       "4 123.55      141.2  124.27   152.10  130.55 118.88   141.70  \n",
       "5 121.39      149.4  121.10   154.86  125.14 120.59   146.99  \n",
       "6 120.51      151.9  120.45   164.46  125.49 120.58   151.02  "
      ]
     },
     "metadata": {},
     "output_type": "display_data"
    }
   ],
   "source": [
    "head(tluszcze)"
   ]
  },
  {
   "cell_type": "code",
   "execution_count": null,
   "id": "9b34f5e1-6b6e-44b7-8f0e-9b8729ffd565",
   "metadata": {},
   "outputs": [],
   "source": []
  }
 ],
 "metadata": {
  "kernelspec": {
   "display_name": "R",
   "language": "R",
   "name": "ir"
  },
  "language_info": {
   "codemirror_mode": "r",
   "file_extension": ".r",
   "mimetype": "text/x-r-source",
   "name": "R",
   "pygments_lexer": "r",
   "version": "4.2.1"
  }
 },
 "nbformat": 4,
 "nbformat_minor": 5
}
