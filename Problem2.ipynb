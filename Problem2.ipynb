{
 "cells": [
  {
   "cell_type": "markdown",
   "id": "eb4fa537-6db3-47fa-879e-d3e82a06320a",
   "metadata": {},
   "source": [
    "# Problem 2"
   ]
  },
  {
   "cell_type": "code",
   "execution_count": 1,
   "id": "0554a85b-65b2-4657-8637-e6bbab6f9132",
   "metadata": {},
   "outputs": [
    {
     "name": "stderr",
     "output_type": "stream",
     "text": [
      "Warning message:\n",
      "\"pakiet 'glue' został zbudowany w wersji R 4.2.2\"\n",
      "Warning message:\n",
      "\"pakiet 'dplyr' został zbudowany w wersji R 4.2.2\"\n",
      "\n",
      "Dołączanie pakietu: 'dplyr'\n",
      "\n",
      "\n",
      "Następujące obiekty zostały zakryte z 'package:stats':\n",
      "\n",
      "    filter, lag\n",
      "\n",
      "\n",
      "Następujące obiekty zostały zakryte z 'package:base':\n",
      "\n",
      "    intersect, setdiff, setequal, union\n",
      "\n",
      "\n",
      "Warning message:\n",
      "\"pakiet 'readr' został zbudowany w wersji R 4.2.2\"\n",
      "Warning message:\n",
      "\"pakiet 'ggthemes' został zbudowany w wersji R 4.2.2\"\n",
      "Warning message:\n",
      "\"pakiet 'tidyr' został zbudowany w wersji R 4.2.2\"\n",
      "Warning message:\n",
      "\"pakiet 'hrbrthemes' został zbudowany w wersji R 4.2.2\"\n",
      "NOTE: Either Arial Narrow or Roboto Condensed fonts are required to use these themes.\n",
      "\n",
      "      Please use hrbrthemes::import_roboto_condensed() to install Roboto Condensed and\n",
      "\n",
      "      if Arial Narrow is not on your system, please see https://bit.ly/arialnarrow\n",
      "\n",
      "Warning message:\n",
      "\"pakiet 'viridis' został zbudowany w wersji R 4.2.2\"\n",
      "Ładowanie wymaganego pakietu: viridisLite\n",
      "\n",
      "Warning message:\n",
      "\"pakiet 'viridisLite' został zbudowany w wersji R 4.2.2\"\n",
      "Warning message:\n",
      "\"pakiet 'ggplot2' został zbudowany w wersji R 4.2.2\"\n",
      "Warning message:\n",
      "\"pakiet 'ggpubr' został zbudowany w wersji R 4.2.2\"\n",
      "Warning message:\n",
      "\"pakiet 'lubridate' został zbudowany w wersji R 4.2.2\"\n",
      "Ładowanie wymaganego pakietu: timechange\n",
      "\n",
      "Warning message:\n",
      "\"pakiet 'timechange' został zbudowany w wersji R 4.2.2\"\n",
      "\n",
      "Dołączanie pakietu: 'lubridate'\n",
      "\n",
      "\n",
      "Następujące obiekty zostały zakryte z 'package:base':\n",
      "\n",
      "    date, intersect, setdiff, union\n",
      "\n",
      "\n"
     ]
    }
   ],
   "source": [
    "library(glue)\n",
    "library(dplyr)\n",
    "library(readr)\n",
    "library(ggthemes)\n",
    "library(tidyr)\n",
    "library(hrbrthemes)\n",
    "library(viridis)\n",
    "library(ggplot2)\n",
    "library(ggpubr)\n",
    "library(lubridate)\n",
    "library(stringi)"
   ]
  },
  {
   "cell_type": "code",
   "execution_count": 2,
   "id": "f4613ec7-1cee-415c-ba8a-6440cfc16125",
   "metadata": {},
   "outputs": [],
   "source": [
    "mieso <- read.csv(\"data/mieso.csv\", header = TRUE, sep = \",\")\n",
    "nabial <- read.csv(\"data/nabial.csv\", header = TRUE, sep = \",\")\n",
    "pieczywo <- read.csv(\"data/pieczywo.csv\", header = TRUE, sep = \",\")\n",
    "slodycze <- read.csv(\"data/slodycze.csv\", header = TRUE, sep = \",\")\n",
    "tluszcze <- read.csv(\"data/tluszcze.csv\", header = TRUE, sep = \",\")\n",
    "warzywa <- read.csv(\"data/warzywa.csv\", header = TRUE, sep = \",\")"
   ]
  },
  {
   "cell_type": "code",
   "execution_count": 3,
   "id": "a9bfdd73-fe6b-4753-b362-051e6e60e32b",
   "metadata": {},
   "outputs": [
    {
     "data": {
      "text/html": [
       "<table class=\"dataframe\">\n",
       "<caption>A data.frame: 6 × 29</caption>\n",
       "<thead>\n",
       "\t<tr><th></th><th scope=col>Period</th><th scope=col>Austria</th><th scope=col>Belgium</th><th scope=col>Bulgaria</th><th scope=col>Cyprus</th><th scope=col>Czech.Republic</th><th scope=col>EU..changing.composition.</th><th scope=col>Germany</th><th scope=col>Denmark</th><th scope=col>Estonia</th><th scope=col>⋯</th><th scope=col>Luxembourg</th><th scope=col>Latvia</th><th scope=col>Malta</th><th scope=col>Netherlands</th><th scope=col>Poland</th><th scope=col>Portugal</th><th scope=col>Romania</th><th scope=col>Sweden</th><th scope=col>Slovenia</th><th scope=col>Slovakia</th></tr>\n",
       "\t<tr><th></th><th scope=col>&lt;chr&gt;</th><th scope=col>&lt;dbl&gt;</th><th scope=col>&lt;dbl&gt;</th><th scope=col>&lt;dbl&gt;</th><th scope=col>&lt;dbl&gt;</th><th scope=col>&lt;dbl&gt;</th><th scope=col>&lt;dbl&gt;</th><th scope=col>&lt;dbl&gt;</th><th scope=col>&lt;dbl&gt;</th><th scope=col>&lt;dbl&gt;</th><th scope=col>⋯</th><th scope=col>&lt;dbl&gt;</th><th scope=col>&lt;dbl&gt;</th><th scope=col>&lt;dbl&gt;</th><th scope=col>&lt;dbl&gt;</th><th scope=col>&lt;dbl&gt;</th><th scope=col>&lt;dbl&gt;</th><th scope=col>&lt;dbl&gt;</th><th scope=col>&lt;dbl&gt;</th><th scope=col>&lt;dbl&gt;</th><th scope=col>&lt;dbl&gt;</th></tr>\n",
       "</thead>\n",
       "<tbody>\n",
       "\t<tr><th scope=row>1</th><td>2022Oct</td><td>130.72</td><td>121.85</td><td>152.40</td><td>112.24</td><td>143.5</td><td>130.05</td><td>142.0</td><td>125.2</td><td>142.96</td><td>⋯</td><td>129.74</td><td>146.30</td><td>128.51</td><td>137.21</td><td>153.9</td><td>131.78</td><td>137.91</td><td>132.25</td><td>139.40</td><td>151.39</td></tr>\n",
       "\t<tr><th scope=row>2</th><td>2022Sep</td><td>130.21</td><td>119.43</td><td>150.91</td><td>111.41</td><td>141.1</td><td>128.68</td><td>141.2</td><td>124.5</td><td>139.93</td><td>⋯</td><td>128.92</td><td>145.25</td><td>127.47</td><td>136.24</td><td>152.2</td><td>130.69</td><td>136.38</td><td>132.02</td><td>138.60</td><td>148.80</td></tr>\n",
       "\t<tr><th scope=row>3</th><td>2022Aug</td><td>129.28</td><td>119.46</td><td>147.85</td><td>109.68</td><td>141.2</td><td>127.63</td><td>139.9</td><td>125.3</td><td>136.92</td><td>⋯</td><td>128.48</td><td>141.17</td><td>126.59</td><td>136.99</td><td>148.4</td><td>130.32</td><td>134.94</td><td>132.43</td><td>137.80</td><td>144.41</td></tr>\n",
       "\t<tr><th scope=row>4</th><td>2022Jul</td><td>128.28</td><td>118.66</td><td>145.16</td><td>108.42</td><td>140.9</td><td>126.46</td><td>139.4</td><td>125.7</td><td>135.19</td><td>⋯</td><td>127.73</td><td>141.58</td><td>126.54</td><td>135.14</td><td>146.8</td><td>128.41</td><td>133.07</td><td>133.09</td><td>137.47</td><td>141.99</td></tr>\n",
       "\t<tr><th scope=row>5</th><td>2022Jun</td><td>127.91</td><td>116.58</td><td>144.45</td><td>107.84</td><td>138.6</td><td>125.24</td><td>138.7</td><td>123.2</td><td>133.73</td><td>⋯</td><td>127.42</td><td>138.28</td><td>125.56</td><td>134.68</td><td>145.8</td><td>127.44</td><td>132.00</td><td>131.08</td><td>136.58</td><td>139.88</td></tr>\n",
       "\t<tr><th scope=row>6</th><td>2022May</td><td>125.80</td><td>114.42</td><td>143.33</td><td>107.60</td><td>134.6</td><td>123.49</td><td>136.6</td><td>117.8</td><td>127.16</td><td>⋯</td><td>125.56</td><td>135.30</td><td>123.77</td><td>132.01</td><td>145.8</td><td>126.51</td><td>130.49</td><td>125.59</td><td>134.07</td><td>135.37</td></tr>\n",
       "</tbody>\n",
       "</table>\n"
      ],
      "text/latex": [
       "A data.frame: 6 × 29\n",
       "\\begin{tabular}{r|lllllllllllllllllllll}\n",
       "  & Period & Austria & Belgium & Bulgaria & Cyprus & Czech.Republic & EU..changing.composition. & Germany & Denmark & Estonia & ⋯ & Luxembourg & Latvia & Malta & Netherlands & Poland & Portugal & Romania & Sweden & Slovenia & Slovakia\\\\\n",
       "  & <chr> & <dbl> & <dbl> & <dbl> & <dbl> & <dbl> & <dbl> & <dbl> & <dbl> & <dbl> & ⋯ & <dbl> & <dbl> & <dbl> & <dbl> & <dbl> & <dbl> & <dbl> & <dbl> & <dbl> & <dbl>\\\\\n",
       "\\hline\n",
       "\t1 & 2022Oct & 130.72 & 121.85 & 152.40 & 112.24 & 143.5 & 130.05 & 142.0 & 125.2 & 142.96 & ⋯ & 129.74 & 146.30 & 128.51 & 137.21 & 153.9 & 131.78 & 137.91 & 132.25 & 139.40 & 151.39\\\\\n",
       "\t2 & 2022Sep & 130.21 & 119.43 & 150.91 & 111.41 & 141.1 & 128.68 & 141.2 & 124.5 & 139.93 & ⋯ & 128.92 & 145.25 & 127.47 & 136.24 & 152.2 & 130.69 & 136.38 & 132.02 & 138.60 & 148.80\\\\\n",
       "\t3 & 2022Aug & 129.28 & 119.46 & 147.85 & 109.68 & 141.2 & 127.63 & 139.9 & 125.3 & 136.92 & ⋯ & 128.48 & 141.17 & 126.59 & 136.99 & 148.4 & 130.32 & 134.94 & 132.43 & 137.80 & 144.41\\\\\n",
       "\t4 & 2022Jul & 128.28 & 118.66 & 145.16 & 108.42 & 140.9 & 126.46 & 139.4 & 125.7 & 135.19 & ⋯ & 127.73 & 141.58 & 126.54 & 135.14 & 146.8 & 128.41 & 133.07 & 133.09 & 137.47 & 141.99\\\\\n",
       "\t5 & 2022Jun & 127.91 & 116.58 & 144.45 & 107.84 & 138.6 & 125.24 & 138.7 & 123.2 & 133.73 & ⋯ & 127.42 & 138.28 & 125.56 & 134.68 & 145.8 & 127.44 & 132.00 & 131.08 & 136.58 & 139.88\\\\\n",
       "\t6 & 2022May & 125.80 & 114.42 & 143.33 & 107.60 & 134.6 & 123.49 & 136.6 & 117.8 & 127.16 & ⋯ & 125.56 & 135.30 & 123.77 & 132.01 & 145.8 & 126.51 & 130.49 & 125.59 & 134.07 & 135.37\\\\\n",
       "\\end{tabular}\n"
      ],
      "text/markdown": [
       "\n",
       "A data.frame: 6 × 29\n",
       "\n",
       "| <!--/--> | Period &lt;chr&gt; | Austria &lt;dbl&gt; | Belgium &lt;dbl&gt; | Bulgaria &lt;dbl&gt; | Cyprus &lt;dbl&gt; | Czech.Republic &lt;dbl&gt; | EU..changing.composition. &lt;dbl&gt; | Germany &lt;dbl&gt; | Denmark &lt;dbl&gt; | Estonia &lt;dbl&gt; | ⋯ ⋯ | Luxembourg &lt;dbl&gt; | Latvia &lt;dbl&gt; | Malta &lt;dbl&gt; | Netherlands &lt;dbl&gt; | Poland &lt;dbl&gt; | Portugal &lt;dbl&gt; | Romania &lt;dbl&gt; | Sweden &lt;dbl&gt; | Slovenia &lt;dbl&gt; | Slovakia &lt;dbl&gt; |\n",
       "|---|---|---|---|---|---|---|---|---|---|---|---|---|---|---|---|---|---|---|---|---|---|\n",
       "| 1 | 2022Oct | 130.72 | 121.85 | 152.40 | 112.24 | 143.5 | 130.05 | 142.0 | 125.2 | 142.96 | ⋯ | 129.74 | 146.30 | 128.51 | 137.21 | 153.9 | 131.78 | 137.91 | 132.25 | 139.40 | 151.39 |\n",
       "| 2 | 2022Sep | 130.21 | 119.43 | 150.91 | 111.41 | 141.1 | 128.68 | 141.2 | 124.5 | 139.93 | ⋯ | 128.92 | 145.25 | 127.47 | 136.24 | 152.2 | 130.69 | 136.38 | 132.02 | 138.60 | 148.80 |\n",
       "| 3 | 2022Aug | 129.28 | 119.46 | 147.85 | 109.68 | 141.2 | 127.63 | 139.9 | 125.3 | 136.92 | ⋯ | 128.48 | 141.17 | 126.59 | 136.99 | 148.4 | 130.32 | 134.94 | 132.43 | 137.80 | 144.41 |\n",
       "| 4 | 2022Jul | 128.28 | 118.66 | 145.16 | 108.42 | 140.9 | 126.46 | 139.4 | 125.7 | 135.19 | ⋯ | 127.73 | 141.58 | 126.54 | 135.14 | 146.8 | 128.41 | 133.07 | 133.09 | 137.47 | 141.99 |\n",
       "| 5 | 2022Jun | 127.91 | 116.58 | 144.45 | 107.84 | 138.6 | 125.24 | 138.7 | 123.2 | 133.73 | ⋯ | 127.42 | 138.28 | 125.56 | 134.68 | 145.8 | 127.44 | 132.00 | 131.08 | 136.58 | 139.88 |\n",
       "| 6 | 2022May | 125.80 | 114.42 | 143.33 | 107.60 | 134.6 | 123.49 | 136.6 | 117.8 | 127.16 | ⋯ | 125.56 | 135.30 | 123.77 | 132.01 | 145.8 | 126.51 | 130.49 | 125.59 | 134.07 | 135.37 |\n",
       "\n"
      ],
      "text/plain": [
       "  Period  Austria Belgium Bulgaria Cyprus Czech.Republic\n",
       "1 2022Oct 130.72  121.85  152.40   112.24 143.5         \n",
       "2 2022Sep 130.21  119.43  150.91   111.41 141.1         \n",
       "3 2022Aug 129.28  119.46  147.85   109.68 141.2         \n",
       "4 2022Jul 128.28  118.66  145.16   108.42 140.9         \n",
       "5 2022Jun 127.91  116.58  144.45   107.84 138.6         \n",
       "6 2022May 125.80  114.42  143.33   107.60 134.6         \n",
       "  EU..changing.composition. Germany Denmark Estonia ⋯ Luxembourg Latvia Malta \n",
       "1 130.05                    142.0   125.2   142.96  ⋯ 129.74     146.30 128.51\n",
       "2 128.68                    141.2   124.5   139.93  ⋯ 128.92     145.25 127.47\n",
       "3 127.63                    139.9   125.3   136.92  ⋯ 128.48     141.17 126.59\n",
       "4 126.46                    139.4   125.7   135.19  ⋯ 127.73     141.58 126.54\n",
       "5 125.24                    138.7   123.2   133.73  ⋯ 127.42     138.28 125.56\n",
       "6 123.49                    136.6   117.8   127.16  ⋯ 125.56     135.30 123.77\n",
       "  Netherlands Poland Portugal Romania Sweden Slovenia Slovakia\n",
       "1 137.21      153.9  131.78   137.91  132.25 139.40   151.39  \n",
       "2 136.24      152.2  130.69   136.38  132.02 138.60   148.80  \n",
       "3 136.99      148.4  130.32   134.94  132.43 137.80   144.41  \n",
       "4 135.14      146.8  128.41   133.07  133.09 137.47   141.99  \n",
       "5 134.68      145.8  127.44   132.00  131.08 136.58   139.88  \n",
       "6 132.01      145.8  126.51   130.49  125.59 134.07   135.37  "
      ]
     },
     "metadata": {},
     "output_type": "display_data"
    }
   ],
   "source": [
    "head(mieso)"
   ]
  },
  {
   "cell_type": "code",
   "execution_count": 4,
   "id": "8757ec5d-0a99-4e0d-abfb-856c66912520",
   "metadata": {},
   "outputs": [],
   "source": [
    "# tidy\n",
    "mieso_tidy <- mieso |> pivot_longer(-Period, names_to = \"kraj\", values_to = \"cena\")\n",
    "nabial_tidy <- nabial |> pivot_longer(-Period, names_to = \"kraj\", values_to = \"cena\")\n",
    "pieczywo_tidy <- pieczywo |> pivot_longer(-Period, names_to = \"kraj\", values_to = \"cena\")\n",
    "slodycze_tidy <- slodycze |> pivot_longer(-Period, names_to = \"kraj\", values_to = \"cena\")\n",
    "tluszcze_tidy <- tluszcze |> pivot_longer(-Period, names_to = \"kraj\", values_to = \"cena\")\n",
    "warzywa_tidy <- warzywa |> pivot_longer(-Period, names_to = \"kraj\", values_to = \"cena\")"
   ]
  },
  {
   "cell_type": "code",
   "execution_count": 5,
   "id": "b86b3b2c-4210-46cb-bbd7-0f053f357f92",
   "metadata": {},
   "outputs": [],
   "source": [
    "# type column\n",
    "mieso_tidy[\"typ\"] = \"mieso\"\n",
    "nabial_tidy[\"typ\"] = \"nabial\"\n",
    "pieczywo_tidy[\"typ\"] = \"pieczywo\"\n",
    "slodycze_tidy[\"typ\"] = \"slodycze\"\n",
    "tluszcze_tidy[\"typ\"] = \"tluszcze\"\n",
    "warzywa_tidy[\"typ\"] = \"warzywa\""
   ]
  },
  {
   "cell_type": "code",
   "execution_count": 6,
   "id": "664e3e8c-5b1e-433d-aefc-3d7995c19f76",
   "metadata": {},
   "outputs": [],
   "source": [
    "# Concatenate the dataframes\n",
    "zywnosc_tidy <- rbind(mieso_tidy, nabial_tidy, pieczywo_tidy, slodycze_tidy, tluszcze_tidy, warzywa_tidy)"
   ]
  },
  {
   "cell_type": "code",
   "execution_count": 14,
   "id": "22884d5a-477b-4f51-b592-2cbf2763cda8",
   "metadata": {},
   "outputs": [],
   "source": [
    "zywnosc_tidy$Period <- lapply(zywnosc_tidy$Period, gsub, pattern = \"Jan\", replacement = \"01\")\n",
    "zywnosc_tidy$Period <- lapply(zywnosc_tidy$Period, gsub, pattern = \"Feb\", replacement = \"02\")\n",
    "zywnosc_tidy$Period <- lapply(zywnosc_tidy$Period, gsub, pattern = \"Mar\", replacement = \"03\")\n",
    "\n",
    "zywnosc_tidy$Period <- lapply(zywnosc_tidy$Period, gsub, pattern = \"Apr\", replacement = \"04\")\n",
    "zywnosc_tidy$Period <- lapply(zywnosc_tidy$Period, gsub, pattern = \"May\", replacement = \"05\")\n",
    "zywnosc_tidy$Period <- lapply(zywnosc_tidy$Period, gsub, pattern = \"Jun\", replacement = \"06\")\n",
    "\n",
    "zywnosc_tidy$Period <- lapply(zywnosc_tidy$Period, gsub, pattern = \"Jul\", replacement = \"07\")\n",
    "zywnosc_tidy$Period <- lapply(zywnosc_tidy$Period, gsub, pattern = \"Aug\", replacement = \"08\")\n",
    "zywnosc_tidy$Period <- lapply(zywnosc_tidy$Period, gsub, pattern = \"Sep\", replacement = \"09\")\n",
    "\n",
    "zywnosc_tidy$Period <- lapply(zywnosc_tidy$Period, gsub, pattern = \"Oct\", replacement = \"10\")\n",
    "zywnosc_tidy$Period <- lapply(zywnosc_tidy$Period, gsub, pattern = \"Nov\", replacement = \"11\")\n",
    "zywnosc_tidy$Period <- lapply(zywnosc_tidy$Period, gsub, pattern = \"Dec\", replacement = \"12\")\n",
    "\n",
    "zywnosc_tidy$Period <- sub(\"^\", \"01\", zywnosc_tidy$Period )"
   ]
  },
  {
   "cell_type": "code",
   "execution_count": 16,
   "id": "a18c1ff8-e75a-40b2-ba40-3689767dd900",
   "metadata": {},
   "outputs": [],
   "source": [
    "# data\n",
    "zywnosc_tidy$Period <- as.Date(zywnosc_tidy$Period, format = \"%d%Y%m\")"
   ]
  },
  {
   "cell_type": "code",
   "execution_count": 17,
   "id": "93906fea-a5b0-4753-bef2-b87f6faa38f6",
   "metadata": {},
   "outputs": [
    {
     "data": {
      "text/html": [
       "<table class=\"dataframe\">\n",
       "<caption>A tibble: 6 × 4</caption>\n",
       "<thead>\n",
       "\t<tr><th scope=col>Period</th><th scope=col>kraj</th><th scope=col>cena</th><th scope=col>typ</th></tr>\n",
       "\t<tr><th scope=col>&lt;date&gt;</th><th scope=col>&lt;chr&gt;</th><th scope=col>&lt;dbl&gt;</th><th scope=col>&lt;chr&gt;</th></tr>\n",
       "</thead>\n",
       "<tbody>\n",
       "\t<tr><td>2022-10-01</td><td>Austria                  </td><td>130.72</td><td>mieso</td></tr>\n",
       "\t<tr><td>2022-10-01</td><td>Belgium                  </td><td>121.85</td><td>mieso</td></tr>\n",
       "\t<tr><td>2022-10-01</td><td>Bulgaria                 </td><td>152.40</td><td>mieso</td></tr>\n",
       "\t<tr><td>2022-10-01</td><td>Cyprus                   </td><td>112.24</td><td>mieso</td></tr>\n",
       "\t<tr><td>2022-10-01</td><td>Czech.Republic           </td><td>143.50</td><td>mieso</td></tr>\n",
       "\t<tr><td>2022-10-01</td><td>EU..changing.composition.</td><td>130.05</td><td>mieso</td></tr>\n",
       "</tbody>\n",
       "</table>\n"
      ],
      "text/latex": [
       "A tibble: 6 × 4\n",
       "\\begin{tabular}{llll}\n",
       " Period & kraj & cena & typ\\\\\n",
       " <date> & <chr> & <dbl> & <chr>\\\\\n",
       "\\hline\n",
       "\t 2022-10-01 & Austria                   & 130.72 & mieso\\\\\n",
       "\t 2022-10-01 & Belgium                   & 121.85 & mieso\\\\\n",
       "\t 2022-10-01 & Bulgaria                  & 152.40 & mieso\\\\\n",
       "\t 2022-10-01 & Cyprus                    & 112.24 & mieso\\\\\n",
       "\t 2022-10-01 & Czech.Republic            & 143.50 & mieso\\\\\n",
       "\t 2022-10-01 & EU..changing.composition. & 130.05 & mieso\\\\\n",
       "\\end{tabular}\n"
      ],
      "text/markdown": [
       "\n",
       "A tibble: 6 × 4\n",
       "\n",
       "| Period &lt;date&gt; | kraj &lt;chr&gt; | cena &lt;dbl&gt; | typ &lt;chr&gt; |\n",
       "|---|---|---|---|\n",
       "| 2022-10-01 | Austria                   | 130.72 | mieso |\n",
       "| 2022-10-01 | Belgium                   | 121.85 | mieso |\n",
       "| 2022-10-01 | Bulgaria                  | 152.40 | mieso |\n",
       "| 2022-10-01 | Cyprus                    | 112.24 | mieso |\n",
       "| 2022-10-01 | Czech.Republic            | 143.50 | mieso |\n",
       "| 2022-10-01 | EU..changing.composition. | 130.05 | mieso |\n",
       "\n"
      ],
      "text/plain": [
       "  Period     kraj                      cena   typ  \n",
       "1 2022-10-01 Austria                   130.72 mieso\n",
       "2 2022-10-01 Belgium                   121.85 mieso\n",
       "3 2022-10-01 Bulgaria                  152.40 mieso\n",
       "4 2022-10-01 Cyprus                    112.24 mieso\n",
       "5 2022-10-01 Czech.Republic            143.50 mieso\n",
       "6 2022-10-01 EU..changing.composition. 130.05 mieso"
      ]
     },
     "metadata": {},
     "output_type": "display_data"
    }
   ],
   "source": [
    "head(zywnosc_tidy)"
   ]
  },
  {
   "cell_type": "code",
   "execution_count": 18,
   "id": "f77d4931-51a9-4298-9545-18df1d1576ed",
   "metadata": {},
   "outputs": [],
   "source": [
    "plot <- function(data, title, countries) {\n",
    "  data |>\n",
    "    ggplot(aes(x=Period, y=cena, group=kraj, color=kraj)) +\n",
    "    scale_color_viridis(discrete = TRUE, labels = countries) +\n",
    "    geom_line(size=1.5) +\n",
    "    guides(fill=guide_legend(title=NULL)) +\n",
    "    xlab(\"Data\") + ylab(\"Cena\") +\n",
    "    ggtitle(title) +\n",
    "    theme_ipsum() +\n",
    "    # scale_x_date(date_labels = \"%b-%Y\") +\n",
    "    theme(\n",
    "      legend.title = element_blank(),\n",
    "      plot.title = element_text(size=18),\n",
    "      axis.title.x = element_text(size=14),\n",
    "      axis.title.y = element_text(size=14),\n",
    "        text=element_text(family=\"CM Roman\", size=21)\n",
    "    )\n",
    "}"
   ]
  },
  {
   "cell_type": "code",
   "execution_count": 19,
   "id": "57cd2d20-1557-4286-93cb-6ac19d1f2939",
   "metadata": {},
   "outputs": [],
   "source": [
    "options(repr.plot.width=12, repr.plot.height=10)\n",
    "options(warn=-1)"
   ]
  },
  {
   "cell_type": "code",
   "execution_count": 20,
   "id": "8a9119cc-9f5e-46a4-836b-80e89c0c26b5",
   "metadata": {},
   "outputs": [],
   "source": [
    "countries = c('France', 'Hungary', 'Poland', 'Romania')"
   ]
  },
  {
   "cell_type": "code",
   "execution_count": 21,
   "id": "d4f763fa-a459-48fc-b6b0-50dfc35b7e33",
   "metadata": {},
   "outputs": [],
   "source": [
    "picks_tidy = filter(zywnosc_tidy, kraj %in% countries)"
   ]
  },
  {
   "cell_type": "code",
   "execution_count": 22,
   "id": "eb5eff17-144f-4b1b-b277-1477689a87ed",
   "metadata": {},
   "outputs": [],
   "source": [
    "# Creating ranges of intervals\n",
    "before_pandemic <- as.Date(\"01/01/2018\", \"%d/%m/%Y\")\n",
    "pandemic <- as.Date(\"01/03/2020\", \"%d/%m/%Y\")\n",
    "before_war <- as.Date(\"01/02/2021\", \"%d/%m/%Y\")\n",
    "war <- as.Date(\"01/02/2022\", \"%d/%m/%Y\")\n",
    "now <- as.Date(\"01/09/2022\", \"%d/%m/%Y\")"
   ]
  },
  {
   "cell_type": "code",
   "execution_count": 23,
   "id": "17f347cf-fe57-480c-a7fa-1cdb92b7d386",
   "metadata": {},
   "outputs": [],
   "source": [
    "before_pandemic_data <- picks_tidy %>% filter(Period >= before_pandemic & Period < pandemic)\n",
    "pandemic_data <- picks_tidy %>% filter(Period >= pandemic & Period < before_war)\n",
    "before_war_data <- picks_tidy %>% filter(Period >= before_war & Period < war)\n",
    "war_data <- picks_tidy %>% filter(Period >= war & Period <= now)"
   ]
  },
  {
   "cell_type": "code",
   "execution_count": 25,
   "id": "dc012e0e-0f59-4c92-8f03-3516955909b5",
   "metadata": {},
   "outputs": [
    {
     "data": {
      "image/png": "[encoded data removed]",
      "text/plain": [
       "plot without title"
      ]
     },
     "metadata": {
      "image/png": {
       "height": 600,
       "width": 720
      }
     },
     "output_type": "display_data"
    }
   ],
   "source": [
    "plot(before_pandemic_data, \"Cały okres\", countries)"
   ]
  },
  {
   "cell_type": "code",
   "execution_count": null,
   "id": "53fb95b4-3213-4550-998f-eeee0f921144",
   "metadata": {},
   "outputs": [],
   "source": []
  },
  {
   "cell_type": "code",
   "execution_count": null,
   "id": "50b900ca-55d9-4f13-9f80-6a5dee323674",
   "metadata": {},
   "outputs": [],
   "source": []
  }
 ],
 "metadata": {
  "kernelspec": {
   "display_name": "R",
   "language": "R",
   "name": "ir"
  },
  "language_info": {
   "codemirror_mode": "r",
   "file_extension": ".r",
   "mimetype": "text/x-r-source",
   "name": "R",
   "pygments_lexer": "r",
   "version": "4.2.1"
  }
 },
 "nbformat": 4,
 "nbformat_minor": 5
}
